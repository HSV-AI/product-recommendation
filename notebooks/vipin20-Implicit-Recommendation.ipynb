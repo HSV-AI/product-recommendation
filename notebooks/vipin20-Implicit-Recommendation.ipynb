{
 "cells": [
  {
   "cell_type": "markdown",
   "metadata": {
    "id": "gEfZf48Wu5f0"
   },
   "source": [
    "![HSV-AI Logo](https://github.com/HSV-AI/hugo-website/blob/master/static/images/logo_v9.png?raw=true)\n",
    "\n",
    "# Implicit Recommendation from ECommerce Data\n",
    "\n",
    "Some of the material for this work is based on [A Gentle Introduction to Recommender Systems with Implicit Feedback](https://jessesw.com/Rec-System/) by Jesse Steinweg Woods. This tutorial includes an implementation of the Alternating Least Squares algorithm and some other useful functions (like the area under the curve calculation). Other parts of the tutorial are based on a previous version of the Implicit library and had to be reworked.\n",
    "\n",
    "The dataset used for this work is from Kaggle [Vipin Kumar Transaction Data](https://www.kaggle.com/vipin20/transaction-data):\n",
    "\n",
    "## Context\n",
    "\n",
    "This is a item purchased transactions data. It has 8 columns.\n",
    "This data makes you familer with transactions data.\n",
    "\n",
    "## Content\n",
    "\n",
    "Data description is :-\n",
    "\n",
    "* UserId -It is a unique ID for all User Id\n",
    "* TransactionId -It contains unique Transactions ID\n",
    "* TransactionTime -It contains Transaction Time\n",
    "* ItemCode -It contains item code that item will be purchased\n",
    "* ItemDescription -It contains Item description\n",
    "* NumberOfItemPurchased -It contains total number of items Purchased\n",
    "* CostPerltem -Cost per item Purchased\n",
    "* Country -Country where item purchased\n"
   ]
  },
  {
   "cell_type": "markdown",
   "metadata": {
    "id": "OApEEC0_wB4C"
   },
   "source": [
    "# Global Imports"
   ]
  },
  {
   "cell_type": "code",
   "execution_count": 1,
   "metadata": {
    "execution": {
     "iopub.execute_input": "2021-08-21T19:41:56.242040Z",
     "iopub.status.busy": "2021-08-21T19:41:56.241043Z",
     "iopub.status.idle": "2021-08-21T19:41:57.389833Z",
     "shell.execute_reply": "2021-08-21T19:41:57.389224Z"
    },
    "id": "fsb9emt6nrPu"
   },
   "outputs": [],
   "source": [
    "import pandas as pd\n",
    "import numpy as np\n",
    "import random\n",
    "from matplotlib import pyplot as plt\n",
    "import implicit\n",
    "import scipy\n",
    "from sklearn import metrics\n",
    "from pandas.api.types import CategoricalDtype"
   ]
  },
  {
   "cell_type": "code",
   "execution_count": 2,
   "metadata": {
    "execution": {
     "iopub.execute_input": "2021-08-21T19:41:57.395183Z",
     "iopub.status.busy": "2021-08-21T19:41:57.394621Z",
     "iopub.status.idle": "2021-08-21T19:41:57.449134Z",
     "shell.execute_reply": "2021-08-21T19:41:57.448177Z"
    }
   },
   "outputs": [],
   "source": [
    "%run Common-Functions.ipynb"
   ]
  },
  {
   "cell_type": "code",
   "execution_count": 3,
   "metadata": {
    "execution": {
     "iopub.execute_input": "2021-08-21T19:41:57.455076Z",
     "iopub.status.busy": "2021-08-21T19:41:57.454518Z",
     "iopub.status.idle": "2021-08-21T19:41:58.291246Z",
     "shell.execute_reply": "2021-08-21T19:41:58.290667Z"
    }
   },
   "outputs": [
    {
     "name": "stdout",
     "output_type": "stream",
     "text": [
      "2021-09-15 23:23:40,593 - kedro.io.data_catalog - INFO - Loading data from `vipin20_transactions` (CSVDataSet)...\n",
      "Loaded 1016476 rows\n"
     ]
    },
    {
     "data": {
      "text/html": [
       "<div>\n",
       "<style scoped>\n",
       "    .dataframe tbody tr th:only-of-type {\n",
       "        vertical-align: middle;\n",
       "    }\n",
       "\n",
       "    .dataframe tbody tr th {\n",
       "        vertical-align: top;\n",
       "    }\n",
       "\n",
       "    .dataframe thead th {\n",
       "        text-align: right;\n",
       "    }\n",
       "</style>\n",
       "<table border=\"1\" class=\"dataframe\">\n",
       "  <thead>\n",
       "    <tr style=\"text-align: right;\">\n",
       "      <th></th>\n",
       "      <th>order_id</th>\n",
       "      <th>product_id</th>\n",
       "      <th>description</th>\n",
       "      <th>quantity</th>\n",
       "    </tr>\n",
       "  </thead>\n",
       "  <tbody>\n",
       "    <tr>\n",
       "      <th>0</th>\n",
       "      <td>6355745</td>\n",
       "      <td>465549</td>\n",
       "      <td>FAMILY ALBUM WHITE PICTURE FRAME</td>\n",
       "      <td>6</td>\n",
       "    </tr>\n",
       "    <tr>\n",
       "      <th>1</th>\n",
       "      <td>6283376</td>\n",
       "      <td>482370</td>\n",
       "      <td>LONDON BUS COFFEE MUG</td>\n",
       "      <td>3</td>\n",
       "    </tr>\n",
       "    <tr>\n",
       "      <th>2</th>\n",
       "      <td>6385599</td>\n",
       "      <td>490728</td>\n",
       "      <td>SET 12 COLOUR PENCILS DOLLY GIRL</td>\n",
       "      <td>72</td>\n",
       "    </tr>\n",
       "    <tr>\n",
       "      <th>3</th>\n",
       "      <td>6044973</td>\n",
       "      <td>459186</td>\n",
       "      <td>UNION JACK FLAG LUGGAGE TAG</td>\n",
       "      <td>3</td>\n",
       "    </tr>\n",
       "    <tr>\n",
       "      <th>4</th>\n",
       "      <td>6143225</td>\n",
       "      <td>1733592</td>\n",
       "      <td>WASHROOM METAL SIGN</td>\n",
       "      <td>3</td>\n",
       "    </tr>\n",
       "  </tbody>\n",
       "</table>\n",
       "</div>"
      ],
      "text/plain": [
       "   order_id  product_id                        description  quantity\n",
       "0   6355745      465549   FAMILY ALBUM WHITE PICTURE FRAME         6\n",
       "1   6283376      482370              LONDON BUS COFFEE MUG         3\n",
       "2   6385599      490728  SET 12 COLOUR PENCILS DOLLY GIRL         72\n",
       "3   6044973      459186        UNION JACK FLAG LUGGAGE TAG         3\n",
       "4   6143225     1733592                WASHROOM METAL SIGN         3"
      ]
     },
     "execution_count": 3,
     "metadata": {},
     "output_type": "execute_result"
    }
   ],
   "source": [
    "transactions = catalog.load(\"vipin20_transactions\")\n",
    "print('Loaded',len(transactions),'rows')\n",
    "transactions.head()"
   ]
  },
  {
   "cell_type": "code",
   "execution_count": 4,
   "metadata": {
    "execution": {
     "iopub.execute_input": "2021-08-21T19:41:58.298730Z",
     "iopub.status.busy": "2021-08-21T19:41:58.297998Z",
     "iopub.status.idle": "2021-08-21T19:41:58.668823Z",
     "shell.execute_reply": "2021-08-21T19:41:58.668186Z"
    }
   },
   "outputs": [],
   "source": [
    "transaction_list = list(np.sort(transactions.order_id.unique())) # Get our unique customers\n",
    "item_list = list(transactions.product_id.unique()) # Get our unique products that were purchased\n",
    "quantity_list = list(transactions.quantity) # All of our purchases\n",
    "\n",
    "cols = transactions.order_id.astype(CategoricalDtype(categories=transaction_list, ordered=True)).cat.codes \n",
    "# Get the associated row indices\n",
    "rows = transactions.product_id.astype(CategoricalDtype(categories=item_list, ordered=True)).cat.codes \n",
    "# Get the associated column indices\n",
    "purchases_sparse = scipy.sparse.csr_matrix((quantity_list, (rows, cols)), shape=(len(item_list), len(transaction_list)))"
   ]
  },
  {
   "cell_type": "code",
   "execution_count": 5,
   "metadata": {
    "execution": {
     "iopub.execute_input": "2021-08-21T19:41:58.674417Z",
     "iopub.status.busy": "2021-08-21T19:41:58.673850Z",
     "iopub.status.idle": "2021-08-21T19:41:58.690720Z",
     "shell.execute_reply": "2021-08-21T19:41:58.691265Z"
    }
   },
   "outputs": [
    {
     "data": {
      "text/plain": [
       "99.21026329374317"
      ]
     },
     "execution_count": 5,
     "metadata": {},
     "output_type": "execute_result"
    }
   ],
   "source": [
    "matrix_size = purchases_sparse.shape[0]*purchases_sparse.shape[1] # Number of possible interactions in the matrix\n",
    "num_purchases = len(purchases_sparse.nonzero()[0]) # Number of items interacted with\n",
    "sparsity = 100*(1 - (num_purchases/matrix_size))\n",
    "sparsity"
   ]
  },
  {
   "cell_type": "markdown",
   "metadata": {},
   "source": [
    "# Training & Test Datasets\n",
    "\n",
    "We will use the function below to create a training and test dataset from the tutorial linked at the top. The test dataset masks some percentage of purchases to tested later with a recommendation."
   ]
  },
  {
   "cell_type": "code",
   "execution_count": 6,
   "metadata": {
    "execution": {
     "iopub.execute_input": "2021-08-21T19:41:58.695999Z",
     "iopub.status.busy": "2021-08-21T19:41:58.695398Z",
     "iopub.status.idle": "2021-08-21T19:41:59.222666Z",
     "shell.execute_reply": "2021-08-21T19:41:59.223157Z"
    }
   },
   "outputs": [
    {
     "name": "stdout",
     "output_type": "stream",
     "text": [
      "Total number of masked items: 102617\n"
     ]
    }
   ],
   "source": [
    "product_train, product_test, products_altered, transactions_altered = make_train(purchases_sparse, pct_test = 0.211)\n",
    "print('Total number of masked items:',product_test.count_nonzero()-product_train.count_nonzero())\n"
   ]
  },
  {
   "cell_type": "markdown",
   "metadata": {},
   "source": [
    "# Implicit Recommendation Model\n",
    "\n",
    "The code below creates and trains one of the models available from the Implicit package. Currently using hyperparameters suggested by various tutorials with no tuning."
   ]
  },
  {
   "cell_type": "code",
   "execution_count": 7,
   "metadata": {
    "execution": {
     "iopub.execute_input": "2021-08-21T19:41:59.230827Z",
     "iopub.status.busy": "2021-08-21T19:41:59.230226Z",
     "iopub.status.idle": "2021-08-21T19:43:47.110094Z",
     "shell.execute_reply": "2021-08-21T19:43:47.108148Z"
    }
   },
   "outputs": [
    {
     "name": "stdout",
     "output_type": "stream",
     "text": [
      "2021-09-15 23:23:56,268 - root - WARNING - OpenBLAS detected. Its highly recommend to set the environment variable 'export OPENBLAS_NUM_THREADS=1' to disable its internal multithreading\n"
     ]
    },
    {
     "data": {
      "application/vnd.jupyter.widget-view+json": {
       "model_id": "19161c4265bc47849f3cf3d99a090a02",
       "version_major": 2,
       "version_minor": 0
      },
      "text/plain": [
       "  0%|          | 0/84 [00:00<?, ?it/s]"
      ]
     },
     "metadata": {},
     "output_type": "display_data"
    }
   ],
   "source": [
    "alpha = 3\n",
    "factors = 64\n",
    "regularization = 0.003\n",
    "iterations = 84\n",
    "\n",
    "model = implicit.als.AlternatingLeastSquares(factors=factors,\n",
    "                                    regularization=regularization,\n",
    "                                    iterations=iterations)\n",
    "\n",
    "## BayesianPersonalizedRanking was pretty bad\n",
    "# model = implicit.bpr.BayesianPersonalizedRanking(factors=31,\n",
    "#                                     regularization=0.1,\n",
    "#                                     iterations=50)\n",
    "\n",
    "\n",
    "# model = implicit.lmf.LogisticMatrixFactorization(factors=32,\n",
    "#                                     regularization=0.1,\n",
    "#                                     iterations=50)\n",
    "\n",
    "model.fit((product_train * alpha).astype('double'))\n",
    "\n",
    "user_vecs = model.user_factors\n",
    "item_vecs = model.item_factors\n",
    "\n",
    "# Deprecated function below\n",
    "# user_vecs, item_vecs = implicit.alternating_least_squares((product_train*alpha).astype('double'), \n",
    "#                                                           factors=32, \n",
    "#                                                           regularization = 0.1, \n",
    "#                                                           iterations = 50)"
   ]
  },
  {
   "cell_type": "code",
   "execution_count": 8,
   "metadata": {},
   "outputs": [
    {
     "name": "stdout",
     "output_type": "stream",
     "text": [
      "[[  3.846817    -3.093744    -0.6750135  ...  -0.42854515   2.4837477\n",
      "   -2.6642807 ]\n",
      " [  2.9065492    1.010623     0.42633152 ...  -0.06613469   2.6422431\n",
      "   -1.4846625 ]\n",
      " [ -2.2314541   -0.6588304   -2.3950474  ...  -4.3340955    0.6007222\n",
      "   -3.8372843 ]\n",
      " ...\n",
      " [  8.902557     4.297842   -11.967431   ...  -6.265571    -0.6548658\n",
      "    6.30774   ]\n",
      " [ -4.344634     3.8334672    4.2198963  ...  -1.7165313   -0.27013808\n",
      "    1.4491554 ]\n",
      " [  0.3448894    3.838586    -6.0606213  ...   8.618336     1.1179744\n",
      "    1.3991079 ]]\n"
     ]
    }
   ],
   "source": [
    "print(model.user_factors)"
   ]
  },
  {
   "cell_type": "code",
   "execution_count": 9,
   "metadata": {
    "execution": {
     "iopub.execute_input": "2021-08-21T19:43:47.117882Z",
     "iopub.status.busy": "2021-08-21T19:43:47.116396Z",
     "iopub.status.idle": "2021-08-21T19:43:47.153741Z",
     "shell.execute_reply": "2021-08-21T19:43:47.154759Z"
    }
   },
   "outputs": [
    {
     "name": "stdout",
     "output_type": "stream",
     "text": [
      "2021-09-15 23:25:44,787 - kedro.io.data_catalog - INFO - Saving data to `vipin20_user_factors` (PickleDataSet)...\n",
      "2021-09-15 23:25:44,866 - kedro.io.data_catalog - INFO - Saving data to `vipin20_item_factors` (PickleDataSet)...\n",
      "2021-09-15 23:25:44,886 - kedro.io.data_catalog - INFO - Saving data to `vipin20_product_train` (PickleDataSet)...\n"
     ]
    }
   ],
   "source": [
    "catalog.save(\"vipin20_user_factors\", user_vecs)\n",
    "catalog.save(\"vipin20_item_factors\", item_vecs)\n",
    "catalog.save(\"vipin20_product_train\", product_train*alpha)"
   ]
  },
  {
   "cell_type": "markdown",
   "metadata": {},
   "source": [
    "# Scoring the Model\n",
    "\n",
    "Following the tutorial, we will use the area under the Receiver Operating Characteristic curve. "
   ]
  },
  {
   "cell_type": "code",
   "execution_count": 10,
   "metadata": {
    "execution": {
     "iopub.execute_input": "2021-08-21T19:43:47.163421Z",
     "iopub.status.busy": "2021-08-21T19:43:47.162387Z",
     "iopub.status.idle": "2021-08-21T19:44:27.491973Z",
     "shell.execute_reply": "2021-08-21T19:44:27.491577Z"
    }
   },
   "outputs": [
    {
     "name": "stdout",
     "output_type": "stream",
     "text": [
      "Our model scored 0.8779849223896371 versus a score of 0.8038330946271777 if we always recommended the most popular item.\n"
     ]
    }
   ],
   "source": [
    "test, popular = calc_mean_auc(product_train, products_altered, \n",
    "              [scipy.sparse.csr_matrix(item_vecs), scipy.sparse.csr_matrix(user_vecs.T)], product_test)\n",
    "\n",
    "\n",
    "print('Our model scored',test,'versus a score of',popular,'if we always recommended the most popular item.')"
   ]
  },
  {
   "cell_type": "markdown",
   "metadata": {},
   "source": [
    "# Spot Checking\n",
    "\n",
    "Now that we have a pretty good idea of the model performance overall, we can spot check a few things like finding similar items and checking item recommendations for an existing invoice."
   ]
  },
  {
   "cell_type": "code",
   "execution_count": 11,
   "metadata": {
    "execution": {
     "iopub.execute_input": "2021-08-21T19:44:27.508370Z",
     "iopub.status.busy": "2021-08-21T19:44:27.500745Z",
     "iopub.status.idle": "2021-08-21T19:44:27.703121Z",
     "shell.execute_reply": "2021-08-21T19:44:27.703504Z"
    }
   },
   "outputs": [
    {
     "name": "stdout",
     "output_type": "stream",
     "text": [
      "2021-09-15 23:26:41,558 - kedro.io.data_catalog - INFO - Loading data from `vipin20_products` (CSVDataSet)...\n"
     ]
    },
    {
     "data": {
      "text/html": [
       "<div>\n",
       "<style scoped>\n",
       "    .dataframe tbody tr th:only-of-type {\n",
       "        vertical-align: middle;\n",
       "    }\n",
       "\n",
       "    .dataframe tbody tr th {\n",
       "        vertical-align: top;\n",
       "    }\n",
       "\n",
       "    .dataframe thead th {\n",
       "        text-align: right;\n",
       "    }\n",
       "</style>\n",
       "<table border=\"1\" class=\"dataframe\">\n",
       "  <thead>\n",
       "    <tr style=\"text-align: right;\">\n",
       "      <th></th>\n",
       "      <th>product_id</th>\n",
       "      <th>description</th>\n",
       "    </tr>\n",
       "  </thead>\n",
       "  <tbody>\n",
       "    <tr>\n",
       "      <th>0</th>\n",
       "      <td>465549</td>\n",
       "      <td>FAMILY ALBUM WHITE PICTURE FRAME</td>\n",
       "    </tr>\n",
       "    <tr>\n",
       "      <th>1</th>\n",
       "      <td>482370</td>\n",
       "      <td>LONDON BUS COFFEE MUG</td>\n",
       "    </tr>\n",
       "    <tr>\n",
       "      <th>2</th>\n",
       "      <td>490728</td>\n",
       "      <td>SET 12 COLOUR PENCILS DOLLY GIRL</td>\n",
       "    </tr>\n",
       "    <tr>\n",
       "      <th>3</th>\n",
       "      <td>459186</td>\n",
       "      <td>UNION JACK FLAG LUGGAGE TAG</td>\n",
       "    </tr>\n",
       "    <tr>\n",
       "      <th>4</th>\n",
       "      <td>1733592</td>\n",
       "      <td>WASHROOM METAL SIGN</td>\n",
       "    </tr>\n",
       "  </tbody>\n",
       "</table>\n",
       "</div>"
      ],
      "text/plain": [
       "   product_id                        description\n",
       "0      465549   FAMILY ALBUM WHITE PICTURE FRAME\n",
       "1      482370              LONDON BUS COFFEE MUG\n",
       "2      490728  SET 12 COLOUR PENCILS DOLLY GIRL \n",
       "3      459186        UNION JACK FLAG LUGGAGE TAG\n",
       "4     1733592                WASHROOM METAL SIGN"
      ]
     },
     "execution_count": 11,
     "metadata": {},
     "output_type": "execute_result"
    }
   ],
   "source": [
    "item_lookup = catalog.load(\"vipin20_products\")\n",
    "item_lookup.head()"
   ]
  },
  {
   "cell_type": "code",
   "execution_count": 12,
   "metadata": {
    "execution": {
     "iopub.execute_input": "2021-08-21T19:44:27.708287Z",
     "iopub.status.busy": "2021-08-21T19:44:27.707656Z",
     "iopub.status.idle": "2021-08-21T19:44:27.730901Z",
     "shell.execute_reply": "2021-08-21T19:44:27.731734Z"
    }
   },
   "outputs": [
    {
     "name": "stdout",
     "output_type": "stream",
     "text": [
      "1.0000001 SET OF 12 FAIRY CAKE BAKING CASES\n",
      "0.9606847 SET OF 6 SNACK LOAF BAKING CASES\n",
      "0.95668566 SET OF 12 MINI LOAF BAKING CASES\n",
      "0.94624066 SET OF 6 TEA TIME BAKING CASES\n",
      "0.65419 SET 40 HEART SHAPE PETIT FOUR CASES\n",
      "0.5878977 SET OF 36 DOILIES PANTRY DESIGN\n",
      "0.5415114 PANTRY MAGNETIC  SHOPPING LIST\n",
      "0.52832097 PLACE SETTING WHITE STAR\n",
      "0.52668613 SET OF 60 PANTRY DESIGN CAKE CASES \n",
      "0.51879877 SET OF 60 VINTAGE LEAF CAKE CASES \n"
     ]
    }
   ],
   "source": [
    "related = model.similar_items(1284)\n",
    "for rel in related:\n",
    "    index = rel[0]\n",
    "    prob = rel[1]\n",
    "    item = item_lookup[item_lookup.product_id == item_list[index]].values\n",
    "    print(prob, item[0][1])"
   ]
  },
  {
   "cell_type": "code",
   "execution_count": 13,
   "metadata": {
    "execution": {
     "iopub.execute_input": "2021-08-21T19:44:27.742044Z",
     "iopub.status.busy": "2021-08-21T19:44:27.741076Z",
     "iopub.status.idle": "2021-08-21T19:44:27.755430Z",
     "shell.execute_reply": "2021-08-21T19:44:27.756108Z"
    }
   },
   "outputs": [],
   "source": [
    "user_items = (product_train * alpha).astype('double').T.tocsr()\n",
    "def recommend(order):\n",
    "    print('Order Contents:')\n",
    "    print(transactions[transactions.order_id == transaction_list[order]].loc[:, ['product_id', 'description']])\n",
    "    print('Recommendations:')\n",
    "    recommendations = model.recommend(order, user_items)\n",
    "    for rec in recommendations:\n",
    "        index = rec[0]\n",
    "        prob = rec[1]\n",
    "        stock_code = item_list[index]\n",
    "        item = item_lookup[item_lookup.product_id == item_list[index]].values\n",
    "        print(prob, stock_code, item[0][1])"
   ]
  },
  {
   "cell_type": "code",
   "execution_count": 14,
   "metadata": {
    "execution": {
     "iopub.execute_input": "2021-08-21T19:44:27.765425Z",
     "iopub.status.busy": "2021-08-21T19:44:27.762231Z",
     "iopub.status.idle": "2021-08-21T19:44:27.812754Z",
     "shell.execute_reply": "2021-08-21T19:44:27.808964Z"
    }
   },
   "outputs": [
    {
     "name": "stdout",
     "output_type": "stream",
     "text": [
      "Order Contents:\n",
      "        product_id                description\n",
      "80357       475272  HAND WARMER RED POLKA DOT\n",
      "586706      475293     HAND WARMER UNION JACK\n",
      "658425      475293     HAND WARMER UNION JACK\n",
      "958566      475272  HAND WARMER RED POLKA DOT\n",
      "Recommendations:\n",
      "0.8014458 475293 HAND WARMER UNION JACK\n",
      "0.7894545 480165 HAND WARMER OWL DESIGN\n",
      "0.77924496 480186 HAND WARMER SCOTTY DOG DESIGN\n",
      "0.77875805 480207 HAND WARMER BIRD DESIGN\n",
      "0.6991601 492219 HAND WARMER RED LOVE HEART\n",
      "0.49658978 479514 HAND WARMER BABUSHKA DESIGN\n",
      "0.41598326 464394 HOT WATER BOTTLE TEA AND SYMPATHY\n",
      "0.40100765 464331 SCOTTIE DOG HOT WATER BOTTLE\n",
      "0.397192 1764609 KNITTED UNION FLAG HOT WATER BOTTLE\n",
      "0.3851803 490455 HOT WATER BOTTLE KEEP CALM\n"
     ]
    }
   ],
   "source": [
    "recommend(1)"
   ]
  },
  {
   "cell_type": "code",
   "execution_count": 15,
   "metadata": {
    "execution": {
     "iopub.execute_input": "2021-08-21T19:44:27.832064Z",
     "iopub.status.busy": "2021-08-21T19:44:27.822829Z",
     "iopub.status.idle": "2021-08-21T19:44:27.861669Z",
     "shell.execute_reply": "2021-08-21T19:44:27.863016Z"
    }
   },
   "outputs": [
    {
     "name": "stdout",
     "output_type": "stream",
     "text": [
      "Order Contents:\n",
      "         product_id                          description\n",
      "12129        470694         DOORMAT NEIGHBOURHOOD WITCH \n",
      "24238        446019                   PINK  POLKADOT CUP\n",
      "26924        447573          GLASS HEART T-LIGHT HOLDER \n",
      "37213        465570   PICTURE FRAME WOOD TRIPLE PORTRAIT\n",
      "100714       469686                     DOORMAT AIRMAIL \n",
      "109737      1787079       JUMBO  BAG BAROQUE BLACK WHITE\n",
      "133568      1011948              DOORMAT WELCOME PUPPIES\n",
      "135397       316218         PINK POLKADOT GARDEN PARASOL\n",
      "138833       477120    SET OF 3 CAKE TINS PANTRY DESIGN \n",
      "141468       446040                    BLUE POLKADOT CUP\n",
      "142390       434973                       JUMBO BAG OWLS\n",
      "151244       434973                       JUMBO BAG OWLS\n",
      "163737       450030   SET/3 RED GINGHAM ROSE STORAGE BOX\n",
      "203681       446019                   PINK  POLKADOT CUP\n",
      "248822       451185     RETROSPOT HEART HOT WATER BOTTLE\n",
      "254921      1787079       JUMBO  BAG BAROQUE BLACK WHITE\n",
      "325261       467082        5 HOOK HANGER MAGIC TOADSTOOL\n",
      "328971       475986      RECIPE BOX PANTRY YELLOW DESIGN\n",
      "381113       435246                   LUNCH BAG WOODLAND\n",
      "419469       434385                DOORMAT RED RETROSPOT\n",
      "426395       447573          GLASS HEART T-LIGHT HOLDER \n",
      "437757       451185     RETROSPOT HEART HOT WATER BOTTLE\n",
      "449779       449988  SET3 BOOK BOX GREEN GINGHAM FLOWER \n",
      "451668       471135       SET OF 9 HEART SHAPED BALLOONS\n",
      "468236       478191  CLEAR DRAWER KNOB ACRYLIC EDWARDIAN\n",
      "471797       477162    SET OF 6 SPICE TINS PANTRY DESIGN\n",
      "512327       434973                       JUMBO BAG OWLS\n",
      "522201       451983   DOORMAT FANCY FONT HOME SWEET HOME\n",
      "523608       477162    SET OF 6 SPICE TINS PANTRY DESIGN\n",
      "526550       452697               SET OF 6 FUNKY BEAKERS\n",
      "545186      1011948              DOORMAT WELCOME PUPPIES\n",
      "555599       471135       SET OF 9 HEART SHAPED BALLOONS\n",
      "574440       316218         PINK POLKADOT GARDEN PARASOL\n",
      "640251       451983   DOORMAT FANCY FONT HOME SWEET HOME\n",
      "644893       477120    SET OF 3 CAKE TINS PANTRY DESIGN \n",
      "667266       434385                DOORMAT RED RETROSPOT\n",
      "668197       434973                       JUMBO BAG OWLS\n",
      "696177       467082        5 HOOK HANGER MAGIC TOADSTOOL\n",
      "726027       469686                     DOORMAT AIRMAIL \n",
      "750360       478191  CLEAR DRAWER KNOB ACRYLIC EDWARDIAN\n",
      "754393       460551               JUMBO STORAGE BAG SUKI\n",
      "778617       449988  SET3 BOOK BOX GREEN GINGHAM FLOWER \n",
      "838044       446040                    BLUE POLKADOT CUP\n",
      "838373       463344           PINK DOUGHNUT TRINKET POT \n",
      "872185       475104                 IVORY KITCHEN SCALES\n",
      "880513       475104                 IVORY KITCHEN SCALES\n",
      "884118       465570   PICTURE FRAME WOOD TRIPLE PORTRAIT\n",
      "892059       452697               SET OF 6 FUNKY BEAKERS\n",
      "913959       470694         DOORMAT NEIGHBOURHOOD WITCH \n",
      "923961       475986      RECIPE BOX PANTRY YELLOW DESIGN\n",
      "926932       435246                   LUNCH BAG WOODLAND\n",
      "979904       463344           PINK DOUGHNUT TRINKET POT \n",
      "985176       460551               JUMBO STORAGE BAG SUKI\n",
      "1013692      450030   SET/3 RED GINGHAM ROSE STORAGE BOX\n",
      "Recommendations:\n",
      "1.273887 466137 SMALL POPCORN HOLDER\n",
      "1.0208386 1732374 WOODEN FRAME ANTIQUE WHITE \n",
      "1.020649 445998 RED RETROSPOT CUP\n",
      "0.9763974 482181 JAM MAKING SET PRINTED\n",
      "0.9707795 470106 JUMBO BAG PINK POLKADOT\n",
      "0.906604 1784937 CHILDRENS CUTLERY POLKADOT PINK\n",
      "0.9023075 434196 RED RETROSPOT BOWL\n",
      "0.8984475 476532 DOORMAT WELCOME TO OUR HOME\n",
      "0.8970759 446082 RED RETROSPOT PLATE \n",
      "0.89531523 460530 JUMBO STORAGE BAG SKULLS\n"
     ]
    }
   ],
   "source": [
    "recommend(2200)"
   ]
  },
  {
   "cell_type": "code",
   "execution_count": 36,
   "metadata": {
    "execution": {
     "iopub.execute_input": "2021-08-21T19:44:27.870986Z",
     "iopub.status.busy": "2021-08-21T19:44:27.869967Z",
     "iopub.status.idle": "2021-08-21T19:44:27.884781Z",
     "shell.execute_reply": "2021-08-21T19:44:27.885951Z"
    }
   },
   "outputs": [],
   "source": [
    "transactions['total'] = transactions['quantity'] * transactions['price']"
   ]
  },
  {
   "cell_type": "code",
   "execution_count": 17,
   "metadata": {
    "execution": {
     "iopub.execute_input": "2021-08-21T19:44:27.890456Z",
     "iopub.status.busy": "2021-08-21T19:44:27.889499Z",
     "iopub.status.idle": "2021-08-21T19:46:44.576274Z",
     "shell.execute_reply": "2021-08-21T19:46:44.577134Z"
    }
   },
   "outputs": [
    {
     "name": "stdout",
     "output_type": "stream",
     "text": [
      "After recommending 18995 items, there would be an increase of $74,043.98 in additional purchases.\n"
     ]
    }
   ],
   "source": [
    "recommended_price = []\n",
    "for user in range(0, len(transaction_list)):\n",
    "    recommendations = model.recommend(user, user_items)\n",
    "    index = recommendations[0][0]\n",
    "    price = price_lookup[price_lookup.ItemCode == str(item_list[index])].values\n",
    "    item = item_lookup[item_lookup.ItemCode == str(item_list[index])].values\n",
    "    recommended_price.append(price[0][1])\n",
    "    \n",
    "total_recommended = np.sum(recommended_price)\n",
    "\n",
    "print('After recommending',len(transaction_list),'items, there would be an increase of',\n",
    "      \"${:,.2f}\".format(total_recommended*test),'in additional purchases.')"
   ]
  },
  {
   "cell_type": "code",
   "execution_count": 19,
   "metadata": {
    "execution": {
     "iopub.execute_input": "2021-08-21T19:46:44.581316Z",
     "iopub.status.busy": "2021-08-21T19:46:44.580379Z",
     "iopub.status.idle": "2021-08-21T19:46:44.655413Z",
     "shell.execute_reply": "2021-08-21T19:46:44.656390Z"
    }
   },
   "outputs": [
    {
     "name": "stdout",
     "output_type": "stream",
     "text": [
      "Added to the initial total of all 18995 purchases valued at $59,859,564.72 , the percentage increase in revenue would be 0.0014%\n"
     ]
    }
   ],
   "source": [
    "totals = transactions.groupby(transactions.TransactionId)['ItemTotal'].sum()\n",
    "total = totals.sum()\n",
    "\n",
    "print('Added to the initial total of all',len(transaction_list),'purchases valued at',\n",
    "      \"${:,.2f}\".format(total),', the percentage increase in revenue would be', \"{:,.4f}%\".format(total_recommended / total ))\n"
   ]
  },
  {
   "cell_type": "code",
   "execution_count": null,
   "metadata": {},
   "outputs": [],
   "source": []
  }
 ],
 "metadata": {
  "accelerator": "GPU",
  "colab": {
   "collapsed_sections": [],
   "name": "Copy of ECommerce-recommendation",
   "provenance": [],
   "toc_visible": true
  },
  "kernelspec": {
   "display_name": "productrec",
   "language": "python",
   "name": "python3"
  },
  "language_info": {
   "codemirror_mode": {
    "name": "ipython",
    "version": 3
   },
   "file_extension": ".py",
   "mimetype": "text/x-python",
   "name": "python",
   "nbconvert_exporter": "python",
   "pygments_lexer": "ipython3",
   "version": "3.7.9"
  },
  "widgets": {
   "application/vnd.jupyter.widget-state+json": {
    "state": {
     "0527f76a86cf463482bbabddc435af22": {
      "model_module": "@jupyter-widgets/controls",
      "model_module_version": "1.5.0",
      "model_name": "DescriptionStyleModel",
      "state": {
       "_model_module": "@jupyter-widgets/controls",
       "_model_module_version": "1.5.0",
       "_model_name": "DescriptionStyleModel",
       "_view_count": null,
       "_view_module": "@jupyter-widgets/base",
       "_view_module_version": "1.2.0",
       "_view_name": "StyleView",
       "description_width": ""
      }
     },
     "067a66f22b044448be1c091f9060fe65": {
      "model_module": "@jupyter-widgets/controls",
      "model_module_version": "1.5.0",
      "model_name": "HTMLModel",
      "state": {
       "_dom_classes": [],
       "_model_module": "@jupyter-widgets/controls",
       "_model_module_version": "1.5.0",
       "_model_name": "HTMLModel",
       "_view_count": null,
       "_view_module": "@jupyter-widgets/controls",
       "_view_module_version": "1.5.0",
       "_view_name": "HTMLView",
       "description": "",
       "description_tooltip": null,
       "layout": "IPY_MODEL_58b2198494a641afbfc0b235b754f820",
       "placeholder": "​",
       "style": "IPY_MODEL_0527f76a86cf463482bbabddc435af22",
       "value": " 84/84 [01:47&lt;00:00,  1.25s/it]"
      }
     },
     "0d61ed5fbc9a48ef8ebbaf7267460cd1": {
      "model_module": "@jupyter-widgets/controls",
      "model_module_version": "1.5.0",
      "model_name": "DescriptionStyleModel",
      "state": {
       "_model_module": "@jupyter-widgets/controls",
       "_model_module_version": "1.5.0",
       "_model_name": "DescriptionStyleModel",
       "_view_count": null,
       "_view_module": "@jupyter-widgets/base",
       "_view_module_version": "1.2.0",
       "_view_name": "StyleView",
       "description_width": ""
      }
     },
     "17055280c80645bb9f86f5f3e03b54fb": {
      "model_module": "@jupyter-widgets/controls",
      "model_module_version": "1.5.0",
      "model_name": "HBoxModel",
      "state": {
       "_dom_classes": [],
       "_model_module": "@jupyter-widgets/controls",
       "_model_module_version": "1.5.0",
       "_model_name": "HBoxModel",
       "_view_count": null,
       "_view_module": "@jupyter-widgets/controls",
       "_view_module_version": "1.5.0",
       "_view_name": "HBoxView",
       "box_style": "",
       "children": [
        "IPY_MODEL_b85d340f2a1e4c42875a9d9ebfd66dc9",
        "IPY_MODEL_6f203e5a834941a988cf0e751fe320e5",
        "IPY_MODEL_067a66f22b044448be1c091f9060fe65"
       ],
       "layout": "IPY_MODEL_93dab089bbc44851b0ba8930fd298d04"
      }
     },
     "532a26e07fd14771838be676feb9dbed": {
      "model_module": "@jupyter-widgets/base",
      "model_module_version": "1.2.0",
      "model_name": "LayoutModel",
      "state": {
       "_model_module": "@jupyter-widgets/base",
       "_model_module_version": "1.2.0",
       "_model_name": "LayoutModel",
       "_view_count": null,
       "_view_module": "@jupyter-widgets/base",
       "_view_module_version": "1.2.0",
       "_view_name": "LayoutView",
       "align_content": null,
       "align_items": null,
       "align_self": null,
       "border": null,
       "bottom": null,
       "display": null,
       "flex": null,
       "flex_flow": null,
       "grid_area": null,
       "grid_auto_columns": null,
       "grid_auto_flow": null,
       "grid_auto_rows": null,
       "grid_column": null,
       "grid_gap": null,
       "grid_row": null,
       "grid_template_areas": null,
       "grid_template_columns": null,
       "grid_template_rows": null,
       "height": null,
       "justify_content": null,
       "justify_items": null,
       "left": null,
       "margin": null,
       "max_height": null,
       "max_width": null,
       "min_height": null,
       "min_width": null,
       "object_fit": null,
       "object_position": null,
       "order": null,
       "overflow": null,
       "overflow_x": null,
       "overflow_y": null,
       "padding": null,
       "right": null,
       "top": null,
       "visibility": null,
       "width": null
      }
     },
     "58b2198494a641afbfc0b235b754f820": {
      "model_module": "@jupyter-widgets/base",
      "model_module_version": "1.2.0",
      "model_name": "LayoutModel",
      "state": {
       "_model_module": "@jupyter-widgets/base",
       "_model_module_version": "1.2.0",
       "_model_name": "LayoutModel",
       "_view_count": null,
       "_view_module": "@jupyter-widgets/base",
       "_view_module_version": "1.2.0",
       "_view_name": "LayoutView",
       "align_content": null,
       "align_items": null,
       "align_self": null,
       "border": null,
       "bottom": null,
       "display": null,
       "flex": null,
       "flex_flow": null,
       "grid_area": null,
       "grid_auto_columns": null,
       "grid_auto_flow": null,
       "grid_auto_rows": null,
       "grid_column": null,
       "grid_gap": null,
       "grid_row": null,
       "grid_template_areas": null,
       "grid_template_columns": null,
       "grid_template_rows": null,
       "height": null,
       "justify_content": null,
       "justify_items": null,
       "left": null,
       "margin": null,
       "max_height": null,
       "max_width": null,
       "min_height": null,
       "min_width": null,
       "object_fit": null,
       "object_position": null,
       "order": null,
       "overflow": null,
       "overflow_x": null,
       "overflow_y": null,
       "padding": null,
       "right": null,
       "top": null,
       "visibility": null,
       "width": null
      }
     },
     "6f203e5a834941a988cf0e751fe320e5": {
      "model_module": "@jupyter-widgets/controls",
      "model_module_version": "1.5.0",
      "model_name": "FloatProgressModel",
      "state": {
       "_dom_classes": [],
       "_model_module": "@jupyter-widgets/controls",
       "_model_module_version": "1.5.0",
       "_model_name": "FloatProgressModel",
       "_view_count": null,
       "_view_module": "@jupyter-widgets/controls",
       "_view_module_version": "1.5.0",
       "_view_name": "ProgressView",
       "bar_style": "success",
       "description": "",
       "description_tooltip": null,
       "layout": "IPY_MODEL_ab844d8c1d0b47efadf79f3acfc89242",
       "max": 84,
       "min": 0,
       "orientation": "horizontal",
       "style": "IPY_MODEL_acbb26442c294df58ad319266a97837d",
       "value": 84
      }
     },
     "93dab089bbc44851b0ba8930fd298d04": {
      "model_module": "@jupyter-widgets/base",
      "model_module_version": "1.2.0",
      "model_name": "LayoutModel",
      "state": {
       "_model_module": "@jupyter-widgets/base",
       "_model_module_version": "1.2.0",
       "_model_name": "LayoutModel",
       "_view_count": null,
       "_view_module": "@jupyter-widgets/base",
       "_view_module_version": "1.2.0",
       "_view_name": "LayoutView",
       "align_content": null,
       "align_items": null,
       "align_self": null,
       "border": null,
       "bottom": null,
       "display": null,
       "flex": null,
       "flex_flow": null,
       "grid_area": null,
       "grid_auto_columns": null,
       "grid_auto_flow": null,
       "grid_auto_rows": null,
       "grid_column": null,
       "grid_gap": null,
       "grid_row": null,
       "grid_template_areas": null,
       "grid_template_columns": null,
       "grid_template_rows": null,
       "height": null,
       "justify_content": null,
       "justify_items": null,
       "left": null,
       "margin": null,
       "max_height": null,
       "max_width": null,
       "min_height": null,
       "min_width": null,
       "object_fit": null,
       "object_position": null,
       "order": null,
       "overflow": null,
       "overflow_x": null,
       "overflow_y": null,
       "padding": null,
       "right": null,
       "top": null,
       "visibility": null,
       "width": null
      }
     },
     "ab844d8c1d0b47efadf79f3acfc89242": {
      "model_module": "@jupyter-widgets/base",
      "model_module_version": "1.2.0",
      "model_name": "LayoutModel",
      "state": {
       "_model_module": "@jupyter-widgets/base",
       "_model_module_version": "1.2.0",
       "_model_name": "LayoutModel",
       "_view_count": null,
       "_view_module": "@jupyter-widgets/base",
       "_view_module_version": "1.2.0",
       "_view_name": "LayoutView",
       "align_content": null,
       "align_items": null,
       "align_self": null,
       "border": null,
       "bottom": null,
       "display": null,
       "flex": null,
       "flex_flow": null,
       "grid_area": null,
       "grid_auto_columns": null,
       "grid_auto_flow": null,
       "grid_auto_rows": null,
       "grid_column": null,
       "grid_gap": null,
       "grid_row": null,
       "grid_template_areas": null,
       "grid_template_columns": null,
       "grid_template_rows": null,
       "height": null,
       "justify_content": null,
       "justify_items": null,
       "left": null,
       "margin": null,
       "max_height": null,
       "max_width": null,
       "min_height": null,
       "min_width": null,
       "object_fit": null,
       "object_position": null,
       "order": null,
       "overflow": null,
       "overflow_x": null,
       "overflow_y": null,
       "padding": null,
       "right": null,
       "top": null,
       "visibility": null,
       "width": null
      }
     },
     "acbb26442c294df58ad319266a97837d": {
      "model_module": "@jupyter-widgets/controls",
      "model_module_version": "1.5.0",
      "model_name": "ProgressStyleModel",
      "state": {
       "_model_module": "@jupyter-widgets/controls",
       "_model_module_version": "1.5.0",
       "_model_name": "ProgressStyleModel",
       "_view_count": null,
       "_view_module": "@jupyter-widgets/base",
       "_view_module_version": "1.2.0",
       "_view_name": "StyleView",
       "bar_color": null,
       "description_width": ""
      }
     },
     "b85d340f2a1e4c42875a9d9ebfd66dc9": {
      "model_module": "@jupyter-widgets/controls",
      "model_module_version": "1.5.0",
      "model_name": "HTMLModel",
      "state": {
       "_dom_classes": [],
       "_model_module": "@jupyter-widgets/controls",
       "_model_module_version": "1.5.0",
       "_model_name": "HTMLModel",
       "_view_count": null,
       "_view_module": "@jupyter-widgets/controls",
       "_view_module_version": "1.5.0",
       "_view_name": "HTMLView",
       "description": "",
       "description_tooltip": null,
       "layout": "IPY_MODEL_532a26e07fd14771838be676feb9dbed",
       "placeholder": "​",
       "style": "IPY_MODEL_0d61ed5fbc9a48ef8ebbaf7267460cd1",
       "value": "100%"
      }
     }
    },
    "version_major": 2,
    "version_minor": 0
   }
  }
 },
 "nbformat": 4,
 "nbformat_minor": 1
}
