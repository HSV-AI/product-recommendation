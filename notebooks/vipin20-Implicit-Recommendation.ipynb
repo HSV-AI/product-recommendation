{
 "cells": [
  {
   "cell_type": "markdown",
   "metadata": {
    "id": "gEfZf48Wu5f0"
   },
   "source": [
    "![HSV-AI Logo](https://github.com/HSV-AI/hugo-website/blob/master/static/images/logo_v9.png?raw=true)\n",
    "\n",
    "# Implicit Recommendation from ECommerce Data\n",
    "\n",
    "Some of the material for this work is based on [A Gentle Introduction to Recommender Systems with Implicit Feedback](https://jessesw.com/Rec-System/) by Jesse Steinweg Woods. This tutorial includes an implementation of the Alternating Least Squares algorithm and some other useful functions (like the area under the curve calculation). Other parts of the tutorial are based on a previous version of the Implicit library and had to be reworked.\n",
    "\n",
    "The dataset used for this work is from Kaggle [Vipin Kumar Transaction Data](https://www.kaggle.com/vipin20/transaction-data):\n",
    "\n",
    "## Context\n",
    "\n",
    "This is a item purchased transactions data. It has 8 columns.\n",
    "This data makes you familer with transactions data.\n",
    "\n",
    "## Content\n",
    "\n",
    "Data description is :-\n",
    "\n",
    "* UserId -It is a unique ID for all User Id\n",
    "* TransactionId -It contains unique Transactions ID\n",
    "* TransactionTime -It contains Transaction Time\n",
    "* ItemCode -It contains item code that item will be purchased\n",
    "* ItemDescription -It contains Item description\n",
    "* NumberOfItemPurchased -It contains total number of items Purchased\n",
    "* CostPerltem -Cost per item Purchased\n",
    "* Country -Country where item purchased\n"
   ]
  },
  {
   "cell_type": "markdown",
   "metadata": {
    "id": "OApEEC0_wB4C"
   },
   "source": [
    "# Global Imports"
   ]
  },
  {
   "cell_type": "code",
   "execution_count": 1,
   "metadata": {
    "execution": {
     "iopub.execute_input": "2021-08-21T19:41:56.242040Z",
     "iopub.status.busy": "2021-08-21T19:41:56.241043Z",
     "iopub.status.idle": "2021-08-21T19:41:57.389833Z",
     "shell.execute_reply": "2021-08-21T19:41:57.389224Z"
    },
    "id": "fsb9emt6nrPu"
   },
   "outputs": [],
   "source": [
    "import pandas as pd\n",
    "import numpy as np\n",
    "import random\n",
    "from matplotlib import pyplot as plt\n",
    "import implicit\n",
    "import scipy\n",
    "from sklearn import metrics\n",
    "from pandas.api.types import CategoricalDtype"
   ]
  },
  {
   "cell_type": "code",
   "execution_count": 2,
   "metadata": {
    "execution": {
     "iopub.execute_input": "2021-08-21T19:41:57.395183Z",
     "iopub.status.busy": "2021-08-21T19:41:57.394621Z",
     "iopub.status.idle": "2021-08-21T19:41:57.449134Z",
     "shell.execute_reply": "2021-08-21T19:41:57.448177Z"
    }
   },
   "outputs": [],
   "source": [
    "%run Common-Functions.ipynb"
   ]
  },
  {
   "cell_type": "code",
   "execution_count": 3,
   "metadata": {
    "execution": {
     "iopub.execute_input": "2021-08-21T19:41:57.455076Z",
     "iopub.status.busy": "2021-08-21T19:41:57.454518Z",
     "iopub.status.idle": "2021-08-21T19:41:58.291246Z",
     "shell.execute_reply": "2021-08-21T19:41:58.290667Z"
    }
   },
   "outputs": [
    {
     "name": "stdout",
     "output_type": "stream",
     "text": [
      "Loaded 1016476 rows\n"
     ]
    }
   ],
   "source": [
    "transactions = pd.read_pickle('../data/interim/vipin20/transactions.gz')\n",
    "print('Loaded',len(transactions),'rows')"
   ]
  },
  {
   "cell_type": "code",
   "execution_count": 4,
   "metadata": {
    "execution": {
     "iopub.execute_input": "2021-08-21T19:41:58.298730Z",
     "iopub.status.busy": "2021-08-21T19:41:58.297998Z",
     "iopub.status.idle": "2021-08-21T19:41:58.668823Z",
     "shell.execute_reply": "2021-08-21T19:41:58.668186Z"
    }
   },
   "outputs": [],
   "source": [
    "transaction_list = list(np.sort(transactions.TransactionId.unique())) # Get our unique customers\n",
    "item_list = list(transactions.ItemCode.unique()) # Get our unique products that were purchased\n",
    "quantity_list = list(transactions.NumberOfItemsPurchased) # All of our purchases\n",
    "\n",
    "cols = transactions.TransactionId.astype(CategoricalDtype(categories=transaction_list, ordered=True)).cat.codes \n",
    "# Get the associated row indices\n",
    "rows = transactions.ItemCode.astype(CategoricalDtype(categories=item_list, ordered=True)).cat.codes \n",
    "# Get the associated column indices\n",
    "purchases_sparse = scipy.sparse.csr_matrix((quantity_list, (rows, cols)), shape=(len(item_list), len(transaction_list)))"
   ]
  },
  {
   "cell_type": "code",
   "execution_count": 5,
   "metadata": {
    "execution": {
     "iopub.execute_input": "2021-08-21T19:41:58.674417Z",
     "iopub.status.busy": "2021-08-21T19:41:58.673850Z",
     "iopub.status.idle": "2021-08-21T19:41:58.690720Z",
     "shell.execute_reply": "2021-08-21T19:41:58.691265Z"
    }
   },
   "outputs": [
    {
     "data": {
      "text/plain": [
       "99.21026329374317"
      ]
     },
     "execution_count": 5,
     "metadata": {},
     "output_type": "execute_result"
    }
   ],
   "source": [
    "matrix_size = purchases_sparse.shape[0]*purchases_sparse.shape[1] # Number of possible interactions in the matrix\n",
    "num_purchases = len(purchases_sparse.nonzero()[0]) # Number of items interacted with\n",
    "sparsity = 100*(1 - (num_purchases/matrix_size))\n",
    "sparsity"
   ]
  },
  {
   "cell_type": "markdown",
   "metadata": {},
   "source": [
    "# Training & Test Datasets\n",
    "\n",
    "We will use the function below to create a training and test dataset from the tutorial linked at the top. The test dataset masks some percentage of purchases to tested later with a recommendation."
   ]
  },
  {
   "cell_type": "code",
   "execution_count": 6,
   "metadata": {
    "execution": {
     "iopub.execute_input": "2021-08-21T19:41:58.695999Z",
     "iopub.status.busy": "2021-08-21T19:41:58.695398Z",
     "iopub.status.idle": "2021-08-21T19:41:59.222666Z",
     "shell.execute_reply": "2021-08-21T19:41:59.223157Z"
    }
   },
   "outputs": [
    {
     "name": "stdout",
     "output_type": "stream",
     "text": [
      "Total number of masked items: 102617\n"
     ]
    }
   ],
   "source": [
    "product_train, product_test, products_altered, transactions_altered = make_train(purchases_sparse, pct_test = 0.211)\n",
    "print('Total number of masked items:',product_test.count_nonzero()-product_train.count_nonzero())\n"
   ]
  },
  {
   "cell_type": "markdown",
   "metadata": {},
   "source": [
    "# Implicit Recommendation Model\n",
    "\n",
    "The code below creates and trains one of the models available from the Implicit package. Currently using hyperparameters suggested by various tutorials with no tuning."
   ]
  },
  {
   "cell_type": "code",
   "execution_count": 7,
   "metadata": {
    "execution": {
     "iopub.execute_input": "2021-08-21T19:41:59.230827Z",
     "iopub.status.busy": "2021-08-21T19:41:59.230226Z",
     "iopub.status.idle": "2021-08-21T19:43:47.110094Z",
     "shell.execute_reply": "2021-08-21T19:43:47.108148Z"
    }
   },
   "outputs": [
    {
     "name": "stderr",
     "output_type": "stream",
     "text": [
      "WARNING:root:OpenBLAS detected. Its highly recommend to set the environment variable 'export OPENBLAS_NUM_THREADS=1' to disable its internal multithreading\n"
     ]
    },
    {
     "data": {
      "application/vnd.jupyter.widget-view+json": {
       "model_id": "2d8213d7309243449c96ff89f9b038bd",
       "version_major": 2,
       "version_minor": 0
      },
      "text/plain": [
       "  0%|          | 0/84 [00:00<?, ?it/s]"
      ]
     },
     "metadata": {},
     "output_type": "display_data"
    }
   ],
   "source": [
    "alpha = 3\n",
    "factors = 64\n",
    "regularization = 0.003\n",
    "iterations = 84\n",
    "\n",
    "model = implicit.als.AlternatingLeastSquares(factors=factors,\n",
    "                                    regularization=regularization,\n",
    "                                    iterations=iterations)\n",
    "\n",
    "## BayesianPersonalizedRanking was pretty bad\n",
    "# model = implicit.bpr.BayesianPersonalizedRanking(factors=31,\n",
    "#                                     regularization=0.1,\n",
    "#                                     iterations=50)\n",
    "\n",
    "\n",
    "# model = implicit.lmf.LogisticMatrixFactorization(factors=32,\n",
    "#                                     regularization=0.1,\n",
    "#                                     iterations=50)\n",
    "\n",
    "model.fit((product_train * alpha).astype('double'))\n",
    "\n",
    "user_vecs = model.user_factors\n",
    "item_vecs = model.item_factors\n",
    "\n",
    "# Deprecated function below\n",
    "# user_vecs, item_vecs = implicit.alternating_least_squares((product_train*alpha).astype('double'), \n",
    "#                                                           factors=32, \n",
    "#                                                           regularization = 0.1, \n",
    "#                                                           iterations = 50)"
   ]
  },
  {
   "cell_type": "code",
   "execution_count": 8,
   "metadata": {
    "execution": {
     "iopub.execute_input": "2021-08-21T19:43:47.117882Z",
     "iopub.status.busy": "2021-08-21T19:43:47.116396Z",
     "iopub.status.idle": "2021-08-21T19:43:47.153741Z",
     "shell.execute_reply": "2021-08-21T19:43:47.154759Z"
    }
   },
   "outputs": [],
   "source": [
    "np.save('../data/interim/vipin20/user_factors', user_vecs)\n",
    "np.save('../data/interim/vipin20/item_factors', item_vecs)\n",
    "np.save('../data/interim/vipin20/product_train', product_train*alpha)"
   ]
  },
  {
   "cell_type": "markdown",
   "metadata": {},
   "source": [
    "# Scoring the Model\n",
    "\n",
    "Following the tutorial, we will use the area under the Receiver Operating Characteristic curve. "
   ]
  },
  {
   "cell_type": "code",
   "execution_count": 9,
   "metadata": {
    "execution": {
     "iopub.execute_input": "2021-08-21T19:43:47.163421Z",
     "iopub.status.busy": "2021-08-21T19:43:47.162387Z",
     "iopub.status.idle": "2021-08-21T19:44:27.491973Z",
     "shell.execute_reply": "2021-08-21T19:44:27.491577Z"
    }
   },
   "outputs": [
    {
     "name": "stdout",
     "output_type": "stream",
     "text": [
      "Our model scored 0.8790581980962291 versus a score of 0.8038330946271777 if we always recommended the most popular item.\n"
     ]
    }
   ],
   "source": [
    "test, popular = calc_mean_auc(product_train, products_altered, \n",
    "              [scipy.sparse.csr_matrix(item_vecs), scipy.sparse.csr_matrix(user_vecs.T)], product_test)\n",
    "\n",
    "\n",
    "print('Our model scored',test,'versus a score of',popular,'if we always recommended the most popular item.')"
   ]
  },
  {
   "cell_type": "markdown",
   "metadata": {},
   "source": [
    "# Spot Checking\n",
    "\n",
    "Now that we have a pretty good idea of the model performance overall, we can spot check a few things like finding similar items and checking item recommendations for an existing invoice."
   ]
  },
  {
   "cell_type": "code",
   "execution_count": 10,
   "metadata": {
    "execution": {
     "iopub.execute_input": "2021-08-21T19:44:27.508370Z",
     "iopub.status.busy": "2021-08-21T19:44:27.500745Z",
     "iopub.status.idle": "2021-08-21T19:44:27.703121Z",
     "shell.execute_reply": "2021-08-21T19:44:27.703504Z"
    }
   },
   "outputs": [],
   "source": [
    "item_lookup = transactions[['ItemCode', 'ItemDescription']].drop_duplicates() # Only get unique item/description pairs\n",
    "item_lookup['ItemCode'] = item_lookup.ItemCode.astype(str) # Encode as strings for future lookup ease\n",
    "\n",
    "price_lookup = transactions[['ItemCode', 'CostPerItem']].drop_duplicates() # Only get unique item/description pairs\n",
    "price_lookup['ItemCode'] = price_lookup.ItemCode.astype(str) # Encode as strings for future lookup ease\n"
   ]
  },
  {
   "cell_type": "code",
   "execution_count": 11,
   "metadata": {
    "execution": {
     "iopub.execute_input": "2021-08-21T19:44:27.708287Z",
     "iopub.status.busy": "2021-08-21T19:44:27.707656Z",
     "iopub.status.idle": "2021-08-21T19:44:27.730901Z",
     "shell.execute_reply": "2021-08-21T19:44:27.731734Z"
    }
   },
   "outputs": [
    {
     "name": "stdout",
     "output_type": "stream",
     "text": [
      "1.0 SET OF 12 FAIRY CAKE BAKING CASES\n",
      "0.9680726 SET OF 6 TEA TIME BAKING CASES\n",
      "0.9662833 SET OF 12 MINI LOAF BAKING CASES\n",
      "0.9614151 SET OF 6 SNACK LOAF BAKING CASES\n",
      "0.65862846 SET 40 HEART SHAPE PETIT FOUR CASES\n",
      "0.604555 SET OF 36 DOILIES PANTRY DESIGN\n",
      "0.5940598 SET OF 60 VINTAGE LEAF CAKE CASES \n",
      "0.568571 VINTAGE CHRISTMAS CAKE FRILL\n",
      "0.5450308 SET OF 60 PANTRY DESIGN CAKE CASES \n",
      "0.5358343 BOX OF 6 CHRISTMAS CAKE DECORATIONS\n"
     ]
    }
   ],
   "source": [
    "related = model.similar_items(1284)\n",
    "for rel in related:\n",
    "    index = rel[0]\n",
    "    prob = rel[1]\n",
    "    item = item_lookup[item_lookup.ItemCode == str(item_list[index])].values\n",
    "    print(prob, item[0][1])"
   ]
  },
  {
   "cell_type": "code",
   "execution_count": 12,
   "metadata": {
    "execution": {
     "iopub.execute_input": "2021-08-21T19:44:27.742044Z",
     "iopub.status.busy": "2021-08-21T19:44:27.741076Z",
     "iopub.status.idle": "2021-08-21T19:44:27.755430Z",
     "shell.execute_reply": "2021-08-21T19:44:27.756108Z"
    }
   },
   "outputs": [],
   "source": [
    "user_items = (product_train * alpha).astype('double').T.tocsr()\n",
    "def recommend(order):\n",
    "    print('Order Contents:')\n",
    "    print(transactions[transactions.TransactionId == transaction_list[order]].loc[:, ['ItemCode', 'ItemDescription']])\n",
    "    print('Recommendations:')\n",
    "    recommendations = model.recommend(order, user_items)\n",
    "    for rec in recommendations:\n",
    "        index = rec[0]\n",
    "        prob = rec[1]\n",
    "        stock_code = item_list[index]\n",
    "        item = item_lookup[item_lookup.ItemCode == str(item_list[index])].values\n",
    "        print(prob, stock_code, item[0][1])"
   ]
  },
  {
   "cell_type": "code",
   "execution_count": 13,
   "metadata": {
    "execution": {
     "iopub.execute_input": "2021-08-21T19:44:27.765425Z",
     "iopub.status.busy": "2021-08-21T19:44:27.762231Z",
     "iopub.status.idle": "2021-08-21T19:44:27.812754Z",
     "shell.execute_reply": "2021-08-21T19:44:27.808964Z"
    }
   },
   "outputs": [
    {
     "name": "stdout",
     "output_type": "stream",
     "text": [
      "Order Contents:\n",
      "         ItemCode            ItemDescription\n",
      "85667      475272  HAND WARMER RED POLKA DOT\n",
      "625518     475293     HAND WARMER UNION JACK\n",
      "701952     475293     HAND WARMER UNION JACK\n",
      "1022129    475272  HAND WARMER RED POLKA DOT\n",
      "Recommendations:\n",
      "0.7987602 475293 HAND WARMER UNION JACK\n",
      "0.7852349 480186 HAND WARMER SCOTTY DOG DESIGN\n",
      "0.78475666 480165 HAND WARMER OWL DESIGN\n",
      "0.78356117 480207 HAND WARMER BIRD DESIGN\n",
      "0.68987393 492219 HAND WARMER RED LOVE HEART\n",
      "0.52073014 479514 HAND WARMER BABUSHKA DESIGN\n",
      "0.43594316 464394 HOT WATER BOTTLE TEA AND SYMPATHY\n",
      "0.43562314 464331 SCOTTIE DOG HOT WATER BOTTLE\n",
      "0.41559 464352 CHOCOLATE HOT WATER BOTTLE\n",
      "0.4010531 479535 HOT WATER BOTTLE I AM SO POORLY\n"
     ]
    }
   ],
   "source": [
    "recommend(1)"
   ]
  },
  {
   "cell_type": "code",
   "execution_count": 15,
   "metadata": {
    "execution": {
     "iopub.execute_input": "2021-08-21T19:44:27.832064Z",
     "iopub.status.busy": "2021-08-21T19:44:27.822829Z",
     "iopub.status.idle": "2021-08-21T19:44:27.861669Z",
     "shell.execute_reply": "2021-08-21T19:44:27.863016Z"
    }
   },
   "outputs": [
    {
     "name": "stdout",
     "output_type": "stream",
     "text": [
      "Order Contents:\n",
      "         ItemCode                      ItemDescription\n",
      "12930      470694         DOORMAT NEIGHBOURHOOD WITCH \n",
      "25851      446019                   PINK  POLKADOT CUP\n",
      "28710      447573          GLASS HEART T-LIGHT HOLDER \n",
      "39685      465570   PICTURE FRAME WOOD TRIPLE PORTRAIT\n",
      "107312     469686                     DOORMAT AIRMAIL \n",
      "116889    1787079       JUMBO  BAG BAROQUE BLACK WHITE\n",
      "142277    1011948              DOORMAT WELCOME PUPPIES\n",
      "144231     316218         PINK POLKADOT GARDEN PARASOL\n",
      "147885     477120    SET OF 3 CAKE TINS PANTRY DESIGN \n",
      "150689     446040                    BLUE POLKADOT CUP\n",
      "151681     434973                       JUMBO BAG OWLS\n",
      "161172     434973                       JUMBO BAG OWLS\n",
      "174505     450030   SET/3 RED GINGHAM ROSE STORAGE BOX\n",
      "217133     446019                   PINK  POLKADOT CUP\n",
      "265312     451185     RETROSPOT HEART HOT WATER BOTTLE\n",
      "271808    1787079       JUMBO  BAG BAROQUE BLACK WHITE\n",
      "346807     467082        5 HOOK HANGER MAGIC TOADSTOOL\n",
      "350793     475986      RECIPE BOX PANTRY YELLOW DESIGN\n",
      "406409     435246                   LUNCH BAG WOODLAND\n",
      "447301     434385                DOORMAT RED RETROSPOT\n",
      "454709     447573          GLASS HEART T-LIGHT HOLDER \n",
      "466806     451185     RETROSPOT HEART HOT WATER BOTTLE\n",
      "479629     449988  SET3 BOOK BOX GREEN GINGHAM FLOWER \n",
      "481639     471135       SET OF 9 HEART SHAPED BALLOONS\n",
      "499274     478191  CLEAR DRAWER KNOB ACRYLIC EDWARDIAN\n",
      "503068     477162    SET OF 6 SPICE TINS PANTRY DESIGN\n",
      "546255     434973                       JUMBO BAG OWLS\n",
      "556761     451983   DOORMAT FANCY FONT HOME SWEET HOME\n",
      "558259     477162    SET OF 6 SPICE TINS PANTRY DESIGN\n",
      "561397     452697               SET OF 6 FUNKY BEAKERS\n",
      "581299    1011948              DOORMAT WELCOME PUPPIES\n",
      "592362     471135       SET OF 9 HEART SHAPED BALLOONS\n",
      "612473     316218         PINK POLKADOT GARDEN PARASOL\n",
      "682593     451983   DOORMAT FANCY FONT HOME SWEET HOME\n",
      "687519     477120    SET OF 3 CAKE TINS PANTRY DESIGN \n",
      "711375     434385                DOORMAT RED RETROSPOT\n",
      "712373     434973                       JUMBO BAG OWLS\n",
      "742211     467082        5 HOOK HANGER MAGIC TOADSTOOL\n",
      "774064     469686                     DOORMAT AIRMAIL \n",
      "800035     478191  CLEAR DRAWER KNOB ACRYLIC EDWARDIAN\n",
      "804349     460551               JUMBO STORAGE BAG SUKI\n",
      "830153     449988  SET3 BOOK BOX GREEN GINGHAM FLOWER \n",
      "893480     446040                    BLUE POLKADOT CUP\n",
      "893832     463344           PINK DOUGHNUT TRINKET POT \n",
      "929920     475104                 IVORY KITCHEN SCALES\n",
      "938799     475104                 IVORY KITCHEN SCALES\n",
      "942702     465570   PICTURE FRAME WOOD TRIPLE PORTRAIT\n",
      "951195     452697               SET OF 6 FUNKY BEAKERS\n",
      "974537     470694         DOORMAT NEIGHBOURHOOD WITCH \n",
      "985202     475986      RECIPE BOX PANTRY YELLOW DESIGN\n",
      "988373     435246                   LUNCH BAG WOODLAND\n",
      "1044872    463344           PINK DOUGHNUT TRINKET POT \n",
      "1050462    460551               JUMBO STORAGE BAG SUKI\n",
      "1080866    450030   SET/3 RED GINGHAM ROSE STORAGE BOX\n",
      "Recommendations:\n",
      "1.2333226 1784937 CHILDRENS CUTLERY POLKADOT PINK\n",
      "1.026104 470106 JUMBO BAG PINK POLKADOT\n",
      "0.97659755 471870 HEART OF WICKER LARGE\n",
      "0.9503393 476532 DOORMAT WELCOME TO OUR HOME\n",
      "0.91120374 1765050 PINK HEART SHAPE EGG FRYING PAN\n",
      "0.88568187 471849 HEART OF WICKER SMALL\n",
      "0.87944484 478086 PHOTO FRAME CORNICE\n",
      "0.8449735 445998 RED RETROSPOT CUP\n",
      "0.82992125 470085 JUMBO BAG SPACEBOY DESIGN\n",
      "0.8195288 460488 JUMBO BAG SCANDINAVIAN BLUE PAISLEY\n"
     ]
    }
   ],
   "source": [
    "recommend(2200)"
   ]
  },
  {
   "cell_type": "code",
   "execution_count": 16,
   "metadata": {
    "execution": {
     "iopub.execute_input": "2021-08-21T19:44:27.870986Z",
     "iopub.status.busy": "2021-08-21T19:44:27.869967Z",
     "iopub.status.idle": "2021-08-21T19:44:27.884781Z",
     "shell.execute_reply": "2021-08-21T19:44:27.885951Z"
    }
   },
   "outputs": [],
   "source": [
    "transactions['ItemTotal'] = transactions['NumberOfItemsPurchased'] * transactions['CostPerItem']"
   ]
  },
  {
   "cell_type": "code",
   "execution_count": 17,
   "metadata": {
    "execution": {
     "iopub.execute_input": "2021-08-21T19:44:27.890456Z",
     "iopub.status.busy": "2021-08-21T19:44:27.889499Z",
     "iopub.status.idle": "2021-08-21T19:46:44.576274Z",
     "shell.execute_reply": "2021-08-21T19:46:44.577134Z"
    }
   },
   "outputs": [
    {
     "name": "stdout",
     "output_type": "stream",
     "text": [
      "After recommending 18995 items, there would be an increase of $74,043.98 in additional purchases.\n"
     ]
    }
   ],
   "source": [
    "recommended_price = []\n",
    "for user in range(0, len(transaction_list)):\n",
    "    recommendations = model.recommend(user, user_items)\n",
    "    index = recommendations[0][0]\n",
    "    price = price_lookup[price_lookup.ItemCode == str(item_list[index])].values\n",
    "    item = item_lookup[item_lookup.ItemCode == str(item_list[index])].values\n",
    "    recommended_price.append(price[0][1])\n",
    "    \n",
    "total_recommended = np.sum(recommended_price)\n",
    "\n",
    "print('After recommending',len(transaction_list),'items, there would be an increase of',\n",
    "      \"${:,.2f}\".format(total_recommended*test),'in additional purchases.')"
   ]
  },
  {
   "cell_type": "code",
   "execution_count": 19,
   "metadata": {
    "execution": {
     "iopub.execute_input": "2021-08-21T19:46:44.581316Z",
     "iopub.status.busy": "2021-08-21T19:46:44.580379Z",
     "iopub.status.idle": "2021-08-21T19:46:44.655413Z",
     "shell.execute_reply": "2021-08-21T19:46:44.656390Z"
    }
   },
   "outputs": [
    {
     "name": "stdout",
     "output_type": "stream",
     "text": [
      "Added to the initial total of all 18995 purchases valued at $59,859,564.72 , the percentage increase in revenue would be 0.0014%\n"
     ]
    }
   ],
   "source": [
    "totals = transactions.groupby(transactions.TransactionId)['ItemTotal'].sum()\n",
    "total = totals.sum()\n",
    "\n",
    "print('Added to the initial total of all',len(transaction_list),'purchases valued at',\n",
    "      \"${:,.2f}\".format(total),', the percentage increase in revenue would be', \"{:,.4f}%\".format(total_recommended / total ))\n"
   ]
  },
  {
   "cell_type": "code",
   "execution_count": null,
   "metadata": {},
   "outputs": [],
   "source": []
  }
 ],
 "metadata": {
  "accelerator": "GPU",
  "colab": {
   "collapsed_sections": [],
   "name": "Copy of ECommerce-recommendation",
   "provenance": [],
   "toc_visible": true
  },
  "kernelspec": {
   "display_name": "Python 3 (ipykernel)",
   "language": "python",
   "name": "python3"
  },
  "language_info": {
   "codemirror_mode": {
    "name": "ipython",
    "version": 3
   },
   "file_extension": ".py",
   "mimetype": "text/x-python",
   "name": "python",
   "nbconvert_exporter": "python",
   "pygments_lexer": "ipython3",
   "version": "3.7.11"
  },
  "widgets": {
   "application/vnd.jupyter.widget-state+json": {
    "state": {
     "0527f76a86cf463482bbabddc435af22": {
      "model_module": "@jupyter-widgets/controls",
      "model_module_version": "1.5.0",
      "model_name": "DescriptionStyleModel",
      "state": {
       "_model_module": "@jupyter-widgets/controls",
       "_model_module_version": "1.5.0",
       "_model_name": "DescriptionStyleModel",
       "_view_count": null,
       "_view_module": "@jupyter-widgets/base",
       "_view_module_version": "1.2.0",
       "_view_name": "StyleView",
       "description_width": ""
      }
     },
     "067a66f22b044448be1c091f9060fe65": {
      "model_module": "@jupyter-widgets/controls",
      "model_module_version": "1.5.0",
      "model_name": "HTMLModel",
      "state": {
       "_dom_classes": [],
       "_model_module": "@jupyter-widgets/controls",
       "_model_module_version": "1.5.0",
       "_model_name": "HTMLModel",
       "_view_count": null,
       "_view_module": "@jupyter-widgets/controls",
       "_view_module_version": "1.5.0",
       "_view_name": "HTMLView",
       "description": "",
       "description_tooltip": null,
       "layout": "IPY_MODEL_58b2198494a641afbfc0b235b754f820",
       "placeholder": "​",
       "style": "IPY_MODEL_0527f76a86cf463482bbabddc435af22",
       "value": " 84/84 [01:47&lt;00:00,  1.25s/it]"
      }
     },
     "0d61ed5fbc9a48ef8ebbaf7267460cd1": {
      "model_module": "@jupyter-widgets/controls",
      "model_module_version": "1.5.0",
      "model_name": "DescriptionStyleModel",
      "state": {
       "_model_module": "@jupyter-widgets/controls",
       "_model_module_version": "1.5.0",
       "_model_name": "DescriptionStyleModel",
       "_view_count": null,
       "_view_module": "@jupyter-widgets/base",
       "_view_module_version": "1.2.0",
       "_view_name": "StyleView",
       "description_width": ""
      }
     },
     "17055280c80645bb9f86f5f3e03b54fb": {
      "model_module": "@jupyter-widgets/controls",
      "model_module_version": "1.5.0",
      "model_name": "HBoxModel",
      "state": {
       "_dom_classes": [],
       "_model_module": "@jupyter-widgets/controls",
       "_model_module_version": "1.5.0",
       "_model_name": "HBoxModel",
       "_view_count": null,
       "_view_module": "@jupyter-widgets/controls",
       "_view_module_version": "1.5.0",
       "_view_name": "HBoxView",
       "box_style": "",
       "children": [
        "IPY_MODEL_b85d340f2a1e4c42875a9d9ebfd66dc9",
        "IPY_MODEL_6f203e5a834941a988cf0e751fe320e5",
        "IPY_MODEL_067a66f22b044448be1c091f9060fe65"
       ],
       "layout": "IPY_MODEL_93dab089bbc44851b0ba8930fd298d04"
      }
     },
     "532a26e07fd14771838be676feb9dbed": {
      "model_module": "@jupyter-widgets/base",
      "model_module_version": "1.2.0",
      "model_name": "LayoutModel",
      "state": {
       "_model_module": "@jupyter-widgets/base",
       "_model_module_version": "1.2.0",
       "_model_name": "LayoutModel",
       "_view_count": null,
       "_view_module": "@jupyter-widgets/base",
       "_view_module_version": "1.2.0",
       "_view_name": "LayoutView",
       "align_content": null,
       "align_items": null,
       "align_self": null,
       "border": null,
       "bottom": null,
       "display": null,
       "flex": null,
       "flex_flow": null,
       "grid_area": null,
       "grid_auto_columns": null,
       "grid_auto_flow": null,
       "grid_auto_rows": null,
       "grid_column": null,
       "grid_gap": null,
       "grid_row": null,
       "grid_template_areas": null,
       "grid_template_columns": null,
       "grid_template_rows": null,
       "height": null,
       "justify_content": null,
       "justify_items": null,
       "left": null,
       "margin": null,
       "max_height": null,
       "max_width": null,
       "min_height": null,
       "min_width": null,
       "object_fit": null,
       "object_position": null,
       "order": null,
       "overflow": null,
       "overflow_x": null,
       "overflow_y": null,
       "padding": null,
       "right": null,
       "top": null,
       "visibility": null,
       "width": null
      }
     },
     "58b2198494a641afbfc0b235b754f820": {
      "model_module": "@jupyter-widgets/base",
      "model_module_version": "1.2.0",
      "model_name": "LayoutModel",
      "state": {
       "_model_module": "@jupyter-widgets/base",
       "_model_module_version": "1.2.0",
       "_model_name": "LayoutModel",
       "_view_count": null,
       "_view_module": "@jupyter-widgets/base",
       "_view_module_version": "1.2.0",
       "_view_name": "LayoutView",
       "align_content": null,
       "align_items": null,
       "align_self": null,
       "border": null,
       "bottom": null,
       "display": null,
       "flex": null,
       "flex_flow": null,
       "grid_area": null,
       "grid_auto_columns": null,
       "grid_auto_flow": null,
       "grid_auto_rows": null,
       "grid_column": null,
       "grid_gap": null,
       "grid_row": null,
       "grid_template_areas": null,
       "grid_template_columns": null,
       "grid_template_rows": null,
       "height": null,
       "justify_content": null,
       "justify_items": null,
       "left": null,
       "margin": null,
       "max_height": null,
       "max_width": null,
       "min_height": null,
       "min_width": null,
       "object_fit": null,
       "object_position": null,
       "order": null,
       "overflow": null,
       "overflow_x": null,
       "overflow_y": null,
       "padding": null,
       "right": null,
       "top": null,
       "visibility": null,
       "width": null
      }
     },
     "6f203e5a834941a988cf0e751fe320e5": {
      "model_module": "@jupyter-widgets/controls",
      "model_module_version": "1.5.0",
      "model_name": "FloatProgressModel",
      "state": {
       "_dom_classes": [],
       "_model_module": "@jupyter-widgets/controls",
       "_model_module_version": "1.5.0",
       "_model_name": "FloatProgressModel",
       "_view_count": null,
       "_view_module": "@jupyter-widgets/controls",
       "_view_module_version": "1.5.0",
       "_view_name": "ProgressView",
       "bar_style": "success",
       "description": "",
       "description_tooltip": null,
       "layout": "IPY_MODEL_ab844d8c1d0b47efadf79f3acfc89242",
       "max": 84,
       "min": 0,
       "orientation": "horizontal",
       "style": "IPY_MODEL_acbb26442c294df58ad319266a97837d",
       "value": 84
      }
     },
     "93dab089bbc44851b0ba8930fd298d04": {
      "model_module": "@jupyter-widgets/base",
      "model_module_version": "1.2.0",
      "model_name": "LayoutModel",
      "state": {
       "_model_module": "@jupyter-widgets/base",
       "_model_module_version": "1.2.0",
       "_model_name": "LayoutModel",
       "_view_count": null,
       "_view_module": "@jupyter-widgets/base",
       "_view_module_version": "1.2.0",
       "_view_name": "LayoutView",
       "align_content": null,
       "align_items": null,
       "align_self": null,
       "border": null,
       "bottom": null,
       "display": null,
       "flex": null,
       "flex_flow": null,
       "grid_area": null,
       "grid_auto_columns": null,
       "grid_auto_flow": null,
       "grid_auto_rows": null,
       "grid_column": null,
       "grid_gap": null,
       "grid_row": null,
       "grid_template_areas": null,
       "grid_template_columns": null,
       "grid_template_rows": null,
       "height": null,
       "justify_content": null,
       "justify_items": null,
       "left": null,
       "margin": null,
       "max_height": null,
       "max_width": null,
       "min_height": null,
       "min_width": null,
       "object_fit": null,
       "object_position": null,
       "order": null,
       "overflow": null,
       "overflow_x": null,
       "overflow_y": null,
       "padding": null,
       "right": null,
       "top": null,
       "visibility": null,
       "width": null
      }
     },
     "ab844d8c1d0b47efadf79f3acfc89242": {
      "model_module": "@jupyter-widgets/base",
      "model_module_version": "1.2.0",
      "model_name": "LayoutModel",
      "state": {
       "_model_module": "@jupyter-widgets/base",
       "_model_module_version": "1.2.0",
       "_model_name": "LayoutModel",
       "_view_count": null,
       "_view_module": "@jupyter-widgets/base",
       "_view_module_version": "1.2.0",
       "_view_name": "LayoutView",
       "align_content": null,
       "align_items": null,
       "align_self": null,
       "border": null,
       "bottom": null,
       "display": null,
       "flex": null,
       "flex_flow": null,
       "grid_area": null,
       "grid_auto_columns": null,
       "grid_auto_flow": null,
       "grid_auto_rows": null,
       "grid_column": null,
       "grid_gap": null,
       "grid_row": null,
       "grid_template_areas": null,
       "grid_template_columns": null,
       "grid_template_rows": null,
       "height": null,
       "justify_content": null,
       "justify_items": null,
       "left": null,
       "margin": null,
       "max_height": null,
       "max_width": null,
       "min_height": null,
       "min_width": null,
       "object_fit": null,
       "object_position": null,
       "order": null,
       "overflow": null,
       "overflow_x": null,
       "overflow_y": null,
       "padding": null,
       "right": null,
       "top": null,
       "visibility": null,
       "width": null
      }
     },
     "acbb26442c294df58ad319266a97837d": {
      "model_module": "@jupyter-widgets/controls",
      "model_module_version": "1.5.0",
      "model_name": "ProgressStyleModel",
      "state": {
       "_model_module": "@jupyter-widgets/controls",
       "_model_module_version": "1.5.0",
       "_model_name": "ProgressStyleModel",
       "_view_count": null,
       "_view_module": "@jupyter-widgets/base",
       "_view_module_version": "1.2.0",
       "_view_name": "StyleView",
       "bar_color": null,
       "description_width": ""
      }
     },
     "b85d340f2a1e4c42875a9d9ebfd66dc9": {
      "model_module": "@jupyter-widgets/controls",
      "model_module_version": "1.5.0",
      "model_name": "HTMLModel",
      "state": {
       "_dom_classes": [],
       "_model_module": "@jupyter-widgets/controls",
       "_model_module_version": "1.5.0",
       "_model_name": "HTMLModel",
       "_view_count": null,
       "_view_module": "@jupyter-widgets/controls",
       "_view_module_version": "1.5.0",
       "_view_name": "HTMLView",
       "description": "",
       "description_tooltip": null,
       "layout": "IPY_MODEL_532a26e07fd14771838be676feb9dbed",
       "placeholder": "​",
       "style": "IPY_MODEL_0d61ed5fbc9a48ef8ebbaf7267460cd1",
       "value": "100%"
      }
     }
    },
    "version_major": 2,
    "version_minor": 0
   }
  }
 },
 "nbformat": 4,
 "nbformat_minor": 1
}
