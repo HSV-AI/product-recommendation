{
 "cells": [
  {
   "cell_type": "markdown",
   "metadata": {
    "id": "gEfZf48Wu5f0"
   },
   "source": [
    "![HSV-AI Logo](https://github.com/HSV-AI/hugo-website/blob/master/static/images/logo_v9.png?raw=true)\n",
    "\n",
    "# Implicit Recommendation from ECommerce Data\n",
    "\n",
    "Some of the material for this work is based on [A Gentle Introduction to Recommender Systems with Implicit Feedback](https://jessesw.com/Rec-System/) by Jesse Steinweg Woods. This tutorial includes an implementation of the Alternating Least Squares algorithm and some other useful functions (like the area under the curve calculation). Other parts of the tutorial are based on a previous version of the Implicit library and had to be reworked.\n",
    "\n",
    "The dataset used for this work is from Kaggle [Vipin Kumar Transaction Data](https://www.kaggle.com/vipin20/transaction-data):\n",
    "\n",
    "## Context\n",
    "\n",
    "This is a item purchased transactions data. It has 8 columns.\n",
    "This data makes you familer with transactions data.\n",
    "\n",
    "## Content\n",
    "\n",
    "Data description is :-\n",
    "\n",
    "* UserId -It is a unique ID for all User Id\n",
    "* TransactionId -It contains unique Transactions ID\n",
    "* TransactionTime -It contains Transaction Time\n",
    "* ItemCode -It contains item code that item will be purchased\n",
    "* ItemDescription -It contains Item description\n",
    "* NumberOfItemPurchased -It contains total number of items Purchased\n",
    "* CostPerltem -Cost per item Purchased\n",
    "* Country -Country where item purchased\n"
   ]
  },
  {
   "cell_type": "markdown",
   "metadata": {
    "id": "OApEEC0_wB4C"
   },
   "source": [
    "# Global Imports"
   ]
  },
  {
   "cell_type": "code",
   "execution_count": 1,
   "metadata": {
    "id": "fsb9emt6nrPu"
   },
   "outputs": [],
   "source": [
    "import pandas as pd\n",
    "import numpy as np\n",
    "import random\n",
    "from matplotlib import pyplot as plt\n",
    "import implicit\n",
    "import scipy\n",
    "from sklearn import metrics\n",
    "from pandas.api.types import CategoricalDtype\n",
    "from sklearn.model_selection import train_test_split"
   ]
  },
  {
   "cell_type": "code",
   "execution_count": 2,
   "metadata": {},
   "outputs": [
    {
     "name": "stdout",
     "output_type": "stream",
     "text": [
      "2022-02-23 16:51:50,011 - kedro.framework.session.store - INFO - `read()` not implemented for `BaseSessionStore`. Assuming empty store.\n",
      "2022-02-23 16:51:50,058 - root - INFO - ** Kedro project productrec\n",
      "2022-02-23 16:51:50,059 - root - INFO - Defined global variable `context`, `session` and `catalog`\n",
      "2022-02-23 16:51:50,068 - root - INFO - Registered line magic `run_viz`\n"
     ]
    }
   ],
   "source": [
    "%reload_kedro"
   ]
  },
  {
   "cell_type": "code",
   "execution_count": null,
   "metadata": {},
   "outputs": [],
   "source": [
    "%run Common-Functions.ipynb"
   ]
  },
  {
   "cell_type": "code",
   "execution_count": 3,
   "metadata": {},
   "outputs": [
    {
     "data": {
      "text/plain": [
       "['products',\n",
       " 'transactions',\n",
       " 'clean_transaction',\n",
       " 'train',\n",
       " 'test',\n",
       " 'products_altered',\n",
       " 'transactions_altered',\n",
       " 'user_factors',\n",
       " 'item_factors',\n",
       " 'product_train',\n",
       " 'score',\n",
       " 'brazilian_kaggle_order_data',\n",
       " 'brazilian_kaggle_product_data',\n",
       " 'brazilian_kaggle_customer_data',\n",
       " 'brazilian_hyperparameters',\n",
       " 'ecommerce_kaggle_data',\n",
       " 'ecommerce_hyperparameters',\n",
       " 'electronics_kaggle_data',\n",
       " 'electronics_hyperparameters',\n",
       " 'instacart_kaggle_order_data',\n",
       " 'instacart_kaggle_product_data',\n",
       " 'instacart_hyperparameters',\n",
       " 'jewelry_kaggle_data',\n",
       " 'jewelry_hyperparameters',\n",
       " 'journey_kaggle_transaction_data',\n",
       " 'journey_kaggle_product_data',\n",
       " 'journey_hyperparameters',\n",
       " 'retailrocket_kaggle_event_data',\n",
       " 'retailrocket_hyperparameters',\n",
       " 'vipin20_kaggle_data',\n",
       " 'vipin20_hyperparameters',\n",
       " 'parameters',\n",
       " 'params:seed',\n",
       " 'params:alpha',\n",
       " 'params:factors',\n",
       " 'params:regularization',\n",
       " 'params:iterations',\n",
       " 'params:test_size',\n",
       " 'params:filter_value',\n",
       " 'params:minimum_order_size',\n",
       " 'params:maximum_order_size',\n",
       " 'params:wandb_project']"
      ]
     },
     "execution_count": 3,
     "metadata": {},
     "output_type": "execute_result"
    }
   ],
   "source": [
    "catalog.list()"
   ]
  },
  {
   "cell_type": "code",
   "execution_count": 4,
   "metadata": {},
   "outputs": [
    {
     "name": "stdout",
     "output_type": "stream",
     "text": [
      "2022-02-23 16:51:57,357 - kedro.io.data_catalog - INFO - Loading data from `transactions` (CSVDataSet)...\n",
      "Loaded 1016476 rows\n"
     ]
    },
    {
     "data": {
      "text/html": [
       "<div>\n",
       "<style scoped>\n",
       "    .dataframe tbody tr th:only-of-type {\n",
       "        vertical-align: middle;\n",
       "    }\n",
       "\n",
       "    .dataframe tbody tr th {\n",
       "        vertical-align: top;\n",
       "    }\n",
       "\n",
       "    .dataframe thead th {\n",
       "        text-align: right;\n",
       "    }\n",
       "</style>\n",
       "<table border=\"1\" class=\"dataframe\">\n",
       "  <thead>\n",
       "    <tr style=\"text-align: right;\">\n",
       "      <th></th>\n",
       "      <th>order_id</th>\n",
       "      <th>product_id</th>\n",
       "      <th>description</th>\n",
       "      <th>quantity</th>\n",
       "    </tr>\n",
       "  </thead>\n",
       "  <tbody>\n",
       "    <tr>\n",
       "      <th>0</th>\n",
       "      <td>6355745</td>\n",
       "      <td>465549</td>\n",
       "      <td>FAMILY ALBUM WHITE PICTURE FRAME</td>\n",
       "      <td>6</td>\n",
       "    </tr>\n",
       "    <tr>\n",
       "      <th>1</th>\n",
       "      <td>6283376</td>\n",
       "      <td>482370</td>\n",
       "      <td>LONDON BUS COFFEE MUG</td>\n",
       "      <td>3</td>\n",
       "    </tr>\n",
       "    <tr>\n",
       "      <th>2</th>\n",
       "      <td>6385599</td>\n",
       "      <td>490728</td>\n",
       "      <td>SET 12 COLOUR PENCILS DOLLY GIRL</td>\n",
       "      <td>72</td>\n",
       "    </tr>\n",
       "    <tr>\n",
       "      <th>3</th>\n",
       "      <td>6044973</td>\n",
       "      <td>459186</td>\n",
       "      <td>UNION JACK FLAG LUGGAGE TAG</td>\n",
       "      <td>3</td>\n",
       "    </tr>\n",
       "    <tr>\n",
       "      <th>4</th>\n",
       "      <td>6143225</td>\n",
       "      <td>1733592</td>\n",
       "      <td>WASHROOM METAL SIGN</td>\n",
       "      <td>3</td>\n",
       "    </tr>\n",
       "  </tbody>\n",
       "</table>\n",
       "</div>"
      ],
      "text/plain": [
       "   order_id  product_id                        description  quantity\n",
       "0   6355745      465549   FAMILY ALBUM WHITE PICTURE FRAME         6\n",
       "1   6283376      482370              LONDON BUS COFFEE MUG         3\n",
       "2   6385599      490728  SET 12 COLOUR PENCILS DOLLY GIRL         72\n",
       "3   6044973      459186        UNION JACK FLAG LUGGAGE TAG         3\n",
       "4   6143225     1733592                WASHROOM METAL SIGN         3"
      ]
     },
     "execution_count": 4,
     "metadata": {},
     "output_type": "execute_result"
    }
   ],
   "source": [
    "transactions = catalog.load(\"transactions\")\n",
    "print('Loaded',len(transactions),'rows')\n",
    "transactions.head()"
   ]
  },
  {
   "cell_type": "code",
   "execution_count": 5,
   "metadata": {},
   "outputs": [
    {
     "name": "stdout",
     "output_type": "stream",
     "text": [
      "                                                 product_id\n",
      "order_id                                                   \n",
      "5900015   (477792, 1764609, 456330, 1772526, 1492113, 17...\n",
      "5900026                                    (475272, 475293)\n",
      "5900037   (477729, 456834, 457317, 475083, 477708, 47764...\n",
      "5900048                    (481152, 481194, 482160, 481173)\n",
      "5900059                                            (456876)\n",
      "There are 18149  unique transactions\n",
      "\n",
      "Here are the counts of transactions ordered from largest to smallest\n",
      "[43 27 25 ...  1  1  1]\n",
      "\n",
      "And a graph of what the curve looks like:\n"
     ]
    },
    {
     "data": {
      "image/png": "[encoded data removed]",
      "text/plain": [
       "<Figure size 432x288 with 1 Axes>"
      ]
     },
     "metadata": {
      "needs_background": "light"
     },
     "output_type": "display_data"
    }
   ],
   "source": [
    "grouped = transactions.groupby('order_id').agg({\"product_id\": lambda x: frozenset(x)})\n",
    "print(grouped.head())\n",
    "\n",
    "transaction_counts = grouped['product_id'].value_counts().to_numpy()\n",
    "print('There are', len(transaction_counts), ' unique transactions\\n')\n",
    "print('Here are the counts of transactions ordered from largest to smallest')\n",
    "print(transaction_counts)\n",
    "print('\\nAnd a graph of what the curve looks like:')\n",
    "plt.plot(transaction_counts) \n",
    "plt.show()"
   ]
  },
  {
   "cell_type": "code",
   "execution_count": 6,
   "metadata": {},
   "outputs": [],
   "source": [
    "# Create an index of unique orders and build a dataframe with ['order_id', 'order_index']\n",
    "unique_orders = grouped.product_id.unique().tolist()\n",
    "indexed_orders = grouped.apply({'product_id': lambda x: unique_orders.index(x)})\n",
    "indexed_orders = indexed_orders.rename(columns={\"product_id\":\"order_index\"})\n",
    "\n",
    "# Add the order_index to the transaction dataframe\n",
    "transactions = transactions.merge(indexed_orders, how='left', on='order_id')"
   ]
  },
  {
   "cell_type": "code",
   "execution_count": 7,
   "metadata": {},
   "outputs": [
    {
     "name": "stdout",
     "output_type": "stream",
     "text": [
      "18149 unique orders\n",
      "3242 unique products\n",
      "1016476 transactions\n",
      "1016476 products\n",
      "1016476 items purchased\n",
      "Order Count: 1016476, Product Count: 1016476, Quantity Count: 1016476\n"
     ]
    }
   ],
   "source": [
    "order_list = list(np.sort(indexed_orders.order_index.unique())) # Get our unique customers\n",
    "print(len(order_list), \"unique orders\")\n",
    "\n",
    "product_list = list(transactions.product_id.unique()) # Get our unique products that were purchased\n",
    "print(len(product_list), \"unique products\")\n",
    "\n",
    "# Get the associated row indices\n",
    "rows = transactions.order_index.astype(CategoricalDtype(categories=order_list, ordered=True)).cat.codes \n",
    "print(len(rows), \"transactions\")\n",
    "\n",
    "# Get the associated column indices\n",
    "cols = transactions.product_id.astype(CategoricalDtype(categories=product_list, ordered=True)).cat.codes \n",
    "print(len(cols), \"products\")\n",
    "\n",
    "quantity_list = list(transactions.quantity) # All of our purchases\n",
    "print(len(quantity_list), \"items purchased\")\n",
    "\n",
    "shape=(len(order_list), len(product_list))\n",
    "\n",
    "print(\"Order Count: {}, Product Count: {}, Quantity Count: {}\".format(len(rows), len(cols), len(quantity_list)))\n",
    "purchases_sparse = scipy.sparse.csr_matrix((quantity_list, (rows, cols)), shape)"
   ]
  },
  {
   "cell_type": "code",
   "execution_count": 8,
   "metadata": {},
   "outputs": [
    {
     "data": {
      "text/plain": [
       "99.17667444641958"
      ]
     },
     "execution_count": 8,
     "metadata": {},
     "output_type": "execute_result"
    }
   ],
   "source": [
    "matrix_size = purchases_sparse.shape[0]*purchases_sparse.shape[1] # Number of possible interactions in the matrix\n",
    "num_purchases = len(purchases_sparse.nonzero()[0]) # Number of items interacted with\n",
    "sparsity = 100*(1 - (num_purchases/matrix_size))\n",
    "sparsity"
   ]
  },
  {
   "cell_type": "code",
   "execution_count": 9,
   "metadata": {},
   "outputs": [
    {
     "name": "stdout",
     "output_type": "stream",
     "text": [
      "(18149, 3242)\n"
     ]
    }
   ],
   "source": [
    "print(purchases_sparse.shape)"
   ]
  },
  {
   "cell_type": "markdown",
   "metadata": {},
   "source": [
    "# Training & Test Datasets\n",
    "\n",
    "We will use the function below to create a training and test dataset from the tutorial linked at the top. The test dataset masks some percentage of purchases to tested later with a recommendation."
   ]
  },
  {
   "cell_type": "code",
   "execution_count": 10,
   "metadata": {},
   "outputs": [
    {
     "name": "stdout",
     "output_type": "stream",
     "text": [
      "(16334, 3242) (1815, 3242)\n"
     ]
    }
   ],
   "source": [
    "product_train, product_test = train_test_split(purchases_sparse, test_size=0.1, random_state=42)\n",
    "print(product_train.shape, product_test.shape)"
   ]
  },
  {
   "cell_type": "code",
   "execution_count": 11,
   "metadata": {},
   "outputs": [],
   "source": [
    "# product_train, product_test, transactions_altered, products_altered = make_train(purchases_sparse, pct_test = 0.2)\n",
    "# print('Total number of masked items:',product_test.count_nonzero()-product_train.count_nonzero())\n"
   ]
  },
  {
   "cell_type": "markdown",
   "metadata": {},
   "source": [
    "# Implicit Recommendation Model\n",
    "\n",
    "The code below creates and trains one of the models available from the Implicit package. Currently using hyperparameters suggested by various tutorials with no tuning."
   ]
  },
  {
   "cell_type": "code",
   "execution_count": 12,
   "metadata": {},
   "outputs": [
    {
     "data": {
      "application/vnd.jupyter.widget-view+json": {
       "model_id": "59fbc4183f324d2380b7619cd81518aa",
       "version_major": 2,
       "version_minor": 0
      },
      "text/plain": [
       "  0%|          | 0/200 [00:00<?, ?it/s]"
      ]
     },
     "metadata": {},
     "output_type": "display_data"
    },
    {
     "name": "stdout",
     "output_type": "stream",
     "text": [
      "2022-02-23 16:54:47,814 - implicit - INFO - Final training loss 0.0056\n"
     ]
    }
   ],
   "source": [
    "alpha = 1\n",
    "factors = 512\n",
    "regularization = 0.003\n",
    "iterations = 200\n",
    "\n",
    "model = implicit.als.AlternatingLeastSquares(factors=factors,\n",
    "                                    regularization=regularization,\n",
    "                                    iterations=iterations, calculate_training_loss=True)\n",
    "\n",
    "## BayesianPersonalizedRanking was pretty bad\n",
    "# model = implicit.bpr.BayesianPersonalizedRanking(factors=31,\n",
    "#                                     regularization=0.1,\n",
    "#                                     iterations=50)\n",
    "\n",
    "\n",
    "# model = implicit.lmf.LogisticMatrixFactorization(factors=32,\n",
    "#                                     regularization=0.1,\n",
    "#                                     iterations=50)\n",
    "\n",
    "model.fit((product_train * alpha).astype('double'))\n",
    "\n",
    "user_vecs = model.to_cpu().user_factors\n",
    "item_vecs = model.to_cpu().item_factors\n",
    "\n",
    "# Deprecated function below\n",
    "# user_vecs, item_vecs = implicit.alternating_least_squares((product_train*alpha).astype('double'), \n",
    "#                                                           factors=32, \n",
    "#                                                           regularization = 0.1, \n",
    "#                                                           iterations = 50)"
   ]
  },
  {
   "cell_type": "code",
   "execution_count": 13,
   "metadata": {},
   "outputs": [
    {
     "name": "stdout",
     "output_type": "stream",
     "text": [
      "(16334, 512)\n",
      "(3242, 512)\n"
     ]
    }
   ],
   "source": [
    "print(model.user_factors.shape)\n",
    "print(model.item_factors.shape)"
   ]
  },
  {
   "cell_type": "markdown",
   "metadata": {},
   "source": [
    "# Scoring the Model\n",
    "\n",
    "Following the tutorial, we will use the area under the Receiver Operating Characteristic curve. "
   ]
  },
  {
   "cell_type": "code",
   "execution_count": 163,
   "metadata": {},
   "outputs": [],
   "source": [
    "\n",
    "def score_model(model, test_orders, test_size=0.1):\n",
    "\n",
    "    skipped = 0\n",
    "    \n",
    "    tplist = []\n",
    "    tnlist = []\n",
    "    fplist = []\n",
    "    fnlist = []\n",
    "\n",
    "    for row in test_orders:\n",
    "\n",
    "        TP = FP = FN = TN = 0\n",
    "\n",
    "        # Get the list of nonzero products\n",
    "        nonzero = row.nonzero()[1]\n",
    "        order_size = len(nonzero)\n",
    "        \n",
    "        # Need to skip if there aren't multiple products\n",
    "        if order_size < 2:\n",
    "            skipped+=1\n",
    "            continue\n",
    "\n",
    "        temp = row.copy()\n",
    "        if test_size > 0:\n",
    "            mask_count = max(1, int(order_size * test_size))\n",
    "            mask_list = random.sample(list(nonzero), mask_count)\n",
    "            temp[np.zeros(mask_count), mask_list] = 0\n",
    "            temp.eliminate_zeros()\n",
    "\n",
    "        new_id = model.user_factors.shape[0]\n",
    "        model.partial_fit_users([new_id], temp.astype('double'))\n",
    "        recs, prob = model.recommend(new_id, temp, N=order_size, filter_already_liked_items=False)\n",
    "        for rec in recs:\n",
    "            if rec in nonzero:\n",
    "                TP+=1\n",
    "            else:\n",
    "                FP+=1\n",
    "\n",
    "        for product in nonzero:\n",
    "            if product not in recs:\n",
    "                FN+=1\n",
    "\n",
    "        TN = model.item_factors.shape[0] - TP - FP - FN\n",
    "        \n",
    "        tplist.append(TP)\n",
    "        tnlist.append(TN)\n",
    "        fplist.append(FP)\n",
    "        fnlist.append(FN)\n",
    "        \n",
    "    count = test_orders.shape[0] - skipped\n",
    "    \n",
    "    true_positive = np.mean(tplist)\n",
    "    false_positive = np.mean(fplist)\n",
    "    false_negative = np.mean(fnlist)\n",
    "    true_negative =  np.mean(tnlist)\n",
    "    \n",
    "    sensitivity = true_positive / (true_positive + false_negative)\n",
    "    specificity = true_negative / (true_negative + false_positive)\n",
    "\n",
    "    return {\n",
    "        'true_positive':true_positive,\n",
    "        'false_positive':false_positive,\n",
    "        'false_negative':false_negative,\n",
    "        'true_negative':true_negative,\n",
    "        'sensitivity':sensitivity,\n",
    "        'specificity':specificity\n",
    "    }"
   ]
  },
  {
   "cell_type": "code",
   "execution_count": 166,
   "metadata": {},
   "outputs": [],
   "source": [
    "score = score_model(model, product_test, test_size=0.1)\n",
    "# print(\"Model Sensitivity is\", np.mean(TPList) / (np.mean(TPList) + np.mean(FNList)))\n",
    "# print(\"Model Specificity is\", np.mean(TNList) / (np.mean(TNList) + np.mean(FPList)))\n",
    "# print(\"Model ROC is\", np.mean(TPList) / np.mean(FPList))"
   ]
  },
  {
   "cell_type": "code",
   "execution_count": 167,
   "metadata": {},
   "outputs": [
    {
     "name": "stdout",
     "output_type": "stream",
     "text": [
      "3242\n",
      "{'true_positive': 23.294653014789535, 'false_positive': 4.1331058020477816, 'false_negative': 4.1331058020477816, 'true_negative': 3210.4391353811147, 'sensitivity': 0.8493093865361483, 'specificity': 0.9987142594746832}\n"
     ]
    }
   ],
   "source": [
    "print(model.item_factors.shape[0])\n",
    "print(score)"
   ]
  },
  {
   "cell_type": "code",
   "execution_count": null,
   "metadata": {},
   "outputs": [],
   "source": [
    "catalog.save(\"user_factors\", user_vecs)\n",
    "catalog.save(\"item_factors\", item_vecs)\n",
    "catalog.save(\"product_train\", product_train*alpha)"
   ]
  },
  {
   "cell_type": "markdown",
   "metadata": {},
   "source": [
    "# Spot Checking\n",
    "\n",
    "Now that we have a pretty good idea of the model performance overall, we can spot check a few things like finding similar items and checking item recommendations for an existing invoice."
   ]
  },
  {
   "cell_type": "code",
   "execution_count": 18,
   "metadata": {},
   "outputs": [
    {
     "name": "stdout",
     "output_type": "stream",
     "text": [
      "2022-02-23 16:59:02,483 - kedro.io.data_catalog - INFO - Loading data from `products` (CSVDataSet)...\n"
     ]
    },
    {
     "data": {
      "text/html": [
       "<div>\n",
       "<style scoped>\n",
       "    .dataframe tbody tr th:only-of-type {\n",
       "        vertical-align: middle;\n",
       "    }\n",
       "\n",
       "    .dataframe tbody tr th {\n",
       "        vertical-align: top;\n",
       "    }\n",
       "\n",
       "    .dataframe thead th {\n",
       "        text-align: right;\n",
       "    }\n",
       "</style>\n",
       "<table border=\"1\" class=\"dataframe\">\n",
       "  <thead>\n",
       "    <tr style=\"text-align: right;\">\n",
       "      <th></th>\n",
       "      <th>product_id</th>\n",
       "      <th>description</th>\n",
       "    </tr>\n",
       "  </thead>\n",
       "  <tbody>\n",
       "    <tr>\n",
       "      <th>0</th>\n",
       "      <td>465549</td>\n",
       "      <td>FAMILY ALBUM WHITE PICTURE FRAME</td>\n",
       "    </tr>\n",
       "    <tr>\n",
       "      <th>1</th>\n",
       "      <td>482370</td>\n",
       "      <td>LONDON BUS COFFEE MUG</td>\n",
       "    </tr>\n",
       "    <tr>\n",
       "      <th>2</th>\n",
       "      <td>490728</td>\n",
       "      <td>SET 12 COLOUR PENCILS DOLLY GIRL</td>\n",
       "    </tr>\n",
       "    <tr>\n",
       "      <th>3</th>\n",
       "      <td>459186</td>\n",
       "      <td>UNION JACK FLAG LUGGAGE TAG</td>\n",
       "    </tr>\n",
       "    <tr>\n",
       "      <th>4</th>\n",
       "      <td>1733592</td>\n",
       "      <td>WASHROOM METAL SIGN</td>\n",
       "    </tr>\n",
       "  </tbody>\n",
       "</table>\n",
       "</div>"
      ],
      "text/plain": [
       "   product_id                        description\n",
       "0      465549   FAMILY ALBUM WHITE PICTURE FRAME\n",
       "1      482370              LONDON BUS COFFEE MUG\n",
       "2      490728  SET 12 COLOUR PENCILS DOLLY GIRL \n",
       "3      459186        UNION JACK FLAG LUGGAGE TAG\n",
       "4     1733592                WASHROOM METAL SIGN"
      ]
     },
     "execution_count": 18,
     "metadata": {},
     "output_type": "execute_result"
    }
   ],
   "source": [
    "item_lookup = catalog.load(\"products\")\n",
    "item_lookup.head()"
   ]
  },
  {
   "cell_type": "code",
   "execution_count": 23,
   "metadata": {},
   "outputs": [
    {
     "name": "stdout",
     "output_type": "stream",
     "text": [
      "(array([1284, 1222,  602, 1372, 1089, 1441, 2635, 2582, 2049, 1590],\n",
      "      dtype=int32), array([1.        , 0.5544831 , 0.46807647, 0.4660211 , 0.1638395 ,\n",
      "       0.15135196, 0.12520699, 0.12250991, 0.12022331, 0.11861705],\n",
      "      dtype=float32))\n",
      "3242\n",
      "Index 1284\n",
      "Product 489153\n",
      "1284 1.0% SET OF 12 FAIRY CAKE BAKING CASES\n",
      "Index 1222\n",
      "Product 489195\n",
      "1222 0.5544831156730652% SET OF 12 MINI LOAF BAKING CASES\n",
      "Index 602\n",
      "Product 489174\n",
      "602 0.4680764675140381% SET OF 6 SNACK LOAF BAKING CASES\n",
      "Index 1372\n",
      "Product 489216\n",
      "1372 0.4660210907459259% SET OF 6 TEA TIME BAKING CASES\n",
      "Index 1089\n",
      "Product 489237\n",
      "1089 0.16383950412273407% SET 40 HEART SHAPE PETIT FOUR CASES\n",
      "Index 1441\n",
      "Product 483189\n",
      "1441 0.1513519585132599% I LOVE LONDON BABY GIFT SET\n",
      "Index 2635\n",
      "Product 1492050\n",
      "2635 0.12520699203014374% SMALL SINGLE FLAME CANDLE HOLDER\n",
      "Index 2582\n",
      "Product 1776558\n",
      "2582 0.1225099116563797% BOYS ALPHABET IRON ON PATCHES\n",
      "Index 2049\n",
      "Product 495894\n",
      "2049 0.12022331357002258% SET 10 CARDS 12 DAYS WRAP  17058\n",
      "Index 1590\n",
      "Product 490686\n",
      "1590 0.11861705034971237% SET 12 COLOURING PENCILS DOILY\n"
     ]
    }
   ],
   "source": [
    "related = model.similar_items(1284)\n",
    "print(related)\n",
    "print(len(product_list))\n",
    "for index, prob in zip(related[0], related[1]):\n",
    "    print(\"Index {}\".format(index))\n",
    "    product = product_list[index]\n",
    "    print(\"Product {}\".format(product))\n",
    "    item = item_lookup[item_lookup.product_id == product_list[index]].values\n",
    "    print(\"{} {}% {}\".format(index, prob, item[0][1]))\n",
    "\n"
   ]
  },
  {
   "cell_type": "code",
   "execution_count": 81,
   "metadata": {},
   "outputs": [],
   "source": [
    "user_items = (product_train * alpha).astype('double').T.tocsr()\n",
    "order_list = list(transactions.order_id.unique()) # Get our unique products that were purchased\n",
    "item_list = list(transactions.product_id.unique()) # Get our unique products that were purchased\n",
    "\n",
    "def recommend(order):\n",
    "    products = transactions[transactions.order_id == order_list[order]]['product_id'].values\n",
    "    indeces = []\n",
    "    for product in list(products):\n",
    "        index = item_list.index(product)\n",
    "        indeces.append(index)\n",
    "\n",
    "    print('Order Contents:')\n",
    "    print(transactions[transactions.order_id == order_list[order]].loc[:, ['product_id', 'description']])\n",
    "    print('Recommendations:')\n",
    "    recommendations = model.recommend(order, product_train[order], filter_items=indeces)\n",
    "    for index, prob in zip(recommendations[0], recommendations[1]):\n",
    "        product = item_list[index]\n",
    "        item = item_lookup[item_lookup.product_id == product_list[index]].values\n",
    "        print(\"{} {}% {}\".format(index, prob, item[0][1]))\n"
   ]
  },
  {
   "cell_type": "code",
   "execution_count": 82,
   "metadata": {},
   "outputs": [
    {
     "name": "stdout",
     "output_type": "stream",
     "text": [
      "Order Contents:\n",
      "        product_id                          description\n",
      "1           482370                LONDON BUS COFFEE MUG\n",
      "6086       1784748   SET OF 72 PINK HEART PAPER DOILIES\n",
      "22656       463155   MINI CAKE STAND  HANGING STRAWBERY\n",
      "32375       475629         STRAWBERRY FAIRY CAKE TEAPOT\n",
      "38122       475545  CERAMIC HEART FAIRY CAKE MONEY BANK\n",
      "...            ...                                  ...\n",
      "968927      475293               HAND WARMER UNION JACK\n",
      "970580      754404        HANGING FAIRY CAKE DECORATION\n",
      "970970      445872       STRAWBERRY CERAMIC TRINKET BOX\n",
      "973276      494214               WALL ART STOP FOR TEA \n",
      "988142      786429   CERAMIC CAKE STAND + HANGING CAKES\n",
      "\n",
      "[114 rows x 2 columns]\n",
      "Recommendations:\n",
      "2638 0.5217434167861938% WRAP MAGIC FOREST \n",
      "2584 0.4958226978778839% WRAP BIRD GARDEN \n",
      "2050 0.4855252802371979% SET OF 4 KNICK KNACK TINS LEAVES \n",
      "2009 0.4501400291919708% STORAGE TIN VINTAGE LEAF\n",
      "2442 0.4413449764251709% WRAP FLOWER SHOP  \n",
      "1175 0.416348397731781% SKETCHBOOK MAGNETIC SHOPPING LIST\n",
      "472 0.40896880626678467% VINYL RECORD FRAME SILVER\n",
      "296 0.3565909266471863% SET OF 60 VINTAGE LEAF CAKE CASES \n",
      "124 0.33069270849227905% LUNCH BAG  BLACK SKULL.\n",
      "726 0.31459707021713257% SPACEBOY GIFT WRAP\n"
     ]
    }
   ],
   "source": [
    "recommend(1)"
   ]
  },
  {
   "cell_type": "code",
   "execution_count": 83,
   "metadata": {},
   "outputs": [
    {
     "name": "stdout",
     "output_type": "stream",
     "text": [
      "Order Contents:\n",
      "        product_id                         description\n",
      "2666       1786302  PEARL CRYSTAL PUMPKIN T-LIGHT HLDR\n",
      "10359      1786302  PEARL CRYSTAL PUMPKIN T-LIGHT HLDR\n",
      "64203       444003     ANTIQUE GLASS HEART DECORATION \n",
      "64339       465318  3 HEARTS HANGING DECORATION RUSTIC\n",
      "66136       479535     HOT WATER BOTTLE I AM SO POORLY\n",
      "78082       476574                        WICKER STAR \n",
      "165719      444003     ANTIQUE GLASS HEART DECORATION \n",
      "199280     1784370    SINGLE HEART ZINC T-LIGHT HOLDER\n",
      "234469      470799                    LIPSTICK PEN RED\n",
      "239438      471870               HEART OF WICKER LARGE\n",
      "242647     1784538    HANGING HEART JAR T-LIGHT HOLDER\n",
      "255234      465738     VICTORIAN GLASS HANGING T-LIGHT\n",
      "256073      451185    RETROSPOT HEART HOT WATER BOTTLE\n",
      "314667      454671       HANGING GLASS ETCHED TEALIGHT\n",
      "330542      451185    RETROSPOT HEART HOT WATER BOTTLE\n",
      "362925      445452     PACK OF 72 RETROSPOT CAKE CASES\n",
      "417293     1784538    HANGING HEART JAR T-LIGHT HOLDER\n",
      "475414      475293              HAND WARMER UNION JACK\n",
      "481310      456393    RED HANGING HEART T-LIGHT HOLDER\n",
      "533653      465318  3 HEARTS HANGING DECORATION RUSTIC\n",
      "594193      470799                    LIPSTICK PEN RED\n",
      "635074     1784370    SINGLE HEART ZINC T-LIGHT HOLDER\n",
      "642913      445452     PACK OF 72 RETROSPOT CAKE CASES\n",
      "660232      456393    RED HANGING HEART T-LIGHT HOLDER\n",
      "752363      479535     HOT WATER BOTTLE I AM SO POORLY\n",
      "761438      454671       HANGING GLASS ETCHED TEALIGHT\n",
      "812767      471870               HEART OF WICKER LARGE\n",
      "912101      476574                        WICKER STAR \n",
      "946094      465738     VICTORIAN GLASS HANGING T-LIGHT\n",
      "951206      475293              HAND WARMER UNION JACK\n",
      "Recommendations:\n",
      "603 0.6110021471977234% RED RETROSPOT UMBRELLA\n",
      "444 0.5662951469421387% SET OF 3 WOODEN SLEIGH DECORATIONS\n",
      "531 0.5636046528816223% SKULL LUNCH BOX WITH CUTLERY \n",
      "1719 0.5438019633293152% SET OF 3 WOODEN TREE DECORATIONS\n",
      "645 0.5332932472229004% 3 STRIPEY MICE FELTCRAFT\n",
      "822 0.4803786277770996% CERAMIC CHERRY CAKE MONEY BANK\n",
      "1022 0.4780443608760834% CREAM HEART CARD HOLDER\n",
      "1185 0.47395631670951843% FELTCRAFT DOLL EMILY\n",
      "92 0.4624352753162384% BAKING SET 9 PIECE RETROSPOT \n",
      "1590 0.42109063267707825% SET 12 COLOURING PENCILS DOILY\n"
     ]
    }
   ],
   "source": [
    "recommend(2200)"
   ]
  },
  {
   "cell_type": "code",
   "execution_count": 84,
   "metadata": {},
   "outputs": [
    {
     "ename": "KeyError",
     "evalue": "'price'",
     "output_type": "error",
     "traceback": [
      "\u001b[0;31m---------------------------------------------------------------------------\u001b[0m",
      "\u001b[0;31mKeyError\u001b[0m                                  Traceback (most recent call last)",
      "\u001b[0;32m~/miniconda3/envs/product/lib/python3.8/site-packages/pandas/core/indexes/base.py\u001b[0m in \u001b[0;36mget_loc\u001b[0;34m(self, key, method, tolerance)\u001b[0m\n\u001b[1;32m   3360\u001b[0m             \u001b[0;32mtry\u001b[0m\u001b[0;34m:\u001b[0m\u001b[0;34m\u001b[0m\u001b[0;34m\u001b[0m\u001b[0m\n\u001b[0;32m-> 3361\u001b[0;31m                 \u001b[0;32mreturn\u001b[0m \u001b[0mself\u001b[0m\u001b[0;34m.\u001b[0m\u001b[0m_engine\u001b[0m\u001b[0;34m.\u001b[0m\u001b[0mget_loc\u001b[0m\u001b[0;34m(\u001b[0m\u001b[0mcasted_key\u001b[0m\u001b[0;34m)\u001b[0m\u001b[0;34m\u001b[0m\u001b[0;34m\u001b[0m\u001b[0m\n\u001b[0m\u001b[1;32m   3362\u001b[0m             \u001b[0;32mexcept\u001b[0m \u001b[0mKeyError\u001b[0m \u001b[0;32mas\u001b[0m \u001b[0merr\u001b[0m\u001b[0;34m:\u001b[0m\u001b[0;34m\u001b[0m\u001b[0;34m\u001b[0m\u001b[0m\n",
      "\u001b[0;32m~/miniconda3/envs/product/lib/python3.8/site-packages/pandas/_libs/index.pyx\u001b[0m in \u001b[0;36mpandas._libs.index.IndexEngine.get_loc\u001b[0;34m()\u001b[0m\n",
      "\u001b[0;32m~/miniconda3/envs/product/lib/python3.8/site-packages/pandas/_libs/index.pyx\u001b[0m in \u001b[0;36mpandas._libs.index.IndexEngine.get_loc\u001b[0;34m()\u001b[0m\n",
      "\u001b[0;32mpandas/_libs/hashtable_class_helper.pxi\u001b[0m in \u001b[0;36mpandas._libs.hashtable.PyObjectHashTable.get_item\u001b[0;34m()\u001b[0m\n",
      "\u001b[0;32mpandas/_libs/hashtable_class_helper.pxi\u001b[0m in \u001b[0;36mpandas._libs.hashtable.PyObjectHashTable.get_item\u001b[0;34m()\u001b[0m\n",
      "\u001b[0;31mKeyError\u001b[0m: 'price'",
      "\nThe above exception was the direct cause of the following exception:\n",
      "\u001b[0;31mKeyError\u001b[0m                                  Traceback (most recent call last)",
      "\u001b[0;32m/tmp/ipykernel_2630/4037915621.py\u001b[0m in \u001b[0;36m<module>\u001b[0;34m\u001b[0m\n\u001b[0;32m----> 1\u001b[0;31m \u001b[0mtransactions\u001b[0m\u001b[0;34m[\u001b[0m\u001b[0;34m'total'\u001b[0m\u001b[0;34m]\u001b[0m \u001b[0;34m=\u001b[0m \u001b[0mtransactions\u001b[0m\u001b[0;34m[\u001b[0m\u001b[0;34m'quantity'\u001b[0m\u001b[0;34m]\u001b[0m \u001b[0;34m*\u001b[0m \u001b[0mtransactions\u001b[0m\u001b[0;34m[\u001b[0m\u001b[0;34m'price'\u001b[0m\u001b[0;34m]\u001b[0m\u001b[0;34m\u001b[0m\u001b[0;34m\u001b[0m\u001b[0m\n\u001b[0m",
      "\u001b[0;32m~/miniconda3/envs/product/lib/python3.8/site-packages/pandas/core/frame.py\u001b[0m in \u001b[0;36m__getitem__\u001b[0;34m(self, key)\u001b[0m\n\u001b[1;32m   3456\u001b[0m             \u001b[0;32mif\u001b[0m \u001b[0mself\u001b[0m\u001b[0;34m.\u001b[0m\u001b[0mcolumns\u001b[0m\u001b[0;34m.\u001b[0m\u001b[0mnlevels\u001b[0m \u001b[0;34m>\u001b[0m \u001b[0;36m1\u001b[0m\u001b[0;34m:\u001b[0m\u001b[0;34m\u001b[0m\u001b[0;34m\u001b[0m\u001b[0m\n\u001b[1;32m   3457\u001b[0m                 \u001b[0;32mreturn\u001b[0m \u001b[0mself\u001b[0m\u001b[0;34m.\u001b[0m\u001b[0m_getitem_multilevel\u001b[0m\u001b[0;34m(\u001b[0m\u001b[0mkey\u001b[0m\u001b[0;34m)\u001b[0m\u001b[0;34m\u001b[0m\u001b[0;34m\u001b[0m\u001b[0m\n\u001b[0;32m-> 3458\u001b[0;31m             \u001b[0mindexer\u001b[0m \u001b[0;34m=\u001b[0m \u001b[0mself\u001b[0m\u001b[0;34m.\u001b[0m\u001b[0mcolumns\u001b[0m\u001b[0;34m.\u001b[0m\u001b[0mget_loc\u001b[0m\u001b[0;34m(\u001b[0m\u001b[0mkey\u001b[0m\u001b[0;34m)\u001b[0m\u001b[0;34m\u001b[0m\u001b[0;34m\u001b[0m\u001b[0m\n\u001b[0m\u001b[1;32m   3459\u001b[0m             \u001b[0;32mif\u001b[0m \u001b[0mis_integer\u001b[0m\u001b[0;34m(\u001b[0m\u001b[0mindexer\u001b[0m\u001b[0;34m)\u001b[0m\u001b[0;34m:\u001b[0m\u001b[0;34m\u001b[0m\u001b[0;34m\u001b[0m\u001b[0m\n\u001b[1;32m   3460\u001b[0m                 \u001b[0mindexer\u001b[0m \u001b[0;34m=\u001b[0m \u001b[0;34m[\u001b[0m\u001b[0mindexer\u001b[0m\u001b[0;34m]\u001b[0m\u001b[0;34m\u001b[0m\u001b[0;34m\u001b[0m\u001b[0m\n",
      "\u001b[0;32m~/miniconda3/envs/product/lib/python3.8/site-packages/pandas/core/indexes/base.py\u001b[0m in \u001b[0;36mget_loc\u001b[0;34m(self, key, method, tolerance)\u001b[0m\n\u001b[1;32m   3361\u001b[0m                 \u001b[0;32mreturn\u001b[0m \u001b[0mself\u001b[0m\u001b[0;34m.\u001b[0m\u001b[0m_engine\u001b[0m\u001b[0;34m.\u001b[0m\u001b[0mget_loc\u001b[0m\u001b[0;34m(\u001b[0m\u001b[0mcasted_key\u001b[0m\u001b[0;34m)\u001b[0m\u001b[0;34m\u001b[0m\u001b[0;34m\u001b[0m\u001b[0m\n\u001b[1;32m   3362\u001b[0m             \u001b[0;32mexcept\u001b[0m \u001b[0mKeyError\u001b[0m \u001b[0;32mas\u001b[0m \u001b[0merr\u001b[0m\u001b[0;34m:\u001b[0m\u001b[0;34m\u001b[0m\u001b[0;34m\u001b[0m\u001b[0m\n\u001b[0;32m-> 3363\u001b[0;31m                 \u001b[0;32mraise\u001b[0m \u001b[0mKeyError\u001b[0m\u001b[0;34m(\u001b[0m\u001b[0mkey\u001b[0m\u001b[0;34m)\u001b[0m \u001b[0;32mfrom\u001b[0m \u001b[0merr\u001b[0m\u001b[0;34m\u001b[0m\u001b[0;34m\u001b[0m\u001b[0m\n\u001b[0m\u001b[1;32m   3364\u001b[0m \u001b[0;34m\u001b[0m\u001b[0m\n\u001b[1;32m   3365\u001b[0m         \u001b[0;32mif\u001b[0m \u001b[0mis_scalar\u001b[0m\u001b[0;34m(\u001b[0m\u001b[0mkey\u001b[0m\u001b[0;34m)\u001b[0m \u001b[0;32mand\u001b[0m \u001b[0misna\u001b[0m\u001b[0;34m(\u001b[0m\u001b[0mkey\u001b[0m\u001b[0;34m)\u001b[0m \u001b[0;32mand\u001b[0m \u001b[0;32mnot\u001b[0m \u001b[0mself\u001b[0m\u001b[0;34m.\u001b[0m\u001b[0mhasnans\u001b[0m\u001b[0;34m:\u001b[0m\u001b[0;34m\u001b[0m\u001b[0;34m\u001b[0m\u001b[0m\n",
      "\u001b[0;31mKeyError\u001b[0m: 'price'"
     ]
    }
   ],
   "source": [
    "transactions['total'] = transactions['quantity'] * transactions['price']"
   ]
  },
  {
   "cell_type": "code",
   "execution_count": null,
   "metadata": {},
   "outputs": [],
   "source": [
    "recommended_price = []\n",
    "for user in range(0, len(transaction_list)):\n",
    "    recommendations = model.recommend(user, user_items)\n",
    "    index = recommendations[0][0]\n",
    "    price = price_lookup[price_lookup.ItemCode == str(item_list[index])].values\n",
    "    item = item_lookup[item_lookup.ItemCode == str(item_list[index])].values\n",
    "    recommended_price.append(price[0][1])\n",
    "    \n",
    "total_recommended = np.sum(recommended_price)\n",
    "\n",
    "print('After recommending',len(transaction_list),'items, there would be an increase of',\n",
    "      \"${:,.2f}\".format(total_recommended*test),'in additional purchases.')"
   ]
  },
  {
   "cell_type": "code",
   "execution_count": null,
   "metadata": {},
   "outputs": [],
   "source": [
    "totals = transactions.groupby(transactions.TransactionId)['ItemTotal'].sum()\n",
    "total = totals.sum()\n",
    "\n",
    "print('Added to the initial total of all',len(transaction_list),'purchases valued at',\n",
    "      \"${:,.2f}\".format(total),', the percentage increase in revenue would be', \"{:,.4f}%\".format(total_recommended / total ))\n"
   ]
  },
  {
   "cell_type": "code",
   "execution_count": null,
   "metadata": {},
   "outputs": [],
   "source": []
  }
 ],
 "metadata": {
  "accelerator": "GPU",
  "colab": {
   "collapsed_sections": [],
   "name": "Copy of ECommerce-recommendation",
   "provenance": [],
   "toc_visible": true
  },
  "kernelspec": {
   "display_name": "productrec",
   "language": "python",
   "name": "python3"
  },
  "language_info": {
   "codemirror_mode": {
    "name": "ipython",
    "version": 3
   },
   "file_extension": ".py",
   "mimetype": "text/x-python",
   "name": "python",
   "nbconvert_exporter": "python",
   "pygments_lexer": "ipython3",
   "version": "3.8.12"
  }
 },
 "nbformat": 4,
 "nbformat_minor": 1
}
