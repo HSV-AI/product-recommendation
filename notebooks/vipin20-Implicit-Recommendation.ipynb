{
 "cells": [
  {
   "cell_type": "markdown",
   "metadata": {
    "id": "gEfZf48Wu5f0"
   },
   "source": [
    "![HSV-AI Logo](https://github.com/HSV-AI/hugo-website/blob/master/static/images/logo_v9.png?raw=true)\n",
    "\n",
    "# Implicit Recommendation from ECommerce Data\n",
    "\n",
    "Some of the material for this work is based on [A Gentle Introduction to Recommender Systems with Implicit Feedback](https://jessesw.com/Rec-System/) by Jesse Steinweg Woods. This tutorial includes an implementation of the Alternating Least Squares algorithm and some other useful functions (like the area under the curve calculation). Other parts of the tutorial are based on a previous version of the Implicit library and had to be reworked.\n",
    "\n",
    "The dataset used for this work is from Kaggle [Vipin Kumar Transaction Data](https://www.kaggle.com/vipin20/transaction-data):\n",
    "\n",
    "## Context\n",
    "\n",
    "This is a item purchased transactions data. It has 8 columns.\n",
    "This data makes you familer with transactions data.\n",
    "\n",
    "## Content\n",
    "\n",
    "Data description is :-\n",
    "\n",
    "* UserId -It is a unique ID for all User Id\n",
    "* TransactionId -It contains unique Transactions ID\n",
    "* TransactionTime -It contains Transaction Time\n",
    "* ItemCode -It contains item code that item will be purchased\n",
    "* ItemDescription -It contains Item description\n",
    "* NumberOfItemPurchased -It contains total number of items Purchased\n",
    "* CostPerltem -Cost per item Purchased\n",
    "* Country -Country where item purchased\n"
   ]
  },
  {
   "cell_type": "markdown",
   "metadata": {
    "id": "OApEEC0_wB4C"
   },
   "source": [
    "# Global Imports"
   ]
  },
  {
   "cell_type": "code",
   "execution_count": 8,
   "metadata": {
    "id": "fsb9emt6nrPu"
   },
   "outputs": [],
   "source": [
    "import pandas as pd\n",
    "import numpy as np\n",
    "import random\n",
    "from matplotlib import pyplot as plt\n",
    "import implicit\n",
    "import scipy\n",
    "from sklearn import metrics\n",
    "from pandas.api.types import CategoricalDtype"
   ]
  },
  {
   "cell_type": "code",
   "execution_count": 9,
   "metadata": {},
   "outputs": [
    {
     "name": "stdout",
     "output_type": "stream",
     "text": [
      "2022-02-03 23:25:05,319 - kedro.framework.session.store - INFO - `read()` not implemented for `BaseSessionStore`. Assuming empty store.\n",
      "2022-02-03 23:25:05,352 - root - INFO - ** Kedro project productrec\n",
      "2022-02-03 23:25:05,353 - root - INFO - Defined global variable `context`, `session` and `catalog`\n",
      "2022-02-03 23:25:05,359 - root - INFO - Registered line magic `run_viz`\n"
     ]
    }
   ],
   "source": [
    "%reload_kedro"
   ]
  },
  {
   "cell_type": "code",
   "execution_count": 10,
   "metadata": {},
   "outputs": [],
   "source": [
    "%run Common-Functions.ipynb"
   ]
  },
  {
   "cell_type": "code",
   "execution_count": 11,
   "metadata": {},
   "outputs": [
    {
     "data": {
      "text/plain": [
       "['products',\n",
       " 'transactions',\n",
       " 'clean_transaction',\n",
       " 'train',\n",
       " 'test',\n",
       " 'products_altered',\n",
       " 'transactions_altered',\n",
       " 'user_factors',\n",
       " 'item_factors',\n",
       " 'product_train',\n",
       " 'score',\n",
       " 'brazilian_kaggle_order_data',\n",
       " 'brazilian_kaggle_product_data',\n",
       " 'brazilian_kaggle_customer_data',\n",
       " 'brazilian_hyperparameters',\n",
       " 'ecommerce_kaggle_data',\n",
       " 'ecommerce_hyperparameters',\n",
       " 'electronics_kaggle_data',\n",
       " 'electronics_hyperparameters',\n",
       " 'instacart_kaggle_order_data',\n",
       " 'instacart_kaggle_product_data',\n",
       " 'instacart_hyperparameters',\n",
       " 'jewelry_kaggle_data',\n",
       " 'jewelry_hyperparameters',\n",
       " 'journey_kaggle_transaction_data',\n",
       " 'journey_kaggle_product_data',\n",
       " 'journey_hyperparameters',\n",
       " 'retailrocket_kaggle_event_data',\n",
       " 'retailrocket_hyperparameters',\n",
       " 'vipin20_kaggle_data',\n",
       " 'vipin20_hyperparameters',\n",
       " 'parameters',\n",
       " 'params:example_test_data_ratio',\n",
       " 'params:example_num_train_iter',\n",
       " 'params:example_learning_rate',\n",
       " 'params:alpha',\n",
       " 'params:factors',\n",
       " 'params:regularization',\n",
       " 'params:iterations']"
      ]
     },
     "execution_count": 11,
     "metadata": {},
     "output_type": "execute_result"
    }
   ],
   "source": [
    "catalog.list()"
   ]
  },
  {
   "cell_type": "code",
   "execution_count": 12,
   "metadata": {},
   "outputs": [
    {
     "name": "stdout",
     "output_type": "stream",
     "text": [
      "2022-02-03 23:25:14,042 - kedro.io.data_catalog - INFO - Loading data from `transactions` (CSVDataSet)...\n",
      "Loaded 1016476 rows\n"
     ]
    },
    {
     "data": {
      "text/html": [
       "<div>\n",
       "<style scoped>\n",
       "    .dataframe tbody tr th:only-of-type {\n",
       "        vertical-align: middle;\n",
       "    }\n",
       "\n",
       "    .dataframe tbody tr th {\n",
       "        vertical-align: top;\n",
       "    }\n",
       "\n",
       "    .dataframe thead th {\n",
       "        text-align: right;\n",
       "    }\n",
       "</style>\n",
       "<table border=\"1\" class=\"dataframe\">\n",
       "  <thead>\n",
       "    <tr style=\"text-align: right;\">\n",
       "      <th></th>\n",
       "      <th>order_id</th>\n",
       "      <th>product_id</th>\n",
       "      <th>description</th>\n",
       "      <th>quantity</th>\n",
       "    </tr>\n",
       "  </thead>\n",
       "  <tbody>\n",
       "    <tr>\n",
       "      <th>0</th>\n",
       "      <td>6355745</td>\n",
       "      <td>465549</td>\n",
       "      <td>FAMILY ALBUM WHITE PICTURE FRAME</td>\n",
       "      <td>6</td>\n",
       "    </tr>\n",
       "    <tr>\n",
       "      <th>1</th>\n",
       "      <td>6283376</td>\n",
       "      <td>482370</td>\n",
       "      <td>LONDON BUS COFFEE MUG</td>\n",
       "      <td>3</td>\n",
       "    </tr>\n",
       "    <tr>\n",
       "      <th>2</th>\n",
       "      <td>6385599</td>\n",
       "      <td>490728</td>\n",
       "      <td>SET 12 COLOUR PENCILS DOLLY GIRL</td>\n",
       "      <td>72</td>\n",
       "    </tr>\n",
       "    <tr>\n",
       "      <th>3</th>\n",
       "      <td>6044973</td>\n",
       "      <td>459186</td>\n",
       "      <td>UNION JACK FLAG LUGGAGE TAG</td>\n",
       "      <td>3</td>\n",
       "    </tr>\n",
       "    <tr>\n",
       "      <th>4</th>\n",
       "      <td>6143225</td>\n",
       "      <td>1733592</td>\n",
       "      <td>WASHROOM METAL SIGN</td>\n",
       "      <td>3</td>\n",
       "    </tr>\n",
       "  </tbody>\n",
       "</table>\n",
       "</div>"
      ],
      "text/plain": [
       "   order_id  product_id                        description  quantity\n",
       "0   6355745      465549   FAMILY ALBUM WHITE PICTURE FRAME         6\n",
       "1   6283376      482370              LONDON BUS COFFEE MUG         3\n",
       "2   6385599      490728  SET 12 COLOUR PENCILS DOLLY GIRL         72\n",
       "3   6044973      459186        UNION JACK FLAG LUGGAGE TAG         3\n",
       "4   6143225     1733592                WASHROOM METAL SIGN         3"
      ]
     },
     "execution_count": 12,
     "metadata": {},
     "output_type": "execute_result"
    }
   ],
   "source": [
    "transactions = catalog.load(\"transactions\")\n",
    "print('Loaded',len(transactions),'rows')\n",
    "transactions.head()"
   ]
  },
  {
   "cell_type": "code",
   "execution_count": 71,
   "metadata": {},
   "outputs": [],
   "source": [
    "transaction_list = list(np.sort(transactions.order_id.unique())) # Get our unique customers\n",
    "item_list = list(transactions.product_id.unique()) # Get our unique products that were purchased\n",
    "quantity_list = list(transactions.quantity) # All of our purchases\n",
    "\n",
    "rows = transactions.order_id.astype(CategoricalDtype(categories=transaction_list, ordered=True)).cat.codes \n",
    "# Get the associated row indices\n",
    "cols = transactions.product_id.astype(CategoricalDtype(categories=item_list, ordered=True)).cat.codes \n",
    "# Get the associated column indices\n",
    "purchases_sparse = scipy.sparse.csr_matrix((quantity_list, (rows, cols)), shape=(len(transaction_list), len(item_list)))"
   ]
  },
  {
   "cell_type": "code",
   "execution_count": 72,
   "metadata": {},
   "outputs": [
    {
     "data": {
      "text/plain": [
       "99.21026329374317"
      ]
     },
     "execution_count": 72,
     "metadata": {},
     "output_type": "execute_result"
    }
   ],
   "source": [
    "matrix_size = purchases_sparse.shape[0]*purchases_sparse.shape[1] # Number of possible interactions in the matrix\n",
    "num_purchases = len(purchases_sparse.nonzero()[0]) # Number of items interacted with\n",
    "sparsity = 100*(1 - (num_purchases/matrix_size))\n",
    "sparsity"
   ]
  },
  {
   "cell_type": "markdown",
   "metadata": {},
   "source": [
    "# Training & Test Datasets\n",
    "\n",
    "We will use the function below to create a training and test dataset from the tutorial linked at the top. The test dataset masks some percentage of purchases to tested later with a recommendation."
   ]
  },
  {
   "cell_type": "code",
   "execution_count": 73,
   "metadata": {},
   "outputs": [
    {
     "name": "stdout",
     "output_type": "stream",
     "text": [
      "Total number of masked items: 102617\n"
     ]
    }
   ],
   "source": [
    "product_train, product_test, products_altered, transactions_altered = make_train(purchases_sparse, pct_test = 0.211)\n",
    "print('Total number of masked items:',product_test.count_nonzero()-product_train.count_nonzero())\n"
   ]
  },
  {
   "cell_type": "markdown",
   "metadata": {},
   "source": [
    "# Implicit Recommendation Model\n",
    "\n",
    "The code below creates and trains one of the models available from the Implicit package. Currently using hyperparameters suggested by various tutorials with no tuning."
   ]
  },
  {
   "cell_type": "code",
   "execution_count": 74,
   "metadata": {},
   "outputs": [
    {
     "data": {
      "application/vnd.jupyter.widget-view+json": {
       "model_id": "4e013ba4de9544e68d9ee55ba835f23e",
       "version_major": 2,
       "version_minor": 0
      },
      "text/plain": [
       "  0%|          | 0/200 [00:00<?, ?it/s]"
      ]
     },
     "metadata": {},
     "output_type": "display_data"
    },
    {
     "name": "stdout",
     "output_type": "stream",
     "text": [
      "2022-02-04 00:36:51,976 - implicit - INFO - Final training loss 0.0085\n"
     ]
    }
   ],
   "source": [
    "alpha = 3\n",
    "factors = 256\n",
    "regularization = 0.003\n",
    "iterations = 200\n",
    "\n",
    "model = implicit.als.AlternatingLeastSquares(factors=factors,\n",
    "                                    regularization=regularization,\n",
    "                                    iterations=iterations, calculate_training_loss=True)\n",
    "\n",
    "## BayesianPersonalizedRanking was pretty bad\n",
    "# model = implicit.bpr.BayesianPersonalizedRanking(factors=31,\n",
    "#                                     regularization=0.1,\n",
    "#                                     iterations=50)\n",
    "\n",
    "\n",
    "# model = implicit.lmf.LogisticMatrixFactorization(factors=32,\n",
    "#                                     regularization=0.1,\n",
    "#                                     iterations=50)\n",
    "\n",
    "model.fit((product_train * alpha).astype('double'))\n",
    "\n",
    "user_vecs = model.to_cpu().user_factors\n",
    "item_vecs = model.to_cpu().item_factors\n",
    "\n",
    "# Deprecated function below\n",
    "# user_vecs, item_vecs = implicit.alternating_least_squares((product_train*alpha).astype('double'), \n",
    "#                                                           factors=32, \n",
    "#                                                           regularization = 0.1, \n",
    "#                                                           iterations = 50)"
   ]
  },
  {
   "cell_type": "code",
   "execution_count": 75,
   "metadata": {},
   "outputs": [
    {
     "name": "stdout",
     "output_type": "stream",
     "text": [
      "(18995, 256)\n",
      "(3242, 256)\n"
     ]
    }
   ],
   "source": [
    "print(model.user_factors.shape)\n",
    "print(model.item_factors.shape)"
   ]
  },
  {
   "cell_type": "code",
   "execution_count": 76,
   "metadata": {},
   "outputs": [
    {
     "name": "stdout",
     "output_type": "stream",
     "text": [
      "2022-02-04 00:37:50,890 - kedro.io.data_catalog - INFO - Saving data to `user_factors` (PickleDataSet)...\n",
      "2022-02-04 00:37:50,906 - kedro.io.data_catalog - INFO - Saving data to `item_factors` (PickleDataSet)...\n",
      "2022-02-04 00:37:50,915 - kedro.io.data_catalog - INFO - Saving data to `product_train` (PickleDataSet)...\n"
     ]
    }
   ],
   "source": [
    "catalog.save(\"user_factors\", user_vecs)\n",
    "catalog.save(\"item_factors\", item_vecs)\n",
    "catalog.save(\"product_train\", product_train*alpha)"
   ]
  },
  {
   "cell_type": "markdown",
   "metadata": {},
   "source": [
    "# Scoring the Model\n",
    "\n",
    "Following the tutorial, we will use the area under the Receiver Operating Characteristic curve. "
   ]
  },
  {
   "cell_type": "code",
   "execution_count": 77,
   "metadata": {},
   "outputs": [
    {
     "ename": "IndexError",
     "evalue": "row index (3242) out of range",
     "output_type": "error",
     "traceback": [
      "\u001b[0;31m---------------------------------------------------------------------------\u001b[0m",
      "\u001b[0;31mIndexError\u001b[0m                                Traceback (most recent call last)",
      "\u001b[0;32m/tmp/ipykernel_14510/3132437242.py\u001b[0m in \u001b[0;36m<module>\u001b[0;34m\u001b[0m\n\u001b[0;32m----> 1\u001b[0;31m test, popular = calc_mean_auc(product_train, products_altered, \n\u001b[0m\u001b[1;32m      2\u001b[0m               [scipy.sparse.csr_matrix(item_vecs), scipy.sparse.csr_matrix(user_vecs.T)], product_test)\n\u001b[1;32m      3\u001b[0m \u001b[0;34m\u001b[0m\u001b[0m\n\u001b[1;32m      4\u001b[0m \u001b[0;34m\u001b[0m\u001b[0m\n\u001b[1;32m      5\u001b[0m \u001b[0mprint\u001b[0m\u001b[0;34m(\u001b[0m\u001b[0;34m'Our model scored'\u001b[0m\u001b[0;34m,\u001b[0m\u001b[0mtest\u001b[0m\u001b[0;34m,\u001b[0m\u001b[0;34m'versus a score of'\u001b[0m\u001b[0;34m,\u001b[0m\u001b[0mpopular\u001b[0m\u001b[0;34m,\u001b[0m\u001b[0;34m'if we always recommended the most popular item.'\u001b[0m\u001b[0;34m)\u001b[0m\u001b[0;34m\u001b[0m\u001b[0;34m\u001b[0m\u001b[0m\n",
      "\u001b[0;32m/tmp/ipykernel_14510/3327988212.py\u001b[0m in \u001b[0;36mcalc_mean_auc\u001b[0;34m(training_set, altered_users, predictions, test_set)\u001b[0m\n\u001b[1;32m     32\u001b[0m         \u001b[0mzero_inds\u001b[0m \u001b[0;34m=\u001b[0m \u001b[0mnp\u001b[0m\u001b[0;34m.\u001b[0m\u001b[0mwhere\u001b[0m\u001b[0;34m(\u001b[0m\u001b[0mtraining_row\u001b[0m \u001b[0;34m==\u001b[0m \u001b[0;36m0\u001b[0m\u001b[0;34m)\u001b[0m \u001b[0;31m# Find where the interaction had not yet occurred\u001b[0m\u001b[0;34m\u001b[0m\u001b[0;34m\u001b[0m\u001b[0m\n\u001b[1;32m     33\u001b[0m         \u001b[0;31m# Get the predicted values based on our user/item vectors\u001b[0m\u001b[0;34m\u001b[0m\u001b[0;34m\u001b[0m\u001b[0;34m\u001b[0m\u001b[0m\n\u001b[0;32m---> 34\u001b[0;31m         \u001b[0muser_vec\u001b[0m \u001b[0;34m=\u001b[0m \u001b[0mpredictions\u001b[0m\u001b[0;34m[\u001b[0m\u001b[0;36m0\u001b[0m\u001b[0;34m]\u001b[0m\u001b[0;34m[\u001b[0m\u001b[0muser\u001b[0m\u001b[0;34m,\u001b[0m\u001b[0;34m:\u001b[0m\u001b[0;34m]\u001b[0m\u001b[0;34m\u001b[0m\u001b[0;34m\u001b[0m\u001b[0m\n\u001b[0m\u001b[1;32m     35\u001b[0m         \u001b[0mpred\u001b[0m \u001b[0;34m=\u001b[0m \u001b[0muser_vec\u001b[0m\u001b[0;34m.\u001b[0m\u001b[0mdot\u001b[0m\u001b[0;34m(\u001b[0m\u001b[0mitem_vecs\u001b[0m\u001b[0;34m)\u001b[0m\u001b[0;34m.\u001b[0m\u001b[0mtoarray\u001b[0m\u001b[0;34m(\u001b[0m\u001b[0;34m)\u001b[0m\u001b[0;34m[\u001b[0m\u001b[0;36m0\u001b[0m\u001b[0;34m,\u001b[0m\u001b[0mzero_inds\u001b[0m\u001b[0;34m]\u001b[0m\u001b[0;34m.\u001b[0m\u001b[0mreshape\u001b[0m\u001b[0;34m(\u001b[0m\u001b[0;34m-\u001b[0m\u001b[0;36m1\u001b[0m\u001b[0;34m)\u001b[0m\u001b[0;34m\u001b[0m\u001b[0;34m\u001b[0m\u001b[0m\n\u001b[1;32m     36\u001b[0m         \u001b[0;31m# Get only the items that were originally zero\u001b[0m\u001b[0;34m\u001b[0m\u001b[0;34m\u001b[0m\u001b[0;34m\u001b[0m\u001b[0m\n",
      "\u001b[0;32m~/miniconda3/envs/product/lib/python3.8/site-packages/scipy/sparse/_index.py\u001b[0m in \u001b[0;36m__getitem__\u001b[0;34m(self, key)\u001b[0m\n\u001b[1;32m     31\u001b[0m     \"\"\"\n\u001b[1;32m     32\u001b[0m     \u001b[0;32mdef\u001b[0m \u001b[0m__getitem__\u001b[0m\u001b[0;34m(\u001b[0m\u001b[0mself\u001b[0m\u001b[0;34m,\u001b[0m \u001b[0mkey\u001b[0m\u001b[0;34m)\u001b[0m\u001b[0;34m:\u001b[0m\u001b[0;34m\u001b[0m\u001b[0;34m\u001b[0m\u001b[0m\n\u001b[0;32m---> 33\u001b[0;31m         \u001b[0mrow\u001b[0m\u001b[0;34m,\u001b[0m \u001b[0mcol\u001b[0m \u001b[0;34m=\u001b[0m \u001b[0mself\u001b[0m\u001b[0;34m.\u001b[0m\u001b[0m_validate_indices\u001b[0m\u001b[0;34m(\u001b[0m\u001b[0mkey\u001b[0m\u001b[0;34m)\u001b[0m\u001b[0;34m\u001b[0m\u001b[0;34m\u001b[0m\u001b[0m\n\u001b[0m\u001b[1;32m     34\u001b[0m         \u001b[0;31m# Dispatch to specialized methods.\u001b[0m\u001b[0;34m\u001b[0m\u001b[0;34m\u001b[0m\u001b[0;34m\u001b[0m\u001b[0m\n\u001b[1;32m     35\u001b[0m         \u001b[0;32mif\u001b[0m \u001b[0misinstance\u001b[0m\u001b[0;34m(\u001b[0m\u001b[0mrow\u001b[0m\u001b[0;34m,\u001b[0m \u001b[0mINT_TYPES\u001b[0m\u001b[0;34m)\u001b[0m\u001b[0;34m:\u001b[0m\u001b[0;34m\u001b[0m\u001b[0;34m\u001b[0m\u001b[0m\n",
      "\u001b[0;32m~/miniconda3/envs/product/lib/python3.8/site-packages/scipy/sparse/_index.py\u001b[0m in \u001b[0;36m_validate_indices\u001b[0;34m(self, key)\u001b[0m\n\u001b[1;32m    132\u001b[0m             \u001b[0mrow\u001b[0m \u001b[0;34m=\u001b[0m \u001b[0mint\u001b[0m\u001b[0;34m(\u001b[0m\u001b[0mrow\u001b[0m\u001b[0;34m)\u001b[0m\u001b[0;34m\u001b[0m\u001b[0;34m\u001b[0m\u001b[0m\n\u001b[1;32m    133\u001b[0m             \u001b[0;32mif\u001b[0m \u001b[0mrow\u001b[0m \u001b[0;34m<\u001b[0m \u001b[0;34m-\u001b[0m\u001b[0mM\u001b[0m \u001b[0;32mor\u001b[0m \u001b[0mrow\u001b[0m \u001b[0;34m>=\u001b[0m \u001b[0mM\u001b[0m\u001b[0;34m:\u001b[0m\u001b[0;34m\u001b[0m\u001b[0;34m\u001b[0m\u001b[0m\n\u001b[0;32m--> 134\u001b[0;31m                 \u001b[0;32mraise\u001b[0m \u001b[0mIndexError\u001b[0m\u001b[0;34m(\u001b[0m\u001b[0;34m'row index (%d) out of range'\u001b[0m \u001b[0;34m%\u001b[0m \u001b[0mrow\u001b[0m\u001b[0;34m)\u001b[0m\u001b[0;34m\u001b[0m\u001b[0;34m\u001b[0m\u001b[0m\n\u001b[0m\u001b[1;32m    135\u001b[0m             \u001b[0;32mif\u001b[0m \u001b[0mrow\u001b[0m \u001b[0;34m<\u001b[0m \u001b[0;36m0\u001b[0m\u001b[0;34m:\u001b[0m\u001b[0;34m\u001b[0m\u001b[0;34m\u001b[0m\u001b[0m\n\u001b[1;32m    136\u001b[0m                 \u001b[0mrow\u001b[0m \u001b[0;34m+=\u001b[0m \u001b[0mM\u001b[0m\u001b[0;34m\u001b[0m\u001b[0;34m\u001b[0m\u001b[0m\n",
      "\u001b[0;31mIndexError\u001b[0m: row index (3242) out of range"
     ]
    }
   ],
   "source": [
    "test, popular = calc_mean_auc(product_train, products_altered, \n",
    "              [scipy.sparse.csr_matrix(item_vecs), scipy.sparse.csr_matrix(user_vecs.T)], product_test)\n",
    "\n",
    "\n",
    "print('Our model scored',test,'versus a score of',popular,'if we always recommended the most popular item.')"
   ]
  },
  {
   "cell_type": "markdown",
   "metadata": {},
   "source": [
    "# Spot Checking\n",
    "\n",
    "Now that we have a pretty good idea of the model performance overall, we can spot check a few things like finding similar items and checking item recommendations for an existing invoice."
   ]
  },
  {
   "cell_type": "code",
   "execution_count": 78,
   "metadata": {},
   "outputs": [
    {
     "name": "stdout",
     "output_type": "stream",
     "text": [
      "2022-02-04 00:39:11,520 - kedro.io.data_catalog - INFO - Loading data from `products` (CSVDataSet)...\n"
     ]
    },
    {
     "data": {
      "text/html": [
       "<div>\n",
       "<style scoped>\n",
       "    .dataframe tbody tr th:only-of-type {\n",
       "        vertical-align: middle;\n",
       "    }\n",
       "\n",
       "    .dataframe tbody tr th {\n",
       "        vertical-align: top;\n",
       "    }\n",
       "\n",
       "    .dataframe thead th {\n",
       "        text-align: right;\n",
       "    }\n",
       "</style>\n",
       "<table border=\"1\" class=\"dataframe\">\n",
       "  <thead>\n",
       "    <tr style=\"text-align: right;\">\n",
       "      <th></th>\n",
       "      <th>product_id</th>\n",
       "      <th>description</th>\n",
       "    </tr>\n",
       "  </thead>\n",
       "  <tbody>\n",
       "    <tr>\n",
       "      <th>0</th>\n",
       "      <td>465549</td>\n",
       "      <td>FAMILY ALBUM WHITE PICTURE FRAME</td>\n",
       "    </tr>\n",
       "    <tr>\n",
       "      <th>1</th>\n",
       "      <td>482370</td>\n",
       "      <td>LONDON BUS COFFEE MUG</td>\n",
       "    </tr>\n",
       "    <tr>\n",
       "      <th>2</th>\n",
       "      <td>490728</td>\n",
       "      <td>SET 12 COLOUR PENCILS DOLLY GIRL</td>\n",
       "    </tr>\n",
       "    <tr>\n",
       "      <th>3</th>\n",
       "      <td>459186</td>\n",
       "      <td>UNION JACK FLAG LUGGAGE TAG</td>\n",
       "    </tr>\n",
       "    <tr>\n",
       "      <th>4</th>\n",
       "      <td>1733592</td>\n",
       "      <td>WASHROOM METAL SIGN</td>\n",
       "    </tr>\n",
       "  </tbody>\n",
       "</table>\n",
       "</div>"
      ],
      "text/plain": [
       "   product_id                        description\n",
       "0      465549   FAMILY ALBUM WHITE PICTURE FRAME\n",
       "1      482370              LONDON BUS COFFEE MUG\n",
       "2      490728  SET 12 COLOUR PENCILS DOLLY GIRL \n",
       "3      459186        UNION JACK FLAG LUGGAGE TAG\n",
       "4     1733592                WASHROOM METAL SIGN"
      ]
     },
     "execution_count": 78,
     "metadata": {},
     "output_type": "execute_result"
    }
   ],
   "source": [
    "item_lookup = catalog.load(\"products\")\n",
    "item_lookup.head()"
   ]
  },
  {
   "cell_type": "code",
   "execution_count": 79,
   "metadata": {},
   "outputs": [
    {
     "data": {
      "text/html": [
       "<div>\n",
       "<style scoped>\n",
       "    .dataframe tbody tr th:only-of-type {\n",
       "        vertical-align: middle;\n",
       "    }\n",
       "\n",
       "    .dataframe tbody tr th {\n",
       "        vertical-align: top;\n",
       "    }\n",
       "\n",
       "    .dataframe thead th {\n",
       "        text-align: right;\n",
       "    }\n",
       "</style>\n",
       "<table border=\"1\" class=\"dataframe\">\n",
       "  <thead>\n",
       "    <tr style=\"text-align: right;\">\n",
       "      <th></th>\n",
       "      <th>product_id</th>\n",
       "      <th>description</th>\n",
       "    </tr>\n",
       "  </thead>\n",
       "  <tbody>\n",
       "    <tr>\n",
       "      <th>0</th>\n",
       "      <td>465549</td>\n",
       "      <td>FAMILY ALBUM WHITE PICTURE FRAME</td>\n",
       "    </tr>\n",
       "    <tr>\n",
       "      <th>1</th>\n",
       "      <td>482370</td>\n",
       "      <td>LONDON BUS COFFEE MUG</td>\n",
       "    </tr>\n",
       "    <tr>\n",
       "      <th>2</th>\n",
       "      <td>490728</td>\n",
       "      <td>SET 12 COLOUR PENCILS DOLLY GIRL</td>\n",
       "    </tr>\n",
       "    <tr>\n",
       "      <th>3</th>\n",
       "      <td>459186</td>\n",
       "      <td>UNION JACK FLAG LUGGAGE TAG</td>\n",
       "    </tr>\n",
       "    <tr>\n",
       "      <th>4</th>\n",
       "      <td>1733592</td>\n",
       "      <td>WASHROOM METAL SIGN</td>\n",
       "    </tr>\n",
       "    <tr>\n",
       "      <th>...</th>\n",
       "      <td>...</td>\n",
       "      <td>...</td>\n",
       "    </tr>\n",
       "    <tr>\n",
       "      <th>3973</th>\n",
       "      <td>1784391</td>\n",
       "      <td>LARGE HEART FLOWERS HOOK</td>\n",
       "    </tr>\n",
       "    <tr>\n",
       "      <th>3974</th>\n",
       "      <td>1665783</td>\n",
       "      <td>PINK CHERRY LIGHTS</td>\n",
       "    </tr>\n",
       "    <tr>\n",
       "      <th>3975</th>\n",
       "      <td>1893738</td>\n",
       "      <td>PURPLE CHUNKY GLASS+BEAD NECKLACE</td>\n",
       "    </tr>\n",
       "    <tr>\n",
       "      <th>3976</th>\n",
       "      <td>752493</td>\n",
       "      <td>4 GOLD FLOCK CHRISTMAS BALLS</td>\n",
       "    </tr>\n",
       "    <tr>\n",
       "      <th>3977</th>\n",
       "      <td>481677</td>\n",
       "      <td>BAKING MOULD CUPCAKE CHOCOLATE</td>\n",
       "    </tr>\n",
       "  </tbody>\n",
       "</table>\n",
       "<p>3978 rows × 2 columns</p>\n",
       "</div>"
      ],
      "text/plain": [
       "      product_id                        description\n",
       "0         465549   FAMILY ALBUM WHITE PICTURE FRAME\n",
       "1         482370              LONDON BUS COFFEE MUG\n",
       "2         490728  SET 12 COLOUR PENCILS DOLLY GIRL \n",
       "3         459186        UNION JACK FLAG LUGGAGE TAG\n",
       "4        1733592                WASHROOM METAL SIGN\n",
       "...          ...                                ...\n",
       "3973     1784391        LARGE HEART FLOWERS HOOK   \n",
       "3974     1665783                 PINK CHERRY LIGHTS\n",
       "3975     1893738  PURPLE CHUNKY GLASS+BEAD NECKLACE\n",
       "3976      752493       4 GOLD FLOCK CHRISTMAS BALLS\n",
       "3977      481677     BAKING MOULD CUPCAKE CHOCOLATE\n",
       "\n",
       "[3978 rows x 2 columns]"
      ]
     },
     "execution_count": 79,
     "metadata": {},
     "output_type": "execute_result"
    }
   ],
   "source": [
    "item_lookup"
   ]
  },
  {
   "cell_type": "code",
   "execution_count": 81,
   "metadata": {},
   "outputs": [
    {
     "name": "stdout",
     "output_type": "stream",
     "text": [
      "(array([1284, 1222,  602, 1372, 1089, 1878, 2049, 1979,  606, 2000],\n",
      "      dtype=int32), array([1.0000001 , 0.7263095 , 0.6888725 , 0.6261926 , 0.35959667,\n",
      "       0.19607987, 0.19275524, 0.16532014, 0.16308948, 0.15900104],\n",
      "      dtype=float32))\n",
      "3242\n",
      "Index 1284\n",
      "Product 489153\n",
      "1284 1.0000001192092896% SET OF 12 FAIRY CAKE BAKING CASES\n",
      "Index 1222\n",
      "Product 489195\n",
      "1222 0.7263094782829285% SET OF 12 MINI LOAF BAKING CASES\n",
      "Index 602\n",
      "Product 489174\n",
      "602 0.6888725161552429% SET OF 6 SNACK LOAF BAKING CASES\n",
      "Index 1372\n",
      "Product 489216\n",
      "1372 0.6261926293373108% SET OF 6 TEA TIME BAKING CASES\n",
      "Index 1089\n",
      "Product 489237\n",
      "1089 0.3595966696739197% SET 40 HEART SHAPE PETIT FOUR CASES\n",
      "Index 1878\n",
      "Product 786702\n",
      "1878 0.19607986509799957% PET MUG, GOLDFISH\n",
      "Index 2049\n",
      "Product 495894\n",
      "2049 0.19275523722171783% SET 10 CARDS 12 DAYS WRAP  17058\n",
      "Index 1979\n",
      "Product 491799\n",
      "1979 0.16532014310359955% HOME SWEET HOME BOTTLE \n",
      "Index 606\n",
      "Product 474537\n",
      "606 0.16308948397636414% MUSICAL ZINC HEART DECORATION \n",
      "Index 2000\n",
      "Product 485541\n",
      "2000 0.15900103747844696% PACK OF 6 COCKTAIL PARASOL STRAWS\n"
     ]
    }
   ],
   "source": [
    "related = model.similar_items(1284)\n",
    "print(related)\n",
    "print(len(item_list))\n",
    "for index, prob in zip(related[0], related[1]):\n",
    "    print(\"Index {}\".format(index))\n",
    "    product = item_list[index]\n",
    "    print(\"Product {}\".format(product))\n",
    "    item = item_lookup[item_lookup.product_id == item_list[index]].values\n",
    "    print(\"{} {}% {}\".format(index, prob, item[0][1]))\n",
    "\n"
   ]
  },
  {
   "cell_type": "code",
   "execution_count": 99,
   "metadata": {
    "scrolled": true
   },
   "outputs": [],
   "source": []
  },
  {
   "cell_type": "code",
   "execution_count": 104,
   "metadata": {},
   "outputs": [],
   "source": [
    "user_items = (product_train * alpha).astype('double').T.tocsr()\n",
    "def recommend(order):\n",
    "    products = transactions[transactions.order_id == transaction_list[order]]['product_id'].values\n",
    "    indeces = []\n",
    "    for product in list(products):\n",
    "        index = item_list.index(product)\n",
    "        indeces.append(index)\n",
    "\n",
    "    print('Order Contents:')\n",
    "    print(transactions[transactions.order_id == transaction_list[order]].loc[:, ['product_id', 'description']])\n",
    "    print('Recommendations:')\n",
    "    recommendations = model.recommend(order, user_items[order], filter_items=indeces)\n",
    "    print(recommendations)\n",
    "    for index, prob in zip(recommendations[0], recommendations[1]):\n",
    "        product = item_list[index]\n",
    "        item = item_lookup[item_lookup.product_id == item_list[index]].values\n",
    "        print(\"{} {}% {}\".format(index, prob, item[0][1]))\n"
   ]
  },
  {
   "cell_type": "code",
   "execution_count": 105,
   "metadata": {},
   "outputs": [
    {
     "name": "stdout",
     "output_type": "stream",
     "text": [
      "Order Contents:\n",
      "        product_id                          description\n",
      "1743        458052        GARLAND WITH HEARTS AND BELLS\n",
      "5675        465129           FELTCRAFT 6 FLOWER FRIENDS\n",
      "20456       445032          WHITE BELL HONEYCOMB PAPER \n",
      "21512       481740            FELTCRAFT CHRISTMAS FAIRY\n",
      "44683       464961       CHRISTMAS CRAFT TREE TOP ANGEL\n",
      "...            ...                                  ...\n",
      "894856      470883             REGENCY CAKESTAND 3 TIER\n",
      "959898      464961       CHRISTMAS CRAFT TREE TOP ANGEL\n",
      "965005      359247  FLOWER FAIRY,5 SUMMER B'DRAW LINERS\n",
      "972343      467712                 FELTCRAFT DOLL MARIA\n",
      "998123      481740            FELTCRAFT CHRISTMAS FAIRY\n",
      "\n",
      "[74 rows x 2 columns]\n",
      "Recommendations:\n",
      "(array([ 306,  297, 1750,  885,  270,  338, 1157, 2607,  870,  761],\n",
      "      dtype=int32), array([0.7320588 , 0.6685181 , 0.6154464 , 0.61283517, 0.6091131 ,\n",
      "       0.59640044, 0.56918526, 0.5569538 , 0.5539358 , 0.5538241 ],\n",
      "      dtype=float32))\n",
      "306 0.7320588231086731% PAPER CHAIN KIT 50'S CHRISTMAS \n",
      "297 0.6685181260108948% BABY BOOM RIBBONS \n",
      "1750 0.6154463887214661% GLASS STAR FROSTED T-LIGHT HOLDER\n",
      "885 0.612835168838501% PAPER CHAIN KIT VINTAGE CHRISTMAS\n",
      "270 0.6091130971908569% TRIPLE HOOK ANTIQUE IVORY ROSE\n",
      "338 0.5964004397392273% FELTCRAFT CUSHION OWL\n",
      "1157 0.5691852569580078% FELTCRAFT HAIRBAND PINK AND PURPLE\n",
      "2607 0.5569537878036499% TROPICAL  HONEYCOMB PAPER GARLAND \n",
      "870 0.5539358258247375% HANGING HEART MIRROR DECORATION \n",
      "761 0.5538241267204285% TRADITIONAL KNITTING NANCY\n"
     ]
    }
   ],
   "source": [
    "recommend(776)"
   ]
  },
  {
   "cell_type": "code",
   "execution_count": 106,
   "metadata": {},
   "outputs": [
    {
     "name": "stdout",
     "output_type": "stream",
     "text": [
      "Order Contents:\n",
      "         product_id                          description\n",
      "12129        470694         DOORMAT NEIGHBOURHOOD WITCH \n",
      "24238        446019                   PINK  POLKADOT CUP\n",
      "26924        447573          GLASS HEART T-LIGHT HOLDER \n",
      "37213        465570   PICTURE FRAME WOOD TRIPLE PORTRAIT\n",
      "100714       469686                     DOORMAT AIRMAIL \n",
      "109737      1787079       JUMBO  BAG BAROQUE BLACK WHITE\n",
      "133568      1011948              DOORMAT WELCOME PUPPIES\n",
      "135397       316218         PINK POLKADOT GARDEN PARASOL\n",
      "138833       477120    SET OF 3 CAKE TINS PANTRY DESIGN \n",
      "141468       446040                    BLUE POLKADOT CUP\n",
      "142390       434973                       JUMBO BAG OWLS\n",
      "151244       434973                       JUMBO BAG OWLS\n",
      "163737       450030   SET/3 RED GINGHAM ROSE STORAGE BOX\n",
      "203681       446019                   PINK  POLKADOT CUP\n",
      "248822       451185     RETROSPOT HEART HOT WATER BOTTLE\n",
      "254921      1787079       JUMBO  BAG BAROQUE BLACK WHITE\n",
      "325261       467082        5 HOOK HANGER MAGIC TOADSTOOL\n",
      "328971       475986      RECIPE BOX PANTRY YELLOW DESIGN\n",
      "381113       435246                   LUNCH BAG WOODLAND\n",
      "419469       434385                DOORMAT RED RETROSPOT\n",
      "426395       447573          GLASS HEART T-LIGHT HOLDER \n",
      "437757       451185     RETROSPOT HEART HOT WATER BOTTLE\n",
      "449779       449988  SET3 BOOK BOX GREEN GINGHAM FLOWER \n",
      "451668       471135       SET OF 9 HEART SHAPED BALLOONS\n",
      "468236       478191  CLEAR DRAWER KNOB ACRYLIC EDWARDIAN\n",
      "471797       477162    SET OF 6 SPICE TINS PANTRY DESIGN\n",
      "512327       434973                       JUMBO BAG OWLS\n",
      "522201       451983   DOORMAT FANCY FONT HOME SWEET HOME\n",
      "523608       477162    SET OF 6 SPICE TINS PANTRY DESIGN\n",
      "526550       452697               SET OF 6 FUNKY BEAKERS\n",
      "545186      1011948              DOORMAT WELCOME PUPPIES\n",
      "555599       471135       SET OF 9 HEART SHAPED BALLOONS\n",
      "574440       316218         PINK POLKADOT GARDEN PARASOL\n",
      "640251       451983   DOORMAT FANCY FONT HOME SWEET HOME\n",
      "644893       477120    SET OF 3 CAKE TINS PANTRY DESIGN \n",
      "667266       434385                DOORMAT RED RETROSPOT\n",
      "668197       434973                       JUMBO BAG OWLS\n",
      "696177       467082        5 HOOK HANGER MAGIC TOADSTOOL\n",
      "726027       469686                     DOORMAT AIRMAIL \n",
      "750360       478191  CLEAR DRAWER KNOB ACRYLIC EDWARDIAN\n",
      "754393       460551               JUMBO STORAGE BAG SUKI\n",
      "778617       449988  SET3 BOOK BOX GREEN GINGHAM FLOWER \n",
      "838044       446040                    BLUE POLKADOT CUP\n",
      "838373       463344           PINK DOUGHNUT TRINKET POT \n",
      "872185       475104                 IVORY KITCHEN SCALES\n",
      "880513       475104                 IVORY KITCHEN SCALES\n",
      "884118       465570   PICTURE FRAME WOOD TRIPLE PORTRAIT\n",
      "892059       452697               SET OF 6 FUNKY BEAKERS\n",
      "913959       470694         DOORMAT NEIGHBOURHOOD WITCH \n",
      "923961       475986      RECIPE BOX PANTRY YELLOW DESIGN\n",
      "926932       435246                   LUNCH BAG WOODLAND\n",
      "979904       463344           PINK DOUGHNUT TRINKET POT \n",
      "985176       460551               JUMBO STORAGE BAG SUKI\n",
      "1013692      450030   SET/3 RED GINGHAM ROSE STORAGE BOX\n",
      "Recommendations:\n",
      "(array([ 957, 1186, 1941,  138,  434, 2077,    0,  335,  649, 1617],\n",
      "      dtype=int32), array([0.7447072 , 0.638426  , 0.6264392 , 0.62534267, 0.59461105,\n",
      "       0.5821292 , 0.5600394 , 0.55434465, 0.5526576 , 0.53216565],\n",
      "      dtype=float32))\n",
      "957 0.7447072267532349% 3 HOOK PHOTO SHELF ANTIQUE WHITE\n",
      "1186 0.6384260058403015% RED KITCHEN SCALES\n",
      "1941 0.6264392137527466% 5 HOOK HANGER RED MAGIC TOADSTOOL\n",
      "138 0.6253426671028137% SET OF 72 PINK HEART PAPER DOILIES\n",
      "434 0.5946110486984253% DOORMAT WELCOME TO OUR HOME\n",
      "2077 0.582129180431366% BLUE TV TRAY TABLE \n",
      "0 0.5600394010543823% FAMILY ALBUM WHITE PICTURE FRAME\n",
      "335 0.554344654083252% RED RETROSPOT CUP\n",
      "649 0.5526576042175293% DOORMAT RESPECTABLE HOUSE\n",
      "1617 0.5321656465530396% DOORMAT VINTAGE LEAF\n"
     ]
    }
   ],
   "source": [
    "recommend(2200)"
   ]
  },
  {
   "cell_type": "code",
   "execution_count": null,
   "metadata": {},
   "outputs": [],
   "source": [
    "transactions['total'] = transactions['quantity'] * transactions['price']"
   ]
  },
  {
   "cell_type": "code",
   "execution_count": null,
   "metadata": {},
   "outputs": [],
   "source": [
    "recommended_price = []\n",
    "for user in range(0, len(transaction_list)):\n",
    "    recommendations = model.recommend(user, user_items)\n",
    "    index = recommendations[0][0]\n",
    "    price = price_lookup[price_lookup.ItemCode == str(item_list[index])].values\n",
    "    item = item_lookup[item_lookup.ItemCode == str(item_list[index])].values\n",
    "    recommended_price.append(price[0][1])\n",
    "    \n",
    "total_recommended = np.sum(recommended_price)\n",
    "\n",
    "print('After recommending',len(transaction_list),'items, there would be an increase of',\n",
    "      \"${:,.2f}\".format(total_recommended*test),'in additional purchases.')"
   ]
  },
  {
   "cell_type": "code",
   "execution_count": null,
   "metadata": {},
   "outputs": [],
   "source": [
    "totals = transactions.groupby(transactions.TransactionId)['ItemTotal'].sum()\n",
    "total = totals.sum()\n",
    "\n",
    "print('Added to the initial total of all',len(transaction_list),'purchases valued at',\n",
    "      \"${:,.2f}\".format(total),', the percentage increase in revenue would be', \"{:,.4f}%\".format(total_recommended / total ))\n"
   ]
  },
  {
   "cell_type": "code",
   "execution_count": null,
   "metadata": {},
   "outputs": [],
   "source": []
  }
 ],
 "metadata": {
  "accelerator": "GPU",
  "colab": {
   "collapsed_sections": [],
   "name": "Copy of ECommerce-recommendation",
   "provenance": [],
   "toc_visible": true
  },
  "kernelspec": {
   "display_name": "productrec",
   "language": "python",
   "name": "python3"
  },
  "language_info": {
   "codemirror_mode": {
    "name": "ipython",
    "version": 3
   },
   "file_extension": ".py",
   "mimetype": "text/x-python",
   "name": "python",
   "nbconvert_exporter": "python",
   "pygments_lexer": "ipython3",
   "version": "3.8.12"
  }
 },
 "nbformat": 4,
 "nbformat_minor": 1
}
