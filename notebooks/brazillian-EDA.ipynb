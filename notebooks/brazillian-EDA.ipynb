{
 "cells": [
  {
   "cell_type": "markdown",
   "id": "29b3e514",
   "metadata": {},
   "source": [
    "![HSV-AI Logo](https://github.com/HSV-AI/hugo-website/blob/master/static/images/logo_v9.png?raw=true)\n",
    "\n",
    "# Implicit Recommendation from ECommerce Data\n",
    "\n",
    "Some of the material for this work is based on [A Gentle Introduction to Recommender Systems with Implicit Feedback](https://jessesw.com/Rec-System/) by Jesse Steinweg Woods. This tutorial includes an implementation of the Alternating Least Squares algorithm and some other useful functions (like the area under the curve calculation). Other parts of the tutorial are based on a previous version of the Implicit library and had to be reworked.\n",
    "\n",
    "\n",
    "## Basics of EDA\n",
    "\n",
    "Here are a few things that we are looking for in the invoice / transaction data:\n",
    "\n",
    "1. Were there any negative totals? If so why?\n",
    "2. What percentage of the purchases actually contained multiple items?\n",
    "3. What is the spread of purchases by customer ID? Do we have a few customers whose behavior may drive recommendations in a way that doesn't fit the average customer?\n",
    "4. Where there any purchases that were VERY large? If so why? Do we want to include these values to train model behavior?\n",
    "5. Is there any missing data that we need to scrub?\n"
   ]
  },
  {
   "cell_type": "code",
   "execution_count": 12,
   "id": "27a45f6d",
   "metadata": {},
   "outputs": [
    {
     "name": "stdout",
     "output_type": "stream",
     "text": [
      "2021-09-18 21:49:34,073 - kedro.framework.session.store - INFO - `read()` not implemented for `BaseSessionStore`. Assuming empty store.\n",
      "2021-09-18 21:49:34,120 - root - INFO - ** Kedro project productrec\n",
      "2021-09-18 21:49:34,121 - root - INFO - Defined global variable `context`, `session` and `catalog`\n",
      "2021-09-18 21:49:34,134 - root - INFO - Registered line magic `run_viz`\n"
     ]
    }
   ],
   "source": [
    "%reload_kedro"
   ]
  },
  {
   "cell_type": "code",
   "execution_count": 13,
   "id": "84827ddc",
   "metadata": {
    "execution": {
     "iopub.execute_input": "2021-08-21T19:41:24.338285Z",
     "iopub.status.busy": "2021-08-21T19:41:24.333420Z",
     "iopub.status.idle": "2021-08-21T19:41:25.274546Z",
     "shell.execute_reply": "2021-08-21T19:41:25.274918Z"
    }
   },
   "outputs": [],
   "source": [
    "import pandas as pd\n",
    "import numpy as np\n",
    "import random\n",
    "import scipy.sparse\n",
    "from matplotlib import pyplot as plt\n",
    "from pandas.api.types import CategoricalDtype\n"
   ]
  },
  {
   "cell_type": "markdown",
   "id": "ce17187f",
   "metadata": {},
   "source": [
    "# Available Files\n",
    "\n",
    "Let's go ahead and look into some of these files and see what we can see."
   ]
  },
  {
   "cell_type": "code",
   "execution_count": 45,
   "id": "faa63da1",
   "metadata": {
    "execution": {
     "iopub.execute_input": "2021-08-21T19:41:25.278985Z",
     "iopub.status.busy": "2021-08-21T19:41:25.278511Z",
     "iopub.status.idle": "2021-08-21T19:41:26.455336Z",
     "shell.execute_reply": "2021-08-21T19:41:26.455734Z"
    }
   },
   "outputs": [
    {
     "name": "stdout",
     "output_type": "stream",
     "text": [
      "2021-09-18 22:04:54,905 - kedro.io.data_catalog - INFO - Loading data from `brazillian_kaggle_order_data` (CSVDataSet)...\n",
      "2021-09-18 22:04:56,775 - kedro.io.data_catalog - INFO - Loading data from `brazillian_kaggle_product_data` (CSVDataSet)...\n",
      "2021-09-18 22:04:57,111 - kedro.io.data_catalog - INFO - Loading data from `brazillian_kaggle_customer_data` (CSVDataSet)...\n"
     ]
    }
   ],
   "source": [
    "transactions = catalog.load(\"brazillian_kaggle_order_data\")\n",
    "products = catalog.load(\"brazillian_kaggle_product_data\")\n",
    "customers = catalog.load(\"brazillian_kaggle_customer_data\")"
   ]
  },
  {
   "cell_type": "code",
   "execution_count": 46,
   "id": "230b2f6d",
   "metadata": {},
   "outputs": [
    {
     "data": {
      "text/html": [
       "<div>\n",
       "<style scoped>\n",
       "    .dataframe tbody tr th:only-of-type {\n",
       "        vertical-align: middle;\n",
       "    }\n",
       "\n",
       "    .dataframe tbody tr th {\n",
       "        vertical-align: top;\n",
       "    }\n",
       "\n",
       "    .dataframe thead th {\n",
       "        text-align: right;\n",
       "    }\n",
       "</style>\n",
       "<table border=\"1\" class=\"dataframe\">\n",
       "  <thead>\n",
       "    <tr style=\"text-align: right;\">\n",
       "      <th></th>\n",
       "      <th>order_id</th>\n",
       "      <th>order_item_id</th>\n",
       "      <th>product_id</th>\n",
       "      <th>seller_id</th>\n",
       "      <th>shipping_limit_date</th>\n",
       "      <th>price</th>\n",
       "      <th>freight_value</th>\n",
       "    </tr>\n",
       "  </thead>\n",
       "  <tbody>\n",
       "    <tr>\n",
       "      <th>0</th>\n",
       "      <td>00010242fe8c5a6d1ba2dd792cb16214</td>\n",
       "      <td>1</td>\n",
       "      <td>4244733e06e7ecb4970a6e2683c13e61</td>\n",
       "      <td>48436dade18ac8b2bce089ec2a041202</td>\n",
       "      <td>2017-09-19 09:45:35</td>\n",
       "      <td>58.90</td>\n",
       "      <td>13.29</td>\n",
       "    </tr>\n",
       "    <tr>\n",
       "      <th>1</th>\n",
       "      <td>00018f77f2f0320c557190d7a144bdd3</td>\n",
       "      <td>1</td>\n",
       "      <td>e5f2d52b802189ee658865ca93d83a8f</td>\n",
       "      <td>dd7ddc04e1b6c2c614352b383efe2d36</td>\n",
       "      <td>2017-05-03 11:05:13</td>\n",
       "      <td>239.90</td>\n",
       "      <td>19.93</td>\n",
       "    </tr>\n",
       "    <tr>\n",
       "      <th>2</th>\n",
       "      <td>000229ec398224ef6ca0657da4fc703e</td>\n",
       "      <td>1</td>\n",
       "      <td>c777355d18b72b67abbeef9df44fd0fd</td>\n",
       "      <td>5b51032eddd242adc84c38acab88f23d</td>\n",
       "      <td>2018-01-18 14:48:30</td>\n",
       "      <td>199.00</td>\n",
       "      <td>17.87</td>\n",
       "    </tr>\n",
       "    <tr>\n",
       "      <th>3</th>\n",
       "      <td>00024acbcdf0a6daa1e931b038114c75</td>\n",
       "      <td>1</td>\n",
       "      <td>7634da152a4610f1595efa32f14722fc</td>\n",
       "      <td>9d7a1d34a5052409006425275ba1c2b4</td>\n",
       "      <td>2018-08-15 10:10:18</td>\n",
       "      <td>12.99</td>\n",
       "      <td>12.79</td>\n",
       "    </tr>\n",
       "    <tr>\n",
       "      <th>4</th>\n",
       "      <td>00042b26cf59d7ce69dfabb4e55b4fd9</td>\n",
       "      <td>1</td>\n",
       "      <td>ac6c3623068f30de03045865e4e10089</td>\n",
       "      <td>df560393f3a51e74553ab94004ba5c87</td>\n",
       "      <td>2017-02-13 13:57:51</td>\n",
       "      <td>199.90</td>\n",
       "      <td>18.14</td>\n",
       "    </tr>\n",
       "  </tbody>\n",
       "</table>\n",
       "</div>"
      ],
      "text/plain": [
       "                           order_id  order_item_id  \\\n",
       "0  00010242fe8c5a6d1ba2dd792cb16214              1   \n",
       "1  00018f77f2f0320c557190d7a144bdd3              1   \n",
       "2  000229ec398224ef6ca0657da4fc703e              1   \n",
       "3  00024acbcdf0a6daa1e931b038114c75              1   \n",
       "4  00042b26cf59d7ce69dfabb4e55b4fd9              1   \n",
       "\n",
       "                         product_id                         seller_id  \\\n",
       "0  4244733e06e7ecb4970a6e2683c13e61  48436dade18ac8b2bce089ec2a041202   \n",
       "1  e5f2d52b802189ee658865ca93d83a8f  dd7ddc04e1b6c2c614352b383efe2d36   \n",
       "2  c777355d18b72b67abbeef9df44fd0fd  5b51032eddd242adc84c38acab88f23d   \n",
       "3  7634da152a4610f1595efa32f14722fc  9d7a1d34a5052409006425275ba1c2b4   \n",
       "4  ac6c3623068f30de03045865e4e10089  df560393f3a51e74553ab94004ba5c87   \n",
       "\n",
       "   shipping_limit_date   price  freight_value  \n",
       "0  2017-09-19 09:45:35   58.90          13.29  \n",
       "1  2017-05-03 11:05:13  239.90          19.93  \n",
       "2  2018-01-18 14:48:30  199.00          17.87  \n",
       "3  2018-08-15 10:10:18   12.99          12.79  \n",
       "4  2017-02-13 13:57:51  199.90          18.14  "
      ]
     },
     "execution_count": 46,
     "metadata": {},
     "output_type": "execute_result"
    }
   ],
   "source": [
    "transactions['order_id'] = transactions.order_id.astype(str)\n",
    "transactions['product_id'] = transactions.product_id.astype(str)\n",
    "transactions.head()"
   ]
  },
  {
   "cell_type": "code",
   "execution_count": 47,
   "id": "32362884",
   "metadata": {},
   "outputs": [
    {
     "data": {
      "text/html": [
       "<div>\n",
       "<style scoped>\n",
       "    .dataframe tbody tr th:only-of-type {\n",
       "        vertical-align: middle;\n",
       "    }\n",
       "\n",
       "    .dataframe tbody tr th {\n",
       "        vertical-align: top;\n",
       "    }\n",
       "\n",
       "    .dataframe thead th {\n",
       "        text-align: right;\n",
       "    }\n",
       "</style>\n",
       "<table border=\"1\" class=\"dataframe\">\n",
       "  <thead>\n",
       "    <tr style=\"text-align: right;\">\n",
       "      <th></th>\n",
       "      <th>product_id</th>\n",
       "      <th>product_category_name</th>\n",
       "      <th>product_name_lenght</th>\n",
       "      <th>product_description_lenght</th>\n",
       "      <th>product_photos_qty</th>\n",
       "      <th>product_weight_g</th>\n",
       "      <th>product_length_cm</th>\n",
       "      <th>product_height_cm</th>\n",
       "      <th>product_width_cm</th>\n",
       "    </tr>\n",
       "  </thead>\n",
       "  <tbody>\n",
       "    <tr>\n",
       "      <th>0</th>\n",
       "      <td>1e9e8ef04dbcff4541ed26657ea517e5</td>\n",
       "      <td>perfumaria</td>\n",
       "      <td>40.0</td>\n",
       "      <td>287.0</td>\n",
       "      <td>1.0</td>\n",
       "      <td>225.0</td>\n",
       "      <td>16.0</td>\n",
       "      <td>10.0</td>\n",
       "      <td>14.0</td>\n",
       "    </tr>\n",
       "    <tr>\n",
       "      <th>1</th>\n",
       "      <td>3aa071139cb16b67ca9e5dea641aaa2f</td>\n",
       "      <td>artes</td>\n",
       "      <td>44.0</td>\n",
       "      <td>276.0</td>\n",
       "      <td>1.0</td>\n",
       "      <td>1000.0</td>\n",
       "      <td>30.0</td>\n",
       "      <td>18.0</td>\n",
       "      <td>20.0</td>\n",
       "    </tr>\n",
       "    <tr>\n",
       "      <th>2</th>\n",
       "      <td>96bd76ec8810374ed1b65e291975717f</td>\n",
       "      <td>esporte_lazer</td>\n",
       "      <td>46.0</td>\n",
       "      <td>250.0</td>\n",
       "      <td>1.0</td>\n",
       "      <td>154.0</td>\n",
       "      <td>18.0</td>\n",
       "      <td>9.0</td>\n",
       "      <td>15.0</td>\n",
       "    </tr>\n",
       "    <tr>\n",
       "      <th>3</th>\n",
       "      <td>cef67bcfe19066a932b7673e239eb23d</td>\n",
       "      <td>bebes</td>\n",
       "      <td>27.0</td>\n",
       "      <td>261.0</td>\n",
       "      <td>1.0</td>\n",
       "      <td>371.0</td>\n",
       "      <td>26.0</td>\n",
       "      <td>4.0</td>\n",
       "      <td>26.0</td>\n",
       "    </tr>\n",
       "    <tr>\n",
       "      <th>4</th>\n",
       "      <td>9dc1a7de274444849c219cff195d0b71</td>\n",
       "      <td>utilidades_domesticas</td>\n",
       "      <td>37.0</td>\n",
       "      <td>402.0</td>\n",
       "      <td>4.0</td>\n",
       "      <td>625.0</td>\n",
       "      <td>20.0</td>\n",
       "      <td>17.0</td>\n",
       "      <td>13.0</td>\n",
       "    </tr>\n",
       "  </tbody>\n",
       "</table>\n",
       "</div>"
      ],
      "text/plain": [
       "                         product_id  product_category_name  \\\n",
       "0  1e9e8ef04dbcff4541ed26657ea517e5             perfumaria   \n",
       "1  3aa071139cb16b67ca9e5dea641aaa2f                  artes   \n",
       "2  96bd76ec8810374ed1b65e291975717f          esporte_lazer   \n",
       "3  cef67bcfe19066a932b7673e239eb23d                  bebes   \n",
       "4  9dc1a7de274444849c219cff195d0b71  utilidades_domesticas   \n",
       "\n",
       "   product_name_lenght  product_description_lenght  product_photos_qty  \\\n",
       "0                 40.0                       287.0                 1.0   \n",
       "1                 44.0                       276.0                 1.0   \n",
       "2                 46.0                       250.0                 1.0   \n",
       "3                 27.0                       261.0                 1.0   \n",
       "4                 37.0                       402.0                 4.0   \n",
       "\n",
       "   product_weight_g  product_length_cm  product_height_cm  product_width_cm  \n",
       "0             225.0               16.0               10.0              14.0  \n",
       "1            1000.0               30.0               18.0              20.0  \n",
       "2             154.0               18.0                9.0              15.0  \n",
       "3             371.0               26.0                4.0              26.0  \n",
       "4             625.0               20.0               17.0              13.0  "
      ]
     },
     "execution_count": 47,
     "metadata": {},
     "output_type": "execute_result"
    }
   ],
   "source": [
    "products['product_id'] = products.product_id.astype(str)\n",
    "products.head()"
   ]
  },
  {
   "cell_type": "code",
   "execution_count": 49,
   "id": "0dc90d04",
   "metadata": {},
   "outputs": [
    {
     "data": {
      "text/html": [
       "<div>\n",
       "<style scoped>\n",
       "    .dataframe tbody tr th:only-of-type {\n",
       "        vertical-align: middle;\n",
       "    }\n",
       "\n",
       "    .dataframe tbody tr th {\n",
       "        vertical-align: top;\n",
       "    }\n",
       "\n",
       "    .dataframe thead th {\n",
       "        text-align: right;\n",
       "    }\n",
       "</style>\n",
       "<table border=\"1\" class=\"dataframe\">\n",
       "  <thead>\n",
       "    <tr style=\"text-align: right;\">\n",
       "      <th></th>\n",
       "      <th>order_id</th>\n",
       "      <th>customer_id</th>\n",
       "      <th>order_status</th>\n",
       "      <th>order_purchase_timestamp</th>\n",
       "      <th>order_approved_at</th>\n",
       "      <th>order_delivered_carrier_date</th>\n",
       "      <th>order_delivered_customer_date</th>\n",
       "      <th>order_estimated_delivery_date</th>\n",
       "    </tr>\n",
       "  </thead>\n",
       "  <tbody>\n",
       "    <tr>\n",
       "      <th>0</th>\n",
       "      <td>e481f51cbdc54678b7cc49136f2d6af7</td>\n",
       "      <td>9ef432eb6251297304e76186b10a928d</td>\n",
       "      <td>delivered</td>\n",
       "      <td>2017-10-02 10:56:33</td>\n",
       "      <td>2017-10-02 11:07:15</td>\n",
       "      <td>2017-10-04 19:55:00</td>\n",
       "      <td>2017-10-10 21:25:13</td>\n",
       "      <td>2017-10-18 00:00:00</td>\n",
       "    </tr>\n",
       "    <tr>\n",
       "      <th>1</th>\n",
       "      <td>53cdb2fc8bc7dce0b6741e2150273451</td>\n",
       "      <td>b0830fb4747a6c6d20dea0b8c802d7ef</td>\n",
       "      <td>delivered</td>\n",
       "      <td>2018-07-24 20:41:37</td>\n",
       "      <td>2018-07-26 03:24:27</td>\n",
       "      <td>2018-07-26 14:31:00</td>\n",
       "      <td>2018-08-07 15:27:45</td>\n",
       "      <td>2018-08-13 00:00:00</td>\n",
       "    </tr>\n",
       "    <tr>\n",
       "      <th>2</th>\n",
       "      <td>47770eb9100c2d0c44946d9cf07ec65d</td>\n",
       "      <td>41ce2a54c0b03bf3443c3d931a367089</td>\n",
       "      <td>delivered</td>\n",
       "      <td>2018-08-08 08:38:49</td>\n",
       "      <td>2018-08-08 08:55:23</td>\n",
       "      <td>2018-08-08 13:50:00</td>\n",
       "      <td>2018-08-17 18:06:29</td>\n",
       "      <td>2018-09-04 00:00:00</td>\n",
       "    </tr>\n",
       "    <tr>\n",
       "      <th>3</th>\n",
       "      <td>949d5b44dbf5de918fe9c16f97b45f8a</td>\n",
       "      <td>f88197465ea7920adcdbec7375364d82</td>\n",
       "      <td>delivered</td>\n",
       "      <td>2017-11-18 19:28:06</td>\n",
       "      <td>2017-11-18 19:45:59</td>\n",
       "      <td>2017-11-22 13:39:59</td>\n",
       "      <td>2017-12-02 00:28:42</td>\n",
       "      <td>2017-12-15 00:00:00</td>\n",
       "    </tr>\n",
       "    <tr>\n",
       "      <th>4</th>\n",
       "      <td>ad21c59c0840e6cb83a9ceb5573f8159</td>\n",
       "      <td>8ab97904e6daea8866dbdbc4fb7aad2c</td>\n",
       "      <td>delivered</td>\n",
       "      <td>2018-02-13 21:18:39</td>\n",
       "      <td>2018-02-13 22:20:29</td>\n",
       "      <td>2018-02-14 19:46:34</td>\n",
       "      <td>2018-02-16 18:17:02</td>\n",
       "      <td>2018-02-26 00:00:00</td>\n",
       "    </tr>\n",
       "  </tbody>\n",
       "</table>\n",
       "</div>"
      ],
      "text/plain": [
       "                           order_id                       customer_id  \\\n",
       "0  e481f51cbdc54678b7cc49136f2d6af7  9ef432eb6251297304e76186b10a928d   \n",
       "1  53cdb2fc8bc7dce0b6741e2150273451  b0830fb4747a6c6d20dea0b8c802d7ef   \n",
       "2  47770eb9100c2d0c44946d9cf07ec65d  41ce2a54c0b03bf3443c3d931a367089   \n",
       "3  949d5b44dbf5de918fe9c16f97b45f8a  f88197465ea7920adcdbec7375364d82   \n",
       "4  ad21c59c0840e6cb83a9ceb5573f8159  8ab97904e6daea8866dbdbc4fb7aad2c   \n",
       "\n",
       "  order_status order_purchase_timestamp    order_approved_at  \\\n",
       "0    delivered      2017-10-02 10:56:33  2017-10-02 11:07:15   \n",
       "1    delivered      2018-07-24 20:41:37  2018-07-26 03:24:27   \n",
       "2    delivered      2018-08-08 08:38:49  2018-08-08 08:55:23   \n",
       "3    delivered      2017-11-18 19:28:06  2017-11-18 19:45:59   \n",
       "4    delivered      2018-02-13 21:18:39  2018-02-13 22:20:29   \n",
       "\n",
       "  order_delivered_carrier_date order_delivered_customer_date  \\\n",
       "0          2017-10-04 19:55:00           2017-10-10 21:25:13   \n",
       "1          2018-07-26 14:31:00           2018-08-07 15:27:45   \n",
       "2          2018-08-08 13:50:00           2018-08-17 18:06:29   \n",
       "3          2017-11-22 13:39:59           2017-12-02 00:28:42   \n",
       "4          2018-02-14 19:46:34           2018-02-16 18:17:02   \n",
       "\n",
       "  order_estimated_delivery_date  \n",
       "0           2017-10-18 00:00:00  \n",
       "1           2018-08-13 00:00:00  \n",
       "2           2018-09-04 00:00:00  \n",
       "3           2017-12-15 00:00:00  \n",
       "4           2018-02-26 00:00:00  "
      ]
     },
     "execution_count": 49,
     "metadata": {},
     "output_type": "execute_result"
    }
   ],
   "source": [
    "customers.head()"
   ]
  },
  {
   "cell_type": "code",
   "execution_count": 50,
   "id": "a6aff731",
   "metadata": {},
   "outputs": [
    {
     "name": "stderr",
     "output_type": "stream",
     "text": [
      "/home/vscode/.local/lib/python3.7/site-packages/ipykernel_launcher.py:2: SettingWithCopyWarning: \n",
      "A value is trying to be set on a copy of a slice from a DataFrame.\n",
      "Try using .loc[row_indexer,col_indexer] = value instead\n",
      "\n",
      "See the caveats in the documentation: https://pandas.pydata.org/pandas-docs/stable/user_guide/indexing.html#returning-a-view-versus-a-copy\n",
      "  \n",
      "/home/vscode/.local/lib/python3.7/site-packages/ipykernel_launcher.py:3: SettingWithCopyWarning: \n",
      "A value is trying to be set on a copy of a slice from a DataFrame.\n",
      "Try using .loc[row_indexer,col_indexer] = value instead\n",
      "\n",
      "See the caveats in the documentation: https://pandas.pydata.org/pandas-docs/stable/user_guide/indexing.html#returning-a-view-versus-a-copy\n",
      "  This is separate from the ipykernel package so we can avoid doing imports until\n"
     ]
    },
    {
     "data": {
      "text/html": [
       "<div>\n",
       "<style scoped>\n",
       "    .dataframe tbody tr th:only-of-type {\n",
       "        vertical-align: middle;\n",
       "    }\n",
       "\n",
       "    .dataframe tbody tr th {\n",
       "        vertical-align: top;\n",
       "    }\n",
       "\n",
       "    .dataframe thead th {\n",
       "        text-align: right;\n",
       "    }\n",
       "</style>\n",
       "<table border=\"1\" class=\"dataframe\">\n",
       "  <thead>\n",
       "    <tr style=\"text-align: right;\">\n",
       "      <th></th>\n",
       "      <th>customer_id</th>\n",
       "      <th>order_id</th>\n",
       "      <th>order_purchase_timestamp</th>\n",
       "    </tr>\n",
       "  </thead>\n",
       "  <tbody>\n",
       "    <tr>\n",
       "      <th>0</th>\n",
       "      <td>9ef432eb6251297304e76186b10a928d</td>\n",
       "      <td>e481f51cbdc54678b7cc49136f2d6af7</td>\n",
       "      <td>2017-10-02 10:56:33</td>\n",
       "    </tr>\n",
       "    <tr>\n",
       "      <th>1</th>\n",
       "      <td>b0830fb4747a6c6d20dea0b8c802d7ef</td>\n",
       "      <td>53cdb2fc8bc7dce0b6741e2150273451</td>\n",
       "      <td>2018-07-24 20:41:37</td>\n",
       "    </tr>\n",
       "    <tr>\n",
       "      <th>2</th>\n",
       "      <td>41ce2a54c0b03bf3443c3d931a367089</td>\n",
       "      <td>47770eb9100c2d0c44946d9cf07ec65d</td>\n",
       "      <td>2018-08-08 08:38:49</td>\n",
       "    </tr>\n",
       "    <tr>\n",
       "      <th>3</th>\n",
       "      <td>f88197465ea7920adcdbec7375364d82</td>\n",
       "      <td>949d5b44dbf5de918fe9c16f97b45f8a</td>\n",
       "      <td>2017-11-18 19:28:06</td>\n",
       "    </tr>\n",
       "    <tr>\n",
       "      <th>4</th>\n",
       "      <td>8ab97904e6daea8866dbdbc4fb7aad2c</td>\n",
       "      <td>ad21c59c0840e6cb83a9ceb5573f8159</td>\n",
       "      <td>2018-02-13 21:18:39</td>\n",
       "    </tr>\n",
       "  </tbody>\n",
       "</table>\n",
       "</div>"
      ],
      "text/plain": [
       "                        customer_id                          order_id  \\\n",
       "0  9ef432eb6251297304e76186b10a928d  e481f51cbdc54678b7cc49136f2d6af7   \n",
       "1  b0830fb4747a6c6d20dea0b8c802d7ef  53cdb2fc8bc7dce0b6741e2150273451   \n",
       "2  41ce2a54c0b03bf3443c3d931a367089  47770eb9100c2d0c44946d9cf07ec65d   \n",
       "3  f88197465ea7920adcdbec7375364d82  949d5b44dbf5de918fe9c16f97b45f8a   \n",
       "4  8ab97904e6daea8866dbdbc4fb7aad2c  ad21c59c0840e6cb83a9ceb5573f8159   \n",
       "\n",
       "  order_purchase_timestamp  \n",
       "0      2017-10-02 10:56:33  \n",
       "1      2018-07-24 20:41:37  \n",
       "2      2018-08-08 08:38:49  \n",
       "3      2017-11-18 19:28:06  \n",
       "4      2018-02-13 21:18:39  "
      ]
     },
     "execution_count": 50,
     "metadata": {},
     "output_type": "execute_result"
    }
   ],
   "source": [
    "customers = customers[[\"customer_id\", \"order_id\", \"order_purchase_timestamp\"]]\n",
    "customers['order_id'] = customers.order_id.astype(str)\n",
    "customers['customer_id'] = customers.customer_id.astype(str)\n",
    "\n",
    "customers.head()"
   ]
  },
  {
   "cell_type": "code",
   "execution_count": 54,
   "id": "23bf1f37",
   "metadata": {},
   "outputs": [
    {
     "name": "stdout",
     "output_type": "stream",
     "text": [
      "order_id                object\n",
      "order_item_id            int64\n",
      "product_id              object\n",
      "seller_id               object\n",
      "shipping_limit_date     object\n",
      "price                  float64\n",
      "freight_value          float64\n",
      "dtype: object\n",
      "customer_id                 object\n",
      "order_id                    object\n",
      "order_purchase_timestamp    object\n",
      "dtype: object\n"
     ]
    }
   ],
   "source": [
    "print(transactions.dtypes)\n",
    "print(customers.dtypes)\n",
    "transactions = transactions.merge(customers, on='order_id')"
   ]
  },
  {
   "cell_type": "markdown",
   "id": "43ea47ce",
   "metadata": {},
   "source": [
    "# Checking for missing data"
   ]
  },
  {
   "cell_type": "code",
   "execution_count": 55,
   "id": "ea4b7005",
   "metadata": {
    "execution": {
     "iopub.execute_input": "2021-08-21T19:41:26.459977Z",
     "iopub.status.busy": "2021-08-21T19:41:26.459521Z",
     "iopub.status.idle": "2021-08-21T19:41:26.564438Z",
     "shell.execute_reply": "2021-08-21T19:41:26.564846Z"
    }
   },
   "outputs": [
    {
     "name": "stdout",
     "output_type": "stream",
     "text": [
      "Total length is 112650\n"
     ]
    },
    {
     "data": {
      "text/plain": [
       "order_id                    0\n",
       "order_item_id               0\n",
       "product_id                  0\n",
       "seller_id                   0\n",
       "shipping_limit_date         0\n",
       "price                       0\n",
       "freight_value               0\n",
       "customer_id                 0\n",
       "order_purchase_timestamp    0\n",
       "dtype: int64"
      ]
     },
     "execution_count": 55,
     "metadata": {},
     "output_type": "execute_result"
    }
   ],
   "source": [
    "print('Total length is',len(transactions))\n",
    "transactions.isna().sum()"
   ]
  },
  {
   "cell_type": "code",
   "execution_count": 56,
   "id": "c4f14062",
   "metadata": {
    "execution": {
     "iopub.execute_input": "2021-08-21T19:41:26.570354Z",
     "iopub.status.busy": "2021-08-21T19:41:26.569823Z",
     "iopub.status.idle": "2021-08-21T19:41:26.701600Z",
     "shell.execute_reply": "2021-08-21T19:41:26.701125Z"
    }
   },
   "outputs": [
    {
     "name": "stdout",
     "output_type": "stream",
     "text": [
      "There are 98666 unique transactions\n",
      "\n",
      "Here are the counts of transactions ordered from largest to smallest\n",
      "[21 20 20 ...  1  1  1]\n",
      "\n",
      "And a graph of what the curve looks like:\n"
     ]
    },
    {
     "data": {
      "image/png": "[encoded data removed]",
      "text/plain": [
       "<Figure size 432x288 with 1 Axes>"
      ]
     },
     "metadata": {
      "needs_background": "light"
     },
     "output_type": "display_data"
    }
   ],
   "source": [
    "transaction_counts = transactions['order_id'].value_counts().to_numpy()\n",
    "print('There are', len(transaction_counts), 'unique transactions\\n')\n",
    "print('Here are the counts of transactions ordered from largest to smallest')\n",
    "print(transaction_counts)\n",
    "print('\\nAnd a graph of what the curve looks like:')\n",
    "plt.plot(transaction_counts) \n",
    "plt.show()"
   ]
  },
  {
   "cell_type": "markdown",
   "id": "36cc9676",
   "metadata": {},
   "source": [
    "# User Interactions\n",
    "\n",
    "Let's take a look at how many unique customers are included in this dataset"
   ]
  },
  {
   "cell_type": "code",
   "execution_count": 57,
   "id": "09c72075",
   "metadata": {},
   "outputs": [
    {
     "name": "stdout",
     "output_type": "stream",
     "text": [
      "There are 98666 unique customers\n",
      "\n",
      "Here are the counts of transactions per customer ordered from largest to smallest\n",
      "[21 20 20 ...  1  1  1]\n",
      "\n",
      "And a graph of what the curve looks like:\n"
     ]
    },
    {
     "data": {
      "image/png": "[encoded data removed]",
      "text/plain": [
       "<Figure size 432x288 with 1 Axes>"
      ]
     },
     "metadata": {
      "needs_background": "light"
     },
     "output_type": "display_data"
    }
   ],
   "source": [
    "user_counts = transactions['customer_id'].value_counts().to_numpy()\n",
    "print('There are', len(user_counts), 'unique customers\\n')\n",
    "print('Here are the counts of transactions per customer ordered from largest to smallest')\n",
    "print(user_counts)\n",
    "print('\\nAnd a graph of what the curve looks like:')\n",
    "plt.plot(user_counts) \n",
    "plt.show()"
   ]
  },
  {
   "cell_type": "code",
   "execution_count": 58,
   "id": "336e4d24",
   "metadata": {},
   "outputs": [
    {
     "data": {
      "text/html": [
       "<div>\n",
       "<style scoped>\n",
       "    .dataframe tbody tr th:only-of-type {\n",
       "        vertical-align: middle;\n",
       "    }\n",
       "\n",
       "    .dataframe tbody tr th {\n",
       "        vertical-align: top;\n",
       "    }\n",
       "\n",
       "    .dataframe thead th {\n",
       "        text-align: right;\n",
       "    }\n",
       "</style>\n",
       "<table border=\"1\" class=\"dataframe\">\n",
       "  <thead>\n",
       "    <tr style=\"text-align: right;\">\n",
       "      <th></th>\n",
       "      <th>customer_id</th>\n",
       "      <th>count</th>\n",
       "    </tr>\n",
       "  </thead>\n",
       "  <tbody>\n",
       "    <tr>\n",
       "      <th>97220</th>\n",
       "      <td>fc3d1daec319d62d49bfb5e1f83123e9</td>\n",
       "      <td>21</td>\n",
       "    </tr>\n",
       "    <tr>\n",
       "      <th>73568</th>\n",
       "      <td>be1b70680b9f9694d8c70f41fa3dc92b</td>\n",
       "      <td>20</td>\n",
       "    </tr>\n",
       "    <tr>\n",
       "      <th>73311</th>\n",
       "      <td>bd5d39761aa56689a265d95d8d32b8be</td>\n",
       "      <td>20</td>\n",
       "    </tr>\n",
       "    <tr>\n",
       "      <th>67106</th>\n",
       "      <td>adb32467ecc74b53576d9d13a5a55891</td>\n",
       "      <td>15</td>\n",
       "    </tr>\n",
       "    <tr>\n",
       "      <th>6456</th>\n",
       "      <td>10de381f8a8d23fff822753305f71cae</td>\n",
       "      <td>15</td>\n",
       "    </tr>\n",
       "    <tr>\n",
       "      <th>64553</th>\n",
       "      <td>a7693fba2ff9583c78751f2b66ecab9d</td>\n",
       "      <td>14</td>\n",
       "    </tr>\n",
       "    <tr>\n",
       "      <th>82722</th>\n",
       "      <td>d5f2b3f597c7ccafbb5cac0bcc3d6024</td>\n",
       "      <td>14</td>\n",
       "    </tr>\n",
       "    <tr>\n",
       "      <th>48195</th>\n",
       "      <td>7d321bd4e8ba1caf74c4c1aabd9ae524</td>\n",
       "      <td>13</td>\n",
       "    </tr>\n",
       "    <tr>\n",
       "      <th>22924</th>\n",
       "      <td>3b54b5978e9ace64a63f90d176ffb158</td>\n",
       "      <td>12</td>\n",
       "    </tr>\n",
       "    <tr>\n",
       "      <th>84626</th>\n",
       "      <td>daf15f1b940cc6a72ba558f093dc00dd</td>\n",
       "      <td>12</td>\n",
       "    </tr>\n",
       "  </tbody>\n",
       "</table>\n",
       "</div>"
      ],
      "text/plain": [
       "                            customer_id  count\n",
       "97220  fc3d1daec319d62d49bfb5e1f83123e9     21\n",
       "73568  be1b70680b9f9694d8c70f41fa3dc92b     20\n",
       "73311  bd5d39761aa56689a265d95d8d32b8be     20\n",
       "67106  adb32467ecc74b53576d9d13a5a55891     15\n",
       "6456   10de381f8a8d23fff822753305f71cae     15\n",
       "64553  a7693fba2ff9583c78751f2b66ecab9d     14\n",
       "82722  d5f2b3f597c7ccafbb5cac0bcc3d6024     14\n",
       "48195  7d321bd4e8ba1caf74c4c1aabd9ae524     13\n",
       "22924  3b54b5978e9ace64a63f90d176ffb158     12\n",
       "84626  daf15f1b940cc6a72ba558f093dc00dd     12"
      ]
     },
     "execution_count": 58,
     "metadata": {},
     "output_type": "execute_result"
    }
   ],
   "source": [
    "transactions.groupby(['customer_id'])['customer_id'] \\\n",
    "                             .count() \\\n",
    "                             .reset_index(name='count') \\\n",
    "                             .sort_values(['count'], ascending=False) \\\n",
    "                             .head(10)"
   ]
  },
  {
   "cell_type": "markdown",
   "id": "c937dd09",
   "metadata": {},
   "source": [
    "It looks like \"-1\" is used when the customer is unknown. Let's take a look at the UserId with the very high count of items in the transactions."
   ]
  },
  {
   "cell_type": "code",
   "execution_count": 59,
   "id": "ad28e4a6",
   "metadata": {},
   "outputs": [
    {
     "data": {
      "text/html": [
       "<div>\n",
       "<style scoped>\n",
       "    .dataframe tbody tr th:only-of-type {\n",
       "        vertical-align: middle;\n",
       "    }\n",
       "\n",
       "    .dataframe tbody tr th {\n",
       "        vertical-align: top;\n",
       "    }\n",
       "\n",
       "    .dataframe thead th {\n",
       "        text-align: right;\n",
       "    }\n",
       "</style>\n",
       "<table border=\"1\" class=\"dataframe\">\n",
       "  <thead>\n",
       "    <tr style=\"text-align: right;\">\n",
       "      <th></th>\n",
       "      <th>order_id</th>\n",
       "      <th>order_item_id</th>\n",
       "      <th>product_id</th>\n",
       "      <th>seller_id</th>\n",
       "      <th>shipping_limit_date</th>\n",
       "      <th>price</th>\n",
       "      <th>freight_value</th>\n",
       "      <th>customer_id</th>\n",
       "      <th>order_purchase_timestamp</th>\n",
       "    </tr>\n",
       "    <tr>\n",
       "      <th>order_id</th>\n",
       "      <th></th>\n",
       "      <th></th>\n",
       "      <th></th>\n",
       "      <th></th>\n",
       "      <th></th>\n",
       "      <th></th>\n",
       "      <th></th>\n",
       "      <th></th>\n",
       "      <th></th>\n",
       "    </tr>\n",
       "  </thead>\n",
       "  <tbody>\n",
       "    <tr>\n",
       "      <th>8272b63d03f5f79c56e9e4120aec44ef</th>\n",
       "      <td>21</td>\n",
       "      <td>21</td>\n",
       "      <td>21</td>\n",
       "      <td>21</td>\n",
       "      <td>21</td>\n",
       "      <td>21</td>\n",
       "      <td>21</td>\n",
       "      <td>21</td>\n",
       "      <td>21</td>\n",
       "    </tr>\n",
       "  </tbody>\n",
       "</table>\n",
       "</div>"
      ],
      "text/plain": [
       "                                  order_id  order_item_id  product_id  \\\n",
       "order_id                                                                \n",
       "8272b63d03f5f79c56e9e4120aec44ef        21             21          21   \n",
       "\n",
       "                                  seller_id  shipping_limit_date  price  \\\n",
       "order_id                                                                  \n",
       "8272b63d03f5f79c56e9e4120aec44ef         21                   21     21   \n",
       "\n",
       "                                  freight_value  customer_id  \\\n",
       "order_id                                                       \n",
       "8272b63d03f5f79c56e9e4120aec44ef             21           21   \n",
       "\n",
       "                                  order_purchase_timestamp  \n",
       "order_id                                                    \n",
       "8272b63d03f5f79c56e9e4120aec44ef                        21  "
      ]
     },
     "execution_count": 59,
     "metadata": {},
     "output_type": "execute_result"
    }
   ],
   "source": [
    "transactions[transactions.customer_id == \"fc3d1daec319d62d49bfb5e1f83123e9\"].groupby(transactions.order_id).count()"
   ]
  },
  {
   "cell_type": "markdown",
   "id": "c2ae31c7",
   "metadata": {},
   "source": [
    "It appears that there are a lot of different transactions, so probably not just the same thing being purchased over and over. Not really sure what to do with this at the moment."
   ]
  },
  {
   "cell_type": "markdown",
   "id": "99236c27",
   "metadata": {},
   "source": [
    "# Transactions over Time\n",
    "\n",
    "Now we need to look at the number of items purchased each day to see if there is anything interesting that pops out."
   ]
  },
  {
   "cell_type": "code",
   "execution_count": 60,
   "id": "74b3786a",
   "metadata": {},
   "outputs": [],
   "source": [
    "from datetime import datetime\n",
    "\n",
    "datetime_object = datetime.strptime('2017-10-02 10:56:33', '%Y-%m-%d %H:%M:%S')"
   ]
  },
  {
   "cell_type": "code",
   "execution_count": 61,
   "id": "4230ad78",
   "metadata": {},
   "outputs": [],
   "source": [
    "from datetime import datetime\n",
    "\n",
    "datetime_object = datetime.strptime('Mon Feb 12 04:26:00 IST 2018', '%a %b %d %H:%M:%S IST %Y')\n",
    "\n",
    "def func(date):\n",
    "    temp = datetime.strptime(str(date), '%Y-%m-%d %H:%M:%S')\n",
    "    return temp.strftime('%Y%m%d')\n",
    "\n",
    "transactions['datetime'] = transactions.apply(lambda x: func(x.order_purchase_timestamp), axis=1)\n"
   ]
  },
  {
   "cell_type": "code",
   "execution_count": 62,
   "id": "fd8683db",
   "metadata": {},
   "outputs": [
    {
     "data": {
      "text/plain": [
       "<AxesSubplot:>"
      ]
     },
     "execution_count": 62,
     "metadata": {},
     "output_type": "execute_result"
    },
    {
     "data": {
      "image/png": "[encoded data removed]",
      "text/plain": [
       "<Figure size 1080x720 with 1 Axes>"
      ]
     },
     "metadata": {
      "needs_background": "light"
     },
     "output_type": "display_data"
    }
   ],
   "source": [
    "transactions.groupby(['datetime'])['datetime'] \\\n",
    "                             .count() \\\n",
    "                             .reset_index(name='count') \\\n",
    "                             .sort_values(['datetime'], ascending=True) \\\n",
    "                             .plot(figsize=(15,10))"
   ]
  },
  {
   "cell_type": "markdown",
   "id": "0dcb3cca",
   "metadata": {},
   "source": [
    "# Checking Invoice Totals\n",
    "\n",
    "We need to make sure all the invoice totals that we're using are positive - this keeps us from using invoices that captured customer returned items."
   ]
  },
  {
   "cell_type": "code",
   "execution_count": 63,
   "id": "03139811",
   "metadata": {
    "execution": {
     "iopub.execute_input": "2021-08-21T19:41:26.707266Z",
     "iopub.status.busy": "2021-08-21T19:41:26.706803Z",
     "iopub.status.idle": "2021-08-21T19:41:26.862733Z",
     "shell.execute_reply": "2021-08-21T19:41:26.863097Z"
    }
   },
   "outputs": [
    {
     "data": {
      "text/plain": [
       "<AxesSubplot:xlabel='order_id'>"
      ]
     },
     "execution_count": 63,
     "metadata": {},
     "output_type": "execute_result"
    },
    {
     "data": {
      "image/png": "[encoded data removed]",
      "text/plain": [
       "<Figure size 432x288 with 1 Axes>"
      ]
     },
     "metadata": {
      "needs_background": "light"
     },
     "output_type": "display_data"
    }
   ],
   "source": [
    "totals = transactions.groupby(transactions.order_id)['price'].sum()\n",
    "totals.plot()"
   ]
  },
  {
   "cell_type": "code",
   "execution_count": 64,
   "id": "3455c176",
   "metadata": {
    "execution": {
     "iopub.execute_input": "2021-08-21T19:41:26.867750Z",
     "iopub.status.busy": "2021-08-21T19:41:26.867286Z",
     "iopub.status.idle": "2021-08-21T19:41:26.874409Z",
     "shell.execute_reply": "2021-08-21T19:41:26.874797Z"
    }
   },
   "outputs": [
    {
     "data": {
      "text/plain": [
       "order_id\n",
       "03caa2c082116e1d31e67e9ae3700499    13440.00\n",
       "736e1922ae60d0d6a89247b851902527     7160.00\n",
       "0812eb902a67711a1cb742b3cdaa65ae     6735.00\n",
       "fefacc66af859508bf1a7934eab1e97f     6729.00\n",
       "f5136e38d1a14a4dbd87dff67da82701     6499.00\n",
       "                                      ...   \n",
       "38bcb524e1c38c2c1b60600a80fc8999        2.90\n",
       "e8bbc1d69fee39eee4c72cb5c969e39d        2.29\n",
       "f1d5c2e6867fa93ceee9ef9b34a53cbf        2.20\n",
       "3ee6513ae7ea23bdfab5b9ab60bffcb5        0.85\n",
       "6e864b3f0ec71031117ad4cf46b7f2a1        0.85\n",
       "Name: price, Length: 98666, dtype: float64"
      ]
     },
     "execution_count": 64,
     "metadata": {},
     "output_type": "execute_result"
    }
   ],
   "source": [
    "totals.sort_values(ascending=False)"
   ]
  },
  {
   "cell_type": "code",
   "execution_count": 65,
   "id": "29e450a1",
   "metadata": {},
   "outputs": [
    {
     "name": "stdout",
     "output_type": "stream",
     "text": [
      "There are 0 negative quantities\n"
     ]
    },
    {
     "data": {
      "text/html": [
       "<div>\n",
       "<style scoped>\n",
       "    .dataframe tbody tr th:only-of-type {\n",
       "        vertical-align: middle;\n",
       "    }\n",
       "\n",
       "    .dataframe tbody tr th {\n",
       "        vertical-align: top;\n",
       "    }\n",
       "\n",
       "    .dataframe thead th {\n",
       "        text-align: right;\n",
       "    }\n",
       "</style>\n",
       "<table border=\"1\" class=\"dataframe\">\n",
       "  <thead>\n",
       "    <tr style=\"text-align: right;\">\n",
       "      <th></th>\n",
       "      <th>order_id</th>\n",
       "      <th>order_item_id</th>\n",
       "      <th>product_id</th>\n",
       "      <th>seller_id</th>\n",
       "      <th>shipping_limit_date</th>\n",
       "      <th>price</th>\n",
       "      <th>freight_value</th>\n",
       "      <th>customer_id</th>\n",
       "      <th>order_purchase_timestamp</th>\n",
       "      <th>datetime</th>\n",
       "    </tr>\n",
       "  </thead>\n",
       "  <tbody>\n",
       "  </tbody>\n",
       "</table>\n",
       "</div>"
      ],
      "text/plain": [
       "Empty DataFrame\n",
       "Columns: [order_id, order_item_id, product_id, seller_id, shipping_limit_date, price, freight_value, customer_id, order_purchase_timestamp, datetime]\n",
       "Index: []"
      ]
     },
     "execution_count": 65,
     "metadata": {},
     "output_type": "execute_result"
    }
   ],
   "source": [
    "print('There are', len(transactions[transactions.price < 0]), 'negative prices')\n",
    "transactions[transactions.price < 0].head()"
   ]
  },
  {
   "cell_type": "code",
   "execution_count": 66,
   "id": "a33d42c9",
   "metadata": {},
   "outputs": [
    {
     "name": "stdout",
     "output_type": "stream",
     "text": [
      "619.0\n"
     ]
    }
   ],
   "source": [
    "q = transactions[\"price\"].quantile(0.98)\n",
    "# transactions = transactions[transactions[\"price\"] < q]\n",
    "print(q)"
   ]
  },
  {
   "cell_type": "markdown",
   "id": "7f60d387",
   "metadata": {},
   "source": [
    "We will need to remove transactions that only included a single item"
   ]
  },
  {
   "cell_type": "code",
   "execution_count": 72,
   "id": "4a86af26",
   "metadata": {
    "execution": {
     "iopub.execute_input": "2021-08-21T19:41:26.880887Z",
     "iopub.status.busy": "2021-08-21T19:41:26.880376Z",
     "iopub.status.idle": "2021-08-21T19:41:26.929012Z",
     "shell.execute_reply": "2021-08-21T19:41:26.928631Z"
    }
   },
   "outputs": [
    {
     "name": "stdout",
     "output_type": "stream",
     "text": [
      "Orders with at least 2 products: 9803\n",
      "Orders with less than 2 products: 88863\n",
      "Original dataframe length: 112650\n",
      "Filtered dataframe length: 23787\n"
     ]
    }
   ],
   "source": [
    "minimum_order_size = 2\n",
    "order_group = transactions.loc[:, ['order_id', 'product_id']].groupby('order_id').count()\n",
    " \n",
    "multi_order = order_group[(order_group.product_id >= minimum_order_size)].count()\n",
    "single_order = order_group[(order_group.product_id < minimum_order_size)].count()\n",
    " \n",
    "print('Orders with at least',minimum_order_size,'products:',multi_order['product_id'])\n",
    "print('Orders with less than',minimum_order_size,'products:',single_order['product_id'])\n",
    " \n",
    "# We can capture the list of mutiple product orders with this:\n",
    "order_filter = order_group[(order_group.product_id >= minimum_order_size)].index.tolist()\n",
    "\n",
    "filtered_df = transactions[transactions['order_id'].isin(order_filter)].copy()\n",
    "\n",
    "print('Original dataframe length:', len(transactions))\n",
    "print('Filtered dataframe length:', len(filtered_df))\n",
    "\n",
    "filtered_df['quantity'] = 1"
   ]
  },
  {
   "cell_type": "markdown",
   "id": "36242f6a",
   "metadata": {
    "scrolled": true
   },
   "source": [
    "Well it looks like this entire dataset has transactions with multiple products. No need to filter out transactions with only a single."
   ]
  },
  {
   "cell_type": "markdown",
   "id": "d924b319",
   "metadata": {},
   "source": [
    "# Data Sparcity\n",
    "\n",
    "Let's take a look at the sparcity of the data. This will tell us how many products were purchased across multiple orders. This is directly related to how well a recommendation system can be trained."
   ]
  },
  {
   "cell_type": "code",
   "execution_count": 75,
   "id": "4f8f80fd",
   "metadata": {
    "execution": {
     "iopub.execute_input": "2021-08-21T19:41:26.935277Z",
     "iopub.status.busy": "2021-08-21T19:41:26.934809Z",
     "iopub.status.idle": "2021-08-21T19:41:27.240729Z",
     "shell.execute_reply": "2021-08-21T19:41:27.241075Z"
    }
   },
   "outputs": [],
   "source": [
    "transaction_list = list(np.sort(filtered_df.order_id.unique())) # Get our unique customers\n",
    "item_list = list(filtered_df.product_id.unique()) # Get our unique products that were purchased\n",
    "quantity_list = list(filtered_df.quantity) # All of our purchases\n",
    "\n",
    "cols = filtered_df.order_id.astype(CategoricalDtype(categories=transaction_list, ordered=True)).cat.codes \n",
    "# Get the associated row indices\n",
    "rows = filtered_df.product_id.astype(CategoricalDtype(categories=item_list, ordered=True)).cat.codes \n",
    "# Get the associated column indices\n",
    "purchases_sparse = scipy.sparse.csr_matrix((quantity_list, (rows, cols)), shape=(len(item_list), len(transaction_list)))"
   ]
  },
  {
   "cell_type": "code",
   "execution_count": 76,
   "id": "e00f83fc",
   "metadata": {
    "execution": {
     "iopub.execute_input": "2021-08-21T19:41:27.245414Z",
     "iopub.status.busy": "2021-08-21T19:41:27.244927Z",
     "iopub.status.idle": "2021-08-21T19:41:27.255058Z",
     "shell.execute_reply": "2021-08-21T19:41:27.255441Z"
    }
   },
   "outputs": [
    {
     "data": {
      "text/plain": [
       "99.98303967090008"
      ]
     },
     "execution_count": 76,
     "metadata": {},
     "output_type": "execute_result"
    }
   ],
   "source": [
    "matrix_size = purchases_sparse.shape[0]*purchases_sparse.shape[1] # Number of possible interactions in the matrix\n",
    "num_purchases = len(purchases_sparse.nonzero()[0]) # Number of items interacted with\n",
    "sparsity = 100*(1 - (num_purchases/matrix_size))\n",
    "sparsity"
   ]
  },
  {
   "cell_type": "code",
   "execution_count": 77,
   "id": "3ab54dbf",
   "metadata": {
    "execution": {
     "iopub.execute_input": "2021-08-21T19:41:27.264635Z",
     "iopub.status.busy": "2021-08-21T19:41:27.264182Z",
     "iopub.status.idle": "2021-08-21T19:41:27.912363Z",
     "shell.execute_reply": "2021-08-21T19:41:27.912856Z"
    }
   },
   "outputs": [
    {
     "data": {
      "text/plain": [
       "<matplotlib.lines.Line2D at 0x7f4593ad25d0>"
      ]
     },
     "execution_count": 77,
     "metadata": {},
     "output_type": "execute_result"
    },
    {
     "data": {
      "image/png": "[encoded data removed]",
      "text/plain": [
       "<Figure size 1080x1080 with 1 Axes>"
      ]
     },
     "metadata": {
      "needs_background": "light"
     },
     "output_type": "display_data"
    }
   ],
   "source": [
    "plt.figure(figsize=(15, 15))\n",
    "plt.spy(purchases_sparse, markersize=1, aspect='auto')"
   ]
  },
  {
   "cell_type": "markdown",
   "id": "b67c70a1",
   "metadata": {},
   "source": [
    "# Storing Interim Data\n",
    "\n",
    "Now that we have the data cleaned up a bit and formatted correctly, we can save it to an interim file to be picked up by the model training algorithm."
   ]
  },
  {
   "cell_type": "code",
   "execution_count": 82,
   "id": "be1b3e2c",
   "metadata": {
    "execution": {
     "iopub.execute_input": "2021-08-21T19:41:27.917492Z",
     "iopub.status.busy": "2021-08-21T19:41:27.917038Z",
     "iopub.status.idle": "2021-08-21T19:41:52.333610Z",
     "shell.execute_reply": "2021-08-21T19:41:52.334160Z"
    }
   },
   "outputs": [
    {
     "name": "stdout",
     "output_type": "stream",
     "text": [
      "2021-09-18 22:23:59,018 - kedro.io.data_catalog - INFO - Saving data to `brazillian_transactions` (CSVDataSet)...\n",
      "2021-09-18 22:23:59,121 - kedro.io.data_catalog - INFO - Saving data to `brazillian_products` (CSVDataSet)...\n"
     ]
    }
   ],
   "source": [
    "catalog.save(\"brazillian_transactions\", filtered_df[[\"order_id\", \"product_id\", \"price\", \"quantity\"]])\n",
    "\n",
    "products[\"description\"] = products[\"product_category_name\"] + str(products[\"product_description_lenght\"])\n",
    "\n",
    "catalog.save(\"brazillian_products\", products[[\"product_id\", \"description\"]])"
   ]
  }
 ],
 "metadata": {
  "kernelspec": {
   "display_name": "productrec",
   "language": "python",
   "name": "python3"
  },
  "language_info": {
   "codemirror_mode": {
    "name": "ipython",
    "version": 3
   },
   "file_extension": ".py",
   "mimetype": "text/x-python",
   "name": "python",
   "nbconvert_exporter": "python",
   "pygments_lexer": "ipython3",
   "version": "3.7.12"
  }
 },
 "nbformat": 4,
 "nbformat_minor": 5
}
