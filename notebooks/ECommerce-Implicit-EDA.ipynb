{
 "cells": [
  {
   "cell_type": "markdown",
   "source": [
    "![HSV-AI Logo](https://github.com/HSV-AI/hugo-website/blob/master/static/images/logo_v9.png?raw=true)\n",
    "\n",
    "# Implicit Recommendation from ECommerce Data\n",
    "\n",
    "Some of the material for this work is based on [A Gentle Introduction to Recommender Systems with Implicit Feedback](https://jessesw.com/Rec-System/) by Jesse Steinweg Woods. This tutorial includes an implementation of the Alternating Least Squares algorithm and some other useful functions (like the area under the curve calculation). Other parts of the tutorial are based on a previous version of the Implicit library and had to be reworked.\n",
    "\n",
    "The dataset used for this work is from Kaggle [E-Commerce Data, Actual transactions from UK retailer](https://www.kaggle.com/carrie1/ecommerce-data)\n"
   ],
   "metadata": {
    "id": "gEfZf48Wu5f0"
   }
  },
  {
   "cell_type": "markdown",
   "source": [
    "# Global Imports"
   ],
   "metadata": {
    "id": "OApEEC0_wB4C"
   }
  },
  {
   "cell_type": "code",
   "execution_count": null,
   "source": [
    "import pandas as pd\n",
    "import numpy as np\n",
    "import random\n",
    "from matplotlib import pyplot as plt\n",
    "import implicit\n",
    "import scipy\n",
    "from sklearn import metrics\n",
    "from pandas.api.types import CategoricalDtype\n"
   ],
   "outputs": [],
   "metadata": {
    "execution": {
     "iopub.execute_input": "2021-07-31T20:14:48.178696Z",
     "iopub.status.busy": "2021-07-31T20:14:48.178238Z",
     "iopub.status.idle": "2021-07-31T20:14:48.965186Z",
     "shell.execute_reply": "2021-07-31T20:14:48.964731Z"
    },
    "id": "fsb9emt6nrPu"
   }
  },
  {
   "cell_type": "markdown",
   "source": [
    "# Data Exploration"
   ],
   "metadata": {
    "id": "RFdmU2CswOP-"
   }
  },
  {
   "cell_type": "code",
   "execution_count": null,
   "source": [
    "# It appears that the csv file is encoded as iso-8859-1 (I guessed) and has to be loaded using the encoding parameter.\n",
    "df = pd.read_csv('../data/external/ecommerce/data.csv', encoding='iso-8859-1')\n",
    "df.head()"
   ],
   "outputs": [],
   "metadata": {
    "colab": {
     "base_uri": "https://localhost:8080/",
     "height": 203
    },
    "execution": {
     "iopub.execute_input": "2021-07-31T20:14:48.969605Z",
     "iopub.status.busy": "2021-07-31T20:14:48.969147Z",
     "iopub.status.idle": "2021-07-31T20:14:49.397976Z",
     "shell.execute_reply": "2021-07-31T20:14:49.397296Z"
    },
    "id": "i0YcK8s4nt6L",
    "outputId": "d92b409a-8506-4e70-da9f-78bf52b328a1"
   }
  },
  {
   "cell_type": "code",
   "execution_count": null,
   "source": [
    "print('Unique invoices', len(pd.unique(df['InvoiceNo'])))\n",
    "print('Unique products', len(pd.unique(df['StockCode'])))\n",
    "print('Total rows', len(df))"
   ],
   "outputs": [],
   "metadata": {
    "execution": {
     "iopub.execute_input": "2021-07-31T20:14:49.419643Z",
     "iopub.status.busy": "2021-07-31T20:14:49.419124Z",
     "iopub.status.idle": "2021-07-31T20:14:49.457860Z",
     "shell.execute_reply": "2021-07-31T20:14:49.458209Z"
    }
   }
  },
  {
   "cell_type": "markdown",
   "source": [
    "## Checking for missing values\n",
    "\n",
    "It looks like the InvoiceNo, StockCode, and Quantity are always available. That is all that we will be using from this dataset, so the rest is fine."
   ],
   "metadata": {}
  },
  {
   "cell_type": "code",
   "execution_count": null,
   "source": [
    "df.isna().sum()"
   ],
   "outputs": [],
   "metadata": {
    "colab": {
     "base_uri": "https://localhost:8080/"
    },
    "execution": {
     "iopub.execute_input": "2021-07-31T20:14:49.461926Z",
     "iopub.status.busy": "2021-07-31T20:14:49.461408Z",
     "iopub.status.idle": "2021-07-31T20:14:49.533303Z",
     "shell.execute_reply": "2021-07-31T20:14:49.532927Z"
    },
    "id": "xp51kFzvhhxG",
    "outputId": "b3fa307b-736a-4de1-d16d-fad380e9d27c"
   }
  },
  {
   "cell_type": "markdown",
   "source": [
    "Let's look at the number of products and see how they are distributed among the orders. We can use the value_counts method from pandas to get an idea of how often each product is ordered."
   ],
   "metadata": {
    "id": "uS1WtSjzmgYW"
   }
  },
  {
   "cell_type": "code",
   "execution_count": null,
   "source": [
    "product_counts = df['StockCode'].value_counts().to_numpy()\n",
    "print('There are', len(product_counts), 'unique products\\n')\n",
    "print('Here are the counts of products ordered from largest to smallest')\n",
    "print(product_counts)\n",
    "print('\\nAnd a graph of what the curve looks like:')\n",
    "plt.plot(product_counts) \n",
    "plt.show()"
   ],
   "outputs": [],
   "metadata": {
    "colab": {
     "base_uri": "https://localhost:8080/",
     "height": 371
    },
    "execution": {
     "iopub.execute_input": "2021-07-31T20:14:49.574709Z",
     "iopub.status.busy": "2021-07-31T20:14:49.574048Z",
     "iopub.status.idle": "2021-07-31T20:14:49.708234Z",
     "shell.execute_reply": "2021-07-31T20:14:49.707839Z"
    },
    "id": "NxhZYm-NoDXf",
    "outputId": "cd447f54-ec73-4806-b385-2aa74a0240df"
   }
  },
  {
   "cell_type": "markdown",
   "source": [
    "It appears that there are a few items in the store that sell a LOT, and most that are sold a few times. This seems normal for a retail store. Let's take a quick look at the most purchased item to see if it makes sense."
   ],
   "metadata": {}
  },
  {
   "cell_type": "code",
   "execution_count": null,
   "source": [
    "df['StockCode'].value_counts().head()"
   ],
   "outputs": [],
   "metadata": {
    "colab": {
     "base_uri": "https://localhost:8080/"
    },
    "execution": {
     "iopub.execute_input": "2021-07-31T20:14:49.750079Z",
     "iopub.status.busy": "2021-07-31T20:14:49.749097Z",
     "iopub.status.idle": "2021-07-31T20:14:49.757162Z",
     "shell.execute_reply": "2021-07-31T20:14:49.756635Z"
    },
    "id": "0DhAue9MadsG",
    "outputId": "656f66b1-6fd6-442e-f176-c2cd9d6688a4"
   }
  },
  {
   "cell_type": "code",
   "execution_count": null,
   "source": [
    "df[df['StockCode']=='85123A'].head()"
   ],
   "outputs": [],
   "metadata": {
    "execution": {
     "iopub.execute_input": "2021-07-31T20:14:49.786710Z",
     "iopub.status.busy": "2021-07-31T20:14:49.786257Z",
     "iopub.status.idle": "2021-07-31T20:14:49.800620Z",
     "shell.execute_reply": "2021-07-31T20:14:49.800205Z"
    }
   }
  },
  {
   "cell_type": "markdown",
   "source": [
    "We don't have information about the market of the retail store, but looking at a price of 2.55 - this looks like a normal high volume item.\n",
    "\n",
    "Now we can check the value of each invoice and see what jumps out."
   ],
   "metadata": {}
  },
  {
   "cell_type": "code",
   "execution_count": null,
   "source": [
    "df['StockTotal'] = df['Quantity'] * df['UnitPrice']\n",
    "totals = df.groupby(df.InvoiceNo)['StockTotal'].sum()\n",
    "totals.plot()"
   ],
   "outputs": [],
   "metadata": {
    "colab": {
     "base_uri": "https://localhost:8080/",
     "height": 297
    },
    "execution": {
     "iopub.execute_input": "2021-07-31T20:14:49.805565Z",
     "iopub.status.busy": "2021-07-31T20:14:49.804765Z",
     "iopub.status.idle": "2021-07-31T20:14:49.978623Z",
     "shell.execute_reply": "2021-07-31T20:14:49.978247Z"
    },
    "id": "9qd6mg9t2-Ud",
    "outputId": "fae68a3d-58a0-4ae2-89f4-4ba7d21e8b1e"
   }
  },
  {
   "cell_type": "markdown",
   "source": [
    "Well there's something worth looking into. We need to figure out what the negative order totals are. It would have to be either a negative quantity or price - so let's figure out which it is."
   ],
   "metadata": {}
  },
  {
   "cell_type": "code",
   "execution_count": null,
   "source": [
    "print('There are', len(df[df.Quantity < 0]), 'negative quantities')\n",
    "df[df.Quantity < 0].head()"
   ],
   "outputs": [],
   "metadata": {
    "execution": {
     "iopub.execute_input": "2021-07-31T20:14:49.982812Z",
     "iopub.status.busy": "2021-07-31T20:14:49.982185Z",
     "iopub.status.idle": "2021-07-31T20:14:50.005437Z",
     "shell.execute_reply": "2021-07-31T20:14:50.005807Z"
    }
   }
  },
  {
   "cell_type": "markdown",
   "source": [
    "Now we need to figure out what to do with these. We could throw out all invoices that include negative quanties, or just the items with negative quanties. Let's check to see if we have any mixed invoices."
   ],
   "metadata": {}
  },
  {
   "cell_type": "code",
   "execution_count": null,
   "source": [
    "temp_df = df.groupby(df.InvoiceNo).agg(minQ=('Quantity', 'min'), \n",
    "                               maxQ=('Quantity', 'max'))\n",
    "temp_df[(temp_df.minQ < 0) & (temp_df.maxQ > 0)].head()"
   ],
   "outputs": [],
   "metadata": {
    "execution": {
     "iopub.execute_input": "2021-07-31T20:14:50.013310Z",
     "iopub.status.busy": "2021-07-31T20:14:50.012912Z",
     "iopub.status.idle": "2021-07-31T20:14:50.071174Z",
     "shell.execute_reply": "2021-07-31T20:14:50.071565Z"
    }
   }
  },
  {
   "cell_type": "markdown",
   "source": [
    "Given that all negative quantities are on invoices with no purchases, we should be able to remove them."
   ],
   "metadata": {}
  },
  {
   "cell_type": "code",
   "execution_count": null,
   "source": [
    "print('There are', len(df[df.UnitPrice < 0]), 'negative unit prices')\n",
    "\n",
    "df[df.UnitPrice < 0].head()"
   ],
   "outputs": [],
   "metadata": {
    "execution": {
     "iopub.execute_input": "2021-07-31T20:14:50.075495Z",
     "iopub.status.busy": "2021-07-31T20:14:50.074908Z",
     "iopub.status.idle": "2021-07-31T20:14:50.087575Z",
     "shell.execute_reply": "2021-07-31T20:14:50.087935Z"
    }
   }
  },
  {
   "cell_type": "markdown",
   "source": [
    "It looks like we can throw out anything with a negative UnitPrice."
   ],
   "metadata": {}
  },
  {
   "cell_type": "code",
   "execution_count": null,
   "source": [
    "df = df[(df.UnitPrice > 0) & (df.Quantity > 0)]"
   ],
   "outputs": [],
   "metadata": {
    "execution": {
     "iopub.execute_input": "2021-07-31T20:14:50.091651Z",
     "iopub.status.busy": "2021-07-31T20:14:50.091171Z",
     "iopub.status.idle": "2021-07-31T20:14:50.126867Z",
     "shell.execute_reply": "2021-07-31T20:14:50.126513Z"
    }
   }
  },
  {
   "cell_type": "markdown",
   "source": [
    "Now we need to look into those very large sums on the invoice total to see what is happening there."
   ],
   "metadata": {}
  },
  {
   "cell_type": "code",
   "execution_count": null,
   "source": [
    "totals.sort_values(ascending=False)"
   ],
   "outputs": [],
   "metadata": {
    "execution": {
     "iopub.execute_input": "2021-07-31T20:14:50.130654Z",
     "iopub.status.busy": "2021-07-31T20:14:50.130026Z",
     "iopub.status.idle": "2021-07-31T20:14:50.142023Z",
     "shell.execute_reply": "2021-07-31T20:14:50.141620Z"
    }
   }
  },
  {
   "cell_type": "code",
   "execution_count": null,
   "source": [
    "df[df.InvoiceNo == '541431'].head()"
   ],
   "outputs": [],
   "metadata": {
    "execution": {
     "iopub.execute_input": "2021-07-31T20:14:50.170768Z",
     "iopub.status.busy": "2021-07-31T20:14:50.170260Z",
     "iopub.status.idle": "2021-07-31T20:14:50.180209Z",
     "shell.execute_reply": "2021-07-31T20:14:50.180616Z"
    }
   }
  },
  {
   "cell_type": "code",
   "execution_count": null,
   "source": [
    "totals = df.groupby(df.InvoiceNo).sum()\n",
    "print(len(totals))\n",
    "quantity_filter = totals[(totals.Quantity <= 100)].index.tolist()\n",
    "print(len(quantity_filter))"
   ],
   "outputs": [],
   "metadata": {
    "execution": {
     "iopub.execute_input": "2021-07-31T20:14:50.243279Z",
     "iopub.status.busy": "2021-07-31T20:14:50.237626Z",
     "iopub.status.idle": "2021-07-31T20:14:50.308621Z",
     "shell.execute_reply": "2021-07-31T20:14:50.309080Z"
    }
   }
  },
  {
   "cell_type": "markdown",
   "source": [
    "It looks like these were actual orders with a giant quantity. These aren't your average customers, so we may need to try both with the data and without.\n",
    "\n",
    "Another thing we can do is compute the sparsity of the data. This is useful to see if there is enough overlap between the orders and products to make a useful decision for recommendations."
   ],
   "metadata": {
    "id": "eAr75-G33l8o"
   }
  },
  {
   "cell_type": "code",
   "execution_count": null,
   "source": [
    "order_counts = df['InvoiceNo'].value_counts()\n",
    "num_orders = len(order_counts)\n",
    "num_items = len(product_counts)\n",
    "sparsity = 1 - len(df) / (num_orders * num_items)\n",
    "print(f'number of orders: {num_orders}, number of items: {num_items}')\n",
    "print(f'matrix sparsity: {sparsity:f}')"
   ],
   "outputs": [],
   "metadata": {
    "colab": {
     "base_uri": "https://localhost:8080/"
    },
    "execution": {
     "iopub.execute_input": "2021-07-31T20:14:50.342838Z",
     "iopub.status.busy": "2021-07-31T20:14:50.341772Z",
     "iopub.status.idle": "2021-07-31T20:14:50.348841Z",
     "shell.execute_reply": "2021-07-31T20:14:50.348502Z"
    },
    "id": "5aoGeTmPq55e",
    "outputId": "68bc7cdb-9005-4264-9407-3e8596f51f0d"
   }
  },
  {
   "cell_type": "markdown",
   "source": [
    "Compare that with the 100k movielens dataset that has:\n",
    "\n",
    "```\n",
    "number of users: 943, number of items: 1682\n",
    "matrix sparsity: 0.936953\n",
    "```"
   ],
   "metadata": {
    "id": "To62Zd83tJ4f"
   }
  },
  {
   "cell_type": "markdown",
   "source": [
    "Given that this is intended to be used for recommendations based in individual orders, we can remove any invoice that has less than 2 items."
   ],
   "metadata": {
    "id": "NjTFgyUryB6E"
   }
  },
  {
   "cell_type": "code",
   "execution_count": null,
   "source": [
    "minimum_order_size = 2\n",
    "order_group = df.loc[:, ['InvoiceNo', 'StockCode']].groupby('InvoiceNo').count()\n",
    " \n",
    "multi_order = order_group[(order_group.StockCode >= minimum_order_size)].count()\n",
    "single_order = order_group[(order_group.StockCode < minimum_order_size)].count()\n",
    " \n",
    "print('Orders with at least',minimum_order_size,'products:',multi_order['StockCode'])\n",
    "print('Orders with less than',minimum_order_size,'products:',single_order['StockCode'])\n",
    " \n",
    "# We can capture the list of mutiple product orders with this:\n",
    "order_filter = order_group[(order_group.StockCode >= minimum_order_size)].index.tolist()"
   ],
   "outputs": [],
   "metadata": {
    "colab": {
     "base_uri": "https://localhost:8080/"
    },
    "execution": {
     "iopub.execute_input": "2021-07-31T20:14:50.354160Z",
     "iopub.status.busy": "2021-07-31T20:14:50.353731Z",
     "iopub.status.idle": "2021-07-31T20:14:50.423807Z",
     "shell.execute_reply": "2021-07-31T20:14:50.424148Z"
    },
    "id": "qZKx1mQYoUH9",
    "outputId": "996cf8cd-6446-4aef-bd21-37329c500d2d"
   }
  },
  {
   "cell_type": "code",
   "execution_count": null,
   "source": [
    "filtered_df = df[df['InvoiceNo'].isin(order_filter)].copy()\n",
    "\n",
    "# Also filter by quantity\n",
    "filtered_df = filtered_df[filtered_df['InvoiceNo'].isin(quantity_filter)].copy()\n",
    "\n",
    "print('Original dataframe length:', len(df))\n",
    "print('Filtered dataframe length:', len(filtered_df))"
   ],
   "outputs": [],
   "metadata": {
    "colab": {
     "base_uri": "https://localhost:8080/"
    },
    "execution": {
     "iopub.execute_input": "2021-07-31T20:14:50.438550Z",
     "iopub.status.busy": "2021-07-31T20:14:50.438025Z",
     "iopub.status.idle": "2021-07-31T20:14:50.515943Z",
     "shell.execute_reply": "2021-07-31T20:14:50.515557Z"
    },
    "id": "L42LelQPrcHl",
    "outputId": "3954ac42-00b0-478c-c9b6-b3dae71be194"
   }
  },
  {
   "cell_type": "code",
   "execution_count": null,
   "source": [
    "product_counts = filtered_df['StockCode'].value_counts().to_numpy()\n",
    "print('There are', len(product_counts), 'unique products\\n')\n",
    "print('\\nAnd a graph of what the curve looks like:')\n",
    "plt.plot(product_counts) \n",
    "plt.show()\n",
    " \n",
    "order_counts = filtered_df['InvoiceNo'].value_counts()\n",
    "num_orders = len(order_counts)\n",
    "num_items = len(product_counts)\n",
    "sparsity = 1 - len(df) / (num_orders * num_items)\n",
    "print(f'number of orders: {num_orders}, number of items: {num_items}')\n",
    "print(f'matrix sparsity: {sparsity:f}')"
   ],
   "outputs": [],
   "metadata": {
    "colab": {
     "base_uri": "https://localhost:8080/",
     "height": 371
    },
    "execution": {
     "iopub.execute_input": "2021-07-31T20:14:50.527552Z",
     "iopub.status.busy": "2021-07-31T20:14:50.526776Z",
     "iopub.status.idle": "2021-07-31T20:14:50.635525Z",
     "shell.execute_reply": "2021-07-31T20:14:50.635856Z"
    },
    "id": "yWQoVWQu8p_Y",
    "outputId": "3035200f-4db0-4155-f4ef-0e24d85748d3"
   }
  },
  {
   "cell_type": "code",
   "execution_count": null,
   "source": [
    "filtered_df['StockCode'] = filtered_df['StockCode'].astype(str)"
   ],
   "outputs": [],
   "metadata": {
    "execution": {
     "iopub.execute_input": "2021-07-31T20:14:50.649156Z",
     "iopub.status.busy": "2021-07-31T20:14:50.648625Z",
     "iopub.status.idle": "2021-07-31T20:14:50.651995Z",
     "shell.execute_reply": "2021-07-31T20:14:50.651523Z"
    },
    "id": "N5-NsL0CieG1"
   }
  },
  {
   "cell_type": "code",
   "execution_count": null,
   "source": [
    "item_lookup = filtered_df[['StockCode', 'Description']].drop_duplicates() # Only get unique item/description pairs\n",
    "item_lookup['StockCode'] = item_lookup.StockCode.astype(str) # Encode as strings for future lookup ease\n",
    "\n",
    "price_lookup = filtered_df[['StockCode', 'UnitPrice']].drop_duplicates()\n",
    "price_lookup['StockCode'] = price_lookup.StockCode.astype(str)"
   ],
   "outputs": [],
   "metadata": {
    "execution": {
     "iopub.execute_input": "2021-07-31T20:14:50.660788Z",
     "iopub.status.busy": "2021-07-31T20:14:50.658955Z",
     "iopub.status.idle": "2021-07-31T20:14:50.682390Z",
     "shell.execute_reply": "2021-07-31T20:14:50.682013Z"
    }
   }
  },
  {
   "cell_type": "code",
   "execution_count": null,
   "source": [
    "item_lookup.to_pickle('../data/interim/item_lookup.gz')\n",
    "item_lookup.to_csv('../data/interim/item_lookup.csv', index_label=False)"
   ],
   "outputs": [],
   "metadata": {
    "execution": {
     "iopub.execute_input": "2021-07-31T20:14:50.686529Z",
     "iopub.status.busy": "2021-07-31T20:14:50.686093Z",
     "iopub.status.idle": "2021-07-31T20:14:50.910026Z",
     "shell.execute_reply": "2021-07-31T20:14:50.910352Z"
    }
   }
  },
  {
   "cell_type": "code",
   "execution_count": null,
   "source": [
    "selected_df = filtered_df[['InvoiceNo', 'StockCode', 'Quantity']]\n",
    "selected_df.info()\n",
    "selected_df.head()"
   ],
   "outputs": [],
   "metadata": {
    "colab": {
     "base_uri": "https://localhost:8080/",
     "height": 396
    },
    "execution": {
     "iopub.execute_input": "2021-07-31T20:14:50.920256Z",
     "iopub.status.busy": "2021-07-31T20:14:50.919342Z",
     "iopub.status.idle": "2021-07-31T20:14:50.933639Z",
     "shell.execute_reply": "2021-07-31T20:14:50.933155Z"
    },
    "id": "LXNnCGvPle4m",
    "outputId": "830b15f6-1573-4f4c-aaf6-b60e564c2c0e"
   }
  },
  {
   "cell_type": "code",
   "execution_count": null,
   "source": [
    "invoices = list(np.sort(selected_df.InvoiceNo.unique())) # Get our unique customers\n",
    "products = list(selected_df.StockCode.unique()) # Get our unique products that were purchased\n",
    "quantity = list(selected_df.Quantity) # All of our purchases\n",
    "\n",
    "cols = selected_df.InvoiceNo.astype(CategoricalDtype(categories=invoices, ordered=True)).cat.codes \n",
    "# Get the associated row indices\n",
    "rows = selected_df.StockCode.astype(CategoricalDtype(categories=products, ordered=True)).cat.codes \n",
    "# Get the associated column indices\n",
    "purchases_sparse = scipy.sparse.csr_matrix((quantity, (rows, cols)), shape=(len(products), len(invoices)))"
   ],
   "outputs": [],
   "metadata": {
    "execution": {
     "iopub.execute_input": "2021-07-31T20:14:50.941049Z",
     "iopub.status.busy": "2021-07-31T20:14:50.940596Z",
     "iopub.status.idle": "2021-07-31T20:14:50.977351Z",
     "shell.execute_reply": "2021-07-31T20:14:50.976996Z"
    }
   }
  },
  {
   "cell_type": "code",
   "execution_count": null,
   "source": [
    "matrix_size = purchases_sparse.shape[0]*purchases_sparse.shape[1] # Number of possible interactions in the matrix\n",
    "num_purchases = len(purchases_sparse.nonzero()[0]) # Number of items interacted with\n",
    "sparsity = 100*(1 - (num_purchases/matrix_size))\n",
    "sparsity"
   ],
   "outputs": [],
   "metadata": {
    "execution": {
     "iopub.execute_input": "2021-07-31T20:14:50.981344Z",
     "iopub.status.busy": "2021-07-31T20:14:50.980935Z",
     "iopub.status.idle": "2021-07-31T20:14:50.986109Z",
     "shell.execute_reply": "2021-07-31T20:14:50.986485Z"
    }
   }
  },
  {
   "cell_type": "code",
   "execution_count": null,
   "source": [
    "selected_df.to_pickle('../data/interim/selected_invoices.gz')\n",
    "selected_df.to_csv('../data/interim/selected_invoices.csv', index_label=False)"
   ],
   "outputs": [],
   "metadata": {
    "execution": {
     "iopub.execute_input": "2021-07-31T20:14:50.989801Z",
     "iopub.status.busy": "2021-07-31T20:14:50.989323Z",
     "iopub.status.idle": "2021-07-31T20:14:51.880969Z",
     "shell.execute_reply": "2021-07-31T20:14:51.881298Z"
    }
   }
  }
 ],
 "metadata": {
  "accelerator": "GPU",
  "colab": {
   "collapsed_sections": [],
   "name": "Copy of ECommerce-recommendation",
   "provenance": [],
   "toc_visible": true
  },
  "interpreter": {
   "hash": "98b0a9b7b4eaaa670588a142fd0a9b87eaafe866f1db4228be72b4211d12040f"
  },
  "kernelspec": {
   "display_name": "Python 3",
   "language": "python",
   "name": "python3"
  },
  "language_info": {
   "codemirror_mode": {
    "name": "ipython",
    "version": 3
   },
   "file_extension": ".py",
   "mimetype": "text/x-python",
   "name": "python",
   "nbconvert_exporter": "python",
   "pygments_lexer": "ipython3",
   "version": "3.7.11"
  }
 },
 "nbformat": 4,
 "nbformat_minor": 1
}