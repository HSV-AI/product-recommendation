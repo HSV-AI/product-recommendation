{
 "cells": [
  {
   "cell_type": "markdown",
   "metadata": {
    "id": "gEfZf48Wu5f0"
   },
   "source": [
    "![HSV-AI Logo](https://github.com/HSV-AI/hugo-website/blob/master/static/images/logo_v9.png?raw=true)\n",
    "\n",
    "# Implicit Recommendation from ECommerce Data\n",
    "\n",
    "Some of the material for this work is based on [A Gentle Introduction to Recommender Systems with Implicit Feedback](https://jessesw.com/Rec-System/) by Jesse Steinweg Woods. This tutorial includes an implementation of the Alternating Least Squares algorithm and some other useful functions (like the area under the curve calculation). Other parts of the tutorial are based on a previous version of the Implicit library and had to be reworked.\n",
    "\n",
    "The dataset used for this work is from Kaggle [Vipin Kumar Transaction Data](https://www.kaggle.com/vipin20/transaction-data):\n",
    "\n",
    "## Context\n",
    "\n",
    "This is a item purchased transactions data. It has 8 columns.\n",
    "This data makes you familer with transactions data.\n",
    "\n",
    "## Content\n",
    "\n",
    "Data description is :-\n",
    "\n",
    "* UserId -It is a unique ID for all User Id\n",
    "* TransactionId -It contains unique Transactions ID\n",
    "* TransactionTime -It contains Transaction Time\n",
    "* ItemCode -It contains item code that item will be purchased\n",
    "* ItemDescription -It contains Item description\n",
    "* NumberOfItemPurchased -It contains total number of items Purchased\n",
    "* CostPerltem -Cost per item Purchased\n",
    "* Country -Country where item purchased\n"
   ]
  },
  {
   "cell_type": "markdown",
   "metadata": {
    "id": "OApEEC0_wB4C"
   },
   "source": [
    "# Global Imports"
   ]
  },
  {
   "cell_type": "code",
   "execution_count": null,
   "metadata": {
    "id": "fsb9emt6nrPu"
   },
   "outputs": [],
   "source": [
    "import pandas as pd\n",
    "import numpy as np\n",
    "import random\n",
    "from matplotlib import pyplot as plt\n",
    "import implicit\n",
    "import scipy\n",
    "from sklearn import metrics\n",
    "from pandas.api.types import CategoricalDtype\n",
    "import wandb"
   ]
  },
  {
   "cell_type": "code",
   "execution_count": null,
   "metadata": {},
   "outputs": [],
   "source": [
    "%run Common-Functions.ipynb"
   ]
  },
  {
   "cell_type": "code",
   "execution_count": null,
   "metadata": {},
   "outputs": [],
   "source": [
    "## Hyperparameter Tuning with Weights & Biases\n"
   ]
  },
  {
   "cell_type": "code",
   "execution_count": null,
   "metadata": {},
   "outputs": [],
   "source": [
    "sweep_config = {\n",
    "    \"name\": \"jewelry-sweep\",\n",
    "    \"method\": \"bayes\",  # grid, random\n",
    "    \"metric\": {\"name\": \"prediction_auc\", \"goal\": \"maximize\"},\n",
    "    \"parameters\": {\n",
    "        \"percent_test\": {\"min\":0.1, \"max\":0.3},\n",
    "        \"alpha\": {\"min\":1.0, \"max\":50.0 },\n",
    "        \"regularization\": {\"min\":0.001, \"max\":.3},\n",
    "        \"iterations\": {\"min\":20, \"max\":100}\n",
    "    },\n",
    "}\n",
    "\n",
    "sweep_id = wandb.sweep(sweep_config, project=\"jewelry\")\n",
    "\n",
    "def sweep():\n",
    "\n",
    "    # Initialize a new wandb run\n",
    "    with wandb.init() as run:\n",
    "\n",
    "        transactions = pd.read_pickle('../data/interim/jewelry/transactions.gz')\n",
    "\n",
    "        transaction_list = list(np.sort(transactions.order_id.unique())) # Get our unique customers\n",
    "        item_list = list(transactions.product_id.unique()) # Get our unique products that were purchased\n",
    "        quantity_list = list(transactions.quantity) # All of our purchases\n",
    "\n",
    "        cols = transactions.order_id.astype(CategoricalDtype(categories=transaction_list, ordered=True)).cat.codes \n",
    "        # Get the associated row indices\n",
    "        rows = transactions.product_id.astype(CategoricalDtype(categories=item_list, ordered=True)).cat.codes \n",
    "        # Get the associated column indices\n",
    "        purchases_sparse = scipy.sparse.csr_matrix((quantity_list, (rows, cols)), shape=(len(item_list), len(transaction_list)))\n",
    "\n",
    "        product_train, product_test, products_altered, transactions_altered = make_train(purchases_sparse, pct_test = wandb.config['percent_test'])\n",
    "\n",
    "        model = implicit.als.AlternatingLeastSquares(factors=64,\n",
    "                                        regularization=wandb.config['regularization'],\n",
    "                                        iterations=wandb.config['iterations'])\n",
    "\n",
    "        alpha = wandb.config['alpha']                                                                  \n",
    "        model.fit((product_train * alpha).astype('double'))\n",
    "\n",
    "        user_vecs = model.user_factors\n",
    "        item_vecs = model.item_factors\n",
    "\n",
    "        test, popular = calc_mean_auc(product_train, products_altered, \n",
    "                      [scipy.sparse.csr_matrix(item_vecs), scipy.sparse.csr_matrix(user_vecs.T)], product_test)\n",
    "        print('Logging Test Value:',test)\n",
    "        wandb.log({\n",
    "            'prediction_auc': test\n",
    "        })\n",
    "\n",
    "\n",
    "wandb.agent(sweep_id, function=sweep, count=100)"
   ]
  },
  {
   "cell_type": "code",
   "execution_count": null,
   "metadata": {},
   "outputs": [],
   "source": []
  }
 ],
 "metadata": {
  "accelerator": "GPU",
  "colab": {
   "collapsed_sections": [],
   "name": "Copy of ECommerce-recommendation",
   "provenance": [],
   "toc_visible": true
  },
  "interpreter": {
   "hash": "4cd7ab41f5fca4b9b44701077e38c5ffd31fe66a6cab21e0214b68d958d0e462"
  },
  "kernelspec": {
   "display_name": "Python 3 (ipykernel)",
   "language": "python",
   "name": "python3"
  },
  "language_info": {
   "codemirror_mode": {
    "name": "ipython",
    "version": 3
   },
   "file_extension": ".py",
   "mimetype": "text/x-python",
   "name": "python",
   "nbconvert_exporter": "python",
   "pygments_lexer": "ipython3",
   "version": "3.7.11"
  }
 },
 "nbformat": 4,
 "nbformat_minor": 1
}
