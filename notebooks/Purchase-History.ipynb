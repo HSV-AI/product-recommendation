{
 "cells": [
  {
   "cell_type": "markdown",
   "metadata": {
    "id": "gEfZf48Wu5f0"
   },
   "source": [
    "![HSV-AI Logo](https://github.com/HSV-AI/hugo-website/blob/master/static/images/logo_v9.png?raw=true)\n",
    "\n",
    "[Dataset](https://www.kaggle.com/mkechinov/ecommerce-purchase-history-from-electronics-store)\n",
    "\n",
    "This file contains purchase data from April 2020 to November 2020 from a large home appliances and electronics online store.\n",
    "\n",
    "Each row in the file represents an event. All events are related to products and users. Each event is like many-to-many relation between products and users.\n"
   ]
  },
  {
   "cell_type": "markdown",
   "metadata": {
    "id": "OApEEC0_wB4C"
   },
   "source": [
    "# Global Imports"
   ]
  },
  {
   "cell_type": "code",
   "execution_count": 2,
   "metadata": {},
   "outputs": [
    {
     "name": "stdout",
     "output_type": "stream",
     "text": [
      "\u001b[33mWARNING: Value for scheme.headers does not match. Please report this to <https://github.com/pypa/pip/issues/9617>\n",
      "distutils: /usr/local/include/python3.9/UNKNOWN\n",
      "sysconfig: /usr/local/include/python3.9\u001b[0m\n",
      "\u001b[33mWARNING: Additional context:\n",
      "user = False\n",
      "home = None\n",
      "root = None\n",
      "prefix = None\u001b[0m\n",
      "Defaulting to user installation because normal site-packages is not writeable\n",
      "Collecting matplotlib\n",
      "  Downloading matplotlib-3.4.2-cp39-cp39-manylinux1_x86_64.whl (10.3 MB)\n",
      "\u001b[K     |████████████████████████████████| 10.3 MB 7.5 MB/s eta 0:00:01\n",
      "\u001b[?25hCollecting cycler>=0.10\n",
      "  Downloading cycler-0.10.0-py2.py3-none-any.whl (6.5 kB)\n",
      "Collecting kiwisolver>=1.0.1\n",
      "  Downloading kiwisolver-1.3.1-cp39-cp39-manylinux1_x86_64.whl (1.2 MB)\n",
      "\u001b[K     |████████████████████████████████| 1.2 MB 6.5 MB/s eta 0:00:01\n",
      "\u001b[?25hRequirement already satisfied: numpy>=1.16 in /home/vscode/.local/lib/python3.9/site-packages (from matplotlib) (1.20.3)\n",
      "Requirement already satisfied: pyparsing>=2.2.1 in /home/vscode/.local/lib/python3.9/site-packages (from matplotlib) (2.4.7)\n",
      "Requirement already satisfied: python-dateutil>=2.7 in /home/vscode/.local/lib/python3.9/site-packages (from matplotlib) (2.8.1)\n",
      "Collecting pillow>=6.2.0\n",
      "  Downloading Pillow-8.2.0-cp39-cp39-manylinux1_x86_64.whl (3.0 MB)\n",
      "\u001b[K     |████████████████████████████████| 3.0 MB 5.6 MB/s eta 0:00:01\n",
      "\u001b[?25hRequirement already satisfied: six in /home/vscode/.local/lib/python3.9/site-packages (from cycler>=0.10->matplotlib) (1.16.0)\n",
      "Installing collected packages: pillow, kiwisolver, cycler, matplotlib\n",
      "\u001b[33mWARNING: Value for scheme.headers does not match. Please report this to <https://github.com/pypa/pip/issues/9617>\n",
      "distutils: /home/vscode/.local/include/python3.9/UNKNOWN\n",
      "sysconfig: /home/vscode/.local/include/python3.9\u001b[0m\n",
      "\u001b[33mWARNING: Additional context:\n",
      "user = True\n",
      "home = None\n",
      "root = None\n",
      "prefix = None\u001b[0m\n",
      "Successfully installed cycler-0.10.0 kiwisolver-1.3.1 matplotlib-3.4.2 pillow-8.2.0\n",
      "\u001b[33mWARNING: You are using pip version 21.1; however, version 21.1.2 is available.\n",
      "You should consider upgrading via the '/usr/local/bin/python -m pip install --upgrade pip' command.\u001b[0m\n",
      "Note: you may need to restart the kernel to use updated packages.\n"
     ]
    }
   ],
   "source": [
    "pip install matplotlib"
   ]
  },
  {
   "cell_type": "code",
   "execution_count": 3,
   "metadata": {
    "id": "fsb9emt6nrPu"
   },
   "outputs": [],
   "source": [
    "import pandas as pd\n",
    "import numpy as np\n",
    "import random\n",
    "from matplotlib import pyplot as plt"
   ]
  },
  {
   "cell_type": "markdown",
   "metadata": {
    "id": "0mjpgFSiwHjC"
   },
   "source": [
    "# Kaggle Setup and Data Download\n",
    "\n",
    "The dataset is hosted on Kaggle, and I didn't want to copy it into another repository and deal with license issues if they come up. To get access to the dataset, you need a kaggle account and a \"token\" to use with the API.\n"
   ]
  },
  {
   "cell_type": "code",
   "execution_count": 8,
   "metadata": {
    "colab": {
     "base_uri": "https://localhost:8080/"
    },
    "id": "zd5mf-3ffOX3",
    "outputId": "e8e2ca8f-9248-4bd3-b452-79f839d7e493"
   },
   "outputs": [
    {
     "name": "stdout",
     "output_type": "stream",
     "text": [
      "Warning: Your Kaggle API key is readable by other users on this system! To fix this, you can run 'chmod 600 ../kaggle/kaggle.json'\r\n",
      "Kaggle API 1.5.12\r\n"
     ]
    }
   ],
   "source": [
    "!KAGGLE_CONFIG_DIR=../kaggle kaggle -v"
   ]
  },
  {
   "cell_type": "code",
   "execution_count": 9,
   "metadata": {
    "colab": {
     "base_uri": "https://localhost:8080/"
    },
    "id": "7VnREbrEjFw8",
    "outputId": "b2dfb5b7-3e32-478d-ba6a-fc5c98a98372"
   },
   "outputs": [
    {
     "name": "stdout",
     "output_type": "stream",
     "text": [
      "Warning: Your Kaggle API key is readable by other users on this system! To fix this, you can run 'chmod 600 ../kaggle/kaggle.json'\n",
      "Downloading ecommerce-purchase-history-from-electronics-store.zip to /workspaces/product-recommendation/notebooks\n",
      " 99%|█████████████████████████████████████▋| 50.0M/50.5M [00:06<00:00, 7.83MB/s]\n",
      "100%|██████████████████████████████████████| 50.5M/50.5M [00:06<00:00, 8.02MB/s]\n"
     ]
    }
   ],
   "source": [
    "!KAGGLE_CONFIG_DIR=../kaggle kaggle datasets download mkechinov/ecommerce-purchase-history-from-electronics-store"
   ]
  },
  {
   "cell_type": "code",
   "execution_count": 10,
   "metadata": {
    "colab": {
     "base_uri": "https://localhost:8080/"
    },
    "id": "H8vV3Cd3nmSB",
    "outputId": "0f2cf8c3-18d3-492d-c20b-2d9c86522fbb"
   },
   "outputs": [
    {
     "name": "stdout",
     "output_type": "stream",
     "text": [
      "Archive:  ecommerce-purchase-history-from-electronics-store.zip\n",
      "  inflating: kz.csv                  \n"
     ]
    }
   ],
   "source": [
    "!unzip ecommerce-purchase-history-from-electronics-store.zip"
   ]
  },
  {
   "cell_type": "markdown",
   "metadata": {
    "id": "RFdmU2CswOP-"
   },
   "source": [
    "# Data Exploration"
   ]
  },
  {
   "cell_type": "code",
   "execution_count": 11,
   "metadata": {
    "colab": {
     "base_uri": "https://localhost:8080/",
     "height": 203
    },
    "id": "i0YcK8s4nt6L",
    "outputId": "d92b409a-8506-4e70-da9f-78bf52b328a1"
   },
   "outputs": [
    {
     "data": {
      "text/html": [
       "<div>\n",
       "<style scoped>\n",
       "    .dataframe tbody tr th:only-of-type {\n",
       "        vertical-align: middle;\n",
       "    }\n",
       "\n",
       "    .dataframe tbody tr th {\n",
       "        vertical-align: top;\n",
       "    }\n",
       "\n",
       "    .dataframe thead th {\n",
       "        text-align: right;\n",
       "    }\n",
       "</style>\n",
       "<table border=\"1\" class=\"dataframe\">\n",
       "  <thead>\n",
       "    <tr style=\"text-align: right;\">\n",
       "      <th></th>\n",
       "      <th>event_time</th>\n",
       "      <th>order_id</th>\n",
       "      <th>product_id</th>\n",
       "      <th>category_id</th>\n",
       "      <th>category_code</th>\n",
       "      <th>brand</th>\n",
       "      <th>price</th>\n",
       "      <th>user_id</th>\n",
       "    </tr>\n",
       "  </thead>\n",
       "  <tbody>\n",
       "    <tr>\n",
       "      <th>0</th>\n",
       "      <td>2020-04-24 11:50:39 UTC</td>\n",
       "      <td>2294359932054536986</td>\n",
       "      <td>1515966223509089906</td>\n",
       "      <td>2.268105e+18</td>\n",
       "      <td>electronics.tablet</td>\n",
       "      <td>samsung</td>\n",
       "      <td>162.01</td>\n",
       "      <td>1.515916e+18</td>\n",
       "    </tr>\n",
       "    <tr>\n",
       "      <th>1</th>\n",
       "      <td>2020-04-24 11:50:39 UTC</td>\n",
       "      <td>2294359932054536986</td>\n",
       "      <td>1515966223509089906</td>\n",
       "      <td>2.268105e+18</td>\n",
       "      <td>electronics.tablet</td>\n",
       "      <td>samsung</td>\n",
       "      <td>162.01</td>\n",
       "      <td>1.515916e+18</td>\n",
       "    </tr>\n",
       "    <tr>\n",
       "      <th>2</th>\n",
       "      <td>2020-04-24 14:37:43 UTC</td>\n",
       "      <td>2294444024058086220</td>\n",
       "      <td>2273948319057183658</td>\n",
       "      <td>2.268105e+18</td>\n",
       "      <td>electronics.audio.headphone</td>\n",
       "      <td>huawei</td>\n",
       "      <td>77.52</td>\n",
       "      <td>1.515916e+18</td>\n",
       "    </tr>\n",
       "    <tr>\n",
       "      <th>3</th>\n",
       "      <td>2020-04-24 14:37:43 UTC</td>\n",
       "      <td>2294444024058086220</td>\n",
       "      <td>2273948319057183658</td>\n",
       "      <td>2.268105e+18</td>\n",
       "      <td>electronics.audio.headphone</td>\n",
       "      <td>huawei</td>\n",
       "      <td>77.52</td>\n",
       "      <td>1.515916e+18</td>\n",
       "    </tr>\n",
       "    <tr>\n",
       "      <th>4</th>\n",
       "      <td>2020-04-24 19:16:21 UTC</td>\n",
       "      <td>2294584263154074236</td>\n",
       "      <td>2273948316817424439</td>\n",
       "      <td>2.268105e+18</td>\n",
       "      <td>NaN</td>\n",
       "      <td>karcher</td>\n",
       "      <td>217.57</td>\n",
       "      <td>1.515916e+18</td>\n",
       "    </tr>\n",
       "  </tbody>\n",
       "</table>\n",
       "</div>"
      ],
      "text/plain": [
       "                event_time             order_id           product_id  \\\n",
       "0  2020-04-24 11:50:39 UTC  2294359932054536986  1515966223509089906   \n",
       "1  2020-04-24 11:50:39 UTC  2294359932054536986  1515966223509089906   \n",
       "2  2020-04-24 14:37:43 UTC  2294444024058086220  2273948319057183658   \n",
       "3  2020-04-24 14:37:43 UTC  2294444024058086220  2273948319057183658   \n",
       "4  2020-04-24 19:16:21 UTC  2294584263154074236  2273948316817424439   \n",
       "\n",
       "    category_id                category_code    brand   price       user_id  \n",
       "0  2.268105e+18           electronics.tablet  samsung  162.01  1.515916e+18  \n",
       "1  2.268105e+18           electronics.tablet  samsung  162.01  1.515916e+18  \n",
       "2  2.268105e+18  electronics.audio.headphone   huawei   77.52  1.515916e+18  \n",
       "3  2.268105e+18  electronics.audio.headphone   huawei   77.52  1.515916e+18  \n",
       "4  2.268105e+18                          NaN  karcher  217.57  1.515916e+18  "
      ]
     },
     "execution_count": 11,
     "metadata": {},
     "output_type": "execute_result"
    }
   ],
   "source": [
    "df = pd.read_csv('kz.csv')\n",
    "df.head()"
   ]
  },
  {
   "cell_type": "markdown",
   "metadata": {},
   "source": [
    "## Checking for missing values\n",
    "\n",
    "It looks like the order and product id are always available. That is all that we will be using from this dataset, to the rest is fine."
   ]
  },
  {
   "cell_type": "code",
   "execution_count": 12,
   "metadata": {
    "colab": {
     "base_uri": "https://localhost:8080/"
    },
    "id": "xp51kFzvhhxG",
    "outputId": "b3fa307b-736a-4de1-d16d-fad380e9d27c"
   },
   "outputs": [
    {
     "data": {
      "text/plain": [
       "event_time             0\n",
       "order_id               0\n",
       "product_id             0\n",
       "category_id       431954\n",
       "category_code     612202\n",
       "brand             506005\n",
       "price             431954\n",
       "user_id          2069352\n",
       "dtype: int64"
      ]
     },
     "execution_count": 12,
     "metadata": {},
     "output_type": "execute_result"
    }
   ],
   "source": [
    "df.isna().sum()"
   ]
  },
  {
   "cell_type": "markdown",
   "metadata": {
    "id": "uS1WtSjzmgYW"
   },
   "source": [
    "Let's look at the number of products and see how they are distributed among the orders. We can use the value_counts method from pandas to get an idea of how often each product is ordered."
   ]
  },
  {
   "cell_type": "code",
   "execution_count": 13,
   "metadata": {
    "colab": {
     "base_uri": "https://localhost:8080/",
     "height": 371
    },
    "id": "NxhZYm-NoDXf",
    "outputId": "cd447f54-ec73-4806-b385-2aa74a0240df"
   },
   "outputs": [
    {
     "name": "stdout",
     "output_type": "stream",
     "text": [
      "There are 25113 unique products\n",
      "\n",
      "Here are the counts of products ordered from largest to smallest\n",
      "[44491 41076 38786 ...     1     1     1]\n",
      "\n",
      "And a graph of what the curve looks like:\n"
     ]
    },
    {
     "data": {
      "image/png": "[encoded data removed]",
      "text/plain": [
       "<Figure size 432x288 with 1 Axes>"
      ]
     },
     "metadata": {
      "needs_background": "light"
     },
     "output_type": "display_data"
    }
   ],
   "source": [
    "product_counts = df['product_id'].value_counts().to_numpy()\n",
    "print('There are', len(product_counts), 'unique products\\n')\n",
    "print('Here are the counts of products ordered from largest to smallest')\n",
    "print(product_counts)\n",
    "print('\\nAnd a graph of what the curve looks like:')\n",
    "plt.plot(product_counts) \n",
    "plt.show()"
   ]
  },
  {
   "cell_type": "markdown",
   "metadata": {
    "id": "nJTMKvYuZ9Zs"
   },
   "source": [
    "Wow! It looks like there are a few products that are purchased a lot. Let's take a look at those to see what they are."
   ]
  },
  {
   "cell_type": "code",
   "execution_count": 14,
   "metadata": {
    "colab": {
     "base_uri": "https://localhost:8080/"
    },
    "id": "0DhAue9MadsG",
    "outputId": "656f66b1-6fd6-442e-f176-c2cd9d6688a4"
   },
   "outputs": [
    {
     "data": {
      "text/plain": [
       "1515966223523303302    44491\n",
       "1515966223523303301    41076\n",
       "1515966223523303308    38786\n",
       "1515966223523303310    38472\n",
       "1515966223523303314    36530\n",
       "Name: product_id, dtype: int64"
      ]
     },
     "execution_count": 14,
     "metadata": {},
     "output_type": "execute_result"
    }
   ],
   "source": [
    "df['product_id'].value_counts().head()"
   ]
  },
  {
   "cell_type": "code",
   "execution_count": 15,
   "metadata": {
    "colab": {
     "base_uri": "https://localhost:8080/"
    },
    "id": "WcpOjstpjuYH",
    "outputId": "750a1770-956a-4526-99bc-9588b9ae37c0"
   },
   "outputs": [
    {
     "name": "stdout",
     "output_type": "stream",
     "text": [
      "1435266\n",
      "2633521\n"
     ]
    }
   ],
   "source": [
    "print(len(df['order_id'].unique()))\n",
    "print(len(df))\n",
    "# from collections import Counter\n",
    "# Counter(df['product_id'].value_counts().to_numpy())[3]"
   ]
  },
  {
   "cell_type": "markdown",
   "metadata": {
    "id": "DiCRdyPEpWFA"
   },
   "source": [
    "This is a very extreme curve. It's unlikely that we will be able to use any products that don't appear in multiple orders. We can do a few more things to see how much usable data we have.\n",
    "\n",
    "First, we will tell value_counts to use percentages of the total instead of the sum values and divide the results equally into 10 bins."
   ]
  },
  {
   "cell_type": "code",
   "execution_count": 16,
   "metadata": {
    "colab": {
     "base_uri": "https://localhost:8080/"
    },
    "id": "BrmR_7Jgbahc",
    "outputId": "6742fb92-a0c4-44ae-fd77-876a36f17c65"
   },
   "outputs": [
    {
     "data": {
      "text/plain": [
       "(1.5150937552801208e+18, 1.6032130464058678e+18]    0.793554\n",
       "(2.2139408066833234e+18, 2.3011876295801027e+18]    0.187847\n",
       "(2.3011876295801027e+18, 2.388434452476882e+18]     0.018599\n",
       "(1.6032130464058678e+18, 1.6904598693026473e+18]    0.000000\n",
       "(1.6904598693026473e+18, 1.7777066921994266e+18]    0.000000\n",
       "(1.7777066921994266e+18, 1.8649535150962058e+18]    0.000000\n",
       "(1.8649535150962058e+18, 1.952200337992985e+18]     0.000000\n",
       "(1.952200337992985e+18, 2.0394471608897644e+18]     0.000000\n",
       "(2.0394471608897644e+18, 2.1266939837865439e+18]    0.000000\n",
       "(2.1266939837865439e+18, 2.2139408066833234e+18]    0.000000\n",
       "Name: product_id, dtype: float64"
      ]
     },
     "execution_count": 16,
     "metadata": {},
     "output_type": "execute_result"
    }
   ],
   "source": [
    "df['product_id'].value_counts(normalize=True, bins=10)"
   ]
  },
  {
   "cell_type": "code",
   "execution_count": 17,
   "metadata": {
    "colab": {
     "base_uri": "https://localhost:8080/",
     "height": 283
    },
    "id": "AYhSwxPR4C-Y",
    "outputId": "6abc32b1-d7e4-4ceb-e468-b905a3cffbcf"
   },
   "outputs": [
    {
     "data": {
      "text/plain": [
       "<AxesSubplot:>"
      ]
     },
     "execution_count": 17,
     "metadata": {},
     "output_type": "execute_result"
    },
    {
     "data": {
      "image/png": "[encoded data removed]",
      "text/plain": [
       "<Figure size 432x288 with 1 Axes>"
      ]
     },
     "metadata": {
      "needs_background": "light"
     },
     "output_type": "display_data"
    }
   ],
   "source": [
    "df['price'].value_counts().sort_index().plot()"
   ]
  },
  {
   "cell_type": "code",
   "execution_count": 18,
   "metadata": {
    "colab": {
     "base_uri": "https://localhost:8080/",
     "height": 297
    },
    "id": "9qd6mg9t2-Ud",
    "outputId": "fae68a3d-58a0-4ae2-89f4-4ba7d21e8b1e"
   },
   "outputs": [
    {
     "data": {
      "text/plain": [
       "<AxesSubplot:xlabel='order_id'>"
      ]
     },
     "execution_count": 18,
     "metadata": {},
     "output_type": "execute_result"
    },
    {
     "data": {
      "image/png": "[encoded data removed]",
      "text/plain": [
       "<Figure size 432x288 with 1 Axes>"
      ]
     },
     "metadata": {
      "needs_background": "light"
     },
     "output_type": "display_data"
    }
   ],
   "source": [
    "totals = df.groupby(df.order_id)['price'].sum()\n",
    " \n",
    "totals.plot()"
   ]
  },
  {
   "cell_type": "code",
   "execution_count": 19,
   "metadata": {
    "colab": {
     "base_uri": "https://localhost:8080/"
    },
    "id": "wJQcYTmf5qWK",
    "outputId": "f5ae0b65-af03-4b10-ccf9-fb680a0d4456"
   },
   "outputs": [
    {
     "data": {
      "text/plain": [
       "electronics.smartphone              357682\n",
       "appliances.kitchen.refrigerators     77386\n",
       "16.18                                72969\n",
       "electronics.video.tv                 71711\n",
       "computers.notebook                   71436\n",
       "                                     ...  \n",
       "21.74                                    1\n",
       "3.94                                     1\n",
       "555.30                                   1\n",
       "240.72                                   1\n",
       "21.30                                    1\n",
       "Name: category_code, Length: 510, dtype: int64"
      ]
     },
     "execution_count": 19,
     "metadata": {},
     "output_type": "execute_result"
    }
   ],
   "source": [
    "df['category_code'].value_counts()"
   ]
  },
  {
   "cell_type": "code",
   "execution_count": 20,
   "metadata": {
    "colab": {
     "base_uri": "https://localhost:8080/"
    },
    "id": "UZ5Vv3x854cH",
    "outputId": "443047ff-15fe-419f-e102-4f5f67ae7e9e"
   },
   "outputs": [
    {
     "data": {
      "text/plain": [
       "samsung                358928\n",
       "ava                    118161\n",
       "tefal                   78653\n",
       "apple                   74709\n",
       "huawei                  57438\n",
       "                        ...  \n",
       "1515915625444207303         1\n",
       "1515915625514165334         1\n",
       "1515915625514597504         1\n",
       "1515915625508306506         1\n",
       "1515915625514157205         1\n",
       "Name: brand, Length: 23021, dtype: int64"
      ]
     },
     "execution_count": 20,
     "metadata": {},
     "output_type": "execute_result"
    }
   ],
   "source": [
    "df['brand'].value_counts()"
   ]
  },
  {
   "cell_type": "markdown",
   "metadata": {
    "id": "eAr75-G33l8o"
   },
   "source": [
    "Another thing we can do is compute the sparsity of the data. This is useful to see if there is enough overlap between the orders and products to make a useful decision for recommendations."
   ]
  },
  {
   "cell_type": "code",
   "execution_count": 21,
   "metadata": {
    "colab": {
     "base_uri": "https://localhost:8080/"
    },
    "id": "5aoGeTmPq55e",
    "outputId": "68bc7cdb-9005-4264-9407-3e8596f51f0d"
   },
   "outputs": [
    {
     "name": "stdout",
     "output_type": "stream",
     "text": [
      "number of orders: 1435266, number of items: 25113\n",
      "matrix sparsity: 0.999927\n"
     ]
    }
   ],
   "source": [
    "order_counts = df['order_id'].value_counts()\n",
    "num_orders = len(order_counts)\n",
    "num_items = len(product_counts)\n",
    "sparsity = 1 - len(df) / (num_orders * num_items)\n",
    "print(f'number of orders: {num_orders}, number of items: {num_items}')\n",
    "print(f'matrix sparsity: {sparsity:f}')"
   ]
  },
  {
   "cell_type": "markdown",
   "metadata": {
    "id": "To62Zd83tJ4f"
   },
   "source": [
    "Compare that with the 100k movielens dataset that has:\n",
    "\n",
    "```\n",
    "number of users: 943, number of items: 1682\n",
    "matrix sparsity: 0.936953\n",
    "```"
   ]
  },
  {
   "cell_type": "markdown",
   "metadata": {
    "id": "pdnxBEmd4Pes"
   },
   "source": [
    "In addition to reducing the sparsity, another issue with this dataset is the greater number of items and orders. When I tried to re-use a notebook built for the 100k movielens dataset on this ecomerce data, it immediately ran out of memory when attempting to use the KNNBasic algorithm."
   ]
  },
  {
   "cell_type": "code",
   "execution_count": 22,
   "metadata": {
    "colab": {
     "base_uri": "https://localhost:8080/"
    },
    "id": "f7qa2oXpt2BI",
    "outputId": "a68977e0-6e52-4a3a-de9e-a1dc81be262b"
   },
   "outputs": [
    {
     "name": "stdout",
     "output_type": "stream",
     "text": [
      "Size for movielens: 1,586,126\n",
      "Size for ecommerce dataset: 36,043,835,058\n"
     ]
    }
   ],
   "source": [
    "product = 943 * 1682\n",
    "print('Size for movielens: 'f'{product:,}')\n",
    " \n",
    "product = 1435266 * 25113\n",
    "print('Size for ecommerce dataset: 'f'{product:,}')"
   ]
  },
  {
   "cell_type": "markdown",
   "metadata": {
    "id": "NjTFgyUryB6E"
   },
   "source": [
    "This is a pretty clear reason why the in-memory recommendation approaches that work with movielens run out of memory when trying to apply them to the ecommerce dataset.\n",
    "\n",
    "We need to look at reducing the dataset into something both useful and manageable. To start with, we can remove any products that don't appear more than some value."
   ]
  },
  {
   "cell_type": "code",
   "execution_count": 23,
   "metadata": {
    "id": "ajDPMKaJ7OeA"
   },
   "outputs": [],
   "source": [
    "#@title Example form fields\n",
    "#@markdown Forms support many types of fields.\n",
    " \n",
    "filter_value = 1000  #@param {type: \"number\"}\n",
    "#@markdown"
   ]
  },
  {
   "cell_type": "code",
   "execution_count": 24,
   "metadata": {
    "colab": {
     "base_uri": "https://localhost:8080/"
    },
    "id": "wQ5bYKJT50_n",
    "outputId": "49584c7e-148f-41fb-cea6-fcf5c2d7b0f6"
   },
   "outputs": [
    {
     "name": "stdout",
     "output_type": "stream",
     "text": [
      "Products in at least 1000 orders: 446\n",
      "Products in less than 1000 orders: 24667\n"
     ]
    }
   ],
   "source": [
    "product_group = df.loc[:, ['order_id', 'product_id']].groupby('product_id').count()\n",
    " \n",
    "multi_product = product_group[product_group.order_id >= filter_value].count()\n",
    "single_product = product_group[product_group.order_id < filter_value].count()\n",
    " \n",
    "print('Products in at least',filter_value,'orders:',multi_product['order_id'])\n",
    "print('Products in less than',filter_value,'orders:',single_product['order_id'])\n",
    " \n",
    "# We can capture the list of mutiple product orders with this:\n",
    "product_filter = product_group[product_group.order_id >= filter_value].index.tolist()\n",
    " \n",
    "product_filtered_df = df[df['product_id'].isin(product_filter)].copy()"
   ]
  },
  {
   "cell_type": "markdown",
   "metadata": {
    "id": "khZ7bwJc6qS-"
   },
   "source": [
    "We can also remove orders that don't have more than some number of items.\n",
    "\n"
   ]
  },
  {
   "cell_type": "code",
   "execution_count": 25,
   "metadata": {
    "id": "TVIxIhDb_f8E"
   },
   "outputs": [],
   "source": [
    "#@title Example form fields\n",
    "#@markdown Forms support many types of fields.\n",
    " \n",
    "minimum_order_size =   3#@param {type: \"number\"}\n",
    "maximum_order_size =   20#@param {type: \"number\"}\n",
    " \n",
    "#@markdown"
   ]
  },
  {
   "cell_type": "code",
   "execution_count": 26,
   "metadata": {
    "colab": {
     "base_uri": "https://localhost:8080/"
    },
    "id": "qZKx1mQYoUH9",
    "outputId": "996cf8cd-6446-4aef-bd21-37329c500d2d"
   },
   "outputs": [
    {
     "name": "stdout",
     "output_type": "stream",
     "text": [
      "Orders with at least 3 products: 107850\n",
      "Orders with less than 3 products: 612860\n"
     ]
    }
   ],
   "source": [
    "order_group = product_filtered_df.loc[:, ['order_id', 'product_id']].groupby('order_id').count()\n",
    " \n",
    "multi_order = order_group[(order_group.product_id >= minimum_order_size) & (order_group.product_id <= maximum_order_size)].count()\n",
    "single_order = order_group[(order_group.product_id < minimum_order_size) | (order_group.product_id > maximum_order_size)].count()\n",
    " \n",
    "print('Orders with at least',minimum_order_size,'products:',multi_order['product_id'])\n",
    "print('Orders with less than',minimum_order_size,'products:',single_order['product_id'])\n",
    " \n",
    "# We can capture the list of mutiple product orders with this:\n",
    "order_filter = order_group[(order_group.product_id >= minimum_order_size) & (order_group.product_id <= maximum_order_size)].index.tolist()"
   ]
  },
  {
   "cell_type": "code",
   "execution_count": 27,
   "metadata": {
    "colab": {
     "base_uri": "https://localhost:8080/"
    },
    "id": "L42LelQPrcHl",
    "outputId": "3954ac42-00b0-478c-c9b6-b3dae71be194"
   },
   "outputs": [
    {
     "name": "stdout",
     "output_type": "stream",
     "text": [
      "Original dataframe length: 2633521\n",
      "Filtered dataframe length: 466561\n"
     ]
    }
   ],
   "source": [
    "filtered_df = product_filtered_df[product_filtered_df['order_id'].isin(order_filter)].copy()\n",
    "print('Original dataframe length:', len(df))\n",
    "print('Filtered dataframe length:', len(filtered_df))"
   ]
  },
  {
   "cell_type": "code",
   "execution_count": 28,
   "metadata": {
    "colab": {
     "base_uri": "https://localhost:8080/",
     "height": 371
    },
    "id": "yWQoVWQu8p_Y",
    "outputId": "3035200f-4db0-4155-f4ef-0e24d85748d3"
   },
   "outputs": [
    {
     "name": "stdout",
     "output_type": "stream",
     "text": [
      "There are 446 unique products\n",
      "\n",
      "\n",
      "And a graph of what the curve looks like:\n"
     ]
    },
    {
     "data": {
      "image/png": "[encoded data removed]",
      "text/plain": [
       "<Figure size 432x288 with 1 Axes>"
      ]
     },
     "metadata": {
      "needs_background": "light"
     },
     "output_type": "display_data"
    },
    {
     "name": "stdout",
     "output_type": "stream",
     "text": [
      "number of orders: 107850, number of items: 446\n",
      "matrix sparsity: 0.945250\n"
     ]
    }
   ],
   "source": [
    "product_counts = filtered_df['product_id'].value_counts().to_numpy()\n",
    "print('There are', len(product_counts), 'unique products\\n')\n",
    "print('\\nAnd a graph of what the curve looks like:')\n",
    "plt.plot(product_counts) \n",
    "plt.show()\n",
    " \n",
    "order_counts = filtered_df['order_id'].value_counts()\n",
    "num_orders = len(order_counts)\n",
    "num_items = len(product_counts)\n",
    "sparsity = 1 - len(df) / (num_orders * num_items)\n",
    "print(f'number of orders: {num_orders}, number of items: {num_items}')\n",
    "print(f'matrix sparsity: {sparsity:f}')"
   ]
  },
  {
   "cell_type": "code",
   "execution_count": 29,
   "metadata": {
    "id": "N5-NsL0CieG1"
   },
   "outputs": [],
   "source": [
    "filtered_df['product_id'] = filtered_df['product_id'].astype(str)"
   ]
  },
  {
   "cell_type": "code",
   "execution_count": 30,
   "metadata": {
    "id": "bKFFtiTijwRw"
   },
   "outputs": [],
   "source": [
    "orderdf = filtered_df[['order_id', 'product_id']].sort_values('product_id').groupby('order_id').sum('product_id')"
   ]
  },
  {
   "cell_type": "code",
   "execution_count": 31,
   "metadata": {
    "colab": {
     "base_uri": "https://localhost:8080/",
     "height": 335
    },
    "id": "rgUAGkHtnR2j",
    "outputId": "9a45aab4-e1b7-4024-9a9b-0f630996d7ec"
   },
   "outputs": [
    {
     "name": "stdout",
     "output_type": "stream",
     "text": [
      "There are 59737 unique orders\n",
      "\n",
      "\n",
      "And a graph of what the curve looks like:\n"
     ]
    },
    {
     "data": {
      "image/png": "[encoded data removed]",
      "text/plain": [
       "<Figure size 432x288 with 1 Axes>"
      ]
     },
     "metadata": {
      "needs_background": "light"
     },
     "output_type": "display_data"
    }
   ],
   "source": [
    "order_distro = orderdf['product_id'].value_counts().to_numpy()\n",
    "print('There are', len(order_distro), 'unique orders\\n')\n",
    "print('\\nAnd a graph of what the curve looks like:')\n",
    "plt.plot(order_distro) \n",
    "plt.show()"
   ]
  },
  {
   "cell_type": "markdown",
   "metadata": {
    "id": "IYUdUq8cW-fY"
   },
   "source": [
    "# Fun with Numbers\n",
    "\n",
    "The initial work I had done with this dataset used 1.0 as the \"rating\" for each product in an order. That turned out to be problematic because some algorithms multiple ratings as part of their score. And of course, this meant that a product \"rated\" once has the same score as a product \"rated\" 20 times.\n",
    "\n",
    "Changing this \"rating\" to a 5 seems to move past that issue."
   ]
  },
  {
   "cell_type": "code",
   "execution_count": 32,
   "metadata": {
    "colab": {
     "base_uri": "https://localhost:8080/"
    },
    "id": "YEcfGtLmAds_",
    "outputId": "c59017d2-8837-4808-88cf-a1645550655a"
   },
   "outputs": [
    {
     "name": "stdout",
     "output_type": "stream",
     "text": [
      "                      event_time             order_id           product_id  \\\n",
      "700      2020-04-30 12:47:47 UTC  2298737347648291358  1515966223509104270   \n",
      "701      2020-04-30 12:47:47 UTC  2298737347648291358  1515966223509104401   \n",
      "702      2020-04-30 12:47:47 UTC  2298737347648291358  1515966223509132153   \n",
      "1287     2020-05-01 13:05:09 UTC  2299470860626428718  1515966223509089486   \n",
      "1288     2020-05-01 13:05:09 UTC  2299470860626428718  2273948308202324468   \n",
      "...                          ...                  ...                  ...   \n",
      "2632403  2020-11-19 06:19:22 UTC  2388440981134693035  2273948216221238252   \n",
      "2632404  2020-11-19 12:04:30 UTC  2388440981134693036  1515966223509117074   \n",
      "2632405  2020-11-19 12:04:30 UTC  2388440981134693036  1515966223523303300   \n",
      "2632406  2020-11-19 12:04:30 UTC  2388440981134693036  1515966223509088578   \n",
      "2632408  2020-11-19 12:04:30 UTC  2388440981134693036  1515966223509106168   \n",
      "\n",
      "          category_id                  category_code                brand  \\\n",
      "700      2.268105e+18       construction.tools.screw                  ava   \n",
      "701      2.268105e+18                            NaN            transcend   \n",
      "702      2.268105e+18                            NaN              samsung   \n",
      "1287     2.268105e+18         electronics.smartphone              samsung   \n",
      "1288     2.268105e+18     appliances.personal.scales                  ava   \n",
      "...               ...                            ...                  ...   \n",
      "2632403  2.268105e+18                            NaN          thefaceshop   \n",
      "2632404  2.268105e+18                            NaN              samsung   \n",
      "2632405           NaN                          13.87  1515915625514803707   \n",
      "2632406  2.268105e+18         electronics.smartphone              samsung   \n",
      "2632408  2.268105e+18  appliances.environment.vacuum              samsung   \n",
      "\n",
      "          price       user_id  rating  \n",
      "700        5.76  1.515916e+18     5.0  \n",
      "701        6.92  1.515916e+18     5.0  \n",
      "702       13.87  1.515916e+18     5.0  \n",
      "1287     115.72  1.515916e+18     5.0  \n",
      "1288      11.55  1.515916e+18     5.0  \n",
      "...         ...           ...     ...  \n",
      "2632403    6.69  1.515916e+18     5.0  \n",
      "2632404   30.07  1.515916e+18     5.0  \n",
      "2632405     NaN           NaN     5.0  \n",
      "2632406  300.90  1.515916e+18     5.0  \n",
      "2632408   69.42  1.515916e+18     5.0  \n",
      "\n",
      "[466561 rows x 9 columns]\n"
     ]
    }
   ],
   "source": [
    "filtered_df['rating'] = 5.0\n",
    "print(filtered_df)"
   ]
  },
  {
   "cell_type": "code",
   "execution_count": 33,
   "metadata": {
    "colab": {
     "base_uri": "https://localhost:8080/",
     "height": 396
    },
    "id": "LXNnCGvPle4m",
    "outputId": "830b15f6-1573-4f4c-aaf6-b60e564c2c0e"
   },
   "outputs": [
    {
     "name": "stdout",
     "output_type": "stream",
     "text": [
      "<class 'pandas.core.frame.DataFrame'>\n",
      "RangeIndex: 466561 entries, 0 to 466560\n",
      "Data columns (total 4 columns):\n",
      " #   Column      Non-Null Count   Dtype  \n",
      "---  ------      --------------   -----  \n",
      " 0   index       466561 non-null  int64  \n",
      " 1   order_id    466561 non-null  int64  \n",
      " 2   product_id  466561 non-null  int64  \n",
      " 3   rating      466561 non-null  float64\n",
      "dtypes: float64(1), int64(3)\n",
      "memory usage: 14.2 MB\n"
     ]
    },
    {
     "data": {
      "text/html": [
       "<div>\n",
       "<style scoped>\n",
       "    .dataframe tbody tr th:only-of-type {\n",
       "        vertical-align: middle;\n",
       "    }\n",
       "\n",
       "    .dataframe tbody tr th {\n",
       "        vertical-align: top;\n",
       "    }\n",
       "\n",
       "    .dataframe thead th {\n",
       "        text-align: right;\n",
       "    }\n",
       "</style>\n",
       "<table border=\"1\" class=\"dataframe\">\n",
       "  <thead>\n",
       "    <tr style=\"text-align: right;\">\n",
       "      <th></th>\n",
       "      <th>index</th>\n",
       "      <th>order_id</th>\n",
       "      <th>product_id</th>\n",
       "      <th>rating</th>\n",
       "    </tr>\n",
       "  </thead>\n",
       "  <tbody>\n",
       "    <tr>\n",
       "      <th>0</th>\n",
       "      <td>700</td>\n",
       "      <td>2298737347648291358</td>\n",
       "      <td>1515966223509104270</td>\n",
       "      <td>5.0</td>\n",
       "    </tr>\n",
       "    <tr>\n",
       "      <th>1</th>\n",
       "      <td>701</td>\n",
       "      <td>2298737347648291358</td>\n",
       "      <td>1515966223509104401</td>\n",
       "      <td>5.0</td>\n",
       "    </tr>\n",
       "    <tr>\n",
       "      <th>2</th>\n",
       "      <td>702</td>\n",
       "      <td>2298737347648291358</td>\n",
       "      <td>1515966223509132153</td>\n",
       "      <td>5.0</td>\n",
       "    </tr>\n",
       "    <tr>\n",
       "      <th>3</th>\n",
       "      <td>1287</td>\n",
       "      <td>2299470860626428718</td>\n",
       "      <td>1515966223509089486</td>\n",
       "      <td>5.0</td>\n",
       "    </tr>\n",
       "    <tr>\n",
       "      <th>4</th>\n",
       "      <td>1288</td>\n",
       "      <td>2299470860626428718</td>\n",
       "      <td>2273948308202324468</td>\n",
       "      <td>5.0</td>\n",
       "    </tr>\n",
       "  </tbody>\n",
       "</table>\n",
       "</div>"
      ],
      "text/plain": [
       "   index             order_id           product_id  rating\n",
       "0    700  2298737347648291358  1515966223509104270     5.0\n",
       "1    701  2298737347648291358  1515966223509104401     5.0\n",
       "2    702  2298737347648291358  1515966223509132153     5.0\n",
       "3   1287  2299470860626428718  1515966223509089486     5.0\n",
       "4   1288  2299470860626428718  2273948308202324468     5.0"
      ]
     },
     "execution_count": 33,
     "metadata": {},
     "output_type": "execute_result"
    }
   ],
   "source": [
    "selected_df = filtered_df[['order_id', 'product_id', 'rating']].apply(pd.to_numeric, errors='coerce').reset_index()\n",
    "selected_df.info()\n",
    "selected_df.head()"
   ]
  },
  {
   "cell_type": "code",
   "execution_count": 34,
   "metadata": {
    "colab": {
     "base_uri": "https://localhost:8080/"
    },
    "id": "jitg8F1Y2JIj",
    "outputId": "b914403a-9edd-4aae-c2a3-f6ebb9e107b5"
   },
   "outputs": [
    {
     "name": "stdout",
     "output_type": "stream",
     "text": [
      "\u001b[33mWARNING: Value for scheme.headers does not match. Please report this to <https://github.com/pypa/pip/issues/9617>\n",
      "distutils: /usr/local/include/python3.9/UNKNOWN\n",
      "sysconfig: /usr/local/include/python3.9\u001b[0m\n",
      "\u001b[33mWARNING: Additional context:\n",
      "user = False\n",
      "home = None\n",
      "root = None\n",
      "prefix = None\u001b[0m\n",
      "Defaulting to user installation because normal site-packages is not writeable\n",
      "Collecting implicit\n",
      "  Downloading implicit-0.4.4.tar.gz (1.1 MB)\n",
      "\u001b[K     |████████████████████████████████| 1.1 MB 4.6 MB/s eta 0:00:01\n",
      "\u001b[?25hRequirement already satisfied: numpy in /home/vscode/.local/lib/python3.9/site-packages (from implicit) (1.20.3)\n",
      "Collecting scipy>=0.16\n",
      "  Downloading scipy-1.6.3-cp39-cp39-manylinux1_x86_64.whl (27.3 MB)\n",
      "\u001b[K     |████████████████████████████████| 27.3 MB 8.2 MB/s eta 0:00:01    |█                               | 911 kB 4.9 MB/s eta 0:00:06     |██████████████████▍             | 15.7 MB 8.3 MB/s eta 0:00:02     |█████████████████████▏          | 18.0 MB 6.4 MB/s eta 0:00:02\n",
      "\u001b[?25hRequirement already satisfied: tqdm>=4.27 in /home/vscode/.local/lib/python3.9/site-packages (from implicit) (4.61.0)\n",
      "Building wheels for collected packages: implicit\n",
      "  Building wheel for implicit (setup.py) ... \u001b[?25ldone\n",
      "\u001b[?25h  Created wheel for implicit: filename=implicit-0.4.4-cp39-cp39-linux_x86_64.whl size=3963933 sha256=7d1b96478d69dbe367a3ffe5104b032729fcdcb06c1bb0794d0ddbbbd47a3bd8\n",
      "  Stored in directory: /home/vscode/.cache/pip/wheels/05/d3/5d/ab371b92ddb01183c3997751ad3bed6e6a4dd3c4c8699120a3\n",
      "Successfully built implicit\n",
      "Installing collected packages: scipy, implicit\n",
      "\u001b[33mWARNING: Value for scheme.headers does not match. Please report this to <https://github.com/pypa/pip/issues/9617>\n",
      "distutils: /home/vscode/.local/include/python3.9/UNKNOWN\n",
      "sysconfig: /home/vscode/.local/include/python3.9\u001b[0m\n",
      "\u001b[33mWARNING: Additional context:\n",
      "user = True\n",
      "home = None\n",
      "root = None\n",
      "prefix = None\u001b[0m\n",
      "Successfully installed implicit-0.4.4 scipy-1.6.3\n",
      "\u001b[33mWARNING: You are using pip version 21.1; however, version 21.1.2 is available.\n",
      "You should consider upgrading via the '/usr/local/bin/python -m pip install --upgrade pip' command.\u001b[0m\n",
      "Note: you may need to restart the kernel to use updated packages.\n"
     ]
    }
   ],
   "source": [
    "pip install implicit"
   ]
  },
  {
   "cell_type": "code",
   "execution_count": 35,
   "metadata": {
    "colab": {
     "base_uri": "https://localhost:8080/",
     "height": 499,
     "referenced_widgets": [
      "38caeadca406486e886e91666188a293",
      "4f3056d5f8c04857a846ef9ddaa81dc4",
      "45197b0116e749fa9cf06bcbf7b0a51f",
      "21357474e2bd4fe79c97f614f6a35190",
      "75422b249afb4908b8d2839c549798f6",
      "1e606ef7df03465cad86e5510b24b8d4",
      "bdd86311b117451586ebdc39a3a46ab9",
      "b2a09233af5e4ef3aeb217d69d644bb9"
     ]
    },
    "id": "uJxPJMTR2rfI",
    "outputId": "b6e937c0-fbcc-45b2-afd3-a1feefe9265f"
   },
   "outputs": [
    {
     "name": "stderr",
     "output_type": "stream",
     "text": [
      "WARNING:root:OpenBLAS detected. Its highly recommend to set the environment variable 'export OPENBLAS_NUM_THREADS=1' to disable its internal multithreading\n"
     ]
    },
    {
     "data": {
      "application/vnd.jupyter.widget-view+json": {
       "model_id": "37e8d95e17834efa96c89eb90f7c216c",
       "version_major": 2,
       "version_minor": 0
      },
      "text/plain": [
       "  0%|          | 0/15 [00:00<?, ?it/s]"
      ]
     },
     "metadata": {},
     "output_type": "display_data"
    },
    {
     "ename": "KeyboardInterrupt",
     "evalue": "",
     "output_type": "error",
     "traceback": [
      "\u001b[0;31m---------------------------------------------------------------------------\u001b[0m",
      "\u001b[0;31mKeyboardInterrupt\u001b[0m                         Traceback (most recent call last)",
      "\u001b[0;32m<ipython-input-35-dd5d7b936b58>\u001b[0m in \u001b[0;36m<module>\u001b[0;34m\u001b[0m\n\u001b[1;32m      7\u001b[0m \u001b[0;31m# train the model on a sparse matrix of item/user/confidence weight\u001b[0m\u001b[0;34m\u001b[0m\u001b[0;34m\u001b[0m\u001b[0;34m\u001b[0m\u001b[0m\n\u001b[1;32m      8\u001b[0m \u001b[0msparse\u001b[0m \u001b[0;34m=\u001b[0m \u001b[0mscipy\u001b[0m\u001b[0;34m.\u001b[0m\u001b[0msparse\u001b[0m\u001b[0;34m.\u001b[0m\u001b[0mcsr_matrix\u001b[0m\u001b[0;34m(\u001b[0m\u001b[0mselected_df\u001b[0m\u001b[0;34m.\u001b[0m\u001b[0mvalues\u001b[0m\u001b[0;34m)\u001b[0m\u001b[0;34m\u001b[0m\u001b[0;34m\u001b[0m\u001b[0m\n\u001b[0;32m----> 9\u001b[0;31m \u001b[0mmodel\u001b[0m\u001b[0;34m.\u001b[0m\u001b[0mfit\u001b[0m\u001b[0;34m(\u001b[0m\u001b[0msparse\u001b[0m\u001b[0;34m)\u001b[0m\u001b[0;34m\u001b[0m\u001b[0;34m\u001b[0m\u001b[0m\n\u001b[0m\u001b[1;32m     10\u001b[0m \u001b[0;34m\u001b[0m\u001b[0m\n\u001b[1;32m     11\u001b[0m \u001b[0;31m# recommend items for a user\u001b[0m\u001b[0;34m\u001b[0m\u001b[0;34m\u001b[0m\u001b[0;34m\u001b[0m\u001b[0m\n",
      "\u001b[0;32m~/.local/lib/python3.9/site-packages/implicit/als.py\u001b[0m in \u001b[0;36mfit\u001b[0;34m(self, item_users, show_progress)\u001b[0m\n\u001b[1;32m    172\u001b[0m                 solver(Cui, self.user_factors, self.item_factors, self.regularization,\n\u001b[1;32m    173\u001b[0m                        num_threads=self.num_threads)\n\u001b[0;32m--> 174\u001b[0;31m                 solver(Ciu, self.item_factors, self.user_factors, self.regularization,\n\u001b[0m\u001b[1;32m    175\u001b[0m                        num_threads=self.num_threads)\n\u001b[1;32m    176\u001b[0m                 \u001b[0mprogress\u001b[0m\u001b[0;34m.\u001b[0m\u001b[0mupdate\u001b[0m\u001b[0;34m(\u001b[0m\u001b[0;36m1\u001b[0m\u001b[0;34m)\u001b[0m\u001b[0;34m\u001b[0m\u001b[0;34m\u001b[0m\u001b[0m\n",
      "\u001b[0;31mKeyboardInterrupt\u001b[0m: "
     ]
    }
   ],
   "source": [
    " \n",
    "import implicit\n",
    "import scipy\n",
    " \n",
    "# initialize a model\n",
    "model = implicit.als.AlternatingLeastSquares(factors=50)\n",
    " \n",
    "# train the model on a sparse matrix of item/user/confidence weight\n",
    "sparse = scipy.sparse.csr_matrix(selected_df.values)\n",
    "model.fit(sparse)\n",
    " \n",
    "# recommend items for a user\n",
    "# user_items = item_user_data.T.tocsr()\n",
    "recommendations = model.recommend(userid=0, user_items=[0], recalculate_user=True)\n",
    " \n",
    "# find related items\n",
    "related = model.similar_items(3000)\n",
    "print(related)"
   ]
  },
  {
   "cell_type": "markdown",
   "metadata": {
    "id": "seQ89SSOwXdE"
   },
   "source": [
    "# Surprise Install and Import"
   ]
  },
  {
   "cell_type": "code",
   "execution_count": null,
   "metadata": {
    "colab": {
     "base_uri": "https://localhost:8080/"
    },
    "id": "QCbzte1Lq4et",
    "outputId": "fb33e936-72f6-46e2-f761-54a8b22c81c1"
   },
   "outputs": [
    {
     "name": "stdout",
     "output_type": "stream",
     "text": [
      "Collecting surprise\n",
      "  Downloading https://files.pythonhosted.org/packages/61/de/e5cba8682201fcf9c3719a6fdda95693468ed061945493dea2dd37c5618b/surprise-0.1-py2.py3-none-any.whl\n",
      "Collecting scikit-surprise\n",
      "\u001b[?25l  Downloading https://files.pythonhosted.org/packages/97/37/5d334adaf5ddd65da99fc65f6507e0e4599d092ba048f4302fe8775619e8/scikit-surprise-1.1.1.tar.gz (11.8MB)\n",
      "\u001b[K     |████████████████████████████████| 11.8MB 372kB/s \n",
      "\u001b[?25hRequirement already satisfied: joblib>=0.11 in /usr/local/lib/python3.7/dist-packages (from scikit-surprise->surprise) (1.0.1)\n",
      "Requirement already satisfied: numpy>=1.11.2 in /usr/local/lib/python3.7/dist-packages (from scikit-surprise->surprise) (1.19.5)\n",
      "Requirement already satisfied: scipy>=1.0.0 in /usr/local/lib/python3.7/dist-packages (from scikit-surprise->surprise) (1.4.1)\n",
      "Requirement already satisfied: six>=1.10.0 in /usr/local/lib/python3.7/dist-packages (from scikit-surprise->surprise) (1.15.0)\n",
      "Building wheels for collected packages: scikit-surprise\n",
      "  Building wheel for scikit-surprise (setup.py) ... \u001b[?25l\u001b[?25hdone\n",
      "  Created wheel for scikit-surprise: filename=scikit_surprise-1.1.1-cp37-cp37m-linux_x86_64.whl size=1617551 sha256=5852723005773bcbe724bc670105b8b7a52d331d3b24f3a6d58ee4e6ebf4b80b\n",
      "  Stored in directory: /root/.cache/pip/wheels/78/9c/3d/41b419c9d2aff5b6e2b4c0fc8d25c538202834058f9ed110d0\n",
      "Successfully built scikit-surprise\n",
      "Installing collected packages: scikit-surprise, surprise\n",
      "Successfully installed scikit-surprise-1.1.1 surprise-0.1\n"
     ]
    }
   ],
   "source": [
    "!pip install surprise"
   ]
  },
  {
   "cell_type": "code",
   "execution_count": null,
   "metadata": {
    "id": "y5XWiaXnrZXC"
   },
   "outputs": [],
   "source": [
    "from surprise import Reader, Dataset\n",
    "from surprise import SVD, KNNBasic\n",
    "from surprise.model_selection import cross_validate\n"
   ]
  },
  {
   "cell_type": "markdown",
   "metadata": {
    "id": "yHMPPzm5wcIp"
   },
   "source": [
    "# Model Training and Evaluation"
   ]
  },
  {
   "cell_type": "code",
   "execution_count": null,
   "metadata": {
    "colab": {
     "base_uri": "https://localhost:8080/"
    },
    "id": "sge-NUelq2Xt",
    "outputId": "d3f4b83e-f8f0-4a1c-a676-150d77f8e81e"
   },
   "outputs": [
    {
     "data": {
      "text/plain": [
       "event_time       466561\n",
       "order_id         466561\n",
       "product_id       466561\n",
       "category_id      225846\n",
       "category_code    394368\n",
       "brand            232932\n",
       "price            225846\n",
       "user_id           20019\n",
       "rating           466561\n",
       "dtype: int64"
      ]
     },
     "execution_count": 30,
     "metadata": {
      "tags": []
     },
     "output_type": "execute_result"
    }
   ],
   "source": [
    "# A reader is still needed but only the rating_scale param is requiered.\n",
    "reader = Reader(rating_scale=(0.0, 5.0))\n",
    "# The columns must correspond to user id, item id and ratings (in that order).\n",
    "data = Dataset.load_from_df(filtered_df[['order_id', 'product_id', 'rating']], reader)\n",
    "\n",
    "filtered_df.count()"
   ]
  },
  {
   "cell_type": "code",
   "execution_count": null,
   "metadata": {
    "id": "E55Bi-RgsbVZ"
   },
   "outputs": [],
   "source": [
    "def precision_recall_at_k(predictions, k=10, threshold=.75):\n",
    "    \"\"\"Return precision and recall at k metrics for each user\"\"\"\n",
    "\n",
    "    # First map the predictions to each user.\n",
    "    user_est_true = defaultdict(list)\n",
    "    for uid, _, true_r, est, _ in predictions:\n",
    "        user_est_true[uid].append((est, true_r))\n",
    "\n",
    "    precisions = dict()\n",
    "    recalls = dict()\n",
    "    for uid, user_ratings in user_est_true.items():\n",
    "\n",
    "        # Sort user ratings by estimated value\n",
    "        user_ratings.sort(key=lambda x: x[0], reverse=True)\n",
    "\n",
    "        # Number of relevant items\n",
    "        n_rel = sum((true_r >= threshold) for (_, true_r) in user_ratings)\n",
    "\n",
    "        # Number of recommended items in top k\n",
    "        n_rec_k = sum((est >= threshold) for (est, _) in user_ratings[:k])\n",
    "\n",
    "        # Number of relevant and recommended items in top k\n",
    "        n_rel_and_rec_k = sum(((true_r >= threshold) and (est >= threshold))\n",
    "                              for (est, true_r) in user_ratings[:k])\n",
    "\n",
    "        # Precision@K: Proportion of recommended items that are relevant\n",
    "        # When n_rec_k is 0, Precision is undefined. We here set it to 0.\n",
    "\n",
    "        precisions[uid] = n_rel_and_rec_k / n_rec_k if n_rec_k != 0 else 0\n",
    "\n",
    "        # Recall@K: Proportion of relevant items that are recommended\n",
    "        # When n_rel is 0, Recall is undefined. We here set it to 0.\n",
    "\n",
    "        recalls[uid] = n_rel_and_rec_k / n_rel if n_rel != 0 else 0\n",
    "\n",
    "    return precisions, recalls"
   ]
  },
  {
   "cell_type": "code",
   "execution_count": null,
   "metadata": {
    "id": "aOSjX_t8gF1h"
   },
   "outputs": [],
   "source": [
    "def get_f_score(precision, recall):\n",
    "  denominator = precision + recall\n",
    "  if(denominator == 0):\n",
    "    return 0\n",
    "  return 2 * (precision * recall) / denominator"
   ]
  },
  {
   "cell_type": "code",
   "execution_count": null,
   "metadata": {
    "colab": {
     "base_uri": "https://localhost:8080/"
    },
    "id": "ougNsoJOfYp2",
    "outputId": "2ec889b7-ef14-411a-ea81-73f74eaa2611"
   },
   "outputs": [
    {
     "name": "stdout",
     "output_type": "stream",
     "text": [
      "Precision: 0.5562963658559489 Recall: 0.501245832010458 F1 Score 0.5273382666155958\n",
      "Precision: 0.5536836496419001 Recall: 0.4981438280463496 F1 Score 0.5244473996163053\n",
      "Precision: 0.5507121884175673 Recall: 0.49606961388916077 F1 Score 0.5219647152259278\n",
      "Precision: 0.5651175146893361 Recall: 0.511439487971711 F1 Score 0.5369402858225774\n",
      "Precision: 0.560005001719341 Recall: 0.504790076648372 F1 Score 0.5309659548290218\n"
     ]
    }
   ],
   "source": [
    "from surprise.model_selection import KFold\n",
    "from collections import defaultdict\n",
    "\n",
    "kf = KFold(n_splits=5)\n",
    "\n",
    "# We'll use the famous SVD algorithm.\n",
    "algo = SVD()\n",
    "\n",
    "for trainset, testset in kf.split(data):\n",
    "    algo.fit(trainset)\n",
    "    predictions = algo.test(testset)\n",
    "    precisions, recalls = precision_recall_at_k(predictions, k=5, threshold=5)\n",
    "\n",
    "    # Precision and recall can then be averaged over all users\n",
    "    precision = sum(prec for prec in precisions.values()) / len(precisions)\n",
    "    recall = sum(rec for rec in recalls.values()) / len(recalls)\n",
    "    fscore = get_f_score(precision, recall)\n",
    "    print('Precision:', precision, 'Recall:', recall, 'F1 Score', fscore)"
   ]
  },
  {
   "cell_type": "code",
   "execution_count": null,
   "metadata": {
    "id": "ss0dXmHs0gab"
   },
   "outputs": [],
   "source": [
    "## TODO - figure out what the scores would be if we simply recommended the most popular item\n",
    "\n",
    "## TODO - what happens if we remove duplicates - but no really, how the heck to we even do that?\n",
    "\n"
   ]
  },
  {
   "cell_type": "markdown",
   "metadata": {
    "id": "ZwkRU9QFqlmX"
   },
   "source": [
    "\n",
    "Show probability that the recommendation was acted on 50%\n",
    "\n",
    "Assume that in the real world maybe 25%\n",
    "\n",
    "For 25%, calculate additional value that would have been added if this system was in place.\n",
    "\n",
    "\n"
   ]
  },
  {
   "cell_type": "code",
   "execution_count": null,
   "metadata": {
    "colab": {
     "base_uri": "https://localhost:8080/"
    },
    "id": "EhkgQR57pTGK",
    "outputId": "8f7941cc-1039-4157-9b26-abb8ffc28f0f"
   },
   "outputs": [
    {
     "name": "stdout",
     "output_type": "stream",
     "text": [
      "user: 2353239998410523487 item: 2273948242175590517 r_ui = None   est = 5.00   {'was_impossible': False}\n",
      "user: 2353241704712110818 item: 1515966223509088692 r_ui = None   est = 4.97   {'was_impossible': False}\n",
      "user: 2388440981134613879 item: 1515966223509128687 r_ui = None   est = 4.92   {'was_impossible': False}\n",
      "user: 2386029799681295184 item: 1515966223509089261 r_ui = None   est = 4.99   {'was_impossible': False}\n",
      "user: 2362606122596041653 item: 2273948218662322995 r_ui = None   est = 4.99   {'was_impossible': False}\n",
      "user: 2353242279373701383 item: 1515966223509128873 r_ui = None   est = 4.92   {'was_impossible': False}\n",
      "user: 2353276567909564527 item: 2273948283321712726 r_ui = None   est = 4.94   {'was_impossible': False}\n",
      "user: 2348811839791432486 item: 1515966223509106168 r_ui = None   est = 4.98   {'was_impossible': False}\n",
      "user: 2379508331405377587 item: 1515966223509106895 r_ui = None   est = 4.99   {'was_impossible': False}\n",
      "user: 2348722113763869632 item: 1515966223517846980 r_ui = None   est = 5.00   {'was_impossible': False}\n",
      "user: 2348778661898879834 item: 1515966223509090099 r_ui = None   est = 4.99   {'was_impossible': False}\n",
      "user: 2388440981134475143 item: 2273948223989088542 r_ui = None   est = 4.98   {'was_impossible': False}\n",
      "user: 2353270363888026445 item: 2273948248047616169 r_ui = None   est = 5.00   {'was_impossible': False}\n",
      "user: 2353243854922056558 item: 1515966223509090193 r_ui = None   est = 4.97   {'was_impossible': False}\n",
      "user: 2348818360977850724 item: 1515966223509088668 r_ui = None   est = 5.00   {'was_impossible': False}\n",
      "user: 2388440981134550735 item: 2273948316490269348 r_ui = None   est = 5.00   {'was_impossible': False}\n",
      "user: 2363560748568805882 item: 1515966223509089052 r_ui = None   est = 5.00   {'was_impossible': False}\n",
      "user: 2353235063308550406 item: 1515966223509089425 r_ui = None   est = 5.00   {'was_impossible': False}\n",
      "user: 2388440981134573330 item: 1515966223510210818 r_ui = None   est = 5.00   {'was_impossible': False}\n",
      "user: 2348773549663060220 item: 1515966223509090018 r_ui = None   est = 4.95   {'was_impossible': False}\n"
     ]
    }
   ],
   "source": [
    "for i in range(20):\n",
    "\n",
    "  uid = random.choice(order_filter)\n",
    "  iid = random.choice(product_filter)\n",
    "\n",
    "  print(algo.predict(uid, iid))\n",
    "  "
   ]
  },
  {
   "cell_type": "code",
   "execution_count": null,
   "metadata": {
    "id": "UyrhvNUX1Cez"
   },
   "outputs": [],
   "source": [
    "def get_top_n(predictions, n=10):\n",
    "    \"\"\"Return the top-N recommendation for each user from a set of predictions.\n",
    "    Args:\n",
    "        predictions(list of Prediction objects): The list of predictions, as\n",
    "            returned by the test method of an algorithm.\n",
    "        n(int): The number of recommendation to output for each user. Default\n",
    "            is 10.\n",
    "    Returns:\n",
    "    A dict where keys are user (raw) ids and values are lists of tuples:\n",
    "        [(raw item id, rating estimation), ...] of size n.\n",
    "    \"\"\"\n",
    "\n",
    "    # First map the predictions to each user.\n",
    "    top_n = defaultdict(list)\n",
    "    for uid, iid, true_r, est, _ in predictions:\n",
    "        top_n[uid].append((iid, est))\n",
    "\n",
    "    # Then sort the predictions for each user and retrieve the k highest ones.\n",
    "    for uid, user_ratings in top_n.items():\n",
    "        user_ratings.sort(key=lambda x: x[1], reverse=True)\n",
    "        top_n[uid] = user_ratings[:n]\n",
    "\n",
    "    return top_n\n"
   ]
  },
  {
   "cell_type": "code",
   "execution_count": null,
   "metadata": {
    "id": "RHhz9YpIwVZE"
   },
   "outputs": [],
   "source": [
    "trainset = data.build_full_trainset()\n",
    "algo = SVD()\n",
    "algo.fit(trainset)\n",
    "\n",
    "# Than predict ratings for all pairs (u, i) that are NOT in the training set.\n",
    "testset = trainset.build_anti_testset()\n",
    "predictions = algo.test(testset)\n",
    "\n",
    "uid = random.choice(order_filter)\n",
    "\n",
    "top_n = get_top_n(predictions, n=10)"
   ]
  },
  {
   "cell_type": "code",
   "execution_count": null,
   "metadata": {
    "id": "eu9moO_X1Z4h"
   },
   "outputs": [],
   "source": []
  }
 ],
 "metadata": {
  "accelerator": "GPU",
  "colab": {
   "collapsed_sections": [],
   "name": "Copy of ECommerce-recommendation",
   "provenance": [],
   "toc_visible": true
  },
  "kernelspec": {
   "display_name": "Python 3",
   "language": "python",
   "name": "python3"
  },
  "language_info": {
   "codemirror_mode": {
    "name": "ipython",
    "version": 3
   },
   "file_extension": ".py",
   "mimetype": "text/x-python",
   "name": "python",
   "nbconvert_exporter": "python",
   "pygments_lexer": "ipython3",
   "version": "3.9.4"
  },
  "widgets": {
   "application/vnd.jupyter.widget-state+json": {
    "1e606ef7df03465cad86e5510b24b8d4": {
     "model_module": "@jupyter-widgets/base",
     "model_name": "LayoutModel",
     "state": {
      "_model_module": "@jupyter-widgets/base",
      "_model_module_version": "1.2.0",
      "_model_name": "LayoutModel",
      "_view_count": null,
      "_view_module": "@jupyter-widgets/base",
      "_view_module_version": "1.2.0",
      "_view_name": "LayoutView",
      "align_content": null,
      "align_items": null,
      "align_self": null,
      "border": null,
      "bottom": null,
      "display": null,
      "flex": null,
      "flex_flow": null,
      "grid_area": null,
      "grid_auto_columns": null,
      "grid_auto_flow": null,
      "grid_auto_rows": null,
      "grid_column": null,
      "grid_gap": null,
      "grid_row": null,
      "grid_template_areas": null,
      "grid_template_columns": null,
      "grid_template_rows": null,
      "height": null,
      "justify_content": null,
      "justify_items": null,
      "left": null,
      "margin": null,
      "max_height": null,
      "max_width": null,
      "min_height": null,
      "min_width": null,
      "object_fit": null,
      "object_position": null,
      "order": null,
      "overflow": null,
      "overflow_x": null,
      "overflow_y": null,
      "padding": null,
      "right": null,
      "top": null,
      "visibility": null,
      "width": null
     }
    },
    "21357474e2bd4fe79c97f614f6a35190": {
     "model_module": "@jupyter-widgets/controls",
     "model_name": "HTMLModel",
     "state": {
      "_dom_classes": [],
      "_model_module": "@jupyter-widgets/controls",
      "_model_module_version": "1.5.0",
      "_model_name": "HTMLModel",
      "_view_count": null,
      "_view_module": "@jupyter-widgets/controls",
      "_view_module_version": "1.5.0",
      "_view_name": "HTMLView",
      "description": "",
      "description_tooltip": null,
      "layout": "IPY_MODEL_b2a09233af5e4ef3aeb217d69d644bb9",
      "placeholder": "​",
      "style": "IPY_MODEL_bdd86311b117451586ebdc39a3a46ab9",
      "value": " 15/15 [00:00&lt;00:00, 102.74it/s]"
     }
    },
    "38caeadca406486e886e91666188a293": {
     "model_module": "@jupyter-widgets/controls",
     "model_name": "HBoxModel",
     "state": {
      "_dom_classes": [],
      "_model_module": "@jupyter-widgets/controls",
      "_model_module_version": "1.5.0",
      "_model_name": "HBoxModel",
      "_view_count": null,
      "_view_module": "@jupyter-widgets/controls",
      "_view_module_version": "1.5.0",
      "_view_name": "HBoxView",
      "box_style": "",
      "children": [
       "IPY_MODEL_45197b0116e749fa9cf06bcbf7b0a51f",
       "IPY_MODEL_21357474e2bd4fe79c97f614f6a35190"
      ],
      "layout": "IPY_MODEL_4f3056d5f8c04857a846ef9ddaa81dc4"
     }
    },
    "45197b0116e749fa9cf06bcbf7b0a51f": {
     "model_module": "@jupyter-widgets/controls",
     "model_name": "FloatProgressModel",
     "state": {
      "_dom_classes": [],
      "_model_module": "@jupyter-widgets/controls",
      "_model_module_version": "1.5.0",
      "_model_name": "FloatProgressModel",
      "_view_count": null,
      "_view_module": "@jupyter-widgets/controls",
      "_view_module_version": "1.5.0",
      "_view_name": "ProgressView",
      "bar_style": "success",
      "description": "100%",
      "description_tooltip": null,
      "layout": "IPY_MODEL_1e606ef7df03465cad86e5510b24b8d4",
      "max": 15,
      "min": 0,
      "orientation": "horizontal",
      "style": "IPY_MODEL_75422b249afb4908b8d2839c549798f6",
      "value": 15
     }
    },
    "4f3056d5f8c04857a846ef9ddaa81dc4": {
     "model_module": "@jupyter-widgets/base",
     "model_name": "LayoutModel",
     "state": {
      "_model_module": "@jupyter-widgets/base",
      "_model_module_version": "1.2.0",
      "_model_name": "LayoutModel",
      "_view_count": null,
      "_view_module": "@jupyter-widgets/base",
      "_view_module_version": "1.2.0",
      "_view_name": "LayoutView",
      "align_content": null,
      "align_items": null,
      "align_self": null,
      "border": null,
      "bottom": null,
      "display": null,
      "flex": null,
      "flex_flow": null,
      "grid_area": null,
      "grid_auto_columns": null,
      "grid_auto_flow": null,
      "grid_auto_rows": null,
      "grid_column": null,
      "grid_gap": null,
      "grid_row": null,
      "grid_template_areas": null,
      "grid_template_columns": null,
      "grid_template_rows": null,
      "height": null,
      "justify_content": null,
      "justify_items": null,
      "left": null,
      "margin": null,
      "max_height": null,
      "max_width": null,
      "min_height": null,
      "min_width": null,
      "object_fit": null,
      "object_position": null,
      "order": null,
      "overflow": null,
      "overflow_x": null,
      "overflow_y": null,
      "padding": null,
      "right": null,
      "top": null,
      "visibility": null,
      "width": null
     }
    },
    "75422b249afb4908b8d2839c549798f6": {
     "model_module": "@jupyter-widgets/controls",
     "model_name": "ProgressStyleModel",
     "state": {
      "_model_module": "@jupyter-widgets/controls",
      "_model_module_version": "1.5.0",
      "_model_name": "ProgressStyleModel",
      "_view_count": null,
      "_view_module": "@jupyter-widgets/base",
      "_view_module_version": "1.2.0",
      "_view_name": "StyleView",
      "bar_color": null,
      "description_width": "initial"
     }
    },
    "b2a09233af5e4ef3aeb217d69d644bb9": {
     "model_module": "@jupyter-widgets/base",
     "model_name": "LayoutModel",
     "state": {
      "_model_module": "@jupyter-widgets/base",
      "_model_module_version": "1.2.0",
      "_model_name": "LayoutModel",
      "_view_count": null,
      "_view_module": "@jupyter-widgets/base",
      "_view_module_version": "1.2.0",
      "_view_name": "LayoutView",
      "align_content": null,
      "align_items": null,
      "align_self": null,
      "border": null,
      "bottom": null,
      "display": null,
      "flex": null,
      "flex_flow": null,
      "grid_area": null,
      "grid_auto_columns": null,
      "grid_auto_flow": null,
      "grid_auto_rows": null,
      "grid_column": null,
      "grid_gap": null,
      "grid_row": null,
      "grid_template_areas": null,
      "grid_template_columns": null,
      "grid_template_rows": null,
      "height": null,
      "justify_content": null,
      "justify_items": null,
      "left": null,
      "margin": null,
      "max_height": null,
      "max_width": null,
      "min_height": null,
      "min_width": null,
      "object_fit": null,
      "object_position": null,
      "order": null,
      "overflow": null,
      "overflow_x": null,
      "overflow_y": null,
      "padding": null,
      "right": null,
      "top": null,
      "visibility": null,
      "width": null
     }
    },
    "bdd86311b117451586ebdc39a3a46ab9": {
     "model_module": "@jupyter-widgets/controls",
     "model_name": "DescriptionStyleModel",
     "state": {
      "_model_module": "@jupyter-widgets/controls",
      "_model_module_version": "1.5.0",
      "_model_name": "DescriptionStyleModel",
      "_view_count": null,
      "_view_module": "@jupyter-widgets/base",
      "_view_module_version": "1.2.0",
      "_view_name": "StyleView",
      "description_width": ""
     }
    }
   }
  }
 },
 "nbformat": 4,
 "nbformat_minor": 1
}
