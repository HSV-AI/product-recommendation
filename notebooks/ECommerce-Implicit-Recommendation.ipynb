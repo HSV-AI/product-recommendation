{
 "cells": [
  {
   "cell_type": "markdown",
   "metadata": {
    "id": "gEfZf48Wu5f0"
   },
   "source": [
    "![HSV-AI Logo](https://github.com/HSV-AI/hugo-website/blob/master/static/images/logo_v9.png?raw=true)\n",
    "\n",
    "# Implicit Recommendation from ECommerce Data\n",
    "\n",
    "Some of the material for this work is based on [A Gentle Introduction to Recommender Systems with Implicit Feedback](https://jessesw.com/Rec-System/) by Jesse Steinweg Woods. This tutorial includes an implementation of the Alternating Least Squares algorithm and some other useful functions (like the area under the curve calculation). Other parts of the tutorial are based on a previous version of the Implicit library and had to be reworked.\n",
    "\n",
    "The dataset used for this work is from Kaggle [E-Commerce Data, Actual transactions from UK retailer](https://www.kaggle.com/carrie1/ecommerce-data)\n"
   ]
  },
  {
   "cell_type": "markdown",
   "metadata": {
    "id": "OApEEC0_wB4C"
   },
   "source": [
    "# Global Imports"
   ]
  },
  {
   "cell_type": "code",
   "execution_count": 1,
   "metadata": {
    "execution": {
     "iopub.execute_input": "2021-08-21T19:32:51.254650Z",
     "iopub.status.busy": "2021-08-21T19:32:51.254008Z",
     "iopub.status.idle": "2021-08-21T19:32:52.394499Z",
     "shell.execute_reply": "2021-08-21T19:32:52.394989Z"
    },
    "id": "fsb9emt6nrPu"
   },
   "outputs": [],
   "source": [
    "import pandas as pd\n",
    "import numpy as np\n",
    "import random\n",
    "from matplotlib import pyplot as plt\n",
    "import implicit\n",
    "import scipy\n",
    "from sklearn import metrics\n",
    "from pandas.api.types import CategoricalDtype"
   ]
  },
  {
   "cell_type": "code",
   "execution_count": 2,
   "metadata": {
    "execution": {
     "iopub.execute_input": "2021-08-21T19:32:52.401730Z",
     "iopub.status.busy": "2021-08-21T19:32:52.401116Z",
     "iopub.status.idle": "2021-08-21T19:32:52.456538Z",
     "shell.execute_reply": "2021-08-21T19:32:52.457016Z"
    }
   },
   "outputs": [],
   "source": [
    "%run Common-Functions.ipynb"
   ]
  },
  {
   "cell_type": "code",
   "execution_count": 3,
   "metadata": {
    "execution": {
     "iopub.execute_input": "2021-08-21T19:32:52.462715Z",
     "iopub.status.busy": "2021-08-21T19:32:52.461819Z",
     "iopub.status.idle": "2021-08-21T19:32:52.792204Z",
     "shell.execute_reply": "2021-08-21T19:32:52.793317Z"
    }
   },
   "outputs": [
    {
     "name": "stdout",
     "output_type": "stream",
     "text": [
      "Loaded 72875 rows\n"
     ]
    }
   ],
   "source": [
    "selected_df = pd.read_pickle('../data/interim/ecommerce/selected_invoices.gz')\n",
    "item_lookup = pd.read_pickle('../data/interim/ecommerce/item_lookup.gz')\n",
    "\n",
    "print('Loaded',len(selected_df),'rows')"
   ]
  },
  {
   "cell_type": "code",
   "execution_count": 4,
   "metadata": {
    "execution": {
     "iopub.execute_input": "2021-08-21T19:32:52.803030Z",
     "iopub.status.busy": "2021-08-21T19:32:52.802474Z",
     "iopub.status.idle": "2021-08-21T19:32:52.842979Z",
     "shell.execute_reply": "2021-08-21T19:32:52.842416Z"
    }
   },
   "outputs": [],
   "source": [
    "invoices = list(np.sort(selected_df.InvoiceNo.unique())) # Get our unique customers\n",
    "products = list(selected_df.StockCode.unique()) # Get our unique products that were purchased\n",
    "quantity = list(selected_df.Quantity) # All of our purchases\n",
    "\n",
    "cols = selected_df.InvoiceNo.astype(CategoricalDtype(categories=invoices, ordered=True)).cat.codes \n",
    "# Get the associated row indices\n",
    "rows = selected_df.StockCode.astype(CategoricalDtype(categories=products, ordered=True)).cat.codes \n",
    "# Get the associated column indices\n",
    "purchases_sparse = scipy.sparse.csr_matrix((quantity, (rows, cols)), shape=(len(products), len(invoices)))"
   ]
  },
  {
   "cell_type": "code",
   "execution_count": 5,
   "metadata": {
    "execution": {
     "iopub.execute_input": "2021-08-21T19:32:52.849733Z",
     "iopub.status.busy": "2021-08-21T19:32:52.848961Z",
     "iopub.status.idle": "2021-08-21T19:32:52.858038Z",
     "shell.execute_reply": "2021-08-21T19:32:52.858520Z"
    }
   },
   "outputs": [
    {
     "data": {
      "text/plain": [
       "99.63446551712478"
      ]
     },
     "execution_count": 5,
     "metadata": {},
     "output_type": "execute_result"
    }
   ],
   "source": [
    "matrix_size = purchases_sparse.shape[0]*purchases_sparse.shape[1] # Number of possible interactions in the matrix\n",
    "num_purchases = len(purchases_sparse.nonzero()[0]) # Number of items interacted with\n",
    "sparsity = 100*(1 - (num_purchases/matrix_size))\n",
    "sparsity"
   ]
  },
  {
   "cell_type": "markdown",
   "metadata": {},
   "source": [
    "# Training & Test Datasets\n",
    "\n",
    "We will use the function below to create a training and test dataset from the tutorial linked at the top. The test dataset masks some percentage of purchases to tested later with a recommendation."
   ]
  },
  {
   "cell_type": "code",
   "execution_count": 6,
   "metadata": {
    "execution": {
     "iopub.execute_input": "2021-08-21T19:32:52.863597Z",
     "iopub.status.busy": "2021-08-21T19:32:52.862968Z",
     "iopub.status.idle": "2021-08-21T19:32:52.909267Z",
     "shell.execute_reply": "2021-08-21T19:32:52.908672Z"
    }
   },
   "outputs": [],
   "source": [
    "product_train, product_test, products_altered, transactions_altered = make_train(purchases_sparse, pct_test = 0.1)"
   ]
  },
  {
   "cell_type": "markdown",
   "metadata": {},
   "source": [
    "# Implicit Recommendation Model\n",
    "\n",
    "The code below creates and trains one of the models available from the Implicit package. Currently using hyperparameters suggested by various tutorials with no tuning."
   ]
  },
  {
   "cell_type": "code",
   "execution_count": 7,
   "metadata": {
    "execution": {
     "iopub.execute_input": "2021-08-21T19:32:52.916265Z",
     "iopub.status.busy": "2021-08-21T19:32:52.915656Z",
     "iopub.status.idle": "2021-08-21T19:33:35.553776Z",
     "shell.execute_reply": "2021-08-21T19:33:35.554751Z"
    }
   },
   "outputs": [
    {
     "name": "stderr",
     "output_type": "stream",
     "text": [
      "WARNING:root:OpenBLAS detected. Its highly recommend to set the environment variable 'export OPENBLAS_NUM_THREADS=1' to disable its internal multithreading\n"
     ]
    },
    {
     "data": {
      "application/vnd.jupyter.widget-view+json": {
       "model_id": "1ff529d18dd04c789d10a7a72c2d3f67",
       "version_major": 2,
       "version_minor": 0
      },
      "text/plain": [
       "  0%|          | 0/73 [00:00<?, ?it/s]"
      ]
     },
     "metadata": {},
     "output_type": "display_data"
    }
   ],
   "source": [
    "alpha = 29\n",
    "factors = 64\n",
    "regularization = 0.117\n",
    "iterations = 73\n",
    "\n",
    "model = implicit.als.AlternatingLeastSquares(factors=factors,\n",
    "                                    regularization=regularization,\n",
    "                                    iterations=iterations)\n",
    "\n",
    "## BayesianPersonalizedRanking was pretty bad\n",
    "# model = implicit.bpr.BayesianPersonalizedRanking(factors=31,\n",
    "#                                     regularization=0.1,\n",
    "#                                     iterations=50)\n",
    "\n",
    "\n",
    "# model = implicit.lmf.LogisticMatrixFactorization(factors=32,\n",
    "#                                     regularization=0.1,\n",
    "#                                     iterations=50)\n",
    "\n",
    "model.fit((product_train * alpha).astype('double'))\n",
    "\n",
    "user_vecs = model.user_factors\n",
    "item_vecs = model.item_factors\n",
    "\n",
    "# Deprecated function below\n",
    "# user_vecs, item_vecs = implicit.alternating_least_squares((product_train*alpha).astype('double'), \n",
    "#                                                           factors=32, \n",
    "#                                                           regularization = 0.1, \n",
    "#                                                           iterations = 50)"
   ]
  },
  {
   "cell_type": "code",
   "execution_count": 8,
   "metadata": {
    "execution": {
     "iopub.execute_input": "2021-08-21T19:33:35.565346Z",
     "iopub.status.busy": "2021-08-21T19:33:35.564115Z",
     "iopub.status.idle": "2021-08-21T19:33:35.588961Z",
     "shell.execute_reply": "2021-08-21T19:33:35.587187Z"
    }
   },
   "outputs": [],
   "source": [
    "np.save('../data/interim/ecommerce/user_factors', user_vecs)\n",
    "np.save('../data/interim/ecommerce/item_factors', item_vecs)\n",
    "np.save('../data/interim/ecommerce/product_train', product_train*alpha)"
   ]
  },
  {
   "cell_type": "markdown",
   "metadata": {},
   "source": [
    "# Scoring the Model\n",
    "\n",
    "Following the tutorial, we will use the area under the Receiver Operating Characteristic curve. "
   ]
  },
  {
   "cell_type": "code",
   "execution_count": 9,
   "metadata": {
    "execution": {
     "iopub.execute_input": "2021-08-21T19:33:35.602600Z",
     "iopub.status.busy": "2021-08-21T19:33:35.599461Z",
     "iopub.status.idle": "2021-08-21T19:33:44.743425Z",
     "shell.execute_reply": "2021-08-21T19:33:44.742678Z"
    }
   },
   "outputs": [
    {
     "name": "stdout",
     "output_type": "stream",
     "text": [
      "Our model scored 0.8002130407904754 versus a score of 0.7365393729154979 if we always recommended the most popular item.\n"
     ]
    }
   ],
   "source": [
    "test, popular = calc_mean_auc(product_train, products_altered, \n",
    "              [scipy.sparse.csr_matrix(item_vecs), scipy.sparse.csr_matrix(user_vecs.T)], product_test)\n",
    "\n",
    "\n",
    "print('Our model scored',test,'versus a score of',popular,'if we always recommended the most popular item.')"
   ]
  },
  {
   "cell_type": "markdown",
   "metadata": {},
   "source": [
    "# Spot Checking\n",
    "\n",
    "Now that we have a pretty good idea of the model performance overall, we can spot check a few things like finding similar items and checking item recommendations for an existing invoice.\n",
    "\n",
    "The code below is commented out to be able to run automatically from a dvc stage."
   ]
  },
  {
   "cell_type": "code",
   "execution_count": 10,
   "metadata": {
    "execution": {
     "iopub.execute_input": "2021-08-21T19:33:44.751517Z",
     "iopub.status.busy": "2021-08-21T19:33:44.750532Z",
     "iopub.status.idle": "2021-08-21T19:33:44.790587Z",
     "shell.execute_reply": "2021-08-21T19:33:44.787726Z"
    }
   },
   "outputs": [
    {
     "name": "stdout",
     "output_type": "stream",
     "text": [
      "0.9999999 SKULLS PARTY BAG + STICKER SET\n",
      "0.70554185 PACK OF 6 SKULL PAPER CUPS\n",
      "0.6804175 DINOSAUR PARTY BAG + STICKER SET\n",
      "0.6699035 RETROSPOT PARTY BAG + STICKER SET\n",
      "0.6458982 3D SHEET OF DOG STICKERS\n",
      "0.6016882 PACK OF 6 SKULL PAPER PLATES\n",
      "0.55474675 SET OF 9 BLACK SKULL BALLOONS\n",
      "0.54204106 FLYING PIG WATERING CAN\n",
      "0.53096527 WOODLAND PARTY BAG + STICKER SET\n",
      "0.5161282 BLUE PARTY BAGS \n"
     ]
    }
   ],
   "source": [
    "related = model.similar_items(1284)\n",
    "for rel in related:\n",
    "    index = rel[0]\n",
    "    prob = rel[1]\n",
    "    item = item_lookup[item_lookup.StockCode == products[index]].values\n",
    "    print(prob, item[0][1])\n"
   ]
  },
  {
   "cell_type": "code",
   "execution_count": 11,
   "metadata": {
    "execution": {
     "iopub.execute_input": "2021-08-21T19:33:44.805033Z",
     "iopub.status.busy": "2021-08-21T19:33:44.802676Z",
     "iopub.status.idle": "2021-08-21T19:33:44.817886Z",
     "shell.execute_reply": "2021-08-21T19:33:44.816569Z"
    }
   },
   "outputs": [],
   "source": [
    "user_items = (product_train * alpha).astype('double').T.tocsr()\n",
    "\n",
    "def recommend(order):\n",
    "    print('Order Contents:')\n",
    "    print(selected_df[selected_df.InvoiceNo == str(invoices[order])].loc[:, ['StockCode', 'Description']])\n",
    "    print('Recommendations:')\n",
    "    recommendations = model.recommend(order, user_items)\n",
    "    for rec in recommendations:\n",
    "        index = rec[0]\n",
    "        prob = rec[1]\n",
    "        stock_code = products[index]\n",
    "        item = item_lookup[item_lookup.StockCode == stock_code].values\n",
    "        print(prob, stock_code, item[0][1])    \n"
   ]
  },
  {
   "cell_type": "code",
   "execution_count": 12,
   "metadata": {
    "execution": {
     "iopub.execute_input": "2021-08-21T19:33:44.843001Z",
     "iopub.status.busy": "2021-08-21T19:33:44.835314Z",
     "iopub.status.idle": "2021-08-21T19:33:44.880716Z",
     "shell.execute_reply": "2021-08-21T19:33:44.879593Z"
    }
   },
   "outputs": [
    {
     "name": "stdout",
     "output_type": "stream",
     "text": [
      "Order Contents:\n",
      "  StockCode                Description\n",
      "7     22633     HAND WARMER UNION JACK\n",
      "8     22632  HAND WARMER RED POLKA DOT\n",
      "Recommendations:\n",
      "0.75235134 22865 HAND WARMER OWL DESIGN\n",
      "0.74426055 22867 HAND WARMER BIRD DESIGN\n",
      "0.7241447 22866 HAND WARMER SCOTTY DOG DESIGN\n",
      "0.6827718 23439 HAND WARMER RED LOVE HEART\n",
      "0.41684604 22834 HAND WARMER BABUSHKA DESIGN\n",
      "0.39577496 23355 HOT WATER BOTTLE KEEP CALM\n",
      "0.3705899 22114 HOT WATER BOTTLE TEA AND SYMPATHY\n",
      "0.3326301 84029E RED WOOLLY HOTTIE WHITE HEART.\n",
      "0.3141568 21481 FAWN BLUE HOT WATER BOTTLE\n",
      "0.2843492 22111 SCOTTIE DOG HOT WATER BOTTLE\n"
     ]
    }
   ],
   "source": [
    "recommend(1)"
   ]
  },
  {
   "cell_type": "code",
   "execution_count": 13,
   "metadata": {
    "execution": {
     "iopub.execute_input": "2021-08-21T19:33:44.906110Z",
     "iopub.status.busy": "2021-08-21T19:33:44.905036Z",
     "iopub.status.idle": "2021-08-21T19:33:44.948001Z",
     "shell.execute_reply": "2021-08-21T19:33:44.949123Z"
    }
   },
   "outputs": [
    {
     "name": "stdout",
     "output_type": "stream",
     "text": [
      "Order Contents:\n",
      "       StockCode                         Description\n",
      "189024     21122  SET/10 PINK POLKADOT PARTY CANDLES\n",
      "189025     22953  BIRTHDAY PARTY CORDON BARRIER TAPE\n",
      "189026     22435      SET OF 9 HEART SHAPED BALLOONS\n",
      "189027     22436          12 COLOURED PARTY BALLOONS\n",
      "Recommendations:\n",
      "0.38086239 23154 SET OF 4 JAM JAR MAGNETS\n",
      "0.360277 23159 SET OF 5 PANCAKE DAY MAGNETS\n",
      "0.34165066 22766 PHOTO FRAME CORNICE\n",
      "0.29829544 21679 SKULLS  STICKERS\n",
      "0.2912522 21361 LOVE LARGE WOOD LETTERS \n",
      "0.28766885 23158 SET OF 5 LUCKY CAT MAGNETS \n",
      "0.28373688 21430 SET/3 RED GINGHAM ROSE STORAGE BOX\n",
      "0.28058022 23121 PACK OF 6 COCKTAIL PARASOL STRAWS\n",
      "0.27489558 22834 HAND WARMER BABUSHKA DESIGN\n",
      "0.2726527 21209 MULTICOLOUR HONEYCOMB FAN\n"
     ]
    }
   ],
   "source": [
    "recommend(2340)"
   ]
  },
  {
   "cell_type": "code",
   "execution_count": 14,
   "metadata": {
    "execution": {
     "iopub.execute_input": "2021-08-21T19:33:44.954088Z",
     "iopub.status.busy": "2021-08-21T19:33:44.953076Z",
     "iopub.status.idle": "2021-08-21T19:33:44.976600Z",
     "shell.execute_reply": "2021-08-21T19:33:44.977612Z"
    }
   },
   "outputs": [
    {
     "data": {
      "text/html": [
       "<div>\n",
       "<style scoped>\n",
       "    .dataframe tbody tr th:only-of-type {\n",
       "        vertical-align: middle;\n",
       "    }\n",
       "\n",
       "    .dataframe tbody tr th {\n",
       "        vertical-align: top;\n",
       "    }\n",
       "\n",
       "    .dataframe thead th {\n",
       "        text-align: right;\n",
       "    }\n",
       "</style>\n",
       "<table border=\"1\" class=\"dataframe\">\n",
       "  <thead>\n",
       "    <tr style=\"text-align: right;\">\n",
       "      <th></th>\n",
       "      <th>InvoiceNo</th>\n",
       "      <th>StockCode</th>\n",
       "      <th>Quantity</th>\n",
       "      <th>UnitPrice</th>\n",
       "      <th>Description</th>\n",
       "    </tr>\n",
       "  </thead>\n",
       "  <tbody>\n",
       "    <tr>\n",
       "      <th>0</th>\n",
       "      <td>536365</td>\n",
       "      <td>85123A</td>\n",
       "      <td>6</td>\n",
       "      <td>2.55</td>\n",
       "      <td>WHITE HANGING HEART T-LIGHT HOLDER</td>\n",
       "    </tr>\n",
       "    <tr>\n",
       "      <th>1</th>\n",
       "      <td>536365</td>\n",
       "      <td>71053</td>\n",
       "      <td>6</td>\n",
       "      <td>3.39</td>\n",
       "      <td>WHITE METAL LANTERN</td>\n",
       "    </tr>\n",
       "    <tr>\n",
       "      <th>2</th>\n",
       "      <td>536365</td>\n",
       "      <td>84406B</td>\n",
       "      <td>8</td>\n",
       "      <td>2.75</td>\n",
       "      <td>CREAM CUPID HEARTS COAT HANGER</td>\n",
       "    </tr>\n",
       "    <tr>\n",
       "      <th>3</th>\n",
       "      <td>536365</td>\n",
       "      <td>84029G</td>\n",
       "      <td>6</td>\n",
       "      <td>3.39</td>\n",
       "      <td>KNITTED UNION FLAG HOT WATER BOTTLE</td>\n",
       "    </tr>\n",
       "    <tr>\n",
       "      <th>4</th>\n",
       "      <td>536365</td>\n",
       "      <td>84029E</td>\n",
       "      <td>6</td>\n",
       "      <td>3.39</td>\n",
       "      <td>RED WOOLLY HOTTIE WHITE HEART.</td>\n",
       "    </tr>\n",
       "  </tbody>\n",
       "</table>\n",
       "</div>"
      ],
      "text/plain": [
       "  InvoiceNo StockCode  Quantity  UnitPrice  \\\n",
       "0    536365    85123A         6       2.55   \n",
       "1    536365     71053         6       3.39   \n",
       "2    536365    84406B         8       2.75   \n",
       "3    536365    84029G         6       3.39   \n",
       "4    536365    84029E         6       3.39   \n",
       "\n",
       "                           Description  \n",
       "0   WHITE HANGING HEART T-LIGHT HOLDER  \n",
       "1                  WHITE METAL LANTERN  \n",
       "2       CREAM CUPID HEARTS COAT HANGER  \n",
       "3  KNITTED UNION FLAG HOT WATER BOTTLE  \n",
       "4       RED WOOLLY HOTTIE WHITE HEART.  "
      ]
     },
     "execution_count": 14,
     "metadata": {},
     "output_type": "execute_result"
    }
   ],
   "source": [
    "selected_df.head()"
   ]
  },
  {
   "cell_type": "code",
   "execution_count": 15,
   "metadata": {
    "execution": {
     "iopub.execute_input": "2021-08-21T19:33:44.982702Z",
     "iopub.status.busy": "2021-08-21T19:33:44.981598Z",
     "iopub.status.idle": "2021-08-21T19:33:59.087935Z",
     "shell.execute_reply": "2021-08-21T19:33:59.088874Z"
    }
   },
   "outputs": [
    {
     "name": "stdout",
     "output_type": "stream",
     "text": [
      "After recommending 5761 items, there would be an increase of $24,107.95 in additional purchases.\n"
     ]
    }
   ],
   "source": [
    "price_lookup = selected_df[['StockCode', 'UnitPrice']].drop_duplicates() # Only get unique item/description pairs\n",
    "price_lookup['StockCode'] = price_lookup.StockCode.astype(str) # Encode as strings for future lookup ease\n",
    "\n",
    "recommended_price = []\n",
    "for user in range(0, len(invoices)):\n",
    "    recommendations = model.recommend(user, user_items)\n",
    "    index = recommendations[0][0]\n",
    "    price = price_lookup[price_lookup.StockCode == products[index]].values\n",
    "    recommended_price.append(price[0][1])\n",
    "    \n",
    "total_recommended = np.sum(recommended_price)\n",
    "\n",
    "print('After recommending',len(invoices),'items, there would be an increase of',\n",
    "      \"${:,.2f}\".format(total_recommended),'in additional purchases.')\n"
   ]
  },
  {
   "cell_type": "code",
   "execution_count": 16,
   "metadata": {
    "execution": {
     "iopub.execute_input": "2021-08-21T19:33:59.094612Z",
     "iopub.status.busy": "2021-08-21T19:33:59.092785Z",
     "iopub.status.idle": "2021-08-21T19:33:59.125677Z",
     "shell.execute_reply": "2021-08-21T19:33:59.126992Z"
    }
   },
   "outputs": [
    {
     "name": "stdout",
     "output_type": "stream",
     "text": [
      "Added to the initial total of all 5761 purchases valued at $928,261.46 , the percentage increase in revenue would be 0.03%\n"
     ]
    }
   ],
   "source": [
    "selected_df['StockTotal'] = selected_df['Quantity'] * selected_df['UnitPrice']\n",
    "totals = selected_df.groupby(selected_df.InvoiceNo)['StockTotal'].sum()\n",
    "total = totals.sum()\n",
    "\n",
    "print('Added to the initial total of all',len(invoices),'purchases valued at',\n",
    "      \"${:,.2f}\".format(total),', the percentage increase in revenue would be', \"{:,.2f}%\".format(total_recommended / total))\n"
   ]
  }
 ],
 "metadata": {
  "accelerator": "GPU",
  "colab": {
   "collapsed_sections": [],
   "name": "Copy of ECommerce-recommendation",
   "provenance": [],
   "toc_visible": true
  },
  "interpreter": {
   "hash": "4cd7ab41f5fca4b9b44701077e38c5ffd31fe66a6cab21e0214b68d958d0e462"
  },
  "kernelspec": {
   "display_name": "Python 3 (ipykernel)",
   "language": "python",
   "name": "python3"
  },
  "language_info": {
   "codemirror_mode": {
    "name": "ipython",
    "version": 3
   },
   "file_extension": ".py",
   "mimetype": "text/x-python",
   "name": "python",
   "nbconvert_exporter": "python",
   "pygments_lexer": "ipython3",
   "version": "3.7.11"
  },
  "widgets": {
   "application/vnd.jupyter.widget-state+json": {
    "state": {
     "1a910dc096304060990d5dd3ed478d63": {
      "model_module": "@jupyter-widgets/base",
      "model_module_version": "1.2.0",
      "model_name": "LayoutModel",
      "state": {
       "_model_module": "@jupyter-widgets/base",
       "_model_module_version": "1.2.0",
       "_model_name": "LayoutModel",
       "_view_count": null,
       "_view_module": "@jupyter-widgets/base",
       "_view_module_version": "1.2.0",
       "_view_name": "LayoutView",
       "align_content": null,
       "align_items": null,
       "align_self": null,
       "border": null,
       "bottom": null,
       "display": null,
       "flex": null,
       "flex_flow": null,
       "grid_area": null,
       "grid_auto_columns": null,
       "grid_auto_flow": null,
       "grid_auto_rows": null,
       "grid_column": null,
       "grid_gap": null,
       "grid_row": null,
       "grid_template_areas": null,
       "grid_template_columns": null,
       "grid_template_rows": null,
       "height": null,
       "justify_content": null,
       "justify_items": null,
       "left": null,
       "margin": null,
       "max_height": null,
       "max_width": null,
       "min_height": null,
       "min_width": null,
       "object_fit": null,
       "object_position": null,
       "order": null,
       "overflow": null,
       "overflow_x": null,
       "overflow_y": null,
       "padding": null,
       "right": null,
       "top": null,
       "visibility": null,
       "width": null
      }
     },
     "1fa1f43080824d309fc2618e1f5a80db": {
      "model_module": "@jupyter-widgets/controls",
      "model_module_version": "1.5.0",
      "model_name": "HBoxModel",
      "state": {
       "_dom_classes": [],
       "_model_module": "@jupyter-widgets/controls",
       "_model_module_version": "1.5.0",
       "_model_name": "HBoxModel",
       "_view_count": null,
       "_view_module": "@jupyter-widgets/controls",
       "_view_module_version": "1.5.0",
       "_view_name": "HBoxView",
       "box_style": "",
       "children": [
        "IPY_MODEL_74239ce140d2461c82fa380ff6650fa3",
        "IPY_MODEL_4308805697764cd5a536a8ec5679fbba",
        "IPY_MODEL_baf2ce83d2004c6f97da958cca538563"
       ],
       "layout": "IPY_MODEL_ba3604f2164a4e5993e9d18faaf26508"
      }
     },
     "22a460ed49824049b6dafd744e4c31cb": {
      "model_module": "@jupyter-widgets/controls",
      "model_module_version": "1.5.0",
      "model_name": "DescriptionStyleModel",
      "state": {
       "_model_module": "@jupyter-widgets/controls",
       "_model_module_version": "1.5.0",
       "_model_name": "DescriptionStyleModel",
       "_view_count": null,
       "_view_module": "@jupyter-widgets/base",
       "_view_module_version": "1.2.0",
       "_view_name": "StyleView",
       "description_width": ""
      }
     },
     "4308805697764cd5a536a8ec5679fbba": {
      "model_module": "@jupyter-widgets/controls",
      "model_module_version": "1.5.0",
      "model_name": "FloatProgressModel",
      "state": {
       "_dom_classes": [],
       "_model_module": "@jupyter-widgets/controls",
       "_model_module_version": "1.5.0",
       "_model_name": "FloatProgressModel",
       "_view_count": null,
       "_view_module": "@jupyter-widgets/controls",
       "_view_module_version": "1.5.0",
       "_view_name": "ProgressView",
       "bar_style": "success",
       "description": "",
       "description_tooltip": null,
       "layout": "IPY_MODEL_a59d6d267331423bae7b0b1395562bcc",
       "max": 73,
       "min": 0,
       "orientation": "horizontal",
       "style": "IPY_MODEL_e6f0c1af9f5b4555b6bb47aa4236fa5c",
       "value": 73
      }
     },
     "4b4b49c359f749b28e886aa3267fe0cf": {
      "model_module": "@jupyter-widgets/base",
      "model_module_version": "1.2.0",
      "model_name": "LayoutModel",
      "state": {
       "_model_module": "@jupyter-widgets/base",
       "_model_module_version": "1.2.0",
       "_model_name": "LayoutModel",
       "_view_count": null,
       "_view_module": "@jupyter-widgets/base",
       "_view_module_version": "1.2.0",
       "_view_name": "LayoutView",
       "align_content": null,
       "align_items": null,
       "align_self": null,
       "border": null,
       "bottom": null,
       "display": null,
       "flex": null,
       "flex_flow": null,
       "grid_area": null,
       "grid_auto_columns": null,
       "grid_auto_flow": null,
       "grid_auto_rows": null,
       "grid_column": null,
       "grid_gap": null,
       "grid_row": null,
       "grid_template_areas": null,
       "grid_template_columns": null,
       "grid_template_rows": null,
       "height": null,
       "justify_content": null,
       "justify_items": null,
       "left": null,
       "margin": null,
       "max_height": null,
       "max_width": null,
       "min_height": null,
       "min_width": null,
       "object_fit": null,
       "object_position": null,
       "order": null,
       "overflow": null,
       "overflow_x": null,
       "overflow_y": null,
       "padding": null,
       "right": null,
       "top": null,
       "visibility": null,
       "width": null
      }
     },
     "74239ce140d2461c82fa380ff6650fa3": {
      "model_module": "@jupyter-widgets/controls",
      "model_module_version": "1.5.0",
      "model_name": "HTMLModel",
      "state": {
       "_dom_classes": [],
       "_model_module": "@jupyter-widgets/controls",
       "_model_module_version": "1.5.0",
       "_model_name": "HTMLModel",
       "_view_count": null,
       "_view_module": "@jupyter-widgets/controls",
       "_view_module_version": "1.5.0",
       "_view_name": "HTMLView",
       "description": "",
       "description_tooltip": null,
       "layout": "IPY_MODEL_1a910dc096304060990d5dd3ed478d63",
       "placeholder": "​",
       "style": "IPY_MODEL_9d37add5ea6f4f4f846507ec314ecb2b",
       "value": "100%"
      }
     },
     "9d37add5ea6f4f4f846507ec314ecb2b": {
      "model_module": "@jupyter-widgets/controls",
      "model_module_version": "1.5.0",
      "model_name": "DescriptionStyleModel",
      "state": {
       "_model_module": "@jupyter-widgets/controls",
       "_model_module_version": "1.5.0",
       "_model_name": "DescriptionStyleModel",
       "_view_count": null,
       "_view_module": "@jupyter-widgets/base",
       "_view_module_version": "1.2.0",
       "_view_name": "StyleView",
       "description_width": ""
      }
     },
     "a59d6d267331423bae7b0b1395562bcc": {
      "model_module": "@jupyter-widgets/base",
      "model_module_version": "1.2.0",
      "model_name": "LayoutModel",
      "state": {
       "_model_module": "@jupyter-widgets/base",
       "_model_module_version": "1.2.0",
       "_model_name": "LayoutModel",
       "_view_count": null,
       "_view_module": "@jupyter-widgets/base",
       "_view_module_version": "1.2.0",
       "_view_name": "LayoutView",
       "align_content": null,
       "align_items": null,
       "align_self": null,
       "border": null,
       "bottom": null,
       "display": null,
       "flex": null,
       "flex_flow": null,
       "grid_area": null,
       "grid_auto_columns": null,
       "grid_auto_flow": null,
       "grid_auto_rows": null,
       "grid_column": null,
       "grid_gap": null,
       "grid_row": null,
       "grid_template_areas": null,
       "grid_template_columns": null,
       "grid_template_rows": null,
       "height": null,
       "justify_content": null,
       "justify_items": null,
       "left": null,
       "margin": null,
       "max_height": null,
       "max_width": null,
       "min_height": null,
       "min_width": null,
       "object_fit": null,
       "object_position": null,
       "order": null,
       "overflow": null,
       "overflow_x": null,
       "overflow_y": null,
       "padding": null,
       "right": null,
       "top": null,
       "visibility": null,
       "width": null
      }
     },
     "ba3604f2164a4e5993e9d18faaf26508": {
      "model_module": "@jupyter-widgets/base",
      "model_module_version": "1.2.0",
      "model_name": "LayoutModel",
      "state": {
       "_model_module": "@jupyter-widgets/base",
       "_model_module_version": "1.2.0",
       "_model_name": "LayoutModel",
       "_view_count": null,
       "_view_module": "@jupyter-widgets/base",
       "_view_module_version": "1.2.0",
       "_view_name": "LayoutView",
       "align_content": null,
       "align_items": null,
       "align_self": null,
       "border": null,
       "bottom": null,
       "display": null,
       "flex": null,
       "flex_flow": null,
       "grid_area": null,
       "grid_auto_columns": null,
       "grid_auto_flow": null,
       "grid_auto_rows": null,
       "grid_column": null,
       "grid_gap": null,
       "grid_row": null,
       "grid_template_areas": null,
       "grid_template_columns": null,
       "grid_template_rows": null,
       "height": null,
       "justify_content": null,
       "justify_items": null,
       "left": null,
       "margin": null,
       "max_height": null,
       "max_width": null,
       "min_height": null,
       "min_width": null,
       "object_fit": null,
       "object_position": null,
       "order": null,
       "overflow": null,
       "overflow_x": null,
       "overflow_y": null,
       "padding": null,
       "right": null,
       "top": null,
       "visibility": null,
       "width": null
      }
     },
     "baf2ce83d2004c6f97da958cca538563": {
      "model_module": "@jupyter-widgets/controls",
      "model_module_version": "1.5.0",
      "model_name": "HTMLModel",
      "state": {
       "_dom_classes": [],
       "_model_module": "@jupyter-widgets/controls",
       "_model_module_version": "1.5.0",
       "_model_name": "HTMLModel",
       "_view_count": null,
       "_view_module": "@jupyter-widgets/controls",
       "_view_module_version": "1.5.0",
       "_view_name": "HTMLView",
       "description": "",
       "description_tooltip": null,
       "layout": "IPY_MODEL_4b4b49c359f749b28e886aa3267fe0cf",
       "placeholder": "​",
       "style": "IPY_MODEL_22a460ed49824049b6dafd744e4c31cb",
       "value": " 73/73 [00:42&lt;00:00,  1.76it/s]"
      }
     },
     "e6f0c1af9f5b4555b6bb47aa4236fa5c": {
      "model_module": "@jupyter-widgets/controls",
      "model_module_version": "1.5.0",
      "model_name": "ProgressStyleModel",
      "state": {
       "_model_module": "@jupyter-widgets/controls",
       "_model_module_version": "1.5.0",
       "_model_name": "ProgressStyleModel",
       "_view_count": null,
       "_view_module": "@jupyter-widgets/base",
       "_view_module_version": "1.2.0",
       "_view_name": "StyleView",
       "bar_color": null,
       "description_width": ""
      }
     }
    },
    "version_major": 2,
    "version_minor": 0
   }
  }
 },
 "nbformat": 4,
 "nbformat_minor": 1
}
