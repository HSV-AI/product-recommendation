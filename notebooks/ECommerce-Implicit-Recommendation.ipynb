{
 "cells": [
  {
   "cell_type": "markdown",
   "metadata": {
    "id": "gEfZf48Wu5f0"
   },
   "source": [
    "![HSV-AI Logo](https://github.com/HSV-AI/hugo-website/blob/master/static/images/logo_v9.png?raw=true)\n",
    "\n",
    "# Implicit Recommendation from ECommerce Data\n",
    "\n",
    "Some of the material for this work is based on [A Gentle Introduction to Recommender Systems with Implicit Feedback](https://jessesw.com/Rec-System/) by Jesse Steinweg Woods. This tutorial includes an implementation of the Alternating Least Squares algorithm and some other useful functions (like the area under the curve calculation). Other parts of the tutorial are based on a previous version of the Implicit library and had to be reworked.\n",
    "\n",
    "The dataset used for this work is from Kaggle [E-Commerce Data, Actual transactions from UK retailer](https://www.kaggle.com/carrie1/ecommerce-data)\n"
   ]
  },
  {
   "cell_type": "markdown",
   "metadata": {
    "id": "OApEEC0_wB4C"
   },
   "source": [
    "# Global Imports"
   ]
  },
  {
   "cell_type": "code",
   "execution_count": 1,
   "metadata": {
    "id": "fsb9emt6nrPu"
   },
   "outputs": [],
   "source": [
    "import pandas as pd\n",
    "import numpy as np\n",
    "import random\n",
    "from matplotlib import pyplot as plt\n",
    "import implicit\n",
    "import scipy\n",
    "from sklearn import metrics\n",
    "from pandas.api.types import CategoricalDtype\n"
   ]
  },
  {
   "cell_type": "markdown",
   "metadata": {
    "id": "RFdmU2CswOP-"
   },
   "source": [
    "# Data Exploration"
   ]
  },
  {
   "cell_type": "code",
   "execution_count": 2,
   "metadata": {
    "colab": {
     "base_uri": "https://localhost:8080/",
     "height": 203
    },
    "id": "i0YcK8s4nt6L",
    "outputId": "d92b409a-8506-4e70-da9f-78bf52b328a1"
   },
   "outputs": [
    {
     "data": {
      "text/html": [
       "<div>\n",
       "<style scoped>\n",
       "    .dataframe tbody tr th:only-of-type {\n",
       "        vertical-align: middle;\n",
       "    }\n",
       "\n",
       "    .dataframe tbody tr th {\n",
       "        vertical-align: top;\n",
       "    }\n",
       "\n",
       "    .dataframe thead th {\n",
       "        text-align: right;\n",
       "    }\n",
       "</style>\n",
       "<table border=\"1\" class=\"dataframe\">\n",
       "  <thead>\n",
       "    <tr style=\"text-align: right;\">\n",
       "      <th></th>\n",
       "      <th>InvoiceNo</th>\n",
       "      <th>StockCode</th>\n",
       "      <th>Description</th>\n",
       "      <th>Quantity</th>\n",
       "      <th>InvoiceDate</th>\n",
       "      <th>UnitPrice</th>\n",
       "      <th>CustomerID</th>\n",
       "      <th>Country</th>\n",
       "    </tr>\n",
       "  </thead>\n",
       "  <tbody>\n",
       "    <tr>\n",
       "      <th>0</th>\n",
       "      <td>536365</td>\n",
       "      <td>85123A</td>\n",
       "      <td>WHITE HANGING HEART T-LIGHT HOLDER</td>\n",
       "      <td>6</td>\n",
       "      <td>12/1/2010 8:26</td>\n",
       "      <td>2.55</td>\n",
       "      <td>17850.0</td>\n",
       "      <td>United Kingdom</td>\n",
       "    </tr>\n",
       "    <tr>\n",
       "      <th>1</th>\n",
       "      <td>536365</td>\n",
       "      <td>71053</td>\n",
       "      <td>WHITE METAL LANTERN</td>\n",
       "      <td>6</td>\n",
       "      <td>12/1/2010 8:26</td>\n",
       "      <td>3.39</td>\n",
       "      <td>17850.0</td>\n",
       "      <td>United Kingdom</td>\n",
       "    </tr>\n",
       "    <tr>\n",
       "      <th>2</th>\n",
       "      <td>536365</td>\n",
       "      <td>84406B</td>\n",
       "      <td>CREAM CUPID HEARTS COAT HANGER</td>\n",
       "      <td>8</td>\n",
       "      <td>12/1/2010 8:26</td>\n",
       "      <td>2.75</td>\n",
       "      <td>17850.0</td>\n",
       "      <td>United Kingdom</td>\n",
       "    </tr>\n",
       "    <tr>\n",
       "      <th>3</th>\n",
       "      <td>536365</td>\n",
       "      <td>84029G</td>\n",
       "      <td>KNITTED UNION FLAG HOT WATER BOTTLE</td>\n",
       "      <td>6</td>\n",
       "      <td>12/1/2010 8:26</td>\n",
       "      <td>3.39</td>\n",
       "      <td>17850.0</td>\n",
       "      <td>United Kingdom</td>\n",
       "    </tr>\n",
       "    <tr>\n",
       "      <th>4</th>\n",
       "      <td>536365</td>\n",
       "      <td>84029E</td>\n",
       "      <td>RED WOOLLY HOTTIE WHITE HEART.</td>\n",
       "      <td>6</td>\n",
       "      <td>12/1/2010 8:26</td>\n",
       "      <td>3.39</td>\n",
       "      <td>17850.0</td>\n",
       "      <td>United Kingdom</td>\n",
       "    </tr>\n",
       "  </tbody>\n",
       "</table>\n",
       "</div>"
      ],
      "text/plain": [
       "  InvoiceNo StockCode                          Description  Quantity  \\\n",
       "0    536365    85123A   WHITE HANGING HEART T-LIGHT HOLDER         6   \n",
       "1    536365     71053                  WHITE METAL LANTERN         6   \n",
       "2    536365    84406B       CREAM CUPID HEARTS COAT HANGER         8   \n",
       "3    536365    84029G  KNITTED UNION FLAG HOT WATER BOTTLE         6   \n",
       "4    536365    84029E       RED WOOLLY HOTTIE WHITE HEART.         6   \n",
       "\n",
       "      InvoiceDate  UnitPrice  CustomerID         Country  \n",
       "0  12/1/2010 8:26       2.55     17850.0  United Kingdom  \n",
       "1  12/1/2010 8:26       3.39     17850.0  United Kingdom  \n",
       "2  12/1/2010 8:26       2.75     17850.0  United Kingdom  \n",
       "3  12/1/2010 8:26       3.39     17850.0  United Kingdom  \n",
       "4  12/1/2010 8:26       3.39     17850.0  United Kingdom  "
      ]
     },
     "execution_count": 2,
     "metadata": {},
     "output_type": "execute_result"
    }
   ],
   "source": [
    "# It appears that the csv file is encoded as iso-8859-1 (I guessed) and has to be loaded using the encoding parameter.\n",
    "df = pd.read_csv('../data/external/ecommerce/data.csv', encoding='iso-8859-1')\n",
    "df.head()"
   ]
  },
  {
   "cell_type": "code",
   "execution_count": 3,
   "metadata": {},
   "outputs": [
    {
     "name": "stdout",
     "output_type": "stream",
     "text": [
      "Unique invoices 25900\n",
      "Unique products 4070\n",
      "Total rows 541909\n"
     ]
    }
   ],
   "source": [
    "print('Unique invoices', len(pd.unique(df['InvoiceNo'])))\n",
    "print('Unique products', len(pd.unique(df['StockCode'])))\n",
    "print('Total rows', len(df))"
   ]
  },
  {
   "cell_type": "markdown",
   "metadata": {},
   "source": [
    "## Checking for missing values\n",
    "\n",
    "It looks like the InvoiceNo, StockCode, and Quantity are always available. That is all that we will be using from this dataset, so the rest is fine."
   ]
  },
  {
   "cell_type": "code",
   "execution_count": 4,
   "metadata": {
    "colab": {
     "base_uri": "https://localhost:8080/"
    },
    "id": "xp51kFzvhhxG",
    "outputId": "b3fa307b-736a-4de1-d16d-fad380e9d27c"
   },
   "outputs": [
    {
     "data": {
      "text/plain": [
       "InvoiceNo           0\n",
       "StockCode           0\n",
       "Description      1454\n",
       "Quantity            0\n",
       "InvoiceDate         0\n",
       "UnitPrice           0\n",
       "CustomerID     135080\n",
       "Country             0\n",
       "dtype: int64"
      ]
     },
     "execution_count": 4,
     "metadata": {},
     "output_type": "execute_result"
    }
   ],
   "source": [
    "df.isna().sum()"
   ]
  },
  {
   "cell_type": "markdown",
   "metadata": {
    "id": "uS1WtSjzmgYW"
   },
   "source": [
    "Let's look at the number of products and see how they are distributed among the orders. We can use the value_counts method from pandas to get an idea of how often each product is ordered."
   ]
  },
  {
   "cell_type": "code",
   "execution_count": 5,
   "metadata": {
    "colab": {
     "base_uri": "https://localhost:8080/",
     "height": 371
    },
    "id": "NxhZYm-NoDXf",
    "outputId": "cd447f54-ec73-4806-b385-2aa74a0240df"
   },
   "outputs": [
    {
     "name": "stdout",
     "output_type": "stream",
     "text": [
      "There are 4070 unique products\n",
      "\n",
      "Here are the counts of products ordered from largest to smallest\n",
      "[2313 2203 2159 ...    1    1    1]\n",
      "\n",
      "And a graph of what the curve looks like:\n"
     ]
    },
    {
     "data": {
      "image/png": "[encoded data removed]",
      "text/plain": [
       "<Figure size 432x288 with 1 Axes>"
      ]
     },
     "metadata": {
      "needs_background": "light"
     },
     "output_type": "display_data"
    }
   ],
   "source": [
    "product_counts = df['StockCode'].value_counts().to_numpy()\n",
    "print('There are', len(product_counts), 'unique products\\n')\n",
    "print('Here are the counts of products ordered from largest to smallest')\n",
    "print(product_counts)\n",
    "print('\\nAnd a graph of what the curve looks like:')\n",
    "plt.plot(product_counts) \n",
    "plt.show()"
   ]
  },
  {
   "cell_type": "markdown",
   "metadata": {},
   "source": [
    "It appears that there are a few items in the store that sell a LOT, and most that are sold a few times. This seems normal for a retail store. Let's take a quick look at the most purchased item to see if it makes sense."
   ]
  },
  {
   "cell_type": "code",
   "execution_count": 6,
   "metadata": {
    "colab": {
     "base_uri": "https://localhost:8080/"
    },
    "id": "0DhAue9MadsG",
    "outputId": "656f66b1-6fd6-442e-f176-c2cd9d6688a4"
   },
   "outputs": [
    {
     "data": {
      "text/plain": [
       "85123A    2313\n",
       "22423     2203\n",
       "85099B    2159\n",
       "47566     1727\n",
       "20725     1639\n",
       "Name: StockCode, dtype: int64"
      ]
     },
     "execution_count": 6,
     "metadata": {},
     "output_type": "execute_result"
    }
   ],
   "source": [
    "df['StockCode'].value_counts().head()"
   ]
  },
  {
   "cell_type": "code",
   "execution_count": 7,
   "metadata": {},
   "outputs": [
    {
     "data": {
      "text/html": [
       "<div>\n",
       "<style scoped>\n",
       "    .dataframe tbody tr th:only-of-type {\n",
       "        vertical-align: middle;\n",
       "    }\n",
       "\n",
       "    .dataframe tbody tr th {\n",
       "        vertical-align: top;\n",
       "    }\n",
       "\n",
       "    .dataframe thead th {\n",
       "        text-align: right;\n",
       "    }\n",
       "</style>\n",
       "<table border=\"1\" class=\"dataframe\">\n",
       "  <thead>\n",
       "    <tr style=\"text-align: right;\">\n",
       "      <th></th>\n",
       "      <th>InvoiceNo</th>\n",
       "      <th>StockCode</th>\n",
       "      <th>Description</th>\n",
       "      <th>Quantity</th>\n",
       "      <th>InvoiceDate</th>\n",
       "      <th>UnitPrice</th>\n",
       "      <th>CustomerID</th>\n",
       "      <th>Country</th>\n",
       "    </tr>\n",
       "  </thead>\n",
       "  <tbody>\n",
       "    <tr>\n",
       "      <th>0</th>\n",
       "      <td>536365</td>\n",
       "      <td>85123A</td>\n",
       "      <td>WHITE HANGING HEART T-LIGHT HOLDER</td>\n",
       "      <td>6</td>\n",
       "      <td>12/1/2010 8:26</td>\n",
       "      <td>2.55</td>\n",
       "      <td>17850.0</td>\n",
       "      <td>United Kingdom</td>\n",
       "    </tr>\n",
       "    <tr>\n",
       "      <th>49</th>\n",
       "      <td>536373</td>\n",
       "      <td>85123A</td>\n",
       "      <td>WHITE HANGING HEART T-LIGHT HOLDER</td>\n",
       "      <td>6</td>\n",
       "      <td>12/1/2010 9:02</td>\n",
       "      <td>2.55</td>\n",
       "      <td>17850.0</td>\n",
       "      <td>United Kingdom</td>\n",
       "    </tr>\n",
       "    <tr>\n",
       "      <th>66</th>\n",
       "      <td>536375</td>\n",
       "      <td>85123A</td>\n",
       "      <td>WHITE HANGING HEART T-LIGHT HOLDER</td>\n",
       "      <td>6</td>\n",
       "      <td>12/1/2010 9:32</td>\n",
       "      <td>2.55</td>\n",
       "      <td>17850.0</td>\n",
       "      <td>United Kingdom</td>\n",
       "    </tr>\n",
       "    <tr>\n",
       "      <th>220</th>\n",
       "      <td>536390</td>\n",
       "      <td>85123A</td>\n",
       "      <td>WHITE HANGING HEART T-LIGHT HOLDER</td>\n",
       "      <td>64</td>\n",
       "      <td>12/1/2010 10:19</td>\n",
       "      <td>2.55</td>\n",
       "      <td>17511.0</td>\n",
       "      <td>United Kingdom</td>\n",
       "    </tr>\n",
       "    <tr>\n",
       "      <th>262</th>\n",
       "      <td>536394</td>\n",
       "      <td>85123A</td>\n",
       "      <td>WHITE HANGING HEART T-LIGHT HOLDER</td>\n",
       "      <td>32</td>\n",
       "      <td>12/1/2010 10:39</td>\n",
       "      <td>2.55</td>\n",
       "      <td>13408.0</td>\n",
       "      <td>United Kingdom</td>\n",
       "    </tr>\n",
       "  </tbody>\n",
       "</table>\n",
       "</div>"
      ],
      "text/plain": [
       "    InvoiceNo StockCode                         Description  Quantity  \\\n",
       "0      536365    85123A  WHITE HANGING HEART T-LIGHT HOLDER         6   \n",
       "49     536373    85123A  WHITE HANGING HEART T-LIGHT HOLDER         6   \n",
       "66     536375    85123A  WHITE HANGING HEART T-LIGHT HOLDER         6   \n",
       "220    536390    85123A  WHITE HANGING HEART T-LIGHT HOLDER        64   \n",
       "262    536394    85123A  WHITE HANGING HEART T-LIGHT HOLDER        32   \n",
       "\n",
       "         InvoiceDate  UnitPrice  CustomerID         Country  \n",
       "0     12/1/2010 8:26       2.55     17850.0  United Kingdom  \n",
       "49    12/1/2010 9:02       2.55     17850.0  United Kingdom  \n",
       "66    12/1/2010 9:32       2.55     17850.0  United Kingdom  \n",
       "220  12/1/2010 10:19       2.55     17511.0  United Kingdom  \n",
       "262  12/1/2010 10:39       2.55     13408.0  United Kingdom  "
      ]
     },
     "execution_count": 7,
     "metadata": {},
     "output_type": "execute_result"
    }
   ],
   "source": [
    "df[df['StockCode']=='85123A'].head()"
   ]
  },
  {
   "cell_type": "markdown",
   "metadata": {},
   "source": [
    "We don't have information about the market of the retail store, but looking at a price of 2.55 - this looks like a normal high volume item.\n",
    "\n",
    "Now we can check the value of each invoice and see what jumps out."
   ]
  },
  {
   "cell_type": "code",
   "execution_count": 8,
   "metadata": {
    "colab": {
     "base_uri": "https://localhost:8080/",
     "height": 297
    },
    "id": "9qd6mg9t2-Ud",
    "outputId": "fae68a3d-58a0-4ae2-89f4-4ba7d21e8b1e"
   },
   "outputs": [
    {
     "data": {
      "text/plain": [
       "<AxesSubplot:xlabel='InvoiceNo'>"
      ]
     },
     "execution_count": 8,
     "metadata": {},
     "output_type": "execute_result"
    },
    {
     "data": {
      "image/png": "[encoded data removed]",
      "text/plain": [
       "<Figure size 432x288 with 1 Axes>"
      ]
     },
     "metadata": {
      "needs_background": "light"
     },
     "output_type": "display_data"
    }
   ],
   "source": [
    "df['StockTotal'] = df['Quantity'] * df['UnitPrice']\n",
    "totals = df.groupby(df.InvoiceNo)['StockTotal'].sum()\n",
    "totals.plot()"
   ]
  },
  {
   "cell_type": "markdown",
   "metadata": {},
   "source": [
    "Well there's something worth looking into. We need to figure out what the negative order totals are. It would have to be either a negative quantity or price - so let's figure out which it is."
   ]
  },
  {
   "cell_type": "code",
   "execution_count": 9,
   "metadata": {},
   "outputs": [
    {
     "name": "stdout",
     "output_type": "stream",
     "text": [
      "There are 10624 negative quantities\n"
     ]
    },
    {
     "data": {
      "text/html": [
       "<div>\n",
       "<style scoped>\n",
       "    .dataframe tbody tr th:only-of-type {\n",
       "        vertical-align: middle;\n",
       "    }\n",
       "\n",
       "    .dataframe tbody tr th {\n",
       "        vertical-align: top;\n",
       "    }\n",
       "\n",
       "    .dataframe thead th {\n",
       "        text-align: right;\n",
       "    }\n",
       "</style>\n",
       "<table border=\"1\" class=\"dataframe\">\n",
       "  <thead>\n",
       "    <tr style=\"text-align: right;\">\n",
       "      <th></th>\n",
       "      <th>InvoiceNo</th>\n",
       "      <th>StockCode</th>\n",
       "      <th>Description</th>\n",
       "      <th>Quantity</th>\n",
       "      <th>InvoiceDate</th>\n",
       "      <th>UnitPrice</th>\n",
       "      <th>CustomerID</th>\n",
       "      <th>Country</th>\n",
       "      <th>StockTotal</th>\n",
       "    </tr>\n",
       "  </thead>\n",
       "  <tbody>\n",
       "    <tr>\n",
       "      <th>141</th>\n",
       "      <td>C536379</td>\n",
       "      <td>D</td>\n",
       "      <td>Discount</td>\n",
       "      <td>-1</td>\n",
       "      <td>12/1/2010 9:41</td>\n",
       "      <td>27.50</td>\n",
       "      <td>14527.0</td>\n",
       "      <td>United Kingdom</td>\n",
       "      <td>-27.50</td>\n",
       "    </tr>\n",
       "    <tr>\n",
       "      <th>154</th>\n",
       "      <td>C536383</td>\n",
       "      <td>35004C</td>\n",
       "      <td>SET OF 3 COLOURED  FLYING DUCKS</td>\n",
       "      <td>-1</td>\n",
       "      <td>12/1/2010 9:49</td>\n",
       "      <td>4.65</td>\n",
       "      <td>15311.0</td>\n",
       "      <td>United Kingdom</td>\n",
       "      <td>-4.65</td>\n",
       "    </tr>\n",
       "    <tr>\n",
       "      <th>235</th>\n",
       "      <td>C536391</td>\n",
       "      <td>22556</td>\n",
       "      <td>PLASTERS IN TIN CIRCUS PARADE</td>\n",
       "      <td>-12</td>\n",
       "      <td>12/1/2010 10:24</td>\n",
       "      <td>1.65</td>\n",
       "      <td>17548.0</td>\n",
       "      <td>United Kingdom</td>\n",
       "      <td>-19.80</td>\n",
       "    </tr>\n",
       "    <tr>\n",
       "      <th>236</th>\n",
       "      <td>C536391</td>\n",
       "      <td>21984</td>\n",
       "      <td>PACK OF 12 PINK PAISLEY TISSUES</td>\n",
       "      <td>-24</td>\n",
       "      <td>12/1/2010 10:24</td>\n",
       "      <td>0.29</td>\n",
       "      <td>17548.0</td>\n",
       "      <td>United Kingdom</td>\n",
       "      <td>-6.96</td>\n",
       "    </tr>\n",
       "    <tr>\n",
       "      <th>237</th>\n",
       "      <td>C536391</td>\n",
       "      <td>21983</td>\n",
       "      <td>PACK OF 12 BLUE PAISLEY TISSUES</td>\n",
       "      <td>-24</td>\n",
       "      <td>12/1/2010 10:24</td>\n",
       "      <td>0.29</td>\n",
       "      <td>17548.0</td>\n",
       "      <td>United Kingdom</td>\n",
       "      <td>-6.96</td>\n",
       "    </tr>\n",
       "  </tbody>\n",
       "</table>\n",
       "</div>"
      ],
      "text/plain": [
       "    InvoiceNo StockCode                       Description  Quantity  \\\n",
       "141   C536379         D                          Discount        -1   \n",
       "154   C536383    35004C   SET OF 3 COLOURED  FLYING DUCKS        -1   \n",
       "235   C536391     22556    PLASTERS IN TIN CIRCUS PARADE        -12   \n",
       "236   C536391     21984  PACK OF 12 PINK PAISLEY TISSUES        -24   \n",
       "237   C536391     21983  PACK OF 12 BLUE PAISLEY TISSUES        -24   \n",
       "\n",
       "         InvoiceDate  UnitPrice  CustomerID         Country  StockTotal  \n",
       "141   12/1/2010 9:41      27.50     14527.0  United Kingdom      -27.50  \n",
       "154   12/1/2010 9:49       4.65     15311.0  United Kingdom       -4.65  \n",
       "235  12/1/2010 10:24       1.65     17548.0  United Kingdom      -19.80  \n",
       "236  12/1/2010 10:24       0.29     17548.0  United Kingdom       -6.96  \n",
       "237  12/1/2010 10:24       0.29     17548.0  United Kingdom       -6.96  "
      ]
     },
     "execution_count": 9,
     "metadata": {},
     "output_type": "execute_result"
    }
   ],
   "source": [
    "print('There are', len(df[df.Quantity < 0]), 'negative quantities')\n",
    "df[df.Quantity < 0].head()"
   ]
  },
  {
   "cell_type": "markdown",
   "metadata": {},
   "source": [
    "Now we need to figure out what to do with these. We could throw out all invoices that include negative quanties, or just the items with negative quanties. Let's check to see if we have any mixed invoices."
   ]
  },
  {
   "cell_type": "code",
   "execution_count": 10,
   "metadata": {},
   "outputs": [
    {
     "data": {
      "text/html": [
       "<div>\n",
       "<style scoped>\n",
       "    .dataframe tbody tr th:only-of-type {\n",
       "        vertical-align: middle;\n",
       "    }\n",
       "\n",
       "    .dataframe tbody tr th {\n",
       "        vertical-align: top;\n",
       "    }\n",
       "\n",
       "    .dataframe thead th {\n",
       "        text-align: right;\n",
       "    }\n",
       "</style>\n",
       "<table border=\"1\" class=\"dataframe\">\n",
       "  <thead>\n",
       "    <tr style=\"text-align: right;\">\n",
       "      <th></th>\n",
       "      <th>minQ</th>\n",
       "      <th>maxQ</th>\n",
       "    </tr>\n",
       "    <tr>\n",
       "      <th>InvoiceNo</th>\n",
       "      <th></th>\n",
       "      <th></th>\n",
       "    </tr>\n",
       "  </thead>\n",
       "  <tbody>\n",
       "  </tbody>\n",
       "</table>\n",
       "</div>"
      ],
      "text/plain": [
       "Empty DataFrame\n",
       "Columns: [minQ, maxQ]\n",
       "Index: []"
      ]
     },
     "execution_count": 10,
     "metadata": {},
     "output_type": "execute_result"
    }
   ],
   "source": [
    "temp_df = df.groupby(df.InvoiceNo).agg(minQ=('Quantity', 'min'), \n",
    "                               maxQ=('Quantity', 'max'))\n",
    "temp_df[(temp_df.minQ < 0) & (temp_df.maxQ > 0)].head()"
   ]
  },
  {
   "cell_type": "markdown",
   "metadata": {},
   "source": [
    "Given that all negative quantities are on invoices with no purchases, we should be able to remove them."
   ]
  },
  {
   "cell_type": "code",
   "execution_count": 11,
   "metadata": {},
   "outputs": [
    {
     "name": "stdout",
     "output_type": "stream",
     "text": [
      "There are 2 negative unit prices\n"
     ]
    },
    {
     "data": {
      "text/html": [
       "<div>\n",
       "<style scoped>\n",
       "    .dataframe tbody tr th:only-of-type {\n",
       "        vertical-align: middle;\n",
       "    }\n",
       "\n",
       "    .dataframe tbody tr th {\n",
       "        vertical-align: top;\n",
       "    }\n",
       "\n",
       "    .dataframe thead th {\n",
       "        text-align: right;\n",
       "    }\n",
       "</style>\n",
       "<table border=\"1\" class=\"dataframe\">\n",
       "  <thead>\n",
       "    <tr style=\"text-align: right;\">\n",
       "      <th></th>\n",
       "      <th>InvoiceNo</th>\n",
       "      <th>StockCode</th>\n",
       "      <th>Description</th>\n",
       "      <th>Quantity</th>\n",
       "      <th>InvoiceDate</th>\n",
       "      <th>UnitPrice</th>\n",
       "      <th>CustomerID</th>\n",
       "      <th>Country</th>\n",
       "      <th>StockTotal</th>\n",
       "    </tr>\n",
       "  </thead>\n",
       "  <tbody>\n",
       "    <tr>\n",
       "      <th>299983</th>\n",
       "      <td>A563186</td>\n",
       "      <td>B</td>\n",
       "      <td>Adjust bad debt</td>\n",
       "      <td>1</td>\n",
       "      <td>8/12/2011 14:51</td>\n",
       "      <td>-11062.06</td>\n",
       "      <td>NaN</td>\n",
       "      <td>United Kingdom</td>\n",
       "      <td>-11062.06</td>\n",
       "    </tr>\n",
       "    <tr>\n",
       "      <th>299984</th>\n",
       "      <td>A563187</td>\n",
       "      <td>B</td>\n",
       "      <td>Adjust bad debt</td>\n",
       "      <td>1</td>\n",
       "      <td>8/12/2011 14:52</td>\n",
       "      <td>-11062.06</td>\n",
       "      <td>NaN</td>\n",
       "      <td>United Kingdom</td>\n",
       "      <td>-11062.06</td>\n",
       "    </tr>\n",
       "  </tbody>\n",
       "</table>\n",
       "</div>"
      ],
      "text/plain": [
       "       InvoiceNo StockCode      Description  Quantity      InvoiceDate  \\\n",
       "299983   A563186         B  Adjust bad debt         1  8/12/2011 14:51   \n",
       "299984   A563187         B  Adjust bad debt         1  8/12/2011 14:52   \n",
       "\n",
       "        UnitPrice  CustomerID         Country  StockTotal  \n",
       "299983  -11062.06         NaN  United Kingdom   -11062.06  \n",
       "299984  -11062.06         NaN  United Kingdom   -11062.06  "
      ]
     },
     "execution_count": 11,
     "metadata": {},
     "output_type": "execute_result"
    }
   ],
   "source": [
    "print('There are', len(df[df.UnitPrice < 0]), 'negative unit prices')\n",
    "\n",
    "df[df.UnitPrice < 0].head()"
   ]
  },
  {
   "cell_type": "markdown",
   "metadata": {},
   "source": [
    "It looks like we can throw out anything with a negative UnitPrice."
   ]
  },
  {
   "cell_type": "code",
   "execution_count": 12,
   "metadata": {},
   "outputs": [],
   "source": [
    "df = df[(df.UnitPrice > 0) & (df.Quantity > 0)]"
   ]
  },
  {
   "cell_type": "markdown",
   "metadata": {},
   "source": [
    "Now we need to look into those very large sums on the invoice total to see what is happening there."
   ]
  },
  {
   "cell_type": "code",
   "execution_count": 13,
   "metadata": {},
   "outputs": [
    {
     "data": {
      "text/plain": [
       "InvoiceNo\n",
       "581483     168469.60\n",
       "541431      77183.60\n",
       "574941      52940.94\n",
       "576365      50653.91\n",
       "556444      38970.00\n",
       "             ...    \n",
       "C580605    -17836.46\n",
       "C550456    -22998.40\n",
       "C556445    -38970.00\n",
       "C541433    -77183.60\n",
       "C581484   -168469.60\n",
       "Name: StockTotal, Length: 25900, dtype: float64"
      ]
     },
     "execution_count": 13,
     "metadata": {},
     "output_type": "execute_result"
    }
   ],
   "source": [
    "totals.sort_values(ascending=False)"
   ]
  },
  {
   "cell_type": "code",
   "execution_count": 14,
   "metadata": {},
   "outputs": [
    {
     "data": {
      "text/html": [
       "<div>\n",
       "<style scoped>\n",
       "    .dataframe tbody tr th:only-of-type {\n",
       "        vertical-align: middle;\n",
       "    }\n",
       "\n",
       "    .dataframe tbody tr th {\n",
       "        vertical-align: top;\n",
       "    }\n",
       "\n",
       "    .dataframe thead th {\n",
       "        text-align: right;\n",
       "    }\n",
       "</style>\n",
       "<table border=\"1\" class=\"dataframe\">\n",
       "  <thead>\n",
       "    <tr style=\"text-align: right;\">\n",
       "      <th></th>\n",
       "      <th>InvoiceNo</th>\n",
       "      <th>StockCode</th>\n",
       "      <th>Description</th>\n",
       "      <th>Quantity</th>\n",
       "      <th>InvoiceDate</th>\n",
       "      <th>UnitPrice</th>\n",
       "      <th>CustomerID</th>\n",
       "      <th>Country</th>\n",
       "      <th>StockTotal</th>\n",
       "    </tr>\n",
       "  </thead>\n",
       "  <tbody>\n",
       "    <tr>\n",
       "      <th>61619</th>\n",
       "      <td>541431</td>\n",
       "      <td>23166</td>\n",
       "      <td>MEDIUM CERAMIC TOP STORAGE JAR</td>\n",
       "      <td>74215</td>\n",
       "      <td>1/18/2011 10:01</td>\n",
       "      <td>1.04</td>\n",
       "      <td>12346.0</td>\n",
       "      <td>United Kingdom</td>\n",
       "      <td>77183.6</td>\n",
       "    </tr>\n",
       "  </tbody>\n",
       "</table>\n",
       "</div>"
      ],
      "text/plain": [
       "      InvoiceNo StockCode                     Description  Quantity  \\\n",
       "61619    541431     23166  MEDIUM CERAMIC TOP STORAGE JAR     74215   \n",
       "\n",
       "           InvoiceDate  UnitPrice  CustomerID         Country  StockTotal  \n",
       "61619  1/18/2011 10:01       1.04     12346.0  United Kingdom     77183.6  "
      ]
     },
     "execution_count": 14,
     "metadata": {},
     "output_type": "execute_result"
    }
   ],
   "source": [
    "df[df.InvoiceNo == '541431'].head()"
   ]
  },
  {
   "cell_type": "code",
   "execution_count": 32,
   "metadata": {},
   "outputs": [
    {
     "name": "stdout",
     "output_type": "stream",
     "text": [
      "19960\n",
      "7113\n"
     ]
    }
   ],
   "source": [
    "totals = df.groupby(df.InvoiceNo).sum()\n",
    "print(len(totals))\n",
    "quantity_filter = order_group[(totals.Quantity <= 100)].index.tolist()\n",
    "print(len(quantity_filter))"
   ]
  },
  {
   "cell_type": "markdown",
   "metadata": {
    "id": "eAr75-G33l8o"
   },
   "source": [
    "It looks like these were actual orders with a giant quantity. These aren't your average customers, so we may need to try both with the data and without.\n",
    "\n",
    "Another thing we can do is compute the sparsity of the data. This is useful to see if there is enough overlap between the orders and products to make a useful decision for recommendations."
   ]
  },
  {
   "cell_type": "code",
   "execution_count": 33,
   "metadata": {
    "colab": {
     "base_uri": "https://localhost:8080/"
    },
    "id": "5aoGeTmPq55e",
    "outputId": "68bc7cdb-9005-4264-9407-3e8596f51f0d"
   },
   "outputs": [
    {
     "name": "stdout",
     "output_type": "stream",
     "text": [
      "number of orders: 19960, number of items: 4070\n",
      "matrix sparsity: 0.993475\n"
     ]
    }
   ],
   "source": [
    "order_counts = df['InvoiceNo'].value_counts()\n",
    "num_orders = len(order_counts)\n",
    "num_items = len(product_counts)\n",
    "sparsity = 1 - len(df) / (num_orders * num_items)\n",
    "print(f'number of orders: {num_orders}, number of items: {num_items}')\n",
    "print(f'matrix sparsity: {sparsity:f}')"
   ]
  },
  {
   "cell_type": "markdown",
   "metadata": {
    "id": "To62Zd83tJ4f"
   },
   "source": [
    "Compare that with the 100k movielens dataset that has:\n",
    "\n",
    "```\n",
    "number of users: 943, number of items: 1682\n",
    "matrix sparsity: 0.936953\n",
    "```"
   ]
  },
  {
   "cell_type": "markdown",
   "metadata": {
    "id": "NjTFgyUryB6E"
   },
   "source": [
    "Given that this is intended to be used for recommendations based in individual orders, we can remove any invoice that has less than 2 items."
   ]
  },
  {
   "cell_type": "code",
   "execution_count": 34,
   "metadata": {
    "colab": {
     "base_uri": "https://localhost:8080/"
    },
    "id": "qZKx1mQYoUH9",
    "outputId": "996cf8cd-6446-4aef-bd21-37329c500d2d"
   },
   "outputs": [
    {
     "name": "stdout",
     "output_type": "stream",
     "text": [
      "Orders with at least 2 products: 18334\n",
      "Orders with less than 2 products: 1626\n"
     ]
    }
   ],
   "source": [
    "minimum_order_size = 2\n",
    "order_group = df.loc[:, ['InvoiceNo', 'StockCode']].groupby('InvoiceNo').count()\n",
    " \n",
    "multi_order = order_group[(order_group.StockCode >= minimum_order_size)].count()\n",
    "single_order = order_group[(order_group.StockCode < minimum_order_size)].count()\n",
    " \n",
    "print('Orders with at least',minimum_order_size,'products:',multi_order['StockCode'])\n",
    "print('Orders with less than',minimum_order_size,'products:',single_order['StockCode'])\n",
    " \n",
    "# We can capture the list of mutiple product orders with this:\n",
    "order_filter = order_group[(order_group.StockCode >= minimum_order_size)].index.tolist()"
   ]
  },
  {
   "cell_type": "code",
   "execution_count": 35,
   "metadata": {
    "colab": {
     "base_uri": "https://localhost:8080/"
    },
    "id": "L42LelQPrcHl",
    "outputId": "3954ac42-00b0-478c-c9b6-b3dae71be194"
   },
   "outputs": [
    {
     "name": "stdout",
     "output_type": "stream",
     "text": [
      "Original dataframe length: 530104\n",
      "Filtered dataframe length: 72875\n"
     ]
    }
   ],
   "source": [
    "filtered_df = df[df['InvoiceNo'].isin(order_filter)].copy()\n",
    "\n",
    "# Also filter by quantity\n",
    "filtered_df = filtered_df[filtered_df['InvoiceNo'].isin(quantity_filter)].copy()\n",
    "\n",
    "print('Original dataframe length:', len(df))\n",
    "print('Filtered dataframe length:', len(filtered_df))"
   ]
  },
  {
   "cell_type": "code",
   "execution_count": 36,
   "metadata": {
    "colab": {
     "base_uri": "https://localhost:8080/",
     "height": 371
    },
    "id": "yWQoVWQu8p_Y",
    "outputId": "3035200f-4db0-4155-f4ef-0e24d85748d3"
   },
   "outputs": [
    {
     "name": "stdout",
     "output_type": "stream",
     "text": [
      "There are 3388 unique products\n",
      "\n",
      "\n",
      "And a graph of what the curve looks like:\n"
     ]
    },
    {
     "data": {
      "image/png": "[encoded data removed]",
      "text/plain": [
       "<Figure size 432x288 with 1 Axes>"
      ]
     },
     "metadata": {
      "needs_background": "light"
     },
     "output_type": "display_data"
    },
    {
     "name": "stdout",
     "output_type": "stream",
     "text": [
      "number of orders: 5761, number of items: 3388\n",
      "matrix sparsity: 0.972841\n"
     ]
    }
   ],
   "source": [
    "product_counts = filtered_df['StockCode'].value_counts().to_numpy()\n",
    "print('There are', len(product_counts), 'unique products\\n')\n",
    "print('\\nAnd a graph of what the curve looks like:')\n",
    "plt.plot(product_counts) \n",
    "plt.show()\n",
    " \n",
    "order_counts = filtered_df['InvoiceNo'].value_counts()\n",
    "num_orders = len(order_counts)\n",
    "num_items = len(product_counts)\n",
    "sparsity = 1 - len(df) / (num_orders * num_items)\n",
    "print(f'number of orders: {num_orders}, number of items: {num_items}')\n",
    "print(f'matrix sparsity: {sparsity:f}')"
   ]
  },
  {
   "cell_type": "code",
   "execution_count": 37,
   "metadata": {
    "id": "N5-NsL0CieG1"
   },
   "outputs": [],
   "source": [
    "filtered_df['StockCode'] = filtered_df['StockCode'].astype(str)"
   ]
  },
  {
   "cell_type": "code",
   "execution_count": 38,
   "metadata": {},
   "outputs": [],
   "source": [
    "item_lookup = filtered_df[['StockCode', 'Description']].drop_duplicates() # Only get unique item/description pairs\n",
    "item_lookup['StockCode'] = item_lookup.StockCode.astype(str) # Encode as strings for future lookup ease\n",
    "\n",
    "price_lookup = filtered_df[['StockCode', 'UnitPrice']].drop_duplicates()\n",
    "price_lookup['StockCode'] = price_lookup.StockCode.astype(str)"
   ]
  },
  {
   "cell_type": "code",
   "execution_count": 39,
   "metadata": {
    "colab": {
     "base_uri": "https://localhost:8080/",
     "height": 396
    },
    "id": "LXNnCGvPle4m",
    "outputId": "830b15f6-1573-4f4c-aaf6-b60e564c2c0e"
   },
   "outputs": [
    {
     "name": "stdout",
     "output_type": "stream",
     "text": [
      "<class 'pandas.core.frame.DataFrame'>\n",
      "Int64Index: 72875 entries, 0 to 541893\n",
      "Data columns (total 3 columns):\n",
      " #   Column     Non-Null Count  Dtype \n",
      "---  ------     --------------  ----- \n",
      " 0   InvoiceNo  72875 non-null  object\n",
      " 1   StockCode  72875 non-null  object\n",
      " 2   Quantity   72875 non-null  int64 \n",
      "dtypes: int64(1), object(2)\n",
      "memory usage: 2.2+ MB\n"
     ]
    },
    {
     "data": {
      "text/html": [
       "<div>\n",
       "<style scoped>\n",
       "    .dataframe tbody tr th:only-of-type {\n",
       "        vertical-align: middle;\n",
       "    }\n",
       "\n",
       "    .dataframe tbody tr th {\n",
       "        vertical-align: top;\n",
       "    }\n",
       "\n",
       "    .dataframe thead th {\n",
       "        text-align: right;\n",
       "    }\n",
       "</style>\n",
       "<table border=\"1\" class=\"dataframe\">\n",
       "  <thead>\n",
       "    <tr style=\"text-align: right;\">\n",
       "      <th></th>\n",
       "      <th>InvoiceNo</th>\n",
       "      <th>StockCode</th>\n",
       "      <th>Quantity</th>\n",
       "    </tr>\n",
       "  </thead>\n",
       "  <tbody>\n",
       "    <tr>\n",
       "      <th>0</th>\n",
       "      <td>536365</td>\n",
       "      <td>85123A</td>\n",
       "      <td>6</td>\n",
       "    </tr>\n",
       "    <tr>\n",
       "      <th>1</th>\n",
       "      <td>536365</td>\n",
       "      <td>71053</td>\n",
       "      <td>6</td>\n",
       "    </tr>\n",
       "    <tr>\n",
       "      <th>2</th>\n",
       "      <td>536365</td>\n",
       "      <td>84406B</td>\n",
       "      <td>8</td>\n",
       "    </tr>\n",
       "    <tr>\n",
       "      <th>3</th>\n",
       "      <td>536365</td>\n",
       "      <td>84029G</td>\n",
       "      <td>6</td>\n",
       "    </tr>\n",
       "    <tr>\n",
       "      <th>4</th>\n",
       "      <td>536365</td>\n",
       "      <td>84029E</td>\n",
       "      <td>6</td>\n",
       "    </tr>\n",
       "  </tbody>\n",
       "</table>\n",
       "</div>"
      ],
      "text/plain": [
       "  InvoiceNo StockCode  Quantity\n",
       "0    536365    85123A         6\n",
       "1    536365     71053         6\n",
       "2    536365    84406B         8\n",
       "3    536365    84029G         6\n",
       "4    536365    84029E         6"
      ]
     },
     "execution_count": 39,
     "metadata": {},
     "output_type": "execute_result"
    }
   ],
   "source": [
    "selected_df = filtered_df[['InvoiceNo', 'StockCode', 'Quantity']]\n",
    "selected_df.info()\n",
    "selected_df.head()"
   ]
  },
  {
   "cell_type": "code",
   "execution_count": 40,
   "metadata": {},
   "outputs": [],
   "source": [
    "invoices = list(np.sort(selected_df.InvoiceNo.unique())) # Get our unique customers\n",
    "products = list(selected_df.StockCode.unique()) # Get our unique products that were purchased\n",
    "quantity = list(selected_df.Quantity) # All of our purchases\n",
    "\n",
    "cols = selected_df.InvoiceNo.astype(CategoricalDtype(categories=invoices, ordered=True)).cat.codes \n",
    "# Get the associated row indices\n",
    "rows = selected_df.StockCode.astype(CategoricalDtype(categories=products, ordered=True)).cat.codes \n",
    "# Get the associated column indices\n",
    "purchases_sparse = scipy.sparse.csr_matrix((quantity, (rows, cols)), shape=(len(products), len(invoices)))"
   ]
  },
  {
   "cell_type": "code",
   "execution_count": 42,
   "metadata": {},
   "outputs": [
    {
     "data": {
      "text/plain": [
       "99.63446551712478"
      ]
     },
     "execution_count": 42,
     "metadata": {},
     "output_type": "execute_result"
    }
   ],
   "source": [
    "matrix_size = purchases_sparse.shape[0]*purchases_sparse.shape[1] # Number of possible interactions in the matrix\n",
    "num_purchases = len(purchases_sparse.nonzero()[0]) # Number of items interacted with\n",
    "sparsity = 100*(1 - (num_purchases/matrix_size))\n",
    "sparsity"
   ]
  },
  {
   "cell_type": "markdown",
   "metadata": {},
   "source": [
    "# Training & Test Datasets\n",
    "\n",
    "We will use the function below to create a training and test dataset from the tutorial linked at the top. The test dataset masks some percentage of purchases to tested later with a recommendation."
   ]
  },
  {
   "cell_type": "code",
   "execution_count": 43,
   "metadata": {},
   "outputs": [],
   "source": [
    "def make_train(ratings, pct_test = 0.2):\n",
    "    '''\n",
    "    This function will take in the original user-item matrix and \"mask\" a percentage of the original ratings where a\n",
    "    user-item interaction has taken place for use as a test set. The test set will contain all of the original ratings, \n",
    "    while the training set replaces the specified percentage of them with a zero in the original ratings matrix. \n",
    "    \n",
    "    parameters: \n",
    "    \n",
    "    ratings - the original ratings matrix from which you want to generate a train/test set. Test is just a complete\n",
    "    copy of the original set. This is in the form of a sparse csr_matrix. \n",
    "    \n",
    "    pct_test - The percentage of user-item interactions where an interaction took place that you want to mask in the \n",
    "    training set for later comparison to the test set, which contains all of the original ratings. \n",
    "    \n",
    "    returns:\n",
    "    \n",
    "    training_set - The altered version of the original data with a certain percentage of the user-item pairs \n",
    "    that originally had interaction set back to zero.\n",
    "    \n",
    "    test_set - A copy of the original ratings matrix, unaltered, so it can be used to see how the rank order \n",
    "    compares with the actual interactions.\n",
    "    \n",
    "    user_inds - From the randomly selected user-item indices, which user rows were altered in the training data.\n",
    "    This will be necessary later when evaluating the performance via AUC.\n",
    "    '''\n",
    "    test_set = ratings.copy() # Make a copy of the original set to be the test set. \n",
    "    test_set[test_set != 0] = 1 # Store the test set as a binary preference matrix\n",
    "    training_set = ratings.copy() # Make a copy of the original data we can alter as our training set. \n",
    "    nonzero_inds = training_set.nonzero() # Find the indices in the ratings data where an interaction exists\n",
    "    nonzero_pairs = list(zip(nonzero_inds[0], nonzero_inds[1])) # Zip these pairs together of user,item index into list\n",
    "    random.seed(0) # Set the random seed to zero for reproducibility\n",
    "    num_samples = int(np.ceil(pct_test*len(nonzero_pairs))) # Round the number of samples needed to the nearest integer\n",
    "    samples = random.sample(nonzero_pairs, num_samples) # Sample a random number of user-item pairs without replacement\n",
    "    user_inds = [index[0] for index in samples] # Get the user row indices\n",
    "    item_inds = [index[1] for index in samples] # Get the item column indices\n",
    "    training_set[user_inds, item_inds] = 0 # Assign all of the randomly chosen user-item pairs to zero\n",
    "    training_set.eliminate_zeros() # Get rid of zeros in sparse array storage after update to save space\n",
    "    return training_set, test_set, list(set(user_inds)) # Output the unique list of user rows that were altered  \n"
   ]
  },
  {
   "cell_type": "code",
   "execution_count": 44,
   "metadata": {},
   "outputs": [],
   "source": [
    "product_train, product_test, product_users_altered = make_train(purchases_sparse, pct_test = 0.2)\n"
   ]
  },
  {
   "cell_type": "markdown",
   "metadata": {},
   "source": [
    "# Implicit Recommendation Model\n",
    "\n",
    "The code below creates and trains one of the models available from the Implicit package. Currently using hyperparameters suggested by various tutorials with no tuning."
   ]
  },
  {
   "cell_type": "code",
   "execution_count": 45,
   "metadata": {},
   "outputs": [
    {
     "name": "stderr",
     "output_type": "stream",
     "text": [
      "WARNING:root:OpenBLAS detected. Its highly recommend to set the environment variable 'export OPENBLAS_NUM_THREADS=1' to disable its internal multithreading\n"
     ]
    },
    {
     "data": {
      "application/vnd.jupyter.widget-view+json": {
       "model_id": "5cee26d0271d467fa3368cfbb915f609",
       "version_major": 2,
       "version_minor": 0
      },
      "text/plain": [
       "HBox(children=(HTML(value=''), FloatProgress(value=0.0, max=50.0), HTML(value='')))"
      ]
     },
     "metadata": {},
     "output_type": "display_data"
    },
    {
     "name": "stdout",
     "output_type": "stream",
     "text": [
      "\n"
     ]
    }
   ],
   "source": [
    "alpha = 15\n",
    "\n",
    "model = implicit.als.AlternatingLeastSquares(factors=64,\n",
    "                                    regularization=0.1,\n",
    "                                    iterations=50,\n",
    "                                    use_native=False)\n",
    "\n",
    "## BayesianPersonalizedRanking was pretty bad\n",
    "# model = implicit.bpr.BayesianPersonalizedRanking(factors=31,\n",
    "#                                     regularization=0.1,\n",
    "#                                     iterations=50)\n",
    "\n",
    "\n",
    "# model = implicit.lmf.LogisticMatrixFactorization(factors=32,\n",
    "#                                     regularization=0.1,\n",
    "#                                     iterations=50)\n",
    "\n",
    "model.fit((product_train * alpha).astype('double'))\n",
    "\n",
    "user_vecs = model.user_factors\n",
    "item_vecs = model.item_factors\n",
    "\n",
    "# Deprecated function below\n",
    "# user_vecs, item_vecs = implicit.alternating_least_squares((product_train*alpha).astype('double'), \n",
    "#                                                           factors=32, \n",
    "#                                                           regularization = 0.1, \n",
    "#                                                           iterations = 50)"
   ]
  },
  {
   "cell_type": "markdown",
   "metadata": {},
   "source": [
    "# Scoring the Model\n",
    "\n",
    "Following the tutorial, we will use the area under the Receiver Operating Characteristic curve. "
   ]
  },
  {
   "cell_type": "code",
   "execution_count": 46,
   "metadata": {},
   "outputs": [],
   "source": [
    "def auc_score(predictions, test):\n",
    "    '''\n",
    "    This simple function will output the area under the curve using sklearn's metrics. \n",
    "    \n",
    "    parameters:\n",
    "    \n",
    "    - predictions: your prediction output\n",
    "    \n",
    "    - test: the actual target result you are comparing to\n",
    "    \n",
    "    returns:\n",
    "    \n",
    "    - AUC (area under the Receiver Operating Characterisic curve)\n",
    "    '''\n",
    "    fpr, tpr, thresholds = metrics.roc_curve(test, predictions)\n",
    "    return metrics.auc(fpr, tpr)   \n"
   ]
  },
  {
   "cell_type": "code",
   "execution_count": 47,
   "metadata": {},
   "outputs": [],
   "source": [
    "def calc_mean_auc(training_set, altered_users, predictions, test_set):\n",
    "    '''\n",
    "    This function will calculate the mean AUC by user for any user that had their user-item matrix altered. \n",
    "    \n",
    "    parameters:\n",
    "    \n",
    "    training_set - The training set resulting from make_train, where a certain percentage of the original\n",
    "    user/item interactions are reset to zero to hide them from the model \n",
    "    \n",
    "    predictions - The matrix of your predicted ratings for each user/item pair as output from the implicit MF.\n",
    "    These should be stored in a list, with user vectors as item zero and item vectors as item one. \n",
    "    \n",
    "    altered_users - The indices of the users where at least one user/item pair was altered from make_train function\n",
    "    \n",
    "    test_set - The test set constucted earlier from make_train function\n",
    "    \n",
    "    \n",
    "    \n",
    "    returns:\n",
    "    \n",
    "    The mean AUC (area under the Receiver Operator Characteristic curve) of the test set only on user-item interactions\n",
    "    there were originally zero to test ranking ability in addition to the most popular items as a benchmark.\n",
    "    '''\n",
    "    \n",
    "    \n",
    "    store_auc = [] # An empty list to store the AUC for each user that had an item removed from the training set\n",
    "    popularity_auc = [] # To store popular AUC scores\n",
    "    pop_items = np.array(test_set.sum(axis = 0)).reshape(-1) # Get sum of item iteractions to find most popular\n",
    "    item_vecs = predictions[1]\n",
    "    for user in altered_users: # Iterate through each user that had an item altered\n",
    "        training_row = training_set[user,:].toarray().reshape(-1) # Get the training set row\n",
    "        zero_inds = np.where(training_row == 0) # Find where the interaction had not yet occurred\n",
    "        # Get the predicted values based on our user/item vectors\n",
    "        user_vec = predictions[0][user,:]\n",
    "        pred = user_vec.dot(item_vecs).toarray()[0,zero_inds].reshape(-1)\n",
    "        # Get only the items that were originally zero\n",
    "        # Select all ratings from the MF prediction for this user that originally had no iteraction\n",
    "        actual = test_set[user,:].toarray()[0,zero_inds].reshape(-1) \n",
    "        # Select the binarized yes/no interaction pairs from the original full data\n",
    "        # that align with the same pairs in training \n",
    "        pop = pop_items[zero_inds] # Get the item popularity for our chosen items\n",
    "        store_auc.append(auc_score(pred, actual)) # Calculate AUC for the given user and store\n",
    "        popularity_auc.append(auc_score(pop, actual)) # Calculate AUC using most popular and score\n",
    "    # End users iteration\n",
    "    \n",
    "    return float('%.3f'%np.mean(store_auc)), float('%.3f'%np.mean(popularity_auc))  \n",
    "   # Return the mean AUC rounded to three decimal places for both test and popularity benchmark\n"
   ]
  },
  {
   "cell_type": "code",
   "execution_count": 48,
   "metadata": {},
   "outputs": [
    {
     "name": "stdout",
     "output_type": "stream",
     "text": [
      "Our model scored 0.771 versus a score of 0.737 if we always recommended the most popular item.\n"
     ]
    }
   ],
   "source": [
    "test, popular = calc_mean_auc(product_train, product_users_altered, \n",
    "              [scipy.sparse.csr_matrix(item_vecs), scipy.sparse.csr_matrix(user_vecs.T)], product_test)\n",
    "\n",
    "print('Our model scored',test,'versus a score of',popular,'if we always recommended the most popular item.')"
   ]
  },
  {
   "cell_type": "markdown",
   "metadata": {},
   "source": [
    "# Spot Checking\n",
    "\n",
    "Now that we have a pretty good idea of the model performance overall, we can spot check a few things like finding similar items and checking item recommendations for an existing invoice."
   ]
  },
  {
   "cell_type": "code",
   "execution_count": 50,
   "metadata": {},
   "outputs": [
    {
     "name": "stdout",
     "output_type": "stream",
     "text": [
      "1.0 SKULLS PARTY BAG + STICKER SET\n",
      "0.66347116 3D SHEET OF DOG STICKERS\n",
      "0.65732956 RETROSPOT PARTY BAG + STICKER SET\n",
      "0.64125264 DINOSAUR PARTY BAG + STICKER SET\n",
      "0.6119518 PACK OF 6 SKULL PAPER CUPS\n",
      "0.542482 PAPER BUNTING PAISLEY PARK\n",
      "0.5226836 PINK PARTY BAGS\n",
      "0.5216857 SET OF 9 BLACK SKULL BALLOONS\n",
      "0.50691 BLUE PARTY BAGS \n",
      "0.4989265 200 BENDY SKULL STRAWS\n"
     ]
    }
   ],
   "source": [
    "related = model.similar_items(1284)\n",
    "for rel in related:\n",
    "    index = rel[0]\n",
    "    prob = rel[1]\n",
    "    item = item_lookup[item_lookup.StockCode == products[index]].values\n",
    "    print(prob, item[0][1])"
   ]
  },
  {
   "cell_type": "code",
   "execution_count": 51,
   "metadata": {},
   "outputs": [],
   "source": [
    "user_items = (product_train * alpha).astype('double').T.tocsr()\n",
    "def recommend(order):\n",
    "    print('Order Contents:')\n",
    "    print(filtered_df[filtered_df.InvoiceNo == invoices[order]].loc[:, ['StockCode', 'Description']])\n",
    "    print('Recommendations:')\n",
    "    recommendations = model.recommend(order, user_items)\n",
    "    for rec in recommendations:\n",
    "        index = rec[0]\n",
    "        prob = rec[1]\n",
    "        stock_code = products[index]\n",
    "        item = item_lookup[item_lookup.StockCode == stock_code].values\n",
    "        print(prob, stock_code, item[0][1])    "
   ]
  },
  {
   "cell_type": "code",
   "execution_count": 52,
   "metadata": {},
   "outputs": [
    {
     "name": "stdout",
     "output_type": "stream",
     "text": [
      "Order Contents:\n",
      "  StockCode                Description\n",
      "7     22633     HAND WARMER UNION JACK\n",
      "8     22632  HAND WARMER RED POLKA DOT\n",
      "Recommendations:\n",
      "0.7739638 22865 HAND WARMER OWL DESIGN\n",
      "0.7453127 22867 HAND WARMER BIRD DESIGN\n",
      "0.7224807 22866 HAND WARMER SCOTTY DOG DESIGN\n",
      "0.6237604 23439 HAND WARMER RED LOVE HEART\n",
      "0.440202 22834 HAND WARMER BABUSHKA DESIGN\n",
      "0.38614395 23355 HOT WATER BOTTLE KEEP CALM\n",
      "0.38504928 21481 FAWN BLUE HOT WATER BOTTLE\n",
      "0.34665346 22111 SCOTTIE DOG HOT WATER BOTTLE\n",
      "0.3176289 22114 HOT WATER BOTTLE TEA AND SYMPATHY\n",
      "0.28518206 22086 PAPER CHAIN KIT 50'S CHRISTMAS \n"
     ]
    }
   ],
   "source": [
    "recommend(1)"
   ]
  },
  {
   "cell_type": "code",
   "execution_count": 54,
   "metadata": {},
   "outputs": [
    {
     "name": "stdout",
     "output_type": "stream",
     "text": [
      "Order Contents:\n",
      "       StockCode                         Description\n",
      "189024     21122  SET/10 PINK POLKADOT PARTY CANDLES\n",
      "189025     22953  BIRTHDAY PARTY CORDON BARRIER TAPE\n",
      "189026     22435      SET OF 9 HEART SHAPED BALLOONS\n",
      "189027     22436          12 COLOURED PARTY BALLOONS\n",
      "Recommendations:\n",
      "0.25955927 21121 SET/10 RED POLKADOT PARTY CANDLES\n",
      "0.2516413 21124 SET/10 BLUE POLKADOT PARTY CANDLES\n",
      "0.24185924 23159 SET OF 5 PANCAKE DAY MAGNETS\n",
      "0.23912244 22439 6 ROCKET BALLOONS \n",
      "0.23754063 23154 SET OF 4 JAM JAR MAGNETS\n",
      "0.23248467 21122 SET/10 PINK POLKADOT PARTY CANDLES\n",
      "0.23079485 22938 CUPCAKE LACE PAPER SET 6\n",
      "0.22881785 23198 PANTRY MAGNETIC  SHOPPING LIST\n",
      "0.21695068 20981 12 PENCILS TALL TUBE WOODLAND\n",
      "0.205624 21123 SET/10 IVORY POLKADOT PARTY CANDLES\n"
     ]
    }
   ],
   "source": [
    "recommend(2340)"
   ]
  },
  {
   "cell_type": "code",
   "execution_count": 55,
   "metadata": {},
   "outputs": [
    {
     "name": "stdout",
     "output_type": "stream",
     "text": [
      "After recommending 2517 items, there would be an increase of $9,065.27 in additional purchases.\n"
     ]
    }
   ],
   "source": [
    "recommended_price = []\n",
    "for user in product_users_altered:\n",
    "    recommendations = model.recommend(user, user_items)\n",
    "    index = recommendations[0][0]\n",
    "    price = price_lookup[price_lookup.StockCode == products[index]].values\n",
    "    recommended_price.append(price[0][1])\n",
    "    \n",
    "total_recommended = np.sum(recommended_price)\n",
    "\n",
    "print('After recommending',len(product_users_altered),'items, there would be an increase of',\n",
    "      \"${:,.2f}\".format(total_recommended*test),'in additional purchases.')"
   ]
  },
  {
   "cell_type": "code",
   "execution_count": 56,
   "metadata": {},
   "outputs": [
    {
     "name": "stdout",
     "output_type": "stream",
     "text": [
      "[1.06, 2.1, 1.69, 2.55, 2.1, 1.06, 1.06, 2.1, 1.95, 2.55, 2.1, 2.1, 2.1, 2.1, 4.95, 1.45, 8.5, 2.95, 0.95, 2.95, 1.25, 1.95, 4.95, 1.25, 12.75, 1.85, 7.95, 3.75, 1.65, 0.42, 1.45, 1.65, 2.95, 2.95, 1.25, 4.95, 1.25, 3.75, 13.57, 2.55, 1.25, 2.95, 4.95, 2.55, 0.42, 3.75, 2.75, 2.1, 6.95, 2.55, 2.55, 4.25, 3.39, 1.85, 2.55, 2.1, 0.85, 5.95, 1.85, 1.06, 2.1, 1.25, 3.39, 1.45, 1.25, 1.85, 2.1, 3.39, 15.0, 12.75, 3.75, 1.25, 1.69, 1.85, 2.1, 1.85, 1.85, 2.95, 3.75, 1.25, 1.95, 4.95, 1.06, 2.1, 2.1, 3.75, 2.1, 2.95, 0.55, 4.65, 3.75, 2.1, 13.57, 1.25, 9.95, 1.45, 1.25, 1.65, 1.25, 3.95, 2.95, 7.95, 7.95, 1.25, 1.95, 7.95, 4.95, 2.95, 1.95, 4.65, 4.65, 1.85, 3.75, 1.65, 1.25, 0.95, 13.57, 5.95, 1.65, 8.25, 4.95, 3.75, 5.95, 4.95, 4.25, 1.65, 1.85, 1.95, 2.1, 7.95, 2.55, 3.39, 4.95, 2.95, 2.1, 8.5, 2.1, 4.21, 1.85, 12.75, 1.65, 4.25, 2.55, 4.95, 3.75, 2.1, 4.95, 14.95, 1.85, 1.65, 4.95, 1.65, 4.95, 3.75, 2.55, 1.85, 2.95, 1.65, 0.95, 3.75, 1.95, 0.85, 1.25, 2.95, 2.1, 12.75, 1.65, 2.95, 2.1, 1.85, 1.85, 2.95, 4.95, 1.85, 2.95, 3.39, 1.45, 2.1, 12.75, 1.65, 7.95, 5.95, 1.85, 8.5, 2.95, 2.95, 12.75, 1.45, 2.95, 1.45, 3.75, 4.95, 2.95, 1.65, 4.25, 4.95, 7.95, 1.49, 4.95, 7.95, 3.75, 1.25, 1.95, 4.95, 4.95, 2.55, 5.95, 4.95, 13.57, 2.1, 2.1, 1.95, 2.1, 1.85, 1.25, 4.25, 2.55, 1.25, 4.95, 1.25, 2.1, 2.95, 4.95, 1.95, 4.95, 0.85, 7.95, 5.95, 3.39, 4.65, 1.65, 6.95, 9.95, 2.95, 2.55, 34.95, 3.35, 2.95, 2.1, 1.45, 1.65, 1.25, 4.95, 5.95, 2.95, 3.75, 2.95, 1.25, 4.95, 0.85, 12.75, 4.95, 4.25, 3.95, 2.1, 3.39, 2.95, 1.95, 2.95, 1.25, 8.5, 7.95, 2.95, 2.95, 9.95, 4.95, 2.95, 1.65, 1.69, 0.85, 2.1, 1.65, 1.65, 2.55, 1.65, 0.95, 2.55, 0.95, 1.25, 1.25, 2.1, 2.1, 1.25, 2.55, 12.75, 4.95, 3.75, 2.1, 8.5, 3.39, 12.75, 1.49, 15.0, 2.95, 4.95, 7.95, 1.65, 7.95, 1.65, 0.95, 2.1, 0.85, 2.1, 3.75, 9.95, 2.1, 1.45, 9.32, 3.75, 4.95, 2.1, 1.25, 5.95, 1.95, 2.1, 2.55, 1.95, 2.95, 0.95, 1.65, 1.65, 3.75, 1.65, 2.55, 9.95, 2.1, 1.45, 2.1, 1.65, 2.95, 15.0, 8.5, 9.95, 12.75, 1.95, 3.39, 8.5, 1.06, 2.95, 6.95, 3.95, 2.95, 3.95, 2.89, 1.65, 1.65, 2.95, 4.95, 2.95, 0.95, 4.95, 1.25, 2.95, 4.95, 1.25, 2.55, 1.69, 2.95, 1.95, 1.69, 1.25, 2.95, 4.95, 0.85, 3.95, 2.95, 4.95, 2.95, 1.69, 3.39, 0.85, 7.95, 3.95, 3.75, 2.95, 3.75, 2.1, 2.95, 4.65, 1.95, 2.08, 3.39, 7.95, 4.95, 4.95, 1.65, 2.95, 3.95, 15.0, 1.65, 1.49, 3.75, 1.25, 0.85, 7.95, 4.65, 3.75, 5.95, 4.21, 5.95, 0.85, 2.1, 0.85, 13.57, 8.5, 0.65, 1.25, 3.95, 1.45, 3.75, 2.95, 4.95, 4.95, 9.32, 4.95, 4.95, 2.95, 1.65, 2.55, 2.1, 7.95, 9.95, 2.95, 2.55, 4.25, 4.95, 2.1, 3.95, 4.95, 3.75, 0.85, 1.85, 3.75, 3.75, 2.55, 7.95, 2.55, 9.32, 2.55, 16.95, 8.5, 1.25, 3.75, 3.75, 4.95, 2.95, 2.95, 1.95, 4.95, 1.69, 3.75, 2.95, 5.95, 0.85, 4.25, 4.95, 1.65, 1.95, 5.95, 4.95, 2.55, 8.5, 0.85, 2.1, 2.95, 4.95, 1.25, 1.25, 1.65, 1.95, 1.25, 3.75, 7.95, 0.85, 3.75, 4.95, 1.69, 2.1, 1.69, 0.65, 4.95, 2.1, 9.95, 4.95, 2.1, 8.5, 2.95, 0.85, 3.75, 3.95, 1.25, 2.95, 1.25, 3.95, 2.95, 2.55, 3.95, 2.55, 2.1, 3.75, 2.55, 7.95, 2.95, 0.85, 3.35, 1.25, 4.95, 1.25, 4.25, 4.95, 2.95, 2.1, 2.95, 1.45, 3.95, 2.1, 4.21, 11.02, 7.95, 3.75, 1.65, 1.95, 1.95, 2.1, 2.1, 2.55, 4.95, 15.0, 14.43, 1.65, 7.95, 3.75, 2.95, 3.75, 3.75, 1.95, 0.85, 4.25, 1.95, 4.25, 1.65, 3.75, 5.06, 0.85, 1.25, 9.32, 5.95, 15.0, 3.75, 13.57, 3.95, 4.95, 2.95, 10.95, 2.55, 1.25, 11.02, 3.75, 12.75, 3.75, 1.25, 1.25, 2.95, 1.45, 3.75, 1.25, 5.45, 1.65, 2.1, 12.75, 4.25, 6.95, 0.85, 2.1, 1.69, 5.95, 2.55, 2.95, 1.65, 1.45, 5.45, 2.1, 6.95, 3.95, 2.1, 4.25, 2.55, 3.75, 13.57, 1.69, 1.25, 2.95, 0.85, 1.65, 1.25, 4.25, 2.55, 2.55, 5.95, 2.95, 7.95, 1.65, 0.65, 15.0, 4.25, 3.75, 7.95, 2.95, 0.55, 9.95, 1.65, 2.55, 2.95, 0.42, 11.02, 13.57, 1.65, 13.57, 1.65, 2.1, 2.95, 1.65, 1.95, 5.06, 2.95, 6.75, 1.95, 0.85, 5.95, 15.0, 4.25, 13.57, 4.95, 15.0, 1.65, 2.1, 2.55, 5.95, 1.65, 0.85, 7.95, 0.95, 2.1, 1.65, 1.65, 2.95, 2.55, 1.45, 7.95, 5.95, 10.95, 0.55, 2.1, 1.65, 10.17, 11.02, 2.55, 11.02, 2.95, 0.85, 16.95, 3.35, 0.85, 4.95, 9.95, 2.08, 4.95, 1.65, 1.25, 1.25, 1.95, 0.42, 2.95, 2.55, 5.95, 1.95, 2.1, 1.25, 2.55, 2.95, 1.65, 7.95, 3.95, 2.95, 5.95, 1.65, 1.25, 1.95, 2.1, 1.95, 7.95, 1.95, 4.95, 1.25, 4.95, 4.95, 3.75, 8.5, 3.75, 1.95, 1.25, 6.75, 1.25, 1.69, 2.55, 4.95, 1.69, 4.25, 9.95, 9.32, 2.95, 3.75, 1.69, 2.95, 1.95, 2.95, 1.25, 5.06, 1.65, 1.25, 9.95, 3.95, 1.25, 4.95, 4.95, 4.25, 4.95, 2.95, 1.65, 7.65, 6.95, 2.1, 1.95, 3.95, 4.25, 2.95, 1.95, 1.65, 8.5, 2.95, 2.95, 4.25, 5.95, 4.95, 15.0, 2.95, 5.95, 3.75, 2.95, 12.75, 8.5, 3.95, 2.1, 4.95, 2.55, 2.1, 7.95, 3.75, 10.17, 2.1, 2.95, 6.95, 3.95, 0.55, 2.55, 0.75, 4.25, 1.95, 5.95, 1.25, 3.75, 7.95, 1.49, 4.95, 8.5, 5.45, 1.65, 2.95, 1.65, 1.69, 10.95, 7.95, 7.95, 9.95, 1.25, 2.1, 1.25, 4.65, 1.95, 7.95, 4.95, 4.95, 3.75, 1.95, 15.0, 4.95, 2.55, 4.95, 5.95, 2.55, 1.45, 1.65, 7.95, 7.95, 7.95, 2.55, 2.95, 4.25, 4.95, 2.55, 4.95, 1.95, 2.95, 0.95, 1.95, 12.75, 4.95, 11.02, 3.75, 4.95, 0.85, 2.95, 9.95, 2.1, 12.75, 1.25, 9.95, 4.95, 2.1, 0.85, 8.5, 1.65, 7.95, 2.95, 7.95, 4.95, 1.45, 13.57, 7.95, 7.95, 7.95, 7.95, 3.75, 1.95, 3.75, 1.25, 2.95, 6.95, 2.95, 2.55, 1.65, 1.95, 1.25, 1.69, 3.75, 2.95, 2.95, 2.1, 2.55, 0.95, 2.1, 3.75, 8.5, 7.95, 2.95, 9.95, 1.65, 1.95, 1.95, 4.95, 2.95, 1.25, 3.75, 1.25, 5.95, 9.95, 1.95, 1.65, 1.65, 8.5, 12.75, 3.75, 1.65, 1.95, 1.95, 0.85, 2.95, 1.69, 7.95, 2.1, 1.65, 5.45, 6.75, 1.65, 5.45, 2.95, 4.95, 1.95, 2.95, 4.95, 0.85, 3.75, 8.5, 1.65, 4.95, 2.75, 0.85, 2.95, 4.95, 2.95, 1.65, 1.95, 2.08, 4.25, 1.65, 2.95, 1.25, 9.95, 1.25, 15.0, 10.95, 5.95, 9.32, 2.55, 1.65, 1.65, 1.65, 8.5, 3.75, 8.5, 9.95, 0.85, 1.25, 1.65, 1.65, 14.95, 0.85, 15.0, 12.75, 3.75, 5.95, 8.5, 4.25, 3.75, 1.25, 5.95, 8.5, 0.65, 1.25, 4.95, 14.95, 1.45, 1.65, 1.95, 3.95, 2.1, 1.25, 1.25, 1.45, 2.95, 14.43, 9.32, 0.83, 7.95, 2.1, 0.55, 2.1, 2.1, 0.85, 2.95, 1.25, 1.25, 2.95, 1.25, 2.95, 5.95, 4.95, 9.32, 0.55, 4.21, 14.95, 0.85, 3.75, 1.25, 5.95, 3.95, 2.95, 7.95, 5.95, 7.95, 2.95, 8.5, 1.95, 1.95, 121.06, 121.06, 2.1, 4.95, 5.95, 2.95, 2.95, 1.25, 4.95, 2.95, 1.25, 5.95, 0.85, 6.35, 4.95, 34.95, 1.25, 0.85, 0.65, 0.42, 4.25, 2.95, 2.55, 5.95, 1.25, 2.95, 2.95, 2.95, 0.42, 2.95, 0.95, 9.95, 2.95, 2.55, 2.95, 0.42, 8.5, 1.95, 2.1, 8.5, 0.55, 1.25, 3.75, 12.75, 12.75, 1.95, 2.95, 2.95, 1.95, 2.55, 7.95, 121.06, 1.95, 2.95, 7.95, 2.95, 9.95, 1.25, 5.95, 10.95, 12.75, 1.95, 5.95, 1.25, 12.75, 1.65, 1.95, 4.95, 8.5, 0.55, 4.95, 3.75, 5.95, 8.5, 2.55, 4.95, 5.45, 4.95, 1.65, 2.95, 2.95, 7.95, 0.95, 2.95, 1.65, 5.95, 7.95, 1.45, 1.95, 1.25, 5.95, 1.69, 1.95, 2.95, 0.83, 1.95, 8.5, 1.65, 1.95, 3.75, 2.55, 1.25, 4.95, 5.95, 1.65, 2.1, 12.75, 7.95, 4.25, 2.1, 2.55, 2.55, 9.95, 0.95, 1.69, 2.95, 1.65, 2.95, 2.55, 1.49, 1.95, 7.95, 6.35, 1.49, 3.95, 1.25, 12.75, 2.95, 13.57, 5.95, 0.29, 2.95, 2.95, 4.95, 2.55, 12.75, 2.95, 1.25, 9.95, 4.95, 2.95, 0.95, 9.32, 7.95, 1.65, 9.95, 1.25, 4.25, 4.95, 12.75, 0.95, 3.75, 9.95, 2.08, 2.95, 2.95, 1.65, 1.25, 5.95, 2.95, 0.85, 2.08, 1.25, 1.65, 8.25, 1.06, 3.75, 5.95, 3.75, 0.85, 2.55, 0.85, 1.45, 8.5, 6.95, 0.85, 1.25, 12.75, 12.75, 8.47, 1.95, 0.85, 14.95, 2.1, 2.55, 1.85, 1.65, 4.95, 0.85, 0.42, 1.25, 4.95, 5.95, 0.95, 0.85, 3.39, 1.25, 0.42, 2.95, 9.95, 2.55, 1.25, 2.95, 3.75, 2.95, 1.25, 1.65, 2.95, 4.25, 1.65, 8.5, 1.25, 4.95, 8.25, 0.85, 1.45, 4.95, 7.95, 3.75, 4.95, 2.1, 8.25, 2.55, 7.95, 2.1, 7.95, 3.95, 1.95, 1.95, 1.95, 7.95, 4.25, 2.55, 2.08, 4.95, 8.5, 1.65, 0.85, 1.95, 1.95, 1.25, 4.95, 1.45, 5.45, 1.65, 7.95, 2.55, 4.95, 1.25, 4.95, 12.75, 3.95, 5.95, 7.65, 8.5, 1.25, 2.95, 1.45, 2.1, 2.1, 1.25, 2.55, 3.75, 1.65, 12.75, 1.95, 4.95, 0.55, 3.95, 5.95, 3.95, 1.95, 3.75, 2.95, 8.5, 3.75, 1.95, 0.42, 7.95, 1.45, 1.45, 1.25, 1.25, 4.95, 2.95, 8.25, 4.95, 0.85, 1.25, 1.25, 5.95, 1.65, 2.55, 1.25, 2.95, 4.95, 2.55, 8.25, 2.95, 2.1, 3.75, 5.06, 12.75, 2.55, 2.95, 3.95, 4.95, 5.95, 2.25, 3.29, 1.95, 2.1, 1.65, 2.55, 4.25, 2.55, 1.65, 0.75, 4.95, 12.75, 1.65, 1.95, 8.25, 8.5, 8.5, 0.65, 6.95, 3.75, 1.95, 1.65, 4.95, 12.75, 1.95, 1.65, 1.65, 3.75, 9.32, 2.95, 7.95, 5.95, 1.45, 1.25, 2.55, 2.25, 7.95, 1.25, 0.85, 5.45, 0.42, 2.95, 12.75, 2.1, 3.75, 1.25, 4.25, 1.65, 1.45, 0.95, 4.95, 1.45, 8.5, 1.95, 1.65, 2.95, 1.45, 1.95, 1.95, 10.17, 1.65, 8.5, 16.95, 1.25, 3.75, 0.85, 4.21, 3.75, 1.65, 1.65, 2.95, 0.85, 1.25, 2.55, 12.75, 8.5, 2.95, 5.95, 8.5, 2.95, 15.0, 5.95, 12.75, 0.85, 12.75, 7.95, 1.65, 1.95, 0.85, 0.85, 2.1, 0.95, 9.32, 1.95, 10.95, 9.95, 9.95, 1.65, 1.49, 9.95, 2.95, 1.25, 0.65, 4.25, 7.95, 15.0, 5.06, 2.55, 8.5, 5.95, 0.85, 2.95, 2.95, 0.95, 1.95, 0.95, 1.95, 1.69, 2.95, 0.85, 7.95, 4.21, 3.75, 4.95, 1.25, 2.95, 7.95, 2.95, 0.95, 8.5, 12.75, 4.95, 14.43, 2.95, 3.75, 4.25, 9.95, 2.1, 4.95, 12.75, 7.95, 9.95, 4.95, 2.55, 1.65, 2.95, 1.95, 2.95, 0.85, 2.95, 8.25, 0.85, 1.25, 13.57, 2.95, 1.65, 1.25, 2.95, 7.95, 2.95, 2.95, 7.95, 1.65, 2.95, 13.57, 1.65, 1.45, 1.65, 2.95, 7.95, 4.21, 8.5, 7.95, 9.32, 2.55, 7.95, 0.85, 0.85, 2.95, 1.45, 6.95, 7.95, 7.95, 3.95, 2.95, 1.25, 2.1, 3.95, 5.95, 2.95, 2.95, 5.95, 1.65, 9.95, 1.25, 1.65, 1.65, 8.5, 2.95, 8.25, 0.42, 2.1, 3.95, 1.65, 5.95, 1.45, 1.65, 2.95, 1.65, 3.75, 2.95, 2.1, 3.75, 0.65, 7.95, 2.55, 9.95, 1.95, 1.65, 1.95, 1.45, 0.85, 1.45, 12.75, 2.95, 3.75, 8.5, 5.95, 2.95, 0.85, 2.95, 12.75, 0.55, 1.25, 7.95, 2.55, 3.75, 1.65, 1.65, 3.25, 8.5, 1.69, 0.42, 2.95, 7.95, 7.95, 1.95, 2.1, 1.45, 2.1, 1.65, 3.75, 1.95, 5.95, 2.55, 1.45, 1.45, 2.95, 2.08, 6.95, 2.08, 0.85, 2.1, 8.5, 1.65, 2.95, 1.95, 7.95, 7.65, 7.95, 8.25, 0.95, 0.85, 3.75, 3.95, 1.65, 5.95, 2.1, 4.95, 1.25, 15.0, 3.75, 1.65, 5.95, 12.75, 1.65, 5.95, 3.75, 2.08, 2.08, 12.75, 2.95, 4.95, 1.25, 2.95, 2.95, 1.65, 0.85, 2.95, 3.75, 4.25, 4.95, 9.32, 1.65, 1.65, 7.95, 5.95, 1.65, 2.1, 1.65, 2.1, 0.85, 3.75, 121.06, 3.95, 0.42, 1.25, 1.45, 4.25, 0.42, 3.75, 8.5, 8.5, 1.69, 2.95, 2.55, 11.02, 7.95, 8.25, 1.95, 1.95, 1.25, 8.5, 1.25, 9.32, 4.15, 2.95, 1.45, 1.25, 13.57, 2.95, 0.42, 5.95, 2.1, 0.85, 7.95, 7.95, 2.1, 8.5, 0.85, 11.02, 2.1, 0.95, 6.75, 12.75, 2.08, 8.25, 2.95, 1.65, 8.5, 1.65, 4.95, 1.95, 3.75, 2.95, 2.55, 2.95, 9.95, 1.69, 3.75, 1.25, 1.25, 0.95, 7.95, 7.95, 2.95, 1.65, 0.85, 5.95, 1.25, 12.75, 0.85, 3.75, 1.95, 10.95, 5.45, 2.55, 2.95, 0.85, 1.95, 5.95, 1.95, 1.95, 2.55, 4.95, 2.95, 9.32, 2.55, 8.5, 1.25, 1.25, 1.25, 1.25, 8.25, 7.95, 1.65, 2.95, 5.06, 0.65, 0.85, 15.0, 2.55, 2.95, 1.95, 1.95, 2.55, 1.25, 1.45, 1.45, 12.75, 1.45, 2.08, 2.08, 9.32, 5.95, 0.85, 9.32, 2.55, 0.65, 1.25, 1.25, 0.85, 4.95, 4.95, 12.75, 3.75, 1.25, 1.45, 5.95, 7.95, 7.95, 9.32, 1.25, 7.95, 1.45, 9.95, 8.25, 1.25, 7.95, 0.55, 1.65, 4.65, 4.95, 7.95, 1.25, 7.95, 9.95, 8.5, 2.95, 8.25, 7.95, 2.95, 16.95, 1.65, 4.95, 1.65, 0.55, 7.95, 1.95, 3.95, 6.75, 1.95, 1.25, 3.75, 2.1, 12.75, 2.1, 5.45, 4.95, 2.95, 8.25, 2.95, 4.95, 9.32, 12.75, 1.25, 0.95, 2.55, 0.42, 0.95, 12.75, 5.95, 1.65, 0.85, 0.85, 1.65, 1.25, 2.55, 2.95, 1.25, 1.95, 1.65, 5.95, 5.95, 0.65, 1.65, 9.32, 3.95, 5.95, 0.85, 3.39, 2.1, 4.95, 5.45, 12.75, 2.08, 0.83, 2.95, 12.75, 1.65, 2.95, 1.25, 2.08, 5.95, 2.1, 2.95, 9.95, 1.45, 0.85, 1.95, 5.95, 1.95, 5.06, 121.06, 4.21, 1.95, 0.85, 121.06, 2.1, 0.85, 121.06, 5.95, 0.65, 0.85, 3.75, 2.95, 2.95, 8.25, 8.25, 2.95, 4.95, 4.15, 1.65, 2.95, 2.55, 2.95, 8.25, 1.95, 1.65, 2.1, 1.25, 2.08, 5.06, 4.95, 2.95, 2.1, 2.55, 5.95, 4.95, 2.08, 10.17, 1.95, 2.08, 4.95, 2.08, 0.65, 2.95, 1.65, 7.95, 1.65, 2.95, 5.45, 1.65, 1.65, 8.25, 1.69, 2.08, 1.25, 1.25, 5.95, 3.75, 4.25, 2.08, 12.5, 1.45, 1.65, 8.5, 0.85, 3.75, 5.95, 1.25, 9.32, 9.95, 12.75, 1.25, 2.55, 7.95, 5.95, 7.95, 1.25, 7.95, 2.95, 1.25, 1.65, 2.55, 4.95, 4.95, 6.25, 2.95, 2.95, 1.95, 1.65, 5.95, 1.65, 2.95, 1.25, 9.32, 5.95, 1.25, 0.85, 5.95, 2.08, 1.65, 7.95, 1.65, 2.08, 4.95, 2.49, 4.95, 1.25, 8.5, 9.95, 2.95, 7.95, 1.65, 1.95, 2.55, 7.95, 2.55, 2.1, 1.45, 4.95, 1.45, 2.95, 1.65, 1.25, 1.65, 0.75, 0.85, 10.95, 0.85, 8.5, 3.75, 2.08, 12.5, 3.75, 8.25, 6.35, 1.65, 2.75, 1.25, 2.49, 12.75, 2.55, 7.95, 2.95, 0.85, 2.1, 7.95, 2.95, 1.95, 1.25, 2.95, 0.83, 0.83, 1.65, 14.43, 1.65, 0.42, 3.75, 5.45, 4.15, 9.32, 3.75, 1.25, 4.25, 0.85, 2.08, 2.1, 1.25, 1.65, 9.32, 1.65, 2.08, 1.65, 13.57, 9.32, 8.25, 4.95, 8.5, 2.95, 8.5, 0.55, 1.25, 1.95, 1.65, 1.95, 4.21, 10.95, 1.65, 1.45, 1.95, 3.75, 4.95, 4.95, 4.25, 1.25, 4.25, 8.25, 1.65, 2.1, 1.65, 14.95, 1.65, 1.95, 1.65, 4.25, 4.95, 0.65, 0.85, 8.5, 0.85, 12.75, 3.75, 7.95, 2.55, 2.08, 2.95, 1.25, 8.5, 2.95, 0.85, 2.08, 2.08, 3.39, 1.95, 1.95, 1.95, 1.95, 121.06, 1.25, 1.25, 4.25, 2.55, 3.75, 1.25, 2.95, 4.95, 2.95, 5.95, 2.08, 14.95, 3.75, 1.65, 12.75, 1.65, 2.95, 3.75, 4.95, 9.32, 8.5, 2.95, 5.95, 1.65, 1.65, 2.55, 2.95, 1.25, 1.95, 6.95, 9.95, 3.75, 2.55, 1.25, 3.75, 2.55, 2.55, 2.95, 4.95, 16.95, 1.25, 3.75, 2.1, 0.65, 2.08, 1.25, 5.95, 0.85, 8.5, 2.95, 5.95, 2.1, 1.95, 9.95, 2.55, 0.85, 4.95, 0.85, 14.95, 1.65, 1.65, 10.95, 8.25, 2.08, 2.55, 2.55, 2.95, 4.25, 1.95, 2.1, 9.32, 1.95, 1.95, 1.95, 1.95, 1.95, 2.95, 2.95, 4.95, 8.25, 7.65, 1.45, 2.95, 4.15, 12.75, 0.85, 4.95, 7.95, 4.15, 8.5, 4.95, 4.95, 7.95, 4.95, 8.5, 1.65, 5.95, 2.1, 2.95, 0.85, 4.95, 2.55, 0.83, 1.65, 7.95, 1.95, 1.95, 1.95, 0.85, 4.95, 1.95, 7.95, 8.25, 4.15, 1.65, 1.25, 4.95, 8.5, 1.25, 9.32, 3.75, 0.83, 5.95, 1.65, 2.95, 2.95, 8.25, 4.15, 14.95, 2.95, 4.95, 121.06, 10.95, 1.95, 1.95, 0.65, 2.95, 8.5, 3.75, 9.95, 2.08, 2.75, 7.95, 8.25, 6.25, 0.42, 4.15, 4.95, 2.08, 1.95, 6.95, 0.85, 3.45, 4.95, 3.29, 2.1, 4.21, 2.55, 2.95, 5.45, 12.75, 2.1, 2.55, 8.5, 9.32, 12.75, 2.95, 4.15, 4.15, 1.65, 4.15, 3.75, 1.25, 0.42, 4.95, 1.95, 4.95, 4.95, 4.95, 0.55, 3.75, 2.95, 10.17, 0.85, 2.08, 2.08, 4.25, 0.42, 1.65, 7.95, 1.65, 5.95, 2.1, 4.95, 7.95, 1.65, 0.55, 10.95, 2.08, 1.25, 4.95, 8.25, 7.5, 1.45, 5.95, 2.1, 0.83, 2.95, 0.85, 0.75, 1.95, 5.45, 6.25, 1.95, 1.95, 0.85, 4.15, 1.65, 2.95, 0.85, 7.95, 1.95, 8.15, 1.65, 2.1, 0.65, 1.25, 1.45, 1.65, 3.75, 0.39, 1.65, 1.25, 14.43, 12.75, 1.65, 5.95, 1.65, 2.95, 7.95, 1.65, 0.95, 3.75, 12.75, 5.95, 8.5, 1.95, 3.75, 7.95, 2.08, 7.95, 5.95, 12.75, 2.55, 0.83, 1.25, 4.15, 4.95, 2.55, 1.25, 7.95, 3.75, 3.75, 5.95, 1.95, 1.45, 2.55, 2.1, 121.06, 2.95, 7.95, 5.95, 1.65, 4.25, 4.95, 0.85, 2.95, 2.95, 4.25, 2.55, 1.65, 9.32, 1.65, 12.75, 1.65, 5.95, 2.95, 4.95, 1.95, 3.75, 4.95, 2.55, 0.85, 7.95, 2.89, 16.95, 4.25, 2.95, 5.95, 7.95, 4.95, 8.5, 8.5, 7.95, 0.29, 0.42, 1.25, 0.65, 1.95, 5.75, 1.45, 2.1, 0.85, 0.65, 2.55, 1.95, 1.95, 2.1, 3.75, 1.49, 1.65, 1.65, 15.0, 2.55, 2.1, 2.95, 1.25, 4.95, 13.57, 4.95, 0.85, 1.95, 1.95, 1.25, 0.65, 1.65, 2.95, 1.65, 0.83, 12.75, 1.65, 1.65, 2.95, 4.95, 1.65, 12.75, 3.75, 1.25, 2.1, 8.5, 12.75, 5.95, 1.25, 0.42, 1.25, 1.95, 1.95, 121.06, 121.06, 1.69, 2.1, 0.85, 2.55, 3.75, 4.95, 1.65, 6.35, 2.95, 1.45, 9.95, 4.15, 0.42, 8.5, 7.95, 1.65, 1.25, 2.55, 1.25, 2.55, 0.65, 0.42, 2.95, 1.95, 1.95, 1.95, 0.55, 2.1, 4.25, 0.85, 1.69, 1.95, 2.55, 1.25, 2.95, 2.08, 1.95, 1.25, 5.95, 1.25, 2.95, 1.45, 9.32, 0.55, 1.95, 2.95, 2.95, 1.65, 4.15, 1.65, 1.65, 1.65, 4.95, 1.25, 2.1, 2.55, 13.57, 2.25, 5.95, 0.83, 2.95, 1.25, 1.65, 4.15, 9.95, 1.95, 13.57, 1.95, 7.95, 2.1, 2.95, 1.65, 2.95, 4.95, 2.95, 2.95, 8.5, 4.25, 2.95, 4.15, 0.42, 2.55, 14.95, 2.1, 1.45, 1.65, 2.08, 3.75, 9.95, 1.95, 121.06, 1.95, 9.32, 3.75, 1.25, 4.15]\n"
     ]
    }
   ],
   "source": [
    "print(recommended_price)"
   ]
  },
  {
   "cell_type": "code",
   "execution_count": null,
   "metadata": {},
   "outputs": [],
   "source": []
  },
  {
   "cell_type": "markdown",
   "metadata": {},
   "source": [
    "# F Score\n",
    "\n",
    "Keeping this down here in case we want to compute F Score to go along with AUC."
   ]
  },
  {
   "cell_type": "code",
   "execution_count": null,
   "metadata": {
    "id": "aOSjX_t8gF1h"
   },
   "outputs": [],
   "source": [
    "def get_f_score(precision, recall):\n",
    "  denominator = precision + recall\n",
    "  if(denominator == 0):\n",
    "    return 0\n",
    "  return 2 * (precision * recall) / denominator"
   ]
  },
  {
   "cell_type": "code",
   "execution_count": null,
   "metadata": {
    "id": "E55Bi-RgsbVZ"
   },
   "outputs": [],
   "source": [
    "def precision_recall_at_k(predictions, k=10, threshold=.75):\n",
    "    \"\"\"Return precision and recall at k metrics for each user\"\"\"\n",
    "\n",
    "    # First map the predictions to each user.\n",
    "    user_est_true = defaultdict(list)\n",
    "    for uid, _, true_r, est, _ in predictions:\n",
    "        user_est_true[uid].append((est, true_r))\n",
    "\n",
    "    precisions = dict()\n",
    "    recalls = dict()\n",
    "    for uid, user_ratings in user_est_true.items():\n",
    "\n",
    "        # Sort user ratings by estimated value\n",
    "        user_ratings.sort(key=lambda x: x[0], reverse=True)\n",
    "\n",
    "        # Number of relevant items\n",
    "        n_rel = sum((true_r >= threshold) for (_, true_r) in user_ratings)\n",
    "\n",
    "        # Number of recommended items in top k\n",
    "        n_rec_k = sum((est >= threshold) for (est, _) in user_ratings[:k])\n",
    "\n",
    "        # Number of relevant and recommended items in top k\n",
    "        n_rel_and_rec_k = sum(((true_r >= threshold) and (est >= threshold))\n",
    "                              for (est, true_r) in user_ratings[:k])\n",
    "\n",
    "        # Precision@K: Proportion of recommended items that are relevant\n",
    "        # When n_rec_k is 0, Precision is undefined. We here set it to 0.\n",
    "\n",
    "        precisions[uid] = n_rel_and_rec_k / n_rec_k if n_rec_k != 0 else 0\n",
    "\n",
    "        # Recall@K: Proportion of relevant items that are recommended\n",
    "        # When n_rel is 0, Recall is undefined. We here set it to 0.\n",
    "\n",
    "        recalls[uid] = n_rel_and_rec_k / n_rel if n_rel != 0 else 0\n",
    "\n",
    "    return precisions, recalls"
   ]
  }
 ],
 "metadata": {
  "accelerator": "GPU",
  "colab": {
   "collapsed_sections": [],
   "name": "Copy of ECommerce-recommendation",
   "provenance": [],
   "toc_visible": true
  },
  "kernelspec": {
   "display_name": "Python 3",
   "language": "python",
   "name": "python3"
  },
  "language_info": {
   "codemirror_mode": {
    "name": "ipython",
    "version": 3
   },
   "file_extension": ".py",
   "mimetype": "text/x-python",
   "name": "python",
   "nbconvert_exporter": "python",
   "pygments_lexer": "ipython3",
   "version": "3.8.8"
  }
 },
 "nbformat": 4,
 "nbformat_minor": 1
}
