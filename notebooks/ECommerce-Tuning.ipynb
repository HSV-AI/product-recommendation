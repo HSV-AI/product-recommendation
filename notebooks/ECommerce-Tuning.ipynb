{
 "cells": [
  {
   "cell_type": "markdown",
   "metadata": {
    "id": "gEfZf48Wu5f0"
   },
   "source": [
    "![HSV-AI Logo](https://github.com/HSV-AI/hugo-website/blob/master/static/images/logo_v9.png?raw=true)\n",
    "\n",
    "# Implicit Recommendation from ECommerce Data\n",
    "\n",
    "Some of the material for this work is based on [A Gentle Introduction to Recommender Systems with Implicit Feedback](https://jessesw.com/Rec-System/) by Jesse Steinweg Woods. This tutorial includes an implementation of the Alternating Least Squares algorithm and some other useful functions (like the area under the curve calculation). Other parts of the tutorial are based on a previous version of the Implicit library and had to be reworked.\n",
    "\n",
    "The dataset used for this work is from Kaggle [E-Commerce Data, Actual transactions from UK retailer](https://www.kaggle.com/carrie1/ecommerce-data)\n"
   ]
  },
  {
   "cell_type": "markdown",
   "metadata": {
    "id": "OApEEC0_wB4C"
   },
   "source": [
    "# Global Imports"
   ]
  },
  {
   "cell_type": "code",
   "execution_count": null,
   "metadata": {
    "id": "fsb9emt6nrPu"
   },
   "outputs": [],
   "source": [
    "import pandas as pd\n",
    "import numpy as np\n",
    "import random\n",
    "from matplotlib import pyplot as plt\n",
    "import implicit\n",
    "import scipy\n",
    "from sklearn import metrics\n",
    "from pandas.api.types import CategoricalDtype\n",
    "\n",
    "import wandb"
   ]
  },
  {
   "cell_type": "code",
   "execution_count": null,
   "metadata": {},
   "outputs": [],
   "source": [
    "%run Common-Functions.ipynb"
   ]
  },
  {
   "cell_type": "markdown",
   "metadata": {},
   "source": [
    "## Hyperparameter Tuning with Weights & Biases\n"
   ]
  },
  {
   "cell_type": "code",
   "execution_count": null,
   "metadata": {},
   "outputs": [],
   "source": [
    "sweep_config = {\n",
    "    \"method\": \"bayes\",  # grid, random\n",
    "    \"metric\": {\"name\": \"prediction_auc\", \"goal\": \"maximize\"},\n",
    "    \"parameters\": {\n",
    "        \"percent_test\": {\"min\":0.1, \"max\":0.3},\n",
    "        \"alpha\": {\"min\":1, \"max\":30 },\n",
    "        \"factors\" : {\n",
    "            \"values\" : [64, 128]\n",
    "        },\n",
    "        \"regularization\": {\"min\":0.01, \"max\":.2},\n",
    "        \"iterations\": {\"min\":20, \"max\":100}\n",
    "    },\n",
    "}\n",
    "\n",
    "sweep_id = wandb.sweep(sweep_config, project=\"ecommerce\")\n",
    "\n",
    "def sweep():\n",
    "\n",
    "    # Initialize a new wandb run\n",
    "    with wandb.init() as run:\n",
    "\n",
    "        selected_df = pd.read_pickle('../data/interim/ecommerce/selected_invoices.gz')   \n",
    "\n",
    "        # The Sweep parameters are passed in with the wandb.config parameter\n",
    "        invoices = list(np.sort(selected_df.InvoiceNo.unique())) # Get our unique customers\n",
    "        products = list(selected_df.StockCode.unique()) # Get our unique products that were purchased\n",
    "        quantity = list(selected_df.Quantity) # All of our purchases\n",
    "\n",
    "        cols = selected_df.InvoiceNo.astype(CategoricalDtype(categories=invoices, ordered=True)).cat.codes \n",
    "        # Get the associated row indices\n",
    "        rows = selected_df.StockCode.astype(CategoricalDtype(categories=products, ordered=True)).cat.codes \n",
    "        # Get the associated column indices\n",
    "        purchases_sparse = scipy.sparse.csr_matrix((quantity, (rows, cols)), shape=(len(products), len(invoices)))\n",
    "        product_train, product_test, products_altered, transactions_altered = make_train(purchases_sparse, pct_test = wandb.config['percent_test'])\n",
    "\n",
    "        model = implicit.als.AlternatingLeastSquares(factors=wandb.config['factors'],\n",
    "                                        regularization=wandb.config['regularization'],\n",
    "                                        iterations=wandb.config['iterations'])\n",
    "\n",
    "        alpha = wandb.config['alpha']                                                                  \n",
    "        model.fit((product_train * alpha).astype('double'))\n",
    "\n",
    "        user_vecs = model.user_factors\n",
    "        item_vecs = model.item_factors\n",
    "\n",
    "        test, popular = calc_mean_auc(product_train, products_altered, \n",
    "                      [scipy.sparse.csr_matrix(item_vecs), scipy.sparse.csr_matrix(user_vecs.T)], product_test)\n",
    "\n",
    "        wandb.log({\n",
    "            'prediction_auc': test\n",
    "        })\n",
    "\n",
    "\n",
    "wandb.agent(sweep_id, sweep, count=100)\n"
   ]
  },
  {
   "cell_type": "code",
   "execution_count": null,
   "metadata": {},
   "outputs": [],
   "source": []
  }
 ],
 "metadata": {
  "accelerator": "GPU",
  "colab": {
   "collapsed_sections": [],
   "name": "Copy of ECommerce-recommendation",
   "provenance": [],
   "toc_visible": true
  },
  "interpreter": {
   "hash": "4cd7ab41f5fca4b9b44701077e38c5ffd31fe66a6cab21e0214b68d958d0e462"
  },
  "kernelspec": {
   "display_name": "Python 3 (ipykernel)",
   "language": "python",
   "name": "python3"
  },
  "language_info": {
   "codemirror_mode": {
    "name": "ipython",
    "version": 3
   },
   "file_extension": ".py",
   "mimetype": "text/x-python",
   "name": "python",
   "nbconvert_exporter": "python",
   "pygments_lexer": "ipython3",
   "version": "3.7.11"
  }
 },
 "nbformat": 4,
 "nbformat_minor": 1
}
