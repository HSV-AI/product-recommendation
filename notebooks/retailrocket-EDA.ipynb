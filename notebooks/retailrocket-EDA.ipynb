{
 "cells": [
  {
   "cell_type": "markdown",
   "id": "29b3e514",
   "metadata": {},
   "source": [
    "![HSV-AI Logo](https://hsv.ai/wp-content/uploads/2022/03/logo_v11_2022.png)\n",
    "\n",
    "# Implicit Recommendation from ECommerce Data\n",
    "\n",
    "\n",
    "## Basics of EDA\n",
    "\n",
    "Here are a few things that we are looking for in the invoice / transaction data:\n",
    "\n",
    "1. Were there any negative totals? If so why?\n",
    "2. What percentage of the purchases actually contained multiple items?\n",
    "3. What is the spread of purchases by customer ID? Do we have a few customers whose behavior may drive recommendations in a way that doesn't fit the average customer?\n",
    "4. Where there any purchases that were VERY large? If so why? Do we want to include these values to train model behavior?\n",
    "5. Is there any missing data that we need to scrub?\n"
   ]
  },
  {
   "cell_type": "code",
   "execution_count": null,
   "id": "27a45f6d",
   "metadata": {},
   "outputs": [],
   "source": [
    "%reload_kedro"
   ]
  },
  {
   "cell_type": "code",
   "execution_count": 1,
   "id": "84827ddc",
   "metadata": {},
   "outputs": [],
   "source": [
    "import pandas as pd\n",
    "import numpy as np\n",
    "import random\n",
    "import scipy.sparse\n",
    "from matplotlib import pyplot as plt\n",
    "from pandas.api.types import CategoricalDtype\n"
   ]
  },
  {
   "cell_type": "markdown",
   "id": "ce17187f",
   "metadata": {},
   "source": [
    "# Available Files\n",
    "\n",
    "Let's go ahead and look into some of these files and see what we can see."
   ]
  },
  {
   "cell_type": "code",
   "execution_count": 2,
   "id": "faa63da1",
   "metadata": {},
   "outputs": [
    {
     "name": "stdout",
     "output_type": "stream",
     "text": [
      "2022-03-28 23:07:48,224 - kedro.io.data_catalog - INFO - Loading data from `retailrocket_kaggle_event_data` (CSVDataSet)...\n"
     ]
    }
   ],
   "source": [
    "events = catalog.load(\"retailrocket_kaggle_event_data\")"
   ]
  },
  {
   "cell_type": "code",
   "execution_count": 3,
   "id": "230b2f6d",
   "metadata": {},
   "outputs": [],
   "source": [
    "transactions = events[events.event == \"transaction\"].copy()"
   ]
  },
  {
   "cell_type": "markdown",
   "id": "43ea47ce",
   "metadata": {},
   "source": [
    "# Checking for missing data"
   ]
  },
  {
   "cell_type": "code",
   "execution_count": 4,
   "id": "ea4b7005",
   "metadata": {},
   "outputs": [
    {
     "name": "stdout",
     "output_type": "stream",
     "text": [
      "Total length is 22457\n"
     ]
    },
    {
     "data": {
      "text/plain": [
       "timestamp        0\n",
       "visitorid        0\n",
       "event            0\n",
       "itemid           0\n",
       "transactionid    0\n",
       "dtype: int64"
      ]
     },
     "execution_count": 4,
     "metadata": {},
     "output_type": "execute_result"
    }
   ],
   "source": [
    "print('Total length is',len(transactions))\n",
    "transactions.isna().sum()"
   ]
  },
  {
   "cell_type": "code",
   "execution_count": 5,
   "id": "615aca75",
   "metadata": {},
   "outputs": [
    {
     "data": {
      "text/html": [
       "<div>\n",
       "<style scoped>\n",
       "    .dataframe tbody tr th:only-of-type {\n",
       "        vertical-align: middle;\n",
       "    }\n",
       "\n",
       "    .dataframe tbody tr th {\n",
       "        vertical-align: top;\n",
       "    }\n",
       "\n",
       "    .dataframe thead th {\n",
       "        text-align: right;\n",
       "    }\n",
       "</style>\n",
       "<table border=\"1\" class=\"dataframe\">\n",
       "  <thead>\n",
       "    <tr style=\"text-align: right;\">\n",
       "      <th></th>\n",
       "      <th>timestamp</th>\n",
       "      <th>visitorid</th>\n",
       "      <th>event</th>\n",
       "      <th>itemid</th>\n",
       "      <th>transactionid</th>\n",
       "      <th>order_id</th>\n",
       "      <th>customer_id</th>\n",
       "      <th>product_id</th>\n",
       "    </tr>\n",
       "  </thead>\n",
       "  <tbody>\n",
       "    <tr>\n",
       "      <th>130</th>\n",
       "      <td>1433222276276</td>\n",
       "      <td>599528</td>\n",
       "      <td>transaction</td>\n",
       "      <td>356475</td>\n",
       "      <td>4000.0</td>\n",
       "      <td>4000.0</td>\n",
       "      <td>599528</td>\n",
       "      <td>356475</td>\n",
       "    </tr>\n",
       "    <tr>\n",
       "      <th>304</th>\n",
       "      <td>1433193500981</td>\n",
       "      <td>121688</td>\n",
       "      <td>transaction</td>\n",
       "      <td>15335</td>\n",
       "      <td>11117.0</td>\n",
       "      <td>11117.0</td>\n",
       "      <td>121688</td>\n",
       "      <td>15335</td>\n",
       "    </tr>\n",
       "    <tr>\n",
       "      <th>418</th>\n",
       "      <td>1433193915008</td>\n",
       "      <td>552148</td>\n",
       "      <td>transaction</td>\n",
       "      <td>81345</td>\n",
       "      <td>5444.0</td>\n",
       "      <td>5444.0</td>\n",
       "      <td>552148</td>\n",
       "      <td>81345</td>\n",
       "    </tr>\n",
       "    <tr>\n",
       "      <th>814</th>\n",
       "      <td>1433176736375</td>\n",
       "      <td>102019</td>\n",
       "      <td>transaction</td>\n",
       "      <td>150318</td>\n",
       "      <td>13556.0</td>\n",
       "      <td>13556.0</td>\n",
       "      <td>102019</td>\n",
       "      <td>150318</td>\n",
       "    </tr>\n",
       "    <tr>\n",
       "      <th>843</th>\n",
       "      <td>1433174518180</td>\n",
       "      <td>189384</td>\n",
       "      <td>transaction</td>\n",
       "      <td>310791</td>\n",
       "      <td>7244.0</td>\n",
       "      <td>7244.0</td>\n",
       "      <td>189384</td>\n",
       "      <td>310791</td>\n",
       "    </tr>\n",
       "  </tbody>\n",
       "</table>\n",
       "</div>"
      ],
      "text/plain": [
       "         timestamp  visitorid        event  itemid  transactionid order_id  \\\n",
       "130  1433222276276     599528  transaction  356475         4000.0   4000.0   \n",
       "304  1433193500981     121688  transaction   15335        11117.0  11117.0   \n",
       "418  1433193915008     552148  transaction   81345         5444.0   5444.0   \n",
       "814  1433176736375     102019  transaction  150318        13556.0  13556.0   \n",
       "843  1433174518180     189384  transaction  310791         7244.0   7244.0   \n",
       "\n",
       "    customer_id product_id  \n",
       "130      599528     356475  \n",
       "304      121688      15335  \n",
       "418      552148      81345  \n",
       "814      102019     150318  \n",
       "843      189384     310791  "
      ]
     },
     "execution_count": 5,
     "metadata": {},
     "output_type": "execute_result"
    }
   ],
   "source": [
    "transactions['order_id'] = transactions.transactionid.astype(str)\n",
    "transactions['customer_id'] = transactions.visitorid.astype(str)\n",
    "transactions['product_id'] = transactions.itemid.astype(str)\n",
    "transactions.head()"
   ]
  },
  {
   "cell_type": "code",
   "execution_count": 6,
   "id": "c4f14062",
   "metadata": {},
   "outputs": [
    {
     "name": "stdout",
     "output_type": "stream",
     "text": [
      "There are 17672 unique transactions\n",
      "\n",
      "Here are the counts of transactions ordered from largest to smallest\n",
      "[31 28 27 ...  1  1  1]\n",
      "\n",
      "And a graph of what the curve looks like:\n"
     ]
    },
    {
     "data": {
      "image/png": "[encoded data removed]",
      "text/plain": [
       "<Figure size 432x288 with 1 Axes>"
      ]
     },
     "metadata": {
      "needs_background": "light"
     },
     "output_type": "display_data"
    }
   ],
   "source": [
    "transaction_counts = transactions['order_id'].value_counts().to_numpy()\n",
    "print('There are', len(transaction_counts), 'unique transactions\\n')\n",
    "print('Here are the counts of transactions ordered from largest to smallest')\n",
    "print(transaction_counts)\n",
    "print('\\nAnd a graph of what the curve looks like:')\n",
    "plt.plot(transaction_counts) \n",
    "plt.show()"
   ]
  },
  {
   "cell_type": "markdown",
   "id": "36cc9676",
   "metadata": {},
   "source": [
    "# User Interactions\n",
    "\n",
    "Let's take a look at how many unique customers are included in this dataset"
   ]
  },
  {
   "cell_type": "code",
   "execution_count": 7,
   "id": "09c72075",
   "metadata": {},
   "outputs": [
    {
     "name": "stdout",
     "output_type": "stream",
     "text": [
      "There are 11719 unique customers\n",
      "\n",
      "Here are the counts of transactions per customer ordered from largest to smallest\n",
      "[559 349 286 ...   1   1   1]\n",
      "\n",
      "And a graph of what the curve looks like:\n"
     ]
    },
    {
     "data": {
      "image/png": "[encoded data removed]",
      "text/plain": [
       "<Figure size 432x288 with 1 Axes>"
      ]
     },
     "metadata": {
      "needs_background": "light"
     },
     "output_type": "display_data"
    }
   ],
   "source": [
    "user_counts = transactions['customer_id'].value_counts().to_numpy()\n",
    "print('There are', len(user_counts), 'unique customers\\n')\n",
    "print('Here are the counts of transactions per customer ordered from largest to smallest')\n",
    "print(user_counts)\n",
    "print('\\nAnd a graph of what the curve looks like:')\n",
    "plt.plot(user_counts) \n",
    "plt.show()"
   ]
  },
  {
   "cell_type": "code",
   "execution_count": 8,
   "id": "336e4d24",
   "metadata": {},
   "outputs": [
    {
     "data": {
      "text/html": [
       "<div>\n",
       "<style scoped>\n",
       "    .dataframe tbody tr th:only-of-type {\n",
       "        vertical-align: middle;\n",
       "    }\n",
       "\n",
       "    .dataframe tbody tr th {\n",
       "        vertical-align: top;\n",
       "    }\n",
       "\n",
       "    .dataframe thead th {\n",
       "        text-align: right;\n",
       "    }\n",
       "</style>\n",
       "<table border=\"1\" class=\"dataframe\">\n",
       "  <thead>\n",
       "    <tr style=\"text-align: right;\">\n",
       "      <th></th>\n",
       "      <th>customer_id</th>\n",
       "      <th>count</th>\n",
       "    </tr>\n",
       "  </thead>\n",
       "  <tbody>\n",
       "    <tr>\n",
       "      <th>1433</th>\n",
       "      <td>1150086</td>\n",
       "      <td>559</td>\n",
       "    </tr>\n",
       "    <tr>\n",
       "      <th>3956</th>\n",
       "      <td>152963</td>\n",
       "      <td>349</td>\n",
       "    </tr>\n",
       "    <tr>\n",
       "      <th>7373</th>\n",
       "      <td>530559</td>\n",
       "      <td>286</td>\n",
       "    </tr>\n",
       "    <tr>\n",
       "      <th>8814</th>\n",
       "      <td>684514</td>\n",
       "      <td>189</td>\n",
       "    </tr>\n",
       "    <tr>\n",
       "      <th>10432</th>\n",
       "      <td>861299</td>\n",
       "      <td>188</td>\n",
       "    </tr>\n",
       "    <tr>\n",
       "      <th>9556</th>\n",
       "      <td>76757</td>\n",
       "      <td>185</td>\n",
       "    </tr>\n",
       "    <tr>\n",
       "      <th>3643</th>\n",
       "      <td>138131</td>\n",
       "      <td>173</td>\n",
       "    </tr>\n",
       "    <tr>\n",
       "      <th>10714</th>\n",
       "      <td>890980</td>\n",
       "      <td>145</td>\n",
       "    </tr>\n",
       "    <tr>\n",
       "      <th>2826</th>\n",
       "      <td>1297062</td>\n",
       "      <td>136</td>\n",
       "    </tr>\n",
       "    <tr>\n",
       "      <th>4825</th>\n",
       "      <td>247235</td>\n",
       "      <td>132</td>\n",
       "    </tr>\n",
       "  </tbody>\n",
       "</table>\n",
       "</div>"
      ],
      "text/plain": [
       "      customer_id  count\n",
       "1433      1150086    559\n",
       "3956       152963    349\n",
       "7373       530559    286\n",
       "8814       684514    189\n",
       "10432      861299    188\n",
       "9556        76757    185\n",
       "3643       138131    173\n",
       "10714      890980    145\n",
       "2826      1297062    136\n",
       "4825       247235    132"
      ]
     },
     "execution_count": 8,
     "metadata": {},
     "output_type": "execute_result"
    }
   ],
   "source": [
    "transactions.groupby(['customer_id'])['customer_id'] \\\n",
    "                             .count() \\\n",
    "                             .reset_index(name='count') \\\n",
    "                             .sort_values(['count'], ascending=False) \\\n",
    "                             .head(10)"
   ]
  },
  {
   "cell_type": "markdown",
   "id": "c937dd09",
   "metadata": {},
   "source": [
    "It looks like \"-1\" is used when the customer is unknown. Let's take a look at the UserId with the very high count of items in the transactions."
   ]
  },
  {
   "cell_type": "code",
   "execution_count": 9,
   "id": "ad28e4a6",
   "metadata": {},
   "outputs": [
    {
     "data": {
      "text/html": [
       "<div>\n",
       "<style scoped>\n",
       "    .dataframe tbody tr th:only-of-type {\n",
       "        vertical-align: middle;\n",
       "    }\n",
       "\n",
       "    .dataframe tbody tr th {\n",
       "        vertical-align: top;\n",
       "    }\n",
       "\n",
       "    .dataframe thead th {\n",
       "        text-align: right;\n",
       "    }\n",
       "</style>\n",
       "<table border=\"1\" class=\"dataframe\">\n",
       "  <thead>\n",
       "    <tr style=\"text-align: right;\">\n",
       "      <th></th>\n",
       "      <th>timestamp</th>\n",
       "      <th>visitorid</th>\n",
       "      <th>event</th>\n",
       "      <th>itemid</th>\n",
       "      <th>transactionid</th>\n",
       "      <th>order_id</th>\n",
       "      <th>customer_id</th>\n",
       "      <th>product_id</th>\n",
       "    </tr>\n",
       "    <tr>\n",
       "      <th>order_id</th>\n",
       "      <th></th>\n",
       "      <th></th>\n",
       "      <th></th>\n",
       "      <th></th>\n",
       "      <th></th>\n",
       "      <th></th>\n",
       "      <th></th>\n",
       "      <th></th>\n",
       "    </tr>\n",
       "  </thead>\n",
       "  <tbody>\n",
       "    <tr>\n",
       "      <th>1.0</th>\n",
       "      <td>1</td>\n",
       "      <td>1</td>\n",
       "      <td>1</td>\n",
       "      <td>1</td>\n",
       "      <td>1</td>\n",
       "      <td>1</td>\n",
       "      <td>1</td>\n",
       "      <td>1</td>\n",
       "    </tr>\n",
       "    <tr>\n",
       "      <th>1002.0</th>\n",
       "      <td>1</td>\n",
       "      <td>1</td>\n",
       "      <td>1</td>\n",
       "      <td>1</td>\n",
       "      <td>1</td>\n",
       "      <td>1</td>\n",
       "      <td>1</td>\n",
       "      <td>1</td>\n",
       "    </tr>\n",
       "    <tr>\n",
       "      <th>10151.0</th>\n",
       "      <td>1</td>\n",
       "      <td>1</td>\n",
       "      <td>1</td>\n",
       "      <td>1</td>\n",
       "      <td>1</td>\n",
       "      <td>1</td>\n",
       "      <td>1</td>\n",
       "      <td>1</td>\n",
       "    </tr>\n",
       "    <tr>\n",
       "      <th>10196.0</th>\n",
       "      <td>2</td>\n",
       "      <td>2</td>\n",
       "      <td>2</td>\n",
       "      <td>2</td>\n",
       "      <td>2</td>\n",
       "      <td>2</td>\n",
       "      <td>2</td>\n",
       "      <td>2</td>\n",
       "    </tr>\n",
       "    <tr>\n",
       "      <th>1020.0</th>\n",
       "      <td>1</td>\n",
       "      <td>1</td>\n",
       "      <td>1</td>\n",
       "      <td>1</td>\n",
       "      <td>1</td>\n",
       "      <td>1</td>\n",
       "      <td>1</td>\n",
       "      <td>1</td>\n",
       "    </tr>\n",
       "    <tr>\n",
       "      <th>...</th>\n",
       "      <td>...</td>\n",
       "      <td>...</td>\n",
       "      <td>...</td>\n",
       "      <td>...</td>\n",
       "      <td>...</td>\n",
       "      <td>...</td>\n",
       "      <td>...</td>\n",
       "      <td>...</td>\n",
       "    </tr>\n",
       "    <tr>\n",
       "      <th>9628.0</th>\n",
       "      <td>1</td>\n",
       "      <td>1</td>\n",
       "      <td>1</td>\n",
       "      <td>1</td>\n",
       "      <td>1</td>\n",
       "      <td>1</td>\n",
       "      <td>1</td>\n",
       "      <td>1</td>\n",
       "    </tr>\n",
       "    <tr>\n",
       "      <th>9634.0</th>\n",
       "      <td>1</td>\n",
       "      <td>1</td>\n",
       "      <td>1</td>\n",
       "      <td>1</td>\n",
       "      <td>1</td>\n",
       "      <td>1</td>\n",
       "      <td>1</td>\n",
       "      <td>1</td>\n",
       "    </tr>\n",
       "    <tr>\n",
       "      <th>9846.0</th>\n",
       "      <td>1</td>\n",
       "      <td>1</td>\n",
       "      <td>1</td>\n",
       "      <td>1</td>\n",
       "      <td>1</td>\n",
       "      <td>1</td>\n",
       "      <td>1</td>\n",
       "      <td>1</td>\n",
       "    </tr>\n",
       "    <tr>\n",
       "      <th>9891.0</th>\n",
       "      <td>1</td>\n",
       "      <td>1</td>\n",
       "      <td>1</td>\n",
       "      <td>1</td>\n",
       "      <td>1</td>\n",
       "      <td>1</td>\n",
       "      <td>1</td>\n",
       "      <td>1</td>\n",
       "    </tr>\n",
       "    <tr>\n",
       "      <th>9950.0</th>\n",
       "      <td>1</td>\n",
       "      <td>1</td>\n",
       "      <td>1</td>\n",
       "      <td>1</td>\n",
       "      <td>1</td>\n",
       "      <td>1</td>\n",
       "      <td>1</td>\n",
       "      <td>1</td>\n",
       "    </tr>\n",
       "  </tbody>\n",
       "</table>\n",
       "<p>502 rows × 8 columns</p>\n",
       "</div>"
      ],
      "text/plain": [
       "          timestamp  visitorid  event  itemid  transactionid  order_id  \\\n",
       "order_id                                                                 \n",
       "1.0               1          1      1       1              1         1   \n",
       "1002.0            1          1      1       1              1         1   \n",
       "10151.0           1          1      1       1              1         1   \n",
       "10196.0           2          2      2       2              2         2   \n",
       "1020.0            1          1      1       1              1         1   \n",
       "...             ...        ...    ...     ...            ...       ...   \n",
       "9628.0            1          1      1       1              1         1   \n",
       "9634.0            1          1      1       1              1         1   \n",
       "9846.0            1          1      1       1              1         1   \n",
       "9891.0            1          1      1       1              1         1   \n",
       "9950.0            1          1      1       1              1         1   \n",
       "\n",
       "          customer_id  product_id  \n",
       "order_id                           \n",
       "1.0                 1           1  \n",
       "1002.0              1           1  \n",
       "10151.0             1           1  \n",
       "10196.0             2           2  \n",
       "1020.0              1           1  \n",
       "...               ...         ...  \n",
       "9628.0              1           1  \n",
       "9634.0              1           1  \n",
       "9846.0              1           1  \n",
       "9891.0              1           1  \n",
       "9950.0              1           1  \n",
       "\n",
       "[502 rows x 8 columns]"
      ]
     },
     "execution_count": 9,
     "metadata": {},
     "output_type": "execute_result"
    }
   ],
   "source": [
    "transactions[transactions.customer_id == \"1150086\"].groupby(transactions.order_id).count()"
   ]
  },
  {
   "cell_type": "markdown",
   "id": "c2ae31c7",
   "metadata": {},
   "source": [
    "It appears that there are a lot of different transactions, so probably not just the same thing being purchased over and over. Not really sure what to do with this at the moment."
   ]
  },
  {
   "cell_type": "markdown",
   "id": "99236c27",
   "metadata": {},
   "source": [
    "# Transactions over Time\n",
    "\n",
    "Now we need to look at the number of items purchased each day to see if there is anything interesting that pops out."
   ]
  },
  {
   "cell_type": "code",
   "execution_count": 10,
   "id": "74b3786a",
   "metadata": {},
   "outputs": [],
   "source": [
    "from datetime import datetime\n",
    "\n",
    "datetime_object = datetime.fromtimestamp(1433193500981 / 1000.0)\n"
   ]
  },
  {
   "cell_type": "code",
   "execution_count": 11,
   "id": "4230ad78",
   "metadata": {},
   "outputs": [],
   "source": [
    "from datetime import datetime\n",
    "\n",
    "def func(date):\n",
    "    temp = datetime.fromtimestamp(date / 1000.0)\n",
    "    return temp.strftime('%Y%m%d')\n",
    "\n",
    "transactions['datetime'] = transactions.apply(lambda x: func(x.timestamp), axis=1)\n"
   ]
  },
  {
   "cell_type": "code",
   "execution_count": 12,
   "id": "fd8683db",
   "metadata": {},
   "outputs": [
    {
     "data": {
      "text/plain": [
       "<AxesSubplot:>"
      ]
     },
     "execution_count": 12,
     "metadata": {},
     "output_type": "execute_result"
    },
    {
     "data": {
      "image/png": "[encoded data removed]",
      "text/plain": [
       "<Figure size 1080x720 with 1 Axes>"
      ]
     },
     "metadata": {
      "needs_background": "light"
     },
     "output_type": "display_data"
    }
   ],
   "source": [
    "transactions.groupby(['datetime'])['datetime'] \\\n",
    "                             .count() \\\n",
    "                             .reset_index(name='count') \\\n",
    "                             .sort_values(['datetime'], ascending=True) \\\n",
    "                             .plot(figsize=(15,10))"
   ]
  },
  {
   "cell_type": "code",
   "execution_count": 13,
   "id": "4a86af26",
   "metadata": {},
   "outputs": [
    {
     "name": "stdout",
     "output_type": "stream",
     "text": [
      "Orders with at least 2 products: 2710\n",
      "Orders with less than 2 products: 14962\n",
      "Original dataframe length: 22457\n",
      "Filtered dataframe length: 7495\n"
     ]
    }
   ],
   "source": [
    "minimum_order_size = 2\n",
    "order_group = transactions.loc[:, ['order_id', 'product_id']].groupby('order_id').count()\n",
    " \n",
    "multi_order = order_group[(order_group.product_id >= minimum_order_size)].count()\n",
    "single_order = order_group[(order_group.product_id < minimum_order_size)].count()\n",
    " \n",
    "print('Orders with at least',minimum_order_size,'products:',multi_order['product_id'])\n",
    "print('Orders with less than',minimum_order_size,'products:',single_order['product_id'])\n",
    " \n",
    "# We can capture the list of mutiple product orders with this:\n",
    "order_filter = order_group[(order_group.product_id >= minimum_order_size)].index.tolist()\n",
    "\n",
    "filtered_df = transactions[transactions['order_id'].isin(order_filter)].copy()\n",
    "\n",
    "print('Original dataframe length:', len(transactions))\n",
    "print('Filtered dataframe length:', len(filtered_df))\n",
    "\n",
    "filtered_df['quantity'] = 1"
   ]
  },
  {
   "cell_type": "markdown",
   "id": "36242f6a",
   "metadata": {},
   "source": [
    "Well it looks like this entire dataset has transactions with multiple products. No need to filter out transactions with only a single."
   ]
  },
  {
   "cell_type": "markdown",
   "id": "d924b319",
   "metadata": {},
   "source": [
    "# Data Sparcity\n",
    "\n",
    "Let's take a look at the sparcity of the data. This will tell us how many products were purchased across multiple orders. This is directly related to how well a recommendation system can be trained."
   ]
  },
  {
   "cell_type": "code",
   "execution_count": 14,
   "id": "4f8f80fd",
   "metadata": {},
   "outputs": [],
   "source": [
    "transaction_list = list(np.sort(filtered_df.order_id.unique())) # Get our unique customers\n",
    "item_list = list(filtered_df.product_id.unique()) # Get our unique products that were purchased\n",
    "quantity_list = list(filtered_df.quantity) # All of our purchases\n",
    "\n",
    "cols = filtered_df.order_id.astype(CategoricalDtype(categories=transaction_list, ordered=True)).cat.codes \n",
    "# Get the associated row indices\n",
    "rows = filtered_df.product_id.astype(CategoricalDtype(categories=item_list, ordered=True)).cat.codes \n",
    "# Get the associated column indices\n",
    "purchases_sparse = scipy.sparse.csr_matrix((quantity_list, (rows, cols)), shape=(len(item_list), len(transaction_list)))"
   ]
  },
  {
   "cell_type": "code",
   "execution_count": 15,
   "id": "e00f83fc",
   "metadata": {},
   "outputs": [
    {
     "data": {
      "text/plain": [
       "99.9471343681907"
      ]
     },
     "execution_count": 15,
     "metadata": {},
     "output_type": "execute_result"
    }
   ],
   "source": [
    "matrix_size = purchases_sparse.shape[0]*purchases_sparse.shape[1] # Number of possible interactions in the matrix\n",
    "num_purchases = len(purchases_sparse.nonzero()[0]) # Number of items interacted with\n",
    "sparsity = 100*(1 - (num_purchases/matrix_size))\n",
    "sparsity"
   ]
  },
  {
   "cell_type": "code",
   "execution_count": null,
   "id": "3ab54dbf",
   "metadata": {},
   "outputs": [],
   "source": [
    "plt.figure(figsize=(15, 15))\n",
    "plt.spy(purchases_sparse, markersize=1, aspect='auto')"
   ]
  },
  {
   "cell_type": "markdown",
   "id": "b67c70a1",
   "metadata": {},
   "source": [
    "# Storing Interim Data\n",
    "\n",
    "Now that we have the data cleaned up a bit and formatted correctly, we can save it to an interim file to be picked up by the model training algorithm."
   ]
  },
  {
   "cell_type": "code",
   "execution_count": null,
   "id": "be1b3e2c",
   "metadata": {},
   "outputs": [],
   "source": [
    "\n",
    "catalog.save(\"retail_rocket_transactions\", filtered_df[[\"order_id\", \"product_id\", \"price\", \"quantity\"]])"
   ]
  }
 ],
 "metadata": {
  "kernelspec": {
   "display_name": "productrec",
   "language": "python",
   "name": "python3"
  },
  "language_info": {
   "codemirror_mode": {
    "name": "ipython",
    "version": 3
   },
   "file_extension": ".py",
   "mimetype": "text/x-python",
   "name": "python",
   "nbconvert_exporter": "python",
   "pygments_lexer": "ipython3",
   "version": "3.8.12"
  }
 },
 "nbformat": 4,
 "nbformat_minor": 5
}
