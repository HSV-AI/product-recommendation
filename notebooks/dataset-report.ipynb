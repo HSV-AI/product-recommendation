{
 "cells": [
  {
   "cell_type": "markdown",
   "id": "29b3e514",
   "metadata": {},
   "source": [
    "![HSV-AI Logo](https://hsv.ai/wp-content/uploads/2022/03/logo_v11_2022.png)\n",
    "\n",
    "# Reporting\n"
   ]
  },
  {
   "cell_type": "code",
   "execution_count": 1,
   "id": "10316ca0",
   "metadata": {},
   "outputs": [
    {
     "name": "stdout",
     "output_type": "stream",
     "text": [
      "2022-04-01 22:22:56,072 - kedro.framework.session.store - INFO - `read()` not implemented for `BaseSessionStore`. Assuming empty store.\n",
      "2022-04-01 22:22:56,094 - root - INFO - ** Kedro project productrec\n",
      "2022-04-01 22:22:56,095 - root - INFO - Defined global variable `context`, `session` and `catalog`\n",
      "2022-04-01 22:22:56,103 - root - INFO - Registered line magic `run_viz`\n"
     ]
    }
   ],
   "source": [
    "%reload_kedro"
   ]
  },
  {
   "cell_type": "code",
   "execution_count": 2,
   "id": "84827ddc",
   "metadata": {},
   "outputs": [],
   "source": [
    "import pandas as pd\n",
    "import numpy as np\n",
    "import random\n",
    "from matplotlib import pyplot as plt\n",
    "import implicit\n",
    "import scipy\n",
    "from sklearn import metrics\n",
    "from pandas.api.types import CategoricalDtype\n"
   ]
  },
  {
   "cell_type": "markdown",
   "id": "ce17187f",
   "metadata": {},
   "source": [
    "# Available Files\n",
    "\n",
    "Let's go ahead and look into some of these files and see what we can see."
   ]
  },
  {
   "cell_type": "code",
   "execution_count": 3,
   "id": "faa63da1",
   "metadata": {},
   "outputs": [
    {
     "name": "stdout",
     "output_type": "stream",
     "text": [
      "2022-04-01 22:23:03,044 - kedro.io.data_catalog - INFO - Loading data from `transactions` (CSVDataSet)...\n",
      "2022-04-01 22:23:03,790 - kedro.io.data_catalog - INFO - Loading data from `products` (CSVDataSet)...\n"
     ]
    }
   ],
   "source": [
    "transactions = catalog.load(\"transactions\")\n",
    "products_df = catalog.load(\"products\")"
   ]
  },
  {
   "cell_type": "code",
   "execution_count": 4,
   "id": "62785e44",
   "metadata": {},
   "outputs": [
    {
     "data": {
      "text/markdown": [
       "\n",
       "# Overall Data Report\n",
       "\n",
       "The data consists of:\n",
       "* 276484 orders\n",
       "* 2500 customers\n",
       "* 92339 products\n",
       "* 2595732 purchases\n",
       "\n"
      ],
      "text/plain": [
       "<IPython.core.display.Markdown object>"
      ]
     },
     "execution_count": 4,
     "metadata": {},
     "output_type": "execute_result"
    }
   ],
   "source": [
    "from IPython.display import Markdown as md\n",
    "\n",
    "order_count = len(pd.unique(transactions['order_id']))\n",
    "customer_count = len(pd.unique(transactions['customer_id']))\n",
    "product_count = len(pd.unique(transactions[\"product_id\"]))\n",
    "\n",
    "md(\n",
    "'''\n",
    "# Overall Data Report\n",
    "\n",
    "The data consists of:\n",
    "* {} orders\n",
    "* {} customers\n",
    "* {} products\n",
    "* {} purchases\n",
    "\n",
    "'''.format(order_count, customer_count, product_count, len(transactions)))\n"
   ]
  },
  {
   "cell_type": "code",
   "execution_count": 5,
   "id": "d2ef8fa3",
   "metadata": {},
   "outputs": [
    {
     "data": {
      "text/markdown": [
       "\n",
       "# Top 5 customers based on product count purchased:\n",
       "\n",
       "|   customer_id |   product_id |\n",
       "|--------------:|-------------:|\n",
       "|           718 |         6851 |\n",
       "|          2459 |         6646 |\n",
       "|          1609 |         6625 |\n",
       "|          1111 |         6576 |\n",
       "|          1453 |         6561 |\n",
       "\n",
       "Other customers purchased 2,562,473 items.\n",
       "\n"
      ],
      "text/plain": [
       "<IPython.core.display.Markdown object>"
      ]
     },
     "execution_count": 5,
     "metadata": {},
     "output_type": "execute_result"
    }
   ],
   "source": [
    "output = '''\n",
    "# Top 5 customers based on product count purchased:\n",
    "\n",
    "'''\n",
    "\n",
    "user_counts = transactions[transactions['customer_id'] > 0].groupby(transactions.customer_id)['product_id'].count().sort_values(ascending=False)\n",
    "\n",
    "user_counts.head()\n",
    "\n",
    "five_total = 0\n",
    "for index, row in user_counts[:5].iteritems():\n",
    "    five_total += row\n",
    "\n",
    "table_str = user_counts[:5].to_markdown()\n",
    "\n",
    "output += table_str\n",
    "\n",
    "output += '''\n",
    "\n",
    "Other customers purchased {:,} items.\n",
    "\n",
    "'''.format(len(transactions) - five_total)\n",
    "\n",
    "md(output)\n"
   ]
  },
  {
   "cell_type": "code",
   "execution_count": 6,
   "metadata": {},
   "outputs": [
    {
     "name": "stdout",
     "output_type": "stream",
     "text": [
      "<class 'pandas.core.frame.DataFrame'>\n",
      "   Customer  Purchases\n",
      "0       718       6851\n",
      "1      2459       6646\n",
      "2      1609       6625\n",
      "3      1111       6576\n",
      "4      1453       6561\n",
      "5       982       5806\n",
      "6      2322       5692\n",
      "7       371       5669\n",
      "8      1489       5586\n",
      "9      2337       5517\n"
     ]
    }
   ],
   "source": [
    "df = user_counts[:10].reset_index().rename(columns={\"customer_id\":\"Customer\", \"product_id\":\"Purchases\"})\n",
    "\n",
    "print(type(df))\n",
    "print(df)"
   ]
  },
  {
   "cell_type": "code",
   "execution_count": 7,
   "metadata": {},
   "outputs": [
    {
     "name": "stdout",
     "output_type": "stream",
     "text": [
      "1510\n",
      "900\n",
      "2337\n",
      "1795\n",
      "2459\n"
     ]
    },
    {
     "data": {
      "text/markdown": [
       "\n",
       "# Top 5 customers based on total orders:\n",
       "\n",
       "|   customer_id |   order_id |\n",
       "|--------------:|-----------:|\n",
       "|          1510 |       1300 |\n",
       "|           900 |       1223 |\n",
       "|          2337 |       1210 |\n",
       "|          1795 |       1138 |\n",
       "|          2459 |        971 |\n",
       "\n",
       "Other customers placed 270,642 orders.\n",
       "\n"
      ],
      "text/plain": [
       "<IPython.core.display.Markdown object>"
      ]
     },
     "execution_count": 7,
     "metadata": {},
     "output_type": "execute_result"
    }
   ],
   "source": [
    "output = '''\n",
    "# Top 5 customers based on total orders:\n",
    "\n",
    "'''\n",
    "\n",
    "user_counts = transactions[transactions['customer_id'] > 0] \\\n",
    "    .drop_duplicates(['customer_id', 'order_id']) \\\n",
    "    .groupby('customer_id')['order_id'] \\\n",
    "    .count() \\\n",
    "    .sort_values(ascending=False)\n",
    "\n",
    "five_total = 0\n",
    "for index, row in user_counts[:5].iteritems():\n",
    "    print(index)\n",
    "    five_total += row\n",
    "\n",
    "table_str = user_counts[:5].to_markdown()\n",
    "\n",
    "output += table_str\n",
    "\n",
    "output += '''\n",
    "\n",
    "Other customers placed {:,} orders.\n",
    "\n",
    "'''.format(order_count - five_total)\n",
    "\n",
    "md(output)\n"
   ]
  },
  {
   "cell_type": "code",
   "execution_count": 8,
   "metadata": {},
   "outputs": [
    {
     "data": {
      "image/png": "[encoded data removed]",
      "text/plain": [
       "<Figure size 792x432 with 1 Axes>"
      ]
     },
     "metadata": {},
     "output_type": "display_data"
    }
   ],
   "source": [
    "subplot = user_counts[:5].plot.pie(autopct=lambda p: '{:.0f}'.format(p * five_total / 100), shadow=True, figsize=(11, 6))\n",
    "\n",
    "subplot.get_figure().gca().set_ylabel(\"\")\n",
    "subplot.get_figure().gca().set_xlabel(\"\")\n",
    "subplot.get_figure().gca().set_title(\"Comparison of top 5 customers\")\n",
    "\n",
    "plt.show()\n"
   ]
  },
  {
   "cell_type": "code",
   "execution_count": 9,
   "metadata": {},
   "outputs": [
    {
     "name": "stdout",
     "output_type": "stream",
     "text": [
      "[156, 324, 537, 1421]\n"
     ]
    },
    {
     "data": {
      "image/png": "[encoded data removed]",
      "text/plain": [
       "<Figure size 720x576 with 1 Axes>"
      ]
     },
     "metadata": {},
     "output_type": "display_data"
    }
   ],
   "source": [
    "temp = (100. * user_counts / user_counts.sum()).sort_values(ascending=False)\n",
    "\n",
    "count = 0\n",
    "total = 0\n",
    "buckets=[]\n",
    "for val in temp:\n",
    "    \n",
    "    if total + val > 25:\n",
    "        buckets.append(count)\n",
    "        total = 0\n",
    "        count = 0\n",
    "        \n",
    "    count+=1\n",
    "    total+=val\n",
    "\n",
    "print(buckets)\n",
    "labels = ['Top 25%', '2nd 25%', '3rd 25%', '4th 25%']\n",
    "fig1, ax1 = plt.subplots(figsize=(10, 8))\n",
    "plt.pie(buckets, labels=labels, autopct=lambda p: '{:.0f}'.format(p * len(temp) / 100))\n",
    "fig1.gca().set_title(\"Breakdown of customers by order count\")\n",
    "plt.show()"
   ]
  },
  {
   "cell_type": "code",
   "execution_count": 11,
   "id": "7ed52baa",
   "metadata": {},
   "outputs": [
    {
     "data": {
      "text/markdown": [
       "\n",
       "# Top 5 products based on total count purchased:\n",
       "\n",
       "|   product_id |    quantity |\n",
       "|-------------:|------------:|\n",
       "|      6534178 | 2.16532e+08 |\n",
       "|      6533889 | 1.84796e+07 |\n",
       "|      6534166 | 1.39805e+07 |\n",
       "|      6544236 | 2.70513e+06 |\n",
       "|      1404121 | 1.6946e+06  |\n",
       "\n",
       "Other products purchased 7,293,654 times.\n",
       "\n"
      ],
      "text/plain": [
       "<IPython.core.display.Markdown object>"
      ]
     },
     "execution_count": 11,
     "metadata": {},
     "output_type": "execute_result"
    }
   ],
   "source": [
    "output = '''\n",
    "# Top 5 products based on total count purchased:\n",
    "\n",
    "'''\n",
    "\n",
    "product_counts = transactions[transactions['product_id'] > 0].groupby(transactions.product_id)['quantity'].agg('sum').sort_values(ascending=False)\n",
    "\n",
    "product_counts.head()\n",
    "\n",
    "five_total = 0\n",
    "for index, row in product_counts[:5].iteritems():\n",
    "    five_total += row\n",
    "\n",
    "table_str = product_counts[:5].to_markdown()\n",
    "\n",
    "output += table_str\n",
    "\n",
    "output += '''\n",
    "\n",
    "Other products purchased {:,} times.\n",
    "\n",
    "'''.format(transactions['quantity'].sum() - five_total)\n",
    "\n",
    "md(output)\n"
   ]
  },
  {
   "cell_type": "code",
   "execution_count": 12,
   "metadata": {},
   "outputs": [
    {
     "name": "stdout",
     "output_type": "stream",
     "text": [
      "<class 'pandas.core.frame.DataFrame'>\n",
      "<class 'pandas.core.frame.DataFrame'>\n"
     ]
    }
   ],
   "source": [
    "product_counts = transactions[transactions['product_id'] > 0] \\\n",
    "    .groupby(transactions.product_id)['quantity'] \\\n",
    "    .agg('sum'). \\\n",
    "    sort_values(ascending=False)\n",
    "\n",
    "product_df = product_counts \\\n",
    "    .reset_index() \\\n",
    "    .rename(columns={\"product_id\":\"Product\", \"quantity\":\"Quantity\"})\n",
    "print(type(product_df[:10]))\n",
    "\n",
    "product_df = product_counts \\\n",
    "    .reset_index() \\\n",
    "    .rename(columns={\"product_id\":\"Product\", \"quantity\":\"Quantity\"})\n",
    "print(type(product_df[:10]))"
   ]
  },
  {
   "cell_type": "code",
   "execution_count": 14,
   "metadata": {},
   "outputs": [
    {
     "data": {
      "text/markdown": [
       "\n",
       "# Top 5 products based on counting orders that included them:\n",
       "\n",
       "|   product_id |   order_id |\n",
       "|-------------:|-----------:|\n",
       "|      1082185 |      29778 |\n",
       "|      6534178 |      19820 |\n",
       "|      1029743 |      14430 |\n",
       "|       995242 |      12542 |\n",
       "|      1106523 |       9826 |\n",
       "\n",
       "Other customers placed 190,088 orders.\n",
       "\n"
      ],
      "text/plain": [
       "<IPython.core.display.Markdown object>"
      ]
     },
     "execution_count": 14,
     "metadata": {},
     "output_type": "execute_result"
    }
   ],
   "source": [
    "output = '''\n",
    "# Top 5 products based on counting orders that included them:\n",
    "\n",
    "'''\n",
    "\n",
    "product_counts = transactions[transactions['product_id'] > 0] \\\n",
    "    .groupby('product_id')['order_id'] \\\n",
    "    .count() \\\n",
    "    .sort_values(ascending=False)\n",
    "\n",
    "five_total = 0\n",
    "for index, row in product_counts[:5].iteritems():\n",
    "    five_total += row\n",
    "\n",
    "table_str = product_counts[:5].to_markdown()\n",
    "\n",
    "output += table_str\n",
    "\n",
    "output += '''\n",
    "\n",
    "Other customers placed {:,} orders.\n",
    "\n",
    "'''.format(order_count - five_total)\n",
    "\n",
    "md(output)\n"
   ]
  },
  {
   "cell_type": "code",
   "execution_count": 15,
   "metadata": {},
   "outputs": [
    {
     "data": {
      "image/png": "[encoded data removed]",
      "text/plain": [
       "<Figure size 792x432 with 1 Axes>"
      ]
     },
     "metadata": {},
     "output_type": "display_data"
    }
   ],
   "source": [
    "subplot = product_counts[:5].plot.pie(autopct=lambda p: '{:.0f}'.format(p * five_total / 100), shadow=True, figsize=(11, 6))\n",
    "\n",
    "subplot.get_figure().gca().set_ylabel(\"\")\n",
    "subplot.get_figure().gca().set_xlabel(\"\")\n",
    "subplot.get_figure().gca().set_title(\"Comparison of top 5 products\")\n",
    "\n",
    "plt.show()"
   ]
  },
  {
   "cell_type": "code",
   "execution_count": 19,
   "metadata": {},
   "outputs": [
    {
     "data": {
      "text/plain": [
       "[<matplotlib.lines.Line2D at 0x7fe4d0828100>]"
      ]
     },
     "execution_count": 19,
     "metadata": {},
     "output_type": "execute_result"
    },
    {
     "data": {
      "image/png": "[encoded data removed]",
      "text/plain": [
       "<Figure size 432x288 with 1 Axes>"
      ]
     },
     "metadata": {
      "needs_background": "light"
     },
     "output_type": "display_data"
    }
   ],
   "source": [
    "plt.plot(product_counts.values) "
   ]
  },
  {
   "cell_type": "code",
   "execution_count": 16,
   "metadata": {},
   "outputs": [
    {
     "name": "stdout",
     "output_type": "stream",
     "text": [
      "[374, 2017, 5944, 83341]\n"
     ]
    },
    {
     "data": {
      "image/png": "[encoded data removed]",
      "text/plain": [
       "<Figure size 720x576 with 1 Axes>"
      ]
     },
     "metadata": {},
     "output_type": "display_data"
    }
   ],
   "source": [
    "temp = (100. * product_counts / product_counts.sum()).sort_values(ascending=False)\n",
    "\n",
    "count = 0\n",
    "total = 0\n",
    "buckets=[]\n",
    "for val in temp:\n",
    "    \n",
    "    if total + val > 25:\n",
    "        buckets.append(count)\n",
    "        total = 0\n",
    "        count = 0\n",
    "        \n",
    "    count+=1\n",
    "    total+=val\n",
    "\n",
    "print(buckets)\n",
    "labels = ['Top 25%', '2nd 25%', '3rd 25%', '4th 25%']\n",
    "fig1, ax1 = plt.subplots(figsize=(10, 8))\n",
    "plt.pie(buckets, labels=labels, autopct=lambda p: '{:.0f}'.format(p * len(temp) / 100))\n",
    "fig1.gca().set_title(\"Breakdown of products by order count\")\n",
    "plt.show()"
   ]
  },
  {
   "cell_type": "code",
   "execution_count": 20,
   "metadata": {},
   "outputs": [],
   "source": [
    "from mlxtend.frequent_patterns import apriori, association_rules\n",
    "from mlxtend.preprocessing import TransactionEncoder\n",
    "\n",
    "grouped = transactions.groupby('order_id').agg({\"product_id\": lambda x: list(x)})\n",
    "temp = grouped['product_id'].values\n"
   ]
  },
  {
   "cell_type": "code",
   "execution_count": 21,
   "metadata": {},
   "outputs": [
    {
     "name": "stdout",
     "output_type": "stream",
     "text": [
      "Processing 1332 combinations | Sampling itemset size 2\n"
     ]
    }
   ],
   "source": [
    "te = TransactionEncoder()\n",
    "\n",
    "oht_ary = te.fit(temp).transform(temp, sparse=True)\n",
    "sparse_df = pd.DataFrame.sparse.from_spmatrix(oht_ary, columns=te.columns_)\n",
    "sparse_df.columns = [str(i) for i in sparse_df.columns]\n",
    "top_sets = apriori(sparse_df, min_support=0.012, use_colnames=True, verbose=1, max_len=5)\n",
    "top_sets['length'] = top_sets['itemsets'].apply(lambda x: len(x))"
   ]
  },
  {
   "cell_type": "code",
   "execution_count": 33,
   "metadata": {},
   "outputs": [
    {
     "name": "stdout",
     "output_type": "stream",
     "text": [
      "0    (1082185)\n",
      "1    (6534178)\n",
      "2    (1029743)\n",
      "3     (995242)\n",
      "4    (1106523)\n",
      "Name: itemsets, dtype: object\n"
     ]
    }
   ],
   "source": [
    "set1 = top_sets[top_sets['length'] == 1].sort_values('support', ascending=False).reset_index()[:5]['itemsets']\n",
    "\n",
    "print(set1)\n"
   ]
  },
  {
   "cell_type": "code",
   "execution_count": 36,
   "metadata": {},
   "outputs": [
    {
     "name": "stdout",
     "output_type": "stream",
     "text": [
      "   index   support            itemsets  length\n",
      "0     37  0.012467  (1029743, 1082185)       2\n"
     ]
    }
   ],
   "source": [
    "set2 = top_sets[top_sets['length'] == 2].sort_values('support', ascending=False).reset_index()[:5]\n",
    "\n",
    "print(set2)"
   ]
  },
  {
   "cell_type": "code",
   "execution_count": 37,
   "metadata": {},
   "outputs": [
    {
     "name": "stdout",
     "output_type": "stream",
     "text": [
      "Empty DataFrame\n",
      "Columns: [index, support, itemsets, length]\n",
      "Index: []\n"
     ]
    }
   ],
   "source": [
    "set3 = top_sets[top_sets['length'] == 3].sort_values('support', ascending=False).reset_index()[:5]\n",
    "print(set3)"
   ]
  },
  {
   "cell_type": "code",
   "execution_count": 38,
   "metadata": {},
   "outputs": [
    {
     "name": "stdout",
     "output_type": "stream",
     "text": [
      "Empty DataFrame\n",
      "Columns: [index, support, itemsets, length]\n",
      "Index: []\n"
     ]
    }
   ],
   "source": [
    "set4 = top_sets[top_sets['length'] == 4].sort_values('support', ascending=False).reset_index()[:5]\n",
    "print(set4)"
   ]
  },
  {
   "cell_type": "code",
   "execution_count": 39,
   "metadata": {},
   "outputs": [
    {
     "name": "stdout",
     "output_type": "stream",
     "text": [
      "Empty DataFrame\n",
      "Columns: [index, support, itemsets, length]\n",
      "Index: []\n"
     ]
    }
   ],
   "source": [
    "set5 = top_sets[top_sets['length'] == 5].sort_values('support', ascending=False).reset_index()[:5]\n",
    "print(set5)"
   ]
  },
  {
   "cell_type": "code",
   "execution_count": null,
   "metadata": {},
   "outputs": [],
   "source": []
  }
 ],
 "metadata": {
  "kernelspec": {
   "display_name": "productrec",
   "language": "python",
   "name": "python3"
  },
  "language_info": {
   "codemirror_mode": {
    "name": "ipython",
    "version": 3
   },
   "file_extension": ".py",
   "mimetype": "text/x-python",
   "name": "python",
   "nbconvert_exporter": "python",
   "pygments_lexer": "ipython3",
   "version": "3.8.12"
  }
 },
 "nbformat": 4,
 "nbformat_minor": 5
}
