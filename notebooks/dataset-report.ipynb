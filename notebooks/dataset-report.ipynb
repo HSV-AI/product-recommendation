{
 "cells": [
  {
   "cell_type": "markdown",
   "id": "29b3e514",
   "metadata": {},
   "source": [
    "![HSV-AI Logo](https://hsv.ai/wp-content/uploads/2022/03/logo_v11_2022.png)\n",
    "\n",
    "# Reporting\n"
   ]
  },
  {
   "cell_type": "code",
   "execution_count": 1,
   "id": "10316ca0",
   "metadata": {},
   "outputs": [
    {
     "name": "stdout",
     "output_type": "stream",
     "text": [
      "2022-03-26 23:17:52,948 - kedro.framework.session.store - INFO - `read()` not implemented for `BaseSessionStore`. Assuming empty store.\n",
      "2022-03-26 23:17:52,971 - kedro.config.config - INFO - Config from path `/home/jlangley/git/product-recommendation/conf/vipin20` will override the following existing top-level config keys: alpha, factors, filter_value, iterations, maximum_order_size, minimum_order_size, regularization, seed, test_size, wandb_project\n",
      "2022-03-26 23:17:52,973 - root - INFO - ** Kedro project productrec\n",
      "2022-03-26 23:17:52,973 - root - INFO - Defined global variable `context`, `session` and `catalog`\n",
      "2022-03-26 23:17:52,980 - root - INFO - Registered line magic `run_viz`\n"
     ]
    },
    {
     "name": "stderr",
     "output_type": "stream",
     "text": [
      "/home/jlangley/miniconda3/envs/product/lib/python3.8/site-packages/kedro/framework/context/context.py:488: UserWarning: Credentials not found in your Kedro project config.\n",
      "No files found in ['/home/jlangley/git/product-recommendation/conf/base', '/home/jlangley/git/product-recommendation/conf/vipin20'] matching the glob pattern(s): ['credentials*', 'credentials*/**', '**/credentials*']\n",
      "  warn(f\"Credentials not found in your Kedro project config.\\n{str(exc)}\")\n"
     ]
    }
   ],
   "source": [
    "%reload_kedro"
   ]
  },
  {
   "cell_type": "code",
   "execution_count": 1,
   "id": "84827ddc",
   "metadata": {},
   "outputs": [],
   "source": [
    "import pandas as pd\n",
    "import numpy as np\n",
    "import random\n",
    "from matplotlib import pyplot as plt\n",
    "import implicit\n",
    "import scipy\n",
    "from sklearn import metrics\n",
    "from pandas.api.types import CategoricalDtype\n"
   ]
  },
  {
   "cell_type": "markdown",
   "id": "ce17187f",
   "metadata": {},
   "source": [
    "# Available Files\n",
    "\n",
    "Let's go ahead and look into some of these files and see what we can see."
   ]
  },
  {
   "cell_type": "code",
   "execution_count": 2,
   "id": "faa63da1",
   "metadata": {},
   "outputs": [
    {
     "name": "stdout",
     "output_type": "stream",
     "text": [
      "2022-03-27 14:40:04,594 - kedro.io.data_catalog - INFO - Loading data from `transactions` (CSVDataSet)...\n",
      "2022-03-27 14:40:04,748 - kedro.io.data_catalog - INFO - Loading data from `products` (CSVDataSet)...\n"
     ]
    }
   ],
   "source": [
    "transactions = catalog.load(\"transactions\")\n",
    "products_df = catalog.load(\"products\")"
   ]
  },
  {
   "cell_type": "code",
   "execution_count": 5,
   "id": "62785e44",
   "metadata": {},
   "outputs": [
    {
     "data": {
      "text/markdown": [
       "\n",
       "# Overall Data Report\n",
       "\n",
       "The data consists of:\n",
       "* 98666 orders\n",
       "* 98666 customers\n",
       "* 32951 products\n",
       "* 112650 purchases\n",
       "\n"
      ],
      "text/plain": [
       "<IPython.core.display.Markdown object>"
      ]
     },
     "execution_count": 5,
     "metadata": {},
     "output_type": "execute_result"
    }
   ],
   "source": [
    "from IPython.display import Markdown as md\n",
    "\n",
    "order_count = len(pd.unique(transactions['order_id']))\n",
    "customer_count = len(pd.unique(transactions['customer_id']))\n",
    "product_count = len(pd.unique(transactions[\"product_id\"]))\n",
    "\n",
    "md(\n",
    "'''\n",
    "# Overall Data Report\n",
    "\n",
    "The data consists of:\n",
    "* {} orders\n",
    "* {} customers\n",
    "* {} products\n",
    "* {} purchases\n",
    "\n",
    "'''.format(order_count, customer_count, product_count, len(transactions)))\n"
   ]
  },
  {
   "cell_type": "code",
   "execution_count": 5,
   "id": "d2ef8fa3",
   "metadata": {},
   "outputs": [
    {
     "data": {
      "text/markdown": [
       "\n",
       "# Top 5 customers based on product count purchased:\n",
       "\n",
       "|   customer_id |   product_id |\n",
       "|--------------:|-------------:|\n",
       "|        374661 |        15676 |\n",
       "|        313131 |        11346 |\n",
       "|        296016 |        10190 |\n",
       "|        267708 |         9160 |\n",
       "|        306726 |         5394 |\n",
       "\n",
       "Other customers purchased 1,004,046 items.\n",
       "\n"
      ],
      "text/plain": [
       "<IPython.core.display.Markdown object>"
      ]
     },
     "execution_count": 5,
     "metadata": {},
     "output_type": "execute_result"
    }
   ],
   "source": [
    "output = '''\n",
    "# Top 5 customers based on product count purchased:\n",
    "\n",
    "'''\n",
    "\n",
    "user_counts = transactions[transactions['customer_id'] > 0].groupby(transactions.customer_id)['product_id'].count().sort_values(ascending=False)\n",
    "\n",
    "user_counts.head()\n",
    "\n",
    "five_total = 0\n",
    "for index, row in user_counts[:5].iteritems():\n",
    "    five_total += row\n",
    "\n",
    "table_str = user_counts[:5].to_markdown()\n",
    "\n",
    "output += table_str\n",
    "\n",
    "output += '''\n",
    "\n",
    "Other customers purchased {:,} items.\n",
    "\n",
    "'''.format(len(transactions) - five_total)\n",
    "\n",
    "md(output)\n"
   ]
  },
  {
   "cell_type": "code",
   "execution_count": 6,
   "metadata": {},
   "outputs": [
    {
     "name": "stdout",
     "output_type": "stream",
     "text": [
      "<class 'pandas.core.frame.DataFrame'>\n",
      "   Customer  Purchases\n",
      "0    374661      15676\n",
      "1    313131      11346\n",
      "2    296016      10190\n",
      "3    267708       9160\n",
      "4    306726       5394\n",
      "5    321531       4758\n",
      "6    307566       4120\n",
      "7    274869       3636\n",
      "8    278523       3344\n",
      "9    300258       3274\n"
     ]
    }
   ],
   "source": [
    "df = user_counts[:10].reset_index().rename(columns={\"customer_id\":\"Customer\", \"product_id\":\"Purchases\"})\n",
    "\n",
    "print(type(df))\n",
    "print(df)"
   ]
  },
  {
   "cell_type": "code",
   "execution_count": 7,
   "metadata": {},
   "outputs": [
    {
     "name": "stdout",
     "output_type": "stream",
     "text": [
      "267708\n",
      "313131\n",
      "374661\n",
      "274869\n",
      "321531\n"
     ]
    },
    {
     "data": {
      "text/markdown": [
       "\n",
       "# Top 5 customers based on total orders:\n",
       "\n",
       "|   customer_id |   order_id |\n",
       "|--------------:|-----------:|\n",
       "|        267708 |        206 |\n",
       "|        313131 |        199 |\n",
       "|        374661 |        124 |\n",
       "|        274869 |         97 |\n",
       "|        321531 |         91 |\n",
       "\n",
       "Other customers placed 19,059 orders.\n",
       "\n"
      ],
      "text/plain": [
       "<IPython.core.display.Markdown object>"
      ]
     },
     "execution_count": 7,
     "metadata": {},
     "output_type": "execute_result"
    }
   ],
   "source": [
    "output = '''\n",
    "# Top 5 customers based on total orders:\n",
    "\n",
    "'''\n",
    "\n",
    "user_counts = transactions[transactions['customer_id'] > 0] \\\n",
    "    .drop_duplicates(['customer_id', 'order_id']) \\\n",
    "    .groupby('customer_id')['order_id'] \\\n",
    "    .count() \\\n",
    "    .sort_values(ascending=False)\n",
    "\n",
    "five_total = 0\n",
    "for index, row in user_counts[:5].iteritems():\n",
    "    print(index)\n",
    "    five_total += row\n",
    "\n",
    "table_str = user_counts[:5].to_markdown()\n",
    "\n",
    "output += table_str\n",
    "\n",
    "output += '''\n",
    "\n",
    "Other customers placed {:,} orders.\n",
    "\n",
    "'''.format(order_count - five_total)\n",
    "\n",
    "md(output)\n"
   ]
  },
  {
   "cell_type": "code",
   "execution_count": 8,
   "metadata": {},
   "outputs": [
    {
     "data": {
      "image/png": "[encoded data removed]",
      "text/plain": [
       "<Figure size 792x432 with 1 Axes>"
      ]
     },
     "metadata": {},
     "output_type": "display_data"
    }
   ],
   "source": [
    "subplot = user_counts[:5].plot.pie(autopct=lambda p: '{:.0f}'.format(p * five_total / 100), shadow=True, figsize=(11, 6))\n",
    "\n",
    "subplot.get_figure().gca().set_ylabel(\"\")\n",
    "subplot.get_figure().gca().set_xlabel(\"\")\n",
    "subplot.get_figure().gca().set_title(\"Comparison of top 5 customers\")\n",
    "\n",
    "plt.show()\n"
   ]
  },
  {
   "cell_type": "code",
   "execution_count": 9,
   "metadata": {},
   "outputs": [
    {
     "name": "stdout",
     "output_type": "stream",
     "text": [
      "[144, 442, 930, 2806]\n"
     ]
    },
    {
     "data": {
      "image/png": "[encoded data removed]",
      "text/plain": [
       "<Figure size 720x576 with 1 Axes>"
      ]
     },
     "metadata": {},
     "output_type": "display_data"
    }
   ],
   "source": [
    "temp = (100. * user_counts / user_counts.sum()).sort_values(ascending=False)\n",
    "\n",
    "count = 0\n",
    "total = 0\n",
    "buckets=[]\n",
    "for val in temp:\n",
    "    \n",
    "    if total + val > 25:\n",
    "        buckets.append(count)\n",
    "        total = 0\n",
    "        count = 0\n",
    "        \n",
    "    count+=1\n",
    "    total+=val\n",
    "\n",
    "print(buckets)\n",
    "labels = ['Top 25%', '2nd 25%', '3rd 25%', '4th 25%']\n",
    "fig1, ax1 = plt.subplots(figsize=(10, 8))\n",
    "plt.pie(buckets, labels=labels, autopct=lambda p: '{:.0f}'.format(p * len(temp) / 100))\n",
    "fig1.gca().set_title(\"Breakdown of customers by order count\")\n",
    "plt.show()"
   ]
  },
  {
   "cell_type": "code",
   "execution_count": 14,
   "id": "7ed52baa",
   "metadata": {},
   "outputs": [
    {
     "data": {
      "text/markdown": [
       "\n",
       "# Top 5 products based on total count purchased:\n",
       "\n",
       "|   product_id |   quantity |\n",
       "|-------------:|-----------:|\n",
       "|       500703 |     485970 |\n",
       "|      1787079 |     478290 |\n",
       "|       486486 |     468198 |\n",
       "|       466137 |     341526 |\n",
       "|      1765617 |     330282 |\n",
       "\n",
       "Other products purchased 31,358,820 times.\n",
       "\n"
      ],
      "text/plain": [
       "<IPython.core.display.Markdown object>"
      ]
     },
     "execution_count": 14,
     "metadata": {},
     "output_type": "execute_result"
    }
   ],
   "source": [
    "output = '''\n",
    "# Top 5 products based on total count purchased:\n",
    "\n",
    "'''\n",
    "\n",
    "product_counts = transactions[transactions['product_id'] > 0].groupby(transactions.product_id)['quantity'].agg('sum').sort_values(ascending=False)\n",
    "\n",
    "product_counts.head()\n",
    "\n",
    "five_total = 0\n",
    "for index, row in product_counts[:5].iteritems():\n",
    "    five_total += row\n",
    "\n",
    "table_str = product_counts[:5].to_markdown()\n",
    "\n",
    "output += table_str\n",
    "\n",
    "output += '''\n",
    "\n",
    "Other products purchased {:,} times.\n",
    "\n",
    "'''.format(transactions['quantity'].sum() - five_total)\n",
    "\n",
    "md(output)\n"
   ]
  },
  {
   "cell_type": "code",
   "execution_count": 20,
   "metadata": {},
   "outputs": [
    {
     "name": "stdout",
     "output_type": "stream",
     "text": [
      "<class 'pandas.core.frame.DataFrame'>\n",
      "<class 'pandas.core.frame.DataFrame'>\n"
     ]
    }
   ],
   "source": [
    "product_counts = transactions[transactions['product_id'] > 0] \\\n",
    "    .groupby(transactions.product_id)['quantity'] \\\n",
    "    .agg('sum'). \\\n",
    "    sort_values(ascending=False)\n",
    "\n",
    "product_df = product_counts \\\n",
    "    .reset_index() \\\n",
    "    .rename(columns={\"product_id\":\"Product\", \"quantity\":\"Quantity\"})\n",
    "print(type(product_df[:10]))\n",
    "\n",
    "product_df = product_counts \\\n",
    "    .reset_index() \\\n",
    "    .rename(columns={\"product_id\":\"Product\", \"quantity\":\"Quantity\"})\n",
    "print(type(product_df[:10]))"
   ]
  },
  {
   "cell_type": "code",
   "execution_count": 10,
   "metadata": {},
   "outputs": [
    {
     "data": {
      "text/markdown": [
       "\n",
       "# Top 5 products based on counting orders that included them:\n",
       "\n",
       "|   product_id |   order_id |\n",
       "|-------------:|-----------:|\n",
       "|      1787079 |       2653 |\n",
       "|      1787583 |       2265 |\n",
       "|       470883 |       1988 |\n",
       "|       998886 |       1948 |\n",
       "|       435225 |       1565 |\n",
       "\n",
       "Other customers placed 9,541 orders.\n",
       "\n"
      ],
      "text/plain": [
       "<IPython.core.display.Markdown object>"
      ]
     },
     "execution_count": 10,
     "metadata": {},
     "output_type": "execute_result"
    }
   ],
   "source": [
    "output = '''\n",
    "# Top 5 products based on counting orders that included them:\n",
    "\n",
    "'''\n",
    "\n",
    "product_counts = transactions[transactions['product_id'] > 0] \\\n",
    "    .drop_duplicates(['product_id', 'order_id']) \\\n",
    "    .groupby('product_id')['order_id'] \\\n",
    "    .count() \\\n",
    "    .sort_values(ascending=False)\n",
    "\n",
    "five_total = 0\n",
    "for index, row in product_counts[:5].iteritems():\n",
    "    five_total += row\n",
    "\n",
    "table_str = product_counts[:5].to_markdown()\n",
    "\n",
    "output += table_str\n",
    "\n",
    "output += '''\n",
    "\n",
    "Other customers placed {:,} orders.\n",
    "\n",
    "'''.format(order_count - five_total)\n",
    "\n",
    "md(output)\n"
   ]
  },
  {
   "cell_type": "code",
   "execution_count": 11,
   "metadata": {},
   "outputs": [
    {
     "data": {
      "image/png": "[encoded data removed]",
      "text/plain": [
       "<Figure size 792x432 with 1 Axes>"
      ]
     },
     "metadata": {},
     "output_type": "display_data"
    }
   ],
   "source": [
    "subplot = product_counts[:5].plot.pie(autopct=lambda p: '{:.0f}'.format(p * five_total / 100), shadow=True, figsize=(11, 6))\n",
    "\n",
    "subplot.get_figure().gca().set_ylabel(\"\")\n",
    "subplot.get_figure().gca().set_xlabel(\"\")\n",
    "subplot.get_figure().gca().set_title(\"Comparison of top 5 products\")\n",
    "\n",
    "plt.show()"
   ]
  },
  {
   "cell_type": "code",
   "execution_count": 59,
   "metadata": {},
   "outputs": [
    {
     "name": "stdout",
     "output_type": "stream",
     "text": [
      "[144, 309, 574, 2098]\n"
     ]
    },
    {
     "data": {
      "image/png": "[encoded data removed]",
      "text/plain": [
       "<Figure size 720x576 with 1 Axes>"
      ]
     },
     "metadata": {},
     "output_type": "display_data"
    }
   ],
   "source": [
    "temp = (100. * product_counts / product_counts.sum()).sort_values(ascending=False)\n",
    "\n",
    "count = 0\n",
    "total = 0\n",
    "buckets=[]\n",
    "for val in temp:\n",
    "    \n",
    "    if total + val > 25:\n",
    "        buckets.append(count)\n",
    "        total = 0\n",
    "        count = 0\n",
    "        \n",
    "    count+=1\n",
    "    total+=val\n",
    "\n",
    "print(buckets)\n",
    "labels = ['Top 25%', '2nd 25%', '3rd 25%', '4th 25%']\n",
    "fig1, ax1 = plt.subplots(figsize=(10, 8))\n",
    "plt.pie(buckets, labels=labels, autopct=lambda p: '{:.0f}'.format(p * len(temp) / 100))\n",
    "fig1.gca().set_title(\"Breakdown of products by order count\")\n",
    "plt.show()"
   ]
  },
  {
   "cell_type": "code",
   "execution_count": 12,
   "metadata": {},
   "outputs": [],
   "source": [
    "from mlxtend.frequent_patterns import apriori, association_rules\n",
    "from mlxtend.preprocessing import TransactionEncoder\n",
    "\n",
    "grouped = transactions.groupby('order_id').agg({\"product_id\": lambda x: list(x)})\n",
    "temp = grouped['product_id'].values\n"
   ]
  },
  {
   "cell_type": "code",
   "execution_count": 13,
   "metadata": {},
   "outputs": [
    {
     "name": "stdout",
     "output_type": "stream",
     "text": [
      "Processing 150 combinations | Sampling itemset size 54 3\n"
     ]
    }
   ],
   "source": [
    "te = TransactionEncoder()\n",
    "\n",
    "oht_ary = te.fit(temp).transform(temp, sparse=True)\n",
    "sparse_df = pd.DataFrame.sparse.from_spmatrix(oht_ary, columns=te.columns_)\n",
    "sparse_df.columns = [str(i) for i in sparse_df.columns]\n",
    "top_sets = apriori(sparse_df, min_support=0.012, use_colnames=True, verbose=1, max_len=5)\n",
    "top_sets['length'] = top_sets['itemsets'].apply(lambda x: len(x))"
   ]
  },
  {
   "cell_type": "code",
   "execution_count": 14,
   "metadata": {},
   "outputs": [
    {
     "name": "stdout",
     "output_type": "stream",
     "text": [
      "     product_id                     description\n",
      "74      1787079  JUMBO  BAG BAROQUE BLACK WHITE\n",
      "136     1787079         JUMBO BAG RED RETROSPOT\n",
      "1235    1787079            JUMBO BAG STRAWBERRY\n"
     ]
    }
   ],
   "source": [
    "set1 = top_sets[top_sets['length'] == 1].sort_values('support', ascending=False).iloc[0,1]\n",
    "products_df['product_id'] = products_df['product_id'].astype(str)\n",
    "for product in set1:\n",
    "    print(products_df[products_df.product_id == product])"
   ]
  },
  {
   "cell_type": "code",
   "execution_count": 15,
   "metadata": {},
   "outputs": [
    {
     "name": "stdout",
     "output_type": "stream",
     "text": [
      "     product_id                     description\n",
      "74      1787079  JUMBO  BAG BAROQUE BLACK WHITE\n",
      "136     1787079         JUMBO BAG RED RETROSPOT\n",
      "1235    1787079            JUMBO BAG STRAWBERRY\n",
      "    product_id              description\n",
      "511     470106  JUMBO BAG PINK POLKADOT\n"
     ]
    }
   ],
   "source": [
    "set2 = top_sets[top_sets['length'] == 2].sort_values('support', ascending=False).iloc[0,1]\n",
    "products_df['product_id'] = products_df['product_id'].astype(str)\n",
    "for product in set2:\n",
    "    print(products_df[products_df.product_id == product])"
   ]
  },
  {
   "cell_type": "code",
   "execution_count": 16,
   "metadata": {},
   "outputs": [
    {
     "name": "stdout",
     "output_type": "stream",
     "text": [
      "    product_id                       description\n",
      "236     476679  ROSES REGENCY TEACUP AND SAUCER \n",
      "    product_id                     description\n",
      "353     476658  PINK REGENCY TEACUP AND SAUCER\n",
      "    product_id                      description\n",
      "199     476637  GREEN REGENCY TEACUP AND SAUCER\n"
     ]
    }
   ],
   "source": [
    "set3 = top_sets[top_sets['length'] == 3].sort_values('support', ascending=False).iloc[0,1]\n",
    "products_df['product_id'] = products_df['product_id'].astype(str)\n",
    "for product in set3:\n",
    "    print(products_df[products_df.product_id == product])"
   ]
  },
  {
   "cell_type": "code",
   "execution_count": 17,
   "metadata": {},
   "outputs": [
    {
     "name": "stdout",
     "output_type": "stream",
     "text": [
      "    product_id                       description\n",
      "236     476679  ROSES REGENCY TEACUP AND SAUCER \n",
      "    product_id                     description\n",
      "353     476658  PINK REGENCY TEACUP AND SAUCER\n",
      "    product_id                      description\n",
      "199     476637  GREEN REGENCY TEACUP AND SAUCER\n",
      "    product_id               description\n",
      "156     470883  REGENCY CAKESTAND 3 TIER\n"
     ]
    }
   ],
   "source": [
    "set4 = top_sets[top_sets['length'] == 4].sort_values('support', ascending=False).iloc[0,1]\n",
    "products_df['product_id'] = products_df['product_id'].astype(str)\n",
    "for product in set4:\n",
    "    print(products_df[products_df.product_id == product])"
   ]
  },
  {
   "cell_type": "code",
   "execution_count": 18,
   "metadata": {},
   "outputs": [
    {
     "ename": "IndexError",
     "evalue": "single positional indexer is out-of-bounds",
     "output_type": "error",
     "traceback": [
      "\u001b[0;31m---------------------------------------------------------------------------\u001b[0m",
      "\u001b[0;31mIndexError\u001b[0m                                Traceback (most recent call last)",
      "\u001b[0;32m/tmp/ipykernel_5452/3109845163.py\u001b[0m in \u001b[0;36m<module>\u001b[0;34m\u001b[0m\n\u001b[0;32m----> 1\u001b[0;31m \u001b[0mset5\u001b[0m \u001b[0;34m=\u001b[0m \u001b[0mtop_sets\u001b[0m\u001b[0;34m[\u001b[0m\u001b[0mtop_sets\u001b[0m\u001b[0;34m[\u001b[0m\u001b[0;34m'length'\u001b[0m\u001b[0;34m]\u001b[0m \u001b[0;34m==\u001b[0m \u001b[0;36m5\u001b[0m\u001b[0;34m]\u001b[0m\u001b[0;34m.\u001b[0m\u001b[0msort_values\u001b[0m\u001b[0;34m(\u001b[0m\u001b[0;34m'support'\u001b[0m\u001b[0;34m,\u001b[0m \u001b[0mascending\u001b[0m\u001b[0;34m=\u001b[0m\u001b[0;32mFalse\u001b[0m\u001b[0;34m)\u001b[0m\u001b[0;34m.\u001b[0m\u001b[0miloc\u001b[0m\u001b[0;34m[\u001b[0m\u001b[0;36m0\u001b[0m\u001b[0;34m,\u001b[0m\u001b[0;36m1\u001b[0m\u001b[0;34m]\u001b[0m\u001b[0;34m\u001b[0m\u001b[0;34m\u001b[0m\u001b[0m\n\u001b[0m\u001b[1;32m      2\u001b[0m \u001b[0mproducts_df\u001b[0m\u001b[0;34m[\u001b[0m\u001b[0;34m'product_id'\u001b[0m\u001b[0;34m]\u001b[0m \u001b[0;34m=\u001b[0m \u001b[0mproducts_df\u001b[0m\u001b[0;34m[\u001b[0m\u001b[0;34m'product_id'\u001b[0m\u001b[0;34m]\u001b[0m\u001b[0;34m.\u001b[0m\u001b[0mastype\u001b[0m\u001b[0;34m(\u001b[0m\u001b[0mstr\u001b[0m\u001b[0;34m)\u001b[0m\u001b[0;34m\u001b[0m\u001b[0;34m\u001b[0m\u001b[0m\n\u001b[1;32m      3\u001b[0m \u001b[0;32mfor\u001b[0m \u001b[0mproduct\u001b[0m \u001b[0;32min\u001b[0m \u001b[0mset5\u001b[0m\u001b[0;34m:\u001b[0m\u001b[0;34m\u001b[0m\u001b[0;34m\u001b[0m\u001b[0m\n\u001b[1;32m      4\u001b[0m     \u001b[0mprint\u001b[0m\u001b[0;34m(\u001b[0m\u001b[0mproducts_df\u001b[0m\u001b[0;34m[\u001b[0m\u001b[0mproducts_df\u001b[0m\u001b[0;34m.\u001b[0m\u001b[0mproduct_id\u001b[0m \u001b[0;34m==\u001b[0m \u001b[0mproduct\u001b[0m\u001b[0;34m]\u001b[0m\u001b[0;34m)\u001b[0m\u001b[0;34m\u001b[0m\u001b[0;34m\u001b[0m\u001b[0m\n",
      "\u001b[0;32m~/miniconda3/envs/product/lib/python3.8/site-packages/pandas/core/indexing.py\u001b[0m in \u001b[0;36m__getitem__\u001b[0;34m(self, key)\u001b[0m\n\u001b[1;32m    923\u001b[0m                 \u001b[0;32mwith\u001b[0m \u001b[0msuppress\u001b[0m\u001b[0;34m(\u001b[0m\u001b[0mKeyError\u001b[0m\u001b[0;34m,\u001b[0m \u001b[0mIndexError\u001b[0m\u001b[0;34m)\u001b[0m\u001b[0;34m:\u001b[0m\u001b[0;34m\u001b[0m\u001b[0;34m\u001b[0m\u001b[0m\n\u001b[1;32m    924\u001b[0m                     \u001b[0;32mreturn\u001b[0m \u001b[0mself\u001b[0m\u001b[0;34m.\u001b[0m\u001b[0mobj\u001b[0m\u001b[0;34m.\u001b[0m\u001b[0m_get_value\u001b[0m\u001b[0;34m(\u001b[0m\u001b[0;34m*\u001b[0m\u001b[0mkey\u001b[0m\u001b[0;34m,\u001b[0m \u001b[0mtakeable\u001b[0m\u001b[0;34m=\u001b[0m\u001b[0mself\u001b[0m\u001b[0;34m.\u001b[0m\u001b[0m_takeable\u001b[0m\u001b[0;34m)\u001b[0m\u001b[0;34m\u001b[0m\u001b[0;34m\u001b[0m\u001b[0m\n\u001b[0;32m--> 925\u001b[0;31m             \u001b[0;32mreturn\u001b[0m \u001b[0mself\u001b[0m\u001b[0;34m.\u001b[0m\u001b[0m_getitem_tuple\u001b[0m\u001b[0;34m(\u001b[0m\u001b[0mkey\u001b[0m\u001b[0;34m)\u001b[0m\u001b[0;34m\u001b[0m\u001b[0;34m\u001b[0m\u001b[0m\n\u001b[0m\u001b[1;32m    926\u001b[0m         \u001b[0;32melse\u001b[0m\u001b[0;34m:\u001b[0m\u001b[0;34m\u001b[0m\u001b[0;34m\u001b[0m\u001b[0m\n\u001b[1;32m    927\u001b[0m             \u001b[0;31m# we by definition only have the 0th axis\u001b[0m\u001b[0;34m\u001b[0m\u001b[0;34m\u001b[0m\u001b[0;34m\u001b[0m\u001b[0m\n",
      "\u001b[0;32m~/miniconda3/envs/product/lib/python3.8/site-packages/pandas/core/indexing.py\u001b[0m in \u001b[0;36m_getitem_tuple\u001b[0;34m(self, tup)\u001b[0m\n\u001b[1;32m   1504\u001b[0m     \u001b[0;32mdef\u001b[0m \u001b[0m_getitem_tuple\u001b[0m\u001b[0;34m(\u001b[0m\u001b[0mself\u001b[0m\u001b[0;34m,\u001b[0m \u001b[0mtup\u001b[0m\u001b[0;34m:\u001b[0m \u001b[0mtuple\u001b[0m\u001b[0;34m)\u001b[0m\u001b[0;34m:\u001b[0m\u001b[0;34m\u001b[0m\u001b[0;34m\u001b[0m\u001b[0m\n\u001b[1;32m   1505\u001b[0m \u001b[0;34m\u001b[0m\u001b[0m\n\u001b[0;32m-> 1506\u001b[0;31m         \u001b[0mself\u001b[0m\u001b[0;34m.\u001b[0m\u001b[0m_has_valid_tuple\u001b[0m\u001b[0;34m(\u001b[0m\u001b[0mtup\u001b[0m\u001b[0;34m)\u001b[0m\u001b[0;34m\u001b[0m\u001b[0;34m\u001b[0m\u001b[0m\n\u001b[0m\u001b[1;32m   1507\u001b[0m         \u001b[0;32mwith\u001b[0m \u001b[0msuppress\u001b[0m\u001b[0;34m(\u001b[0m\u001b[0mIndexingError\u001b[0m\u001b[0;34m)\u001b[0m\u001b[0;34m:\u001b[0m\u001b[0;34m\u001b[0m\u001b[0;34m\u001b[0m\u001b[0m\n\u001b[1;32m   1508\u001b[0m             \u001b[0;32mreturn\u001b[0m \u001b[0mself\u001b[0m\u001b[0;34m.\u001b[0m\u001b[0m_getitem_lowerdim\u001b[0m\u001b[0;34m(\u001b[0m\u001b[0mtup\u001b[0m\u001b[0;34m)\u001b[0m\u001b[0;34m\u001b[0m\u001b[0;34m\u001b[0m\u001b[0m\n",
      "\u001b[0;32m~/miniconda3/envs/product/lib/python3.8/site-packages/pandas/core/indexing.py\u001b[0m in \u001b[0;36m_has_valid_tuple\u001b[0;34m(self, key)\u001b[0m\n\u001b[1;32m    752\u001b[0m         \u001b[0;32mfor\u001b[0m \u001b[0mi\u001b[0m\u001b[0;34m,\u001b[0m \u001b[0mk\u001b[0m \u001b[0;32min\u001b[0m \u001b[0menumerate\u001b[0m\u001b[0;34m(\u001b[0m\u001b[0mkey\u001b[0m\u001b[0;34m)\u001b[0m\u001b[0;34m:\u001b[0m\u001b[0;34m\u001b[0m\u001b[0;34m\u001b[0m\u001b[0m\n\u001b[1;32m    753\u001b[0m             \u001b[0;32mtry\u001b[0m\u001b[0;34m:\u001b[0m\u001b[0;34m\u001b[0m\u001b[0;34m\u001b[0m\u001b[0m\n\u001b[0;32m--> 754\u001b[0;31m                 \u001b[0mself\u001b[0m\u001b[0;34m.\u001b[0m\u001b[0m_validate_key\u001b[0m\u001b[0;34m(\u001b[0m\u001b[0mk\u001b[0m\u001b[0;34m,\u001b[0m \u001b[0mi\u001b[0m\u001b[0;34m)\u001b[0m\u001b[0;34m\u001b[0m\u001b[0;34m\u001b[0m\u001b[0m\n\u001b[0m\u001b[1;32m    755\u001b[0m             \u001b[0;32mexcept\u001b[0m \u001b[0mValueError\u001b[0m \u001b[0;32mas\u001b[0m \u001b[0merr\u001b[0m\u001b[0;34m:\u001b[0m\u001b[0;34m\u001b[0m\u001b[0;34m\u001b[0m\u001b[0m\n\u001b[1;32m    756\u001b[0m                 raise ValueError(\n",
      "\u001b[0;32m~/miniconda3/envs/product/lib/python3.8/site-packages/pandas/core/indexing.py\u001b[0m in \u001b[0;36m_validate_key\u001b[0;34m(self, key, axis)\u001b[0m\n\u001b[1;32m   1407\u001b[0m             \u001b[0;32mreturn\u001b[0m\u001b[0;34m\u001b[0m\u001b[0;34m\u001b[0m\u001b[0m\n\u001b[1;32m   1408\u001b[0m         \u001b[0;32melif\u001b[0m \u001b[0mis_integer\u001b[0m\u001b[0;34m(\u001b[0m\u001b[0mkey\u001b[0m\u001b[0;34m)\u001b[0m\u001b[0;34m:\u001b[0m\u001b[0;34m\u001b[0m\u001b[0;34m\u001b[0m\u001b[0m\n\u001b[0;32m-> 1409\u001b[0;31m             \u001b[0mself\u001b[0m\u001b[0;34m.\u001b[0m\u001b[0m_validate_integer\u001b[0m\u001b[0;34m(\u001b[0m\u001b[0mkey\u001b[0m\u001b[0;34m,\u001b[0m \u001b[0maxis\u001b[0m\u001b[0;34m)\u001b[0m\u001b[0;34m\u001b[0m\u001b[0;34m\u001b[0m\u001b[0m\n\u001b[0m\u001b[1;32m   1410\u001b[0m         \u001b[0;32melif\u001b[0m \u001b[0misinstance\u001b[0m\u001b[0;34m(\u001b[0m\u001b[0mkey\u001b[0m\u001b[0;34m,\u001b[0m \u001b[0mtuple\u001b[0m\u001b[0;34m)\u001b[0m\u001b[0;34m:\u001b[0m\u001b[0;34m\u001b[0m\u001b[0;34m\u001b[0m\u001b[0m\n\u001b[1;32m   1411\u001b[0m             \u001b[0;31m# a tuple should already have been caught by this point\u001b[0m\u001b[0;34m\u001b[0m\u001b[0;34m\u001b[0m\u001b[0;34m\u001b[0m\u001b[0m\n",
      "\u001b[0;32m~/miniconda3/envs/product/lib/python3.8/site-packages/pandas/core/indexing.py\u001b[0m in \u001b[0;36m_validate_integer\u001b[0;34m(self, key, axis)\u001b[0m\n\u001b[1;32m   1498\u001b[0m         \u001b[0mlen_axis\u001b[0m \u001b[0;34m=\u001b[0m \u001b[0mlen\u001b[0m\u001b[0;34m(\u001b[0m\u001b[0mself\u001b[0m\u001b[0;34m.\u001b[0m\u001b[0mobj\u001b[0m\u001b[0;34m.\u001b[0m\u001b[0m_get_axis\u001b[0m\u001b[0;34m(\u001b[0m\u001b[0maxis\u001b[0m\u001b[0;34m)\u001b[0m\u001b[0;34m)\u001b[0m\u001b[0;34m\u001b[0m\u001b[0;34m\u001b[0m\u001b[0m\n\u001b[1;32m   1499\u001b[0m         \u001b[0;32mif\u001b[0m \u001b[0mkey\u001b[0m \u001b[0;34m>=\u001b[0m \u001b[0mlen_axis\u001b[0m \u001b[0;32mor\u001b[0m \u001b[0mkey\u001b[0m \u001b[0;34m<\u001b[0m \u001b[0;34m-\u001b[0m\u001b[0mlen_axis\u001b[0m\u001b[0;34m:\u001b[0m\u001b[0;34m\u001b[0m\u001b[0;34m\u001b[0m\u001b[0m\n\u001b[0;32m-> 1500\u001b[0;31m             \u001b[0;32mraise\u001b[0m \u001b[0mIndexError\u001b[0m\u001b[0;34m(\u001b[0m\u001b[0;34m\"single positional indexer is out-of-bounds\"\u001b[0m\u001b[0;34m)\u001b[0m\u001b[0;34m\u001b[0m\u001b[0;34m\u001b[0m\u001b[0m\n\u001b[0m\u001b[1;32m   1501\u001b[0m \u001b[0;34m\u001b[0m\u001b[0m\n\u001b[1;32m   1502\u001b[0m     \u001b[0;31m# -------------------------------------------------------------------\u001b[0m\u001b[0;34m\u001b[0m\u001b[0;34m\u001b[0m\u001b[0;34m\u001b[0m\u001b[0m\n",
      "\u001b[0;31mIndexError\u001b[0m: single positional indexer is out-of-bounds"
     ]
    }
   ],
   "source": [
    "set5 = top_sets[top_sets['length'] == 5].sort_values('support', ascending=False).iloc[0,1]\n",
    "products_df['product_id'] = products_df['product_id'].astype(str)\n",
    "for product in set5:\n",
    "    print(products_df[products_df.product_id == product])"
   ]
  },
  {
   "cell_type": "code",
   "execution_count": null,
   "metadata": {},
   "outputs": [],
   "source": []
  }
 ],
 "metadata": {
  "kernelspec": {
   "display_name": "productrec",
   "language": "python",
   "name": "python3"
  },
  "language_info": {
   "codemirror_mode": {
    "name": "ipython",
    "version": 3
   },
   "file_extension": ".py",
   "mimetype": "text/x-python",
   "name": "python",
   "nbconvert_exporter": "python",
   "pygments_lexer": "ipython3",
   "version": "3.8.12"
  }
 },
 "nbformat": 4,
 "nbformat_minor": 5
}
