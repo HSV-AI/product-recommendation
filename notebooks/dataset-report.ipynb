{
 "cells": [
  {
   "cell_type": "markdown",
   "id": "29b3e514",
   "metadata": {},
   "source": [
    "![HSV-AI Logo](https://hsv.ai/wp-content/uploads/2022/03/logo_v11_2022.png)\n",
    "\n",
    "# Reporting\n"
   ]
  },
  {
   "cell_type": "code",
   "execution_count": 1,
   "id": "10316ca0",
   "metadata": {},
   "outputs": [
    {
     "name": "stdout",
     "output_type": "stream",
     "text": [
      "2022-04-15 18:06:54,381 - kedro.framework.session.store - INFO - `read()` not implemented for `BaseSessionStore`. Assuming empty store.\n",
      "2022-04-15 18:06:54,414 - kedro.config.config - INFO - Config from path `/home/jlangley/git/product-recommendation/conf/bakery` will override the following existing top-level config keys: alpha, factors, filter_value, iterations, maximum_order_size, minimum_order_size, regularization, seed, test_size, wandb_project\n",
      "2022-04-15 18:06:54,415 - root - INFO - ** Kedro project productrec\n",
      "2022-04-15 18:06:54,417 - root - INFO - Defined global variable `context`, `session` and `catalog`\n",
      "2022-04-15 18:06:54,427 - root - INFO - Registered line magic `run_viz`\n"
     ]
    },
    {
     "name": "stderr",
     "output_type": "stream",
     "text": [
      "/home/jlangley/miniconda3/envs/product/lib/python3.8/site-packages/kedro/framework/context/context.py:488: UserWarning: Credentials not found in your Kedro project config.\n",
      "No files found in ['/home/jlangley/git/product-recommendation/conf/base', '/home/jlangley/git/product-recommendation/conf/bakery'] matching the glob pattern(s): ['credentials*', 'credentials*/**', '**/credentials*']\n",
      "  warn(f\"Credentials not found in your Kedro project config.\\n{str(exc)}\")\n"
     ]
    }
   ],
   "source": [
    "%reload_kedro"
   ]
  },
  {
   "cell_type": "code",
   "execution_count": 2,
   "id": "84827ddc",
   "metadata": {},
   "outputs": [],
   "source": [
    "import pandas as pd\n",
    "import numpy as np\n",
    "import random\n",
    "from matplotlib import pyplot as plt\n",
    "import implicit\n",
    "import scipy\n",
    "from sklearn import metrics\n",
    "from pandas.api.types import CategoricalDtype\n"
   ]
  },
  {
   "cell_type": "markdown",
   "id": "ce17187f",
   "metadata": {},
   "source": [
    "# Available Files\n",
    "\n",
    "Let's go ahead and look into some of these files and see what we can see."
   ]
  },
  {
   "cell_type": "code",
   "execution_count": 3,
   "id": "faa63da1",
   "metadata": {},
   "outputs": [
    {
     "name": "stdout",
     "output_type": "stream",
     "text": [
      "2022-04-15 18:06:55,613 - kedro.io.data_catalog - INFO - Loading data from `transactions` (CSVDataSet)...\n",
      "2022-04-15 18:06:55,630 - kedro.io.data_catalog - INFO - Loading data from `products` (CSVDataSet)...\n"
     ]
    }
   ],
   "source": [
    "transactions = catalog.load(\"transactions\")\n",
    "products_df = catalog.load(\"products\")"
   ]
  },
  {
   "cell_type": "code",
   "execution_count": 4,
   "id": "62785e44",
   "metadata": {},
   "outputs": [
    {
     "data": {
      "text/markdown": [
       "\n",
       "# Overall Data Report\n",
       "\n",
       "The data consists of:\n",
       "* 9531 orders\n",
       "* 1 customers\n",
       "* 95 products\n",
       "* 21293 purchases\n",
       "\n"
      ],
      "text/plain": [
       "<IPython.core.display.Markdown object>"
      ]
     },
     "execution_count": 4,
     "metadata": {},
     "output_type": "execute_result"
    }
   ],
   "source": [
    "from IPython.display import Markdown as md\n",
    "\n",
    "order_count = len(pd.unique(transactions['order_id']))\n",
    "customer_count = len(pd.unique(transactions['customer_id']))\n",
    "product_count = len(pd.unique(transactions[\"product_id\"]))\n",
    "\n",
    "md(\n",
    "'''\n",
    "# Overall Data Report\n",
    "\n",
    "The data consists of:\n",
    "* {} orders\n",
    "* {} customers\n",
    "* {} products\n",
    "* {} purchases\n",
    "\n",
    "'''.format(order_count, customer_count, product_count, len(transactions)))\n"
   ]
  },
  {
   "cell_type": "code",
   "execution_count": 5,
   "id": "d2ef8fa3",
   "metadata": {},
   "outputs": [
    {
     "ename": "TypeError",
     "evalue": "'>' not supported between instances of 'str' and 'int'",
     "output_type": "error",
     "traceback": [
      "\u001b[0;31m---------------------------------------------------------------------------\u001b[0m",
      "\u001b[0;31mTypeError\u001b[0m                                 Traceback (most recent call last)",
      "\u001b[0;32m/tmp/ipykernel_2527/865997222.py\u001b[0m in \u001b[0;36m<module>\u001b[0;34m\u001b[0m\n\u001b[1;32m      4\u001b[0m '''\n\u001b[1;32m      5\u001b[0m \u001b[0;34m\u001b[0m\u001b[0m\n\u001b[0;32m----> 6\u001b[0;31m \u001b[0muser_counts\u001b[0m \u001b[0;34m=\u001b[0m \u001b[0mtransactions\u001b[0m\u001b[0;34m[\u001b[0m\u001b[0mtransactions\u001b[0m\u001b[0;34m[\u001b[0m\u001b[0;34m'customer_id'\u001b[0m\u001b[0;34m]\u001b[0m \u001b[0;34m>\u001b[0m \u001b[0;36m0\u001b[0m\u001b[0;34m]\u001b[0m\u001b[0;34m.\u001b[0m\u001b[0mgroupby\u001b[0m\u001b[0;34m(\u001b[0m\u001b[0mtransactions\u001b[0m\u001b[0;34m.\u001b[0m\u001b[0mcustomer_id\u001b[0m\u001b[0;34m)\u001b[0m\u001b[0;34m[\u001b[0m\u001b[0;34m'product_id'\u001b[0m\u001b[0;34m]\u001b[0m\u001b[0;34m.\u001b[0m\u001b[0mcount\u001b[0m\u001b[0;34m(\u001b[0m\u001b[0;34m)\u001b[0m\u001b[0;34m.\u001b[0m\u001b[0msort_values\u001b[0m\u001b[0;34m(\u001b[0m\u001b[0mascending\u001b[0m\u001b[0;34m=\u001b[0m\u001b[0;32mFalse\u001b[0m\u001b[0;34m)\u001b[0m\u001b[0;34m\u001b[0m\u001b[0;34m\u001b[0m\u001b[0m\n\u001b[0m\u001b[1;32m      7\u001b[0m \u001b[0;34m\u001b[0m\u001b[0m\n\u001b[1;32m      8\u001b[0m \u001b[0muser_counts\u001b[0m\u001b[0;34m.\u001b[0m\u001b[0mhead\u001b[0m\u001b[0;34m(\u001b[0m\u001b[0;34m)\u001b[0m\u001b[0;34m\u001b[0m\u001b[0;34m\u001b[0m\u001b[0m\n",
      "\u001b[0;32m~/miniconda3/envs/product/lib/python3.8/site-packages/pandas/core/ops/common.py\u001b[0m in \u001b[0;36mnew_method\u001b[0;34m(self, other)\u001b[0m\n\u001b[1;32m     67\u001b[0m         \u001b[0mother\u001b[0m \u001b[0;34m=\u001b[0m \u001b[0mitem_from_zerodim\u001b[0m\u001b[0;34m(\u001b[0m\u001b[0mother\u001b[0m\u001b[0;34m)\u001b[0m\u001b[0;34m\u001b[0m\u001b[0;34m\u001b[0m\u001b[0m\n\u001b[1;32m     68\u001b[0m \u001b[0;34m\u001b[0m\u001b[0m\n\u001b[0;32m---> 69\u001b[0;31m         \u001b[0;32mreturn\u001b[0m \u001b[0mmethod\u001b[0m\u001b[0;34m(\u001b[0m\u001b[0mself\u001b[0m\u001b[0;34m,\u001b[0m \u001b[0mother\u001b[0m\u001b[0;34m)\u001b[0m\u001b[0;34m\u001b[0m\u001b[0;34m\u001b[0m\u001b[0m\n\u001b[0m\u001b[1;32m     70\u001b[0m \u001b[0;34m\u001b[0m\u001b[0m\n\u001b[1;32m     71\u001b[0m     \u001b[0;32mreturn\u001b[0m \u001b[0mnew_method\u001b[0m\u001b[0;34m\u001b[0m\u001b[0;34m\u001b[0m\u001b[0m\n",
      "\u001b[0;32m~/miniconda3/envs/product/lib/python3.8/site-packages/pandas/core/arraylike.py\u001b[0m in \u001b[0;36m__gt__\u001b[0;34m(self, other)\u001b[0m\n\u001b[1;32m     46\u001b[0m     \u001b[0;34m@\u001b[0m\u001b[0munpack_zerodim_and_defer\u001b[0m\u001b[0;34m(\u001b[0m\u001b[0;34m\"__gt__\"\u001b[0m\u001b[0;34m)\u001b[0m\u001b[0;34m\u001b[0m\u001b[0;34m\u001b[0m\u001b[0m\n\u001b[1;32m     47\u001b[0m     \u001b[0;32mdef\u001b[0m \u001b[0m__gt__\u001b[0m\u001b[0;34m(\u001b[0m\u001b[0mself\u001b[0m\u001b[0;34m,\u001b[0m \u001b[0mother\u001b[0m\u001b[0;34m)\u001b[0m\u001b[0;34m:\u001b[0m\u001b[0;34m\u001b[0m\u001b[0;34m\u001b[0m\u001b[0m\n\u001b[0;32m---> 48\u001b[0;31m         \u001b[0;32mreturn\u001b[0m \u001b[0mself\u001b[0m\u001b[0;34m.\u001b[0m\u001b[0m_cmp_method\u001b[0m\u001b[0;34m(\u001b[0m\u001b[0mother\u001b[0m\u001b[0;34m,\u001b[0m \u001b[0moperator\u001b[0m\u001b[0;34m.\u001b[0m\u001b[0mgt\u001b[0m\u001b[0;34m)\u001b[0m\u001b[0;34m\u001b[0m\u001b[0;34m\u001b[0m\u001b[0m\n\u001b[0m\u001b[1;32m     49\u001b[0m \u001b[0;34m\u001b[0m\u001b[0m\n\u001b[1;32m     50\u001b[0m     \u001b[0;34m@\u001b[0m\u001b[0munpack_zerodim_and_defer\u001b[0m\u001b[0;34m(\u001b[0m\u001b[0;34m\"__ge__\"\u001b[0m\u001b[0;34m)\u001b[0m\u001b[0;34m\u001b[0m\u001b[0;34m\u001b[0m\u001b[0m\n",
      "\u001b[0;32m~/miniconda3/envs/product/lib/python3.8/site-packages/pandas/core/series.py\u001b[0m in \u001b[0;36m_cmp_method\u001b[0;34m(self, other, op)\u001b[0m\n\u001b[1;32m   5500\u001b[0m \u001b[0;34m\u001b[0m\u001b[0m\n\u001b[1;32m   5501\u001b[0m         \u001b[0;32mwith\u001b[0m \u001b[0mnp\u001b[0m\u001b[0;34m.\u001b[0m\u001b[0merrstate\u001b[0m\u001b[0;34m(\u001b[0m\u001b[0mall\u001b[0m\u001b[0;34m=\u001b[0m\u001b[0;34m\"ignore\"\u001b[0m\u001b[0;34m)\u001b[0m\u001b[0;34m:\u001b[0m\u001b[0;34m\u001b[0m\u001b[0;34m\u001b[0m\u001b[0m\n\u001b[0;32m-> 5502\u001b[0;31m             \u001b[0mres_values\u001b[0m \u001b[0;34m=\u001b[0m \u001b[0mops\u001b[0m\u001b[0;34m.\u001b[0m\u001b[0mcomparison_op\u001b[0m\u001b[0;34m(\u001b[0m\u001b[0mlvalues\u001b[0m\u001b[0;34m,\u001b[0m \u001b[0mrvalues\u001b[0m\u001b[0;34m,\u001b[0m \u001b[0mop\u001b[0m\u001b[0;34m)\u001b[0m\u001b[0;34m\u001b[0m\u001b[0;34m\u001b[0m\u001b[0m\n\u001b[0m\u001b[1;32m   5503\u001b[0m \u001b[0;34m\u001b[0m\u001b[0m\n\u001b[1;32m   5504\u001b[0m         \u001b[0;32mreturn\u001b[0m \u001b[0mself\u001b[0m\u001b[0;34m.\u001b[0m\u001b[0m_construct_result\u001b[0m\u001b[0;34m(\u001b[0m\u001b[0mres_values\u001b[0m\u001b[0;34m,\u001b[0m \u001b[0mname\u001b[0m\u001b[0;34m=\u001b[0m\u001b[0mres_name\u001b[0m\u001b[0;34m)\u001b[0m\u001b[0;34m\u001b[0m\u001b[0;34m\u001b[0m\u001b[0m\n",
      "\u001b[0;32m~/miniconda3/envs/product/lib/python3.8/site-packages/pandas/core/ops/array_ops.py\u001b[0m in \u001b[0;36mcomparison_op\u001b[0;34m(left, right, op)\u001b[0m\n\u001b[1;32m    282\u001b[0m \u001b[0;34m\u001b[0m\u001b[0m\n\u001b[1;32m    283\u001b[0m     \u001b[0;32melif\u001b[0m \u001b[0mis_object_dtype\u001b[0m\u001b[0;34m(\u001b[0m\u001b[0mlvalues\u001b[0m\u001b[0;34m.\u001b[0m\u001b[0mdtype\u001b[0m\u001b[0;34m)\u001b[0m \u001b[0;32mor\u001b[0m \u001b[0misinstance\u001b[0m\u001b[0;34m(\u001b[0m\u001b[0mrvalues\u001b[0m\u001b[0;34m,\u001b[0m \u001b[0mstr\u001b[0m\u001b[0;34m)\u001b[0m\u001b[0;34m:\u001b[0m\u001b[0;34m\u001b[0m\u001b[0;34m\u001b[0m\u001b[0m\n\u001b[0;32m--> 284\u001b[0;31m         \u001b[0mres_values\u001b[0m \u001b[0;34m=\u001b[0m \u001b[0mcomp_method_OBJECT_ARRAY\u001b[0m\u001b[0;34m(\u001b[0m\u001b[0mop\u001b[0m\u001b[0;34m,\u001b[0m \u001b[0mlvalues\u001b[0m\u001b[0;34m,\u001b[0m \u001b[0mrvalues\u001b[0m\u001b[0;34m)\u001b[0m\u001b[0;34m\u001b[0m\u001b[0;34m\u001b[0m\u001b[0m\n\u001b[0m\u001b[1;32m    285\u001b[0m \u001b[0;34m\u001b[0m\u001b[0m\n\u001b[1;32m    286\u001b[0m     \u001b[0;32melse\u001b[0m\u001b[0;34m:\u001b[0m\u001b[0;34m\u001b[0m\u001b[0;34m\u001b[0m\u001b[0m\n",
      "\u001b[0;32m~/miniconda3/envs/product/lib/python3.8/site-packages/pandas/core/ops/array_ops.py\u001b[0m in \u001b[0;36mcomp_method_OBJECT_ARRAY\u001b[0;34m(op, x, y)\u001b[0m\n\u001b[1;32m     71\u001b[0m         \u001b[0mresult\u001b[0m \u001b[0;34m=\u001b[0m \u001b[0mlibops\u001b[0m\u001b[0;34m.\u001b[0m\u001b[0mvec_compare\u001b[0m\u001b[0;34m(\u001b[0m\u001b[0mx\u001b[0m\u001b[0;34m.\u001b[0m\u001b[0mravel\u001b[0m\u001b[0;34m(\u001b[0m\u001b[0;34m)\u001b[0m\u001b[0;34m,\u001b[0m \u001b[0my\u001b[0m\u001b[0;34m.\u001b[0m\u001b[0mravel\u001b[0m\u001b[0;34m(\u001b[0m\u001b[0;34m)\u001b[0m\u001b[0;34m,\u001b[0m \u001b[0mop\u001b[0m\u001b[0;34m)\u001b[0m\u001b[0;34m\u001b[0m\u001b[0;34m\u001b[0m\u001b[0m\n\u001b[1;32m     72\u001b[0m     \u001b[0;32melse\u001b[0m\u001b[0;34m:\u001b[0m\u001b[0;34m\u001b[0m\u001b[0;34m\u001b[0m\u001b[0m\n\u001b[0;32m---> 73\u001b[0;31m         \u001b[0mresult\u001b[0m \u001b[0;34m=\u001b[0m \u001b[0mlibops\u001b[0m\u001b[0;34m.\u001b[0m\u001b[0mscalar_compare\u001b[0m\u001b[0;34m(\u001b[0m\u001b[0mx\u001b[0m\u001b[0;34m.\u001b[0m\u001b[0mravel\u001b[0m\u001b[0;34m(\u001b[0m\u001b[0;34m)\u001b[0m\u001b[0;34m,\u001b[0m \u001b[0my\u001b[0m\u001b[0;34m,\u001b[0m \u001b[0mop\u001b[0m\u001b[0;34m)\u001b[0m\u001b[0;34m\u001b[0m\u001b[0;34m\u001b[0m\u001b[0m\n\u001b[0m\u001b[1;32m     74\u001b[0m     \u001b[0;32mreturn\u001b[0m \u001b[0mresult\u001b[0m\u001b[0;34m.\u001b[0m\u001b[0mreshape\u001b[0m\u001b[0;34m(\u001b[0m\u001b[0mx\u001b[0m\u001b[0;34m.\u001b[0m\u001b[0mshape\u001b[0m\u001b[0;34m)\u001b[0m\u001b[0;34m\u001b[0m\u001b[0;34m\u001b[0m\u001b[0m\n\u001b[1;32m     75\u001b[0m \u001b[0;34m\u001b[0m\u001b[0m\n",
      "\u001b[0;32m~/miniconda3/envs/product/lib/python3.8/site-packages/pandas/_libs/ops.pyx\u001b[0m in \u001b[0;36mpandas._libs.ops.scalar_compare\u001b[0;34m()\u001b[0m\n",
      "\u001b[0;31mTypeError\u001b[0m: '>' not supported between instances of 'str' and 'int'"
     ]
    }
   ],
   "source": [
    "output = '''\n",
    "# Top 5 customers based on product count purchased:\n",
    "\n",
    "'''\n",
    "\n",
    "user_counts = transactions[transactions['customer_id'] > 0].groupby(transactions.customer_id)['product_id'].count().sort_values(ascending=False)\n",
    "\n",
    "user_counts.head()\n",
    "\n",
    "five_total = 0\n",
    "for index, row in user_counts[:5].iteritems():\n",
    "    five_total += row\n",
    "\n",
    "table_str = user_counts[:5].to_markdown()\n",
    "\n",
    "output += table_str\n",
    "\n",
    "output += '''\n",
    "\n",
    "Other customers purchased {:,} items.\n",
    "\n",
    "'''.format(len(transactions) - five_total)\n",
    "\n",
    "md(output)\n"
   ]
  },
  {
   "cell_type": "code",
   "execution_count": null,
   "metadata": {},
   "outputs": [],
   "source": [
    "df = user_counts[:10].reset_index().rename(columns={\"customer_id\":\"Customer\", \"product_id\":\"Purchases\"})\n",
    "\n",
    "print(type(df))\n",
    "print(df)"
   ]
  },
  {
   "cell_type": "code",
   "execution_count": null,
   "metadata": {},
   "outputs": [],
   "source": [
    "output = '''\n",
    "# Top 5 customers based on total orders:\n",
    "\n",
    "'''\n",
    "\n",
    "user_counts = transactions[transactions['customer_id'] > 0] \\\n",
    "    .drop_duplicates(['customer_id', 'order_id']) \\\n",
    "    .groupby('customer_id')['order_id'] \\\n",
    "    .count() \\\n",
    "    .sort_values(ascending=False)\n",
    "\n",
    "five_total = 0\n",
    "for index, row in user_counts[:5].iteritems():\n",
    "    print(index)\n",
    "    five_total += row\n",
    "\n",
    "table_str = user_counts[:5].to_markdown()\n",
    "\n",
    "output += table_str\n",
    "\n",
    "output += '''\n",
    "\n",
    "Other customers placed {:,} orders.\n",
    "\n",
    "'''.format(order_count - five_total)\n",
    "\n",
    "md(output)\n"
   ]
  },
  {
   "cell_type": "code",
   "execution_count": null,
   "metadata": {},
   "outputs": [],
   "source": [
    "subplot = user_counts[:5].plot.pie(autopct=lambda p: '{:.0f}'.format(p * five_total / 100), shadow=True, figsize=(11, 6))\n",
    "\n",
    "subplot.get_figure().gca().set_ylabel(\"\")\n",
    "subplot.get_figure().gca().set_xlabel(\"\")\n",
    "subplot.get_figure().gca().set_title(\"Comparison of top 5 customers\")\n",
    "\n",
    "plt.show()\n"
   ]
  },
  {
   "cell_type": "code",
   "execution_count": null,
   "metadata": {},
   "outputs": [],
   "source": [
    "temp = (100. * user_counts / user_counts.sum()).sort_values(ascending=False)\n",
    "\n",
    "count = 0\n",
    "total = 0\n",
    "buckets=[]\n",
    "for val in temp:\n",
    "    \n",
    "    if total + val > 25:\n",
    "        buckets.append(count)\n",
    "        total = 0\n",
    "        count = 0\n",
    "        \n",
    "    count+=1\n",
    "    total+=val\n",
    "\n",
    "print(buckets)\n",
    "labels = ['Top 25%', '2nd 25%', '3rd 25%', '4th 25%']\n",
    "fig1, ax1 = plt.subplots(figsize=(10, 8))\n",
    "plt.pie(buckets, labels=labels, autopct=lambda p: '{:.0f}'.format(p * len(temp) / 100))\n",
    "fig1.gca().set_title(\"Breakdown of customers by order count\")\n",
    "plt.show()"
   ]
  },
  {
   "cell_type": "code",
   "execution_count": 7,
   "id": "7ed52baa",
   "metadata": {},
   "outputs": [
    {
     "data": {
      "text/markdown": [
       "\n",
       "# Top 5 products based on total count purchased:\n",
       "\n",
       "| product_id   |   quantity |\n",
       "|:-------------|-----------:|\n",
       "| Coffee       |       5471 |\n",
       "| Bread        |       3325 |\n",
       "| Tea          |       1435 |\n",
       "| Cake         |       1025 |\n",
       "| Pastry       |        856 |\n",
       "\n",
       "Other products purchased 9,181 times.\n",
       "\n"
      ],
      "text/plain": [
       "<IPython.core.display.Markdown object>"
      ]
     },
     "execution_count": 7,
     "metadata": {},
     "output_type": "execute_result"
    }
   ],
   "source": [
    "output = '''\n",
    "# Top 5 products based on total count purchased:\n",
    "\n",
    "'''\n",
    "\n",
    "product_counts = transactions.groupby(transactions.product_id)['quantity'].agg('sum').sort_values(ascending=False)\n",
    "\n",
    "product_counts.head()\n",
    "\n",
    "five_total = 0\n",
    "for index, row in product_counts[:5].iteritems():\n",
    "    five_total += row\n",
    "\n",
    "table_str = product_counts[:5].to_markdown()\n",
    "\n",
    "output += table_str\n",
    "\n",
    "output += '''\n",
    "\n",
    "Other products purchased {:,} times.\n",
    "\n",
    "'''.format(transactions['quantity'].sum() - five_total)\n",
    "\n",
    "md(output)\n"
   ]
  },
  {
   "cell_type": "code",
   "execution_count": 8,
   "metadata": {},
   "outputs": [
    {
     "name": "stdout",
     "output_type": "stream",
     "text": [
      "<class 'pandas.core.frame.DataFrame'>\n",
      "<class 'pandas.core.frame.DataFrame'>\n"
     ]
    }
   ],
   "source": [
    "product_counts = transactions \\\n",
    "    .groupby(transactions.product_id)['quantity'] \\\n",
    "    .agg('sum'). \\\n",
    "    sort_values(ascending=False)\n",
    "\n",
    "product_df = product_counts \\\n",
    "    .reset_index() \\\n",
    "    .rename(columns={\"product_id\":\"Product\", \"quantity\":\"Quantity\"})\n",
    "print(type(product_df[:10]))\n",
    "\n",
    "product_df = product_counts \\\n",
    "    .reset_index() \\\n",
    "    .rename(columns={\"product_id\":\"Product\", \"quantity\":\"Quantity\"})\n",
    "print(type(product_df[:10]))"
   ]
  },
  {
   "cell_type": "code",
   "execution_count": 9,
   "metadata": {},
   "outputs": [
    {
     "data": {
      "text/markdown": [
       "\n",
       "# Top 5 products based on counting orders that included them:\n",
       "\n",
       "| product_id   |   order_id |\n",
       "|:-------------|-----------:|\n",
       "| Coffee       |       5471 |\n",
       "| Bread        |       3325 |\n",
       "| Tea          |       1435 |\n",
       "| Cake         |       1025 |\n",
       "| Pastry       |        856 |\n",
       "\n",
       "Other customers placed -2,581 orders.\n",
       "\n"
      ],
      "text/plain": [
       "<IPython.core.display.Markdown object>"
      ]
     },
     "execution_count": 9,
     "metadata": {},
     "output_type": "execute_result"
    }
   ],
   "source": [
    "output = '''\n",
    "# Top 5 products based on counting orders that included them:\n",
    "\n",
    "'''\n",
    "\n",
    "product_counts = transactions \\\n",
    "    .groupby('product_id')['order_id'] \\\n",
    "    .count() \\\n",
    "    .sort_values(ascending=False)\n",
    "\n",
    "five_total = 0\n",
    "for index, row in product_counts[:5].iteritems():\n",
    "    five_total += row\n",
    "\n",
    "table_str = product_counts[:5].to_markdown()\n",
    "\n",
    "output += table_str\n",
    "\n",
    "output += '''\n",
    "\n",
    "Other customers placed {:,} orders.\n",
    "\n",
    "'''.format(order_count - five_total)\n",
    "\n",
    "md(output)\n"
   ]
  },
  {
   "cell_type": "code",
   "execution_count": 10,
   "metadata": {},
   "outputs": [
    {
     "data": {
      "image/png": "[encoded data removed]",
      "text/plain": [
       "<Figure size 792x432 with 1 Axes>"
      ]
     },
     "metadata": {},
     "output_type": "display_data"
    }
   ],
   "source": [
    "subplot = product_counts[:5].plot.pie(autopct=lambda p: '{:.0f}'.format(p * five_total / 100), shadow=True, figsize=(11, 6))\n",
    "\n",
    "subplot.get_figure().gca().set_ylabel(\"\")\n",
    "subplot.get_figure().gca().set_xlabel(\"\")\n",
    "subplot.get_figure().gca().set_title(\"Comparison of top 5 products\")\n",
    "\n",
    "plt.show()"
   ]
  },
  {
   "cell_type": "markdown",
   "metadata": {},
   "source": [
    "# plt.plot(product_counts.values) "
   ]
  },
  {
   "cell_type": "code",
   "execution_count": 18,
   "metadata": {},
   "outputs": [
    {
     "name": "stdout",
     "output_type": "stream",
     "text": [
      "[4.800000000000001, 5.800000000000001, 36.8, 162.40000000000023, 5261.2]\n",
      "[19 19 19 19 19]\n"
     ]
    },
    {
     "data": {
      "image/png": "[encoded data removed]",
      "text/plain": [
       "<Figure size 720x576 with 1 Axes>"
      ]
     },
     "metadata": {},
     "output_type": "display_data"
    }
   ],
   "source": [
    "# print(product_counts)\n",
    "quantiles, bins = pd.qcut(product_counts, [0, .20, .40, .60, .80, 1], retbins=True)\n",
    "\n",
    "batches = []\n",
    "batches.append(bins[1])\n",
    "for i in range(2,len(bins)):\n",
    "    batches.append(bins[i] - bins[i-1])\n",
    "    \n",
    "labels = [\"Bottom 20%\", \"4th\", \"3rd\", \"4th\", \"Top 20%\"]\n",
    "fig1, ax1 = plt.subplots(figsize=(10, 8))\n",
    "plt.pie(batches, labels=labels, autopct='%1.1f%%')\n",
    "\n",
    "fig1.gca().set_title(\"Breakdown of products into 20% blocks by order count\")\n",
    "    \n",
    "# ax.set_yticks(jobs)\n",
    "# ax.set_xlabel('Hour')\n",
    "# ax.set_title('Run Time by Job')\n",
    "# ax.grid(True)\n",
    "# ax.legend()\n",
    "# plt.tight_layout()\n",
    "#plt.savefig('C:\\\\Data\\\\stackedbar.png')\n",
    "plt.show()"
   ]
  },
  {
   "cell_type": "code",
   "execution_count": null,
   "metadata": {},
   "outputs": [],
   "source": [
    "counts = pd.qcut(product_counts, [0, .25, .5, .75, 1]).value_counts(sort=False)\n",
    "print(counts)\n",
    "print(len(product_counts))"
   ]
  },
  {
   "cell_type": "code",
   "execution_count": null,
   "metadata": {},
   "outputs": [],
   "source": [
    "quantiles = np.quantile(product_counts, [0.25, 0.5, 0.75, 1.0])\n",
    "\n",
    "print(quantiles)\n",
    "\n",
    "temp = (100. * product_counts / product_counts.sum()).sort_values(ascending=False)\n",
    "\n",
    "# count = 0\n",
    "# total = 0\n",
    "# buckets=[]\n",
    "# for val in temp:\n",
    "    \n",
    "#     if total + val > 25:\n",
    "#         buckets.append(count)\n",
    "#         total = 0\n",
    "#         count = 0\n",
    "        \n",
    "#     count+=1\n",
    "#     total+=val\n",
    "\n",
    "# print(buckets)\n",
    "# labels = ['Top 25%', '2nd 25%', '3rd 25%', '4th 25%']\n",
    "# fig1, ax1 = plt.subplots(figsize=(10, 8))\n",
    "# plt.pie(buckets, labels=labels, autopct=lambda p: '{:.0f}'.format(p * len(temp) / 100))\n",
    "# fig1.gca().set_title(\"Breakdown of products by order count\")\n",
    "# plt.show()"
   ]
  },
  {
   "cell_type": "code",
   "execution_count": null,
   "metadata": {},
   "outputs": [],
   "source": [
    "from mlxtend.frequent_patterns import apriori, association_rules\n",
    "from mlxtend.preprocessing import TransactionEncoder\n",
    "\n",
    "grouped = transactions.groupby('order_id').agg({\"product_id\": lambda x: list(x)})\n",
    "temp = grouped['product_id'].values\n"
   ]
  },
  {
   "cell_type": "code",
   "execution_count": null,
   "metadata": {},
   "outputs": [],
   "source": [
    "te = TransactionEncoder()\n",
    "\n",
    "oht_ary = te.fit(temp).transform(temp, sparse=True)\n",
    "sparse_df = pd.DataFrame.sparse.from_spmatrix(oht_ary, columns=te.columns_)\n",
    "sparse_df.columns = [str(i) for i in sparse_df.columns]\n",
    "top_sets = apriori(sparse_df, min_support=0.012, use_colnames=True, verbose=1, max_len=5)\n",
    "top_sets['length'] = top_sets['itemsets'].apply(lambda x: len(x))"
   ]
  },
  {
   "cell_type": "code",
   "execution_count": null,
   "metadata": {},
   "outputs": [],
   "source": [
    "set1 = top_sets[top_sets['length'] == 1].sort_values('support', ascending=False).reset_index()[:5]['itemsets']\n",
    "\n",
    "print(set1)\n"
   ]
  },
  {
   "cell_type": "code",
   "execution_count": null,
   "metadata": {},
   "outputs": [],
   "source": [
    "set2 = top_sets[top_sets['length'] == 2].sort_values('support', ascending=False).reset_index()[:5]\n",
    "\n",
    "print(set2)"
   ]
  },
  {
   "cell_type": "code",
   "execution_count": null,
   "metadata": {},
   "outputs": [],
   "source": [
    "set3 = top_sets[top_sets['length'] == 3].sort_values('support', ascending=False).reset_index()[:5]\n",
    "print(set3)"
   ]
  },
  {
   "cell_type": "code",
   "execution_count": null,
   "metadata": {},
   "outputs": [],
   "source": [
    "set4 = top_sets[top_sets['length'] == 4].sort_values('support', ascending=False).reset_index()[:5]\n",
    "print(set4)"
   ]
  },
  {
   "cell_type": "code",
   "execution_count": null,
   "metadata": {},
   "outputs": [],
   "source": [
    "set5 = top_sets[top_sets['length'] == 5].sort_values('support', ascending=False).reset_index()[:5]\n",
    "print(set5)"
   ]
  },
  {
   "cell_type": "code",
   "execution_count": null,
   "metadata": {},
   "outputs": [],
   "source": []
  }
 ],
 "metadata": {
  "kernelspec": {
   "display_name": "productrec",
   "language": "python",
   "name": "python3"
  },
  "language_info": {
   "codemirror_mode": {
    "name": "ipython",
    "version": 3
   },
   "file_extension": ".py",
   "mimetype": "text/x-python",
   "name": "python",
   "nbconvert_exporter": "python",
   "pygments_lexer": "ipython3",
   "version": "3.8.12"
  }
 },
 "nbformat": 4,
 "nbformat_minor": 5
}
