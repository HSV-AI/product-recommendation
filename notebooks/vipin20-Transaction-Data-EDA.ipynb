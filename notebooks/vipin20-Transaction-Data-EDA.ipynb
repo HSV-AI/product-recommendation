{
 "cells": [
  {
   "cell_type": "markdown",
   "id": "29b3e514",
   "metadata": {},
   "source": [
    "![HSV-AI Logo](https://github.com/HSV-AI/hugo-website/blob/master/static/images/logo_v9.png?raw=true)\n",
    "\n",
    "# Implicit Recommendation from ECommerce Data\n",
    "\n",
    "Some of the material for this work is based on [A Gentle Introduction to Recommender Systems with Implicit Feedback](https://jessesw.com/Rec-System/) by Jesse Steinweg Woods. This tutorial includes an implementation of the Alternating Least Squares algorithm and some other useful functions (like the area under the curve calculation). Other parts of the tutorial are based on a previous version of the Implicit library and had to be reworked.\n",
    "\n",
    "The dataset used for this work is from Kaggle [Vipin Kumar Transaction Data](https://www.kaggle.com/vipin20/transaction-data):\n",
    "\n",
    "## Context\n",
    "\n",
    "This is a item purchased transactions data. It has 8 columns.\n",
    "This data makes you familer with transactions data.\n",
    "\n",
    "## Content\n",
    "\n",
    "Data description is :-\n",
    "\n",
    "* UserId -It is a unique ID for all User Id\n",
    "* TransactionId -It contains unique Transactions ID\n",
    "* TransactionTime -It contains Transaction Time\n",
    "* ItemCode -It contains item code that item will be purchased\n",
    "* ItemDescription -It contains Item description\n",
    "* NumberOfItemPurchased -It contains total number of items Purchased\n",
    "* CostPerltem -Cost per item Purchased\n",
    "* Country -Country where item purchased\n",
    "\n",
    "## Basics of EDA\n",
    "\n",
    "Here are a few things that we are looking for in the invoice / transaction data:\n",
    "\n",
    "1. Were there any negative totals? If so why?\n",
    "2. What percentage of the purchases actually contained multiple items?\n",
    "3. What is the spread of purchases by customer ID? Do we have a few customers whose behavior may drive recommendations in a way that doesn't fit the average customer?\n",
    "4. Where there any purchases that were VERY large? If so why? Do we want to include these values to train model behavior?\n",
    "5. Is there any missing data that we need to scrub?\n"
   ]
  },
  {
   "cell_type": "code",
   "execution_count": 1,
   "id": "27a45f6d",
   "metadata": {},
   "outputs": [
    {
     "name": "stdout",
     "output_type": "stream",
     "text": [
      "2021-09-17 03:23:04,976 - kedro.framework.session.store - INFO - `read()` not implemented for `BaseSessionStore`. Assuming empty store.\n",
      "2021-09-17 03:23:05,012 - root - INFO - ** Kedro project productrec\n",
      "2021-09-17 03:23:05,013 - root - INFO - Defined global variable `context`, `session` and `catalog`\n"
     ]
    }
   ],
   "source": [
    "%reload_kedro"
   ]
  },
  {
   "cell_type": "code",
   "execution_count": 2,
   "id": "84827ddc",
   "metadata": {
    "execution": {
     "iopub.execute_input": "2021-08-21T19:41:24.338285Z",
     "iopub.status.busy": "2021-08-21T19:41:24.333420Z",
     "iopub.status.idle": "2021-08-21T19:41:25.274546Z",
     "shell.execute_reply": "2021-08-21T19:41:25.274918Z"
    }
   },
   "outputs": [
    {
     "name": "stdout",
     "output_type": "stream",
     "text": [
      "2021-09-17 03:23:08,109 - matplotlib.font_manager - INFO - generated new fontManager\n"
     ]
    }
   ],
   "source": [
    "import pandas as pd\n",
    "import numpy as np\n",
    "import random\n",
    "import scipy.sparse\n",
    "from matplotlib import pyplot as plt\n",
    "from pandas.api.types import CategoricalDtype\n"
   ]
  },
  {
   "cell_type": "markdown",
   "id": "ce17187f",
   "metadata": {},
   "source": [
    "# Available Files\n",
    "\n",
    "Let's go ahead and look into some of these files and see what we can see."
   ]
  },
  {
   "cell_type": "code",
   "execution_count": 3,
   "id": "faa63da1",
   "metadata": {
    "execution": {
     "iopub.execute_input": "2021-08-21T19:41:25.278985Z",
     "iopub.status.busy": "2021-08-21T19:41:25.278511Z",
     "iopub.status.idle": "2021-08-21T19:41:26.455336Z",
     "shell.execute_reply": "2021-08-21T19:41:26.455734Z"
    }
   },
   "outputs": [
    {
     "name": "stdout",
     "output_type": "stream",
     "text": [
      "2021-09-17 03:23:11,063 - kedro.io.data_catalog - INFO - Loading data from `vipin20_kaggle_data` (CSVDataSet)...\n"
     ]
    },
    {
     "data": {
      "text/html": [
       "<div>\n",
       "<style scoped>\n",
       "    .dataframe tbody tr th:only-of-type {\n",
       "        vertical-align: middle;\n",
       "    }\n",
       "\n",
       "    .dataframe tbody tr th {\n",
       "        vertical-align: top;\n",
       "    }\n",
       "\n",
       "    .dataframe thead th {\n",
       "        text-align: right;\n",
       "    }\n",
       "</style>\n",
       "<table border=\"1\" class=\"dataframe\">\n",
       "  <thead>\n",
       "    <tr style=\"text-align: right;\">\n",
       "      <th></th>\n",
       "      <th>UserId</th>\n",
       "      <th>TransactionId</th>\n",
       "      <th>TransactionTime</th>\n",
       "      <th>ItemCode</th>\n",
       "      <th>ItemDescription</th>\n",
       "      <th>NumberOfItemsPurchased</th>\n",
       "      <th>CostPerItem</th>\n",
       "      <th>Country</th>\n",
       "    </tr>\n",
       "  </thead>\n",
       "  <tbody>\n",
       "    <tr>\n",
       "      <th>0</th>\n",
       "      <td>278166</td>\n",
       "      <td>6355745</td>\n",
       "      <td>Sat Feb 02 12:50:00 IST 2019</td>\n",
       "      <td>465549</td>\n",
       "      <td>FAMILY ALBUM WHITE PICTURE FRAME</td>\n",
       "      <td>6</td>\n",
       "      <td>11.73</td>\n",
       "      <td>United Kingdom</td>\n",
       "    </tr>\n",
       "    <tr>\n",
       "      <th>1</th>\n",
       "      <td>337701</td>\n",
       "      <td>6283376</td>\n",
       "      <td>Wed Dec 26 09:06:00 IST 2018</td>\n",
       "      <td>482370</td>\n",
       "      <td>LONDON BUS COFFEE MUG</td>\n",
       "      <td>3</td>\n",
       "      <td>3.52</td>\n",
       "      <td>United Kingdom</td>\n",
       "    </tr>\n",
       "    <tr>\n",
       "      <th>2</th>\n",
       "      <td>267099</td>\n",
       "      <td>6385599</td>\n",
       "      <td>Fri Feb 15 09:45:00 IST 2019</td>\n",
       "      <td>490728</td>\n",
       "      <td>SET 12 COLOUR PENCILS DOLLY GIRL</td>\n",
       "      <td>72</td>\n",
       "      <td>0.90</td>\n",
       "      <td>France</td>\n",
       "    </tr>\n",
       "    <tr>\n",
       "      <th>3</th>\n",
       "      <td>380478</td>\n",
       "      <td>6044973</td>\n",
       "      <td>Fri Jun 22 07:14:00 IST 2018</td>\n",
       "      <td>459186</td>\n",
       "      <td>UNION JACK FLAG LUGGAGE TAG</td>\n",
       "      <td>3</td>\n",
       "      <td>1.73</td>\n",
       "      <td>United Kingdom</td>\n",
       "    </tr>\n",
       "    <tr>\n",
       "      <th>4</th>\n",
       "      <td>-1</td>\n",
       "      <td>6143225</td>\n",
       "      <td>Mon Sep 10 11:58:00 IST 2018</td>\n",
       "      <td>1733592</td>\n",
       "      <td>WASHROOM METAL SIGN</td>\n",
       "      <td>3</td>\n",
       "      <td>3.40</td>\n",
       "      <td>United Kingdom</td>\n",
       "    </tr>\n",
       "  </tbody>\n",
       "</table>\n",
       "</div>"
      ],
      "text/plain": [
       "   UserId  TransactionId               TransactionTime  ItemCode  \\\n",
       "0  278166        6355745  Sat Feb 02 12:50:00 IST 2019    465549   \n",
       "1  337701        6283376  Wed Dec 26 09:06:00 IST 2018    482370   \n",
       "2  267099        6385599  Fri Feb 15 09:45:00 IST 2019    490728   \n",
       "3  380478        6044973  Fri Jun 22 07:14:00 IST 2018    459186   \n",
       "4      -1        6143225  Mon Sep 10 11:58:00 IST 2018   1733592   \n",
       "\n",
       "                     ItemDescription  NumberOfItemsPurchased  CostPerItem  \\\n",
       "0   FAMILY ALBUM WHITE PICTURE FRAME                       6        11.73   \n",
       "1              LONDON BUS COFFEE MUG                       3         3.52   \n",
       "2  SET 12 COLOUR PENCILS DOLLY GIRL                       72         0.90   \n",
       "3        UNION JACK FLAG LUGGAGE TAG                       3         1.73   \n",
       "4                WASHROOM METAL SIGN                       3         3.40   \n",
       "\n",
       "          Country  \n",
       "0  United Kingdom  \n",
       "1  United Kingdom  \n",
       "2          France  \n",
       "3  United Kingdom  \n",
       "4  United Kingdom  "
      ]
     },
     "execution_count": 3,
     "metadata": {},
     "output_type": "execute_result"
    }
   ],
   "source": [
    "transactions = catalog.load(\"vipin20_kaggle_data\")\n",
    "\n",
    "transactions.head()"
   ]
  },
  {
   "cell_type": "markdown",
   "id": "43ea47ce",
   "metadata": {},
   "source": [
    "# Checking for missing data"
   ]
  },
  {
   "cell_type": "code",
   "execution_count": 4,
   "id": "ea4b7005",
   "metadata": {
    "execution": {
     "iopub.execute_input": "2021-08-21T19:41:26.459977Z",
     "iopub.status.busy": "2021-08-21T19:41:26.459521Z",
     "iopub.status.idle": "2021-08-21T19:41:26.564438Z",
     "shell.execute_reply": "2021-08-21T19:41:26.564846Z"
    }
   },
   "outputs": [
    {
     "name": "stdout",
     "output_type": "stream",
     "text": [
      "Total length is 1083818\n"
     ]
    },
    {
     "data": {
      "text/plain": [
       "UserId                       0\n",
       "TransactionId                0\n",
       "TransactionTime              0\n",
       "ItemCode                     0\n",
       "ItemDescription           2908\n",
       "NumberOfItemsPurchased       0\n",
       "CostPerItem                  0\n",
       "Country                      0\n",
       "dtype: int64"
      ]
     },
     "execution_count": 4,
     "metadata": {},
     "output_type": "execute_result"
    }
   ],
   "source": [
    "print('Total length is',len(transactions))\n",
    "transactions.isna().sum()"
   ]
  },
  {
   "cell_type": "code",
   "execution_count": 5,
   "id": "c4f14062",
   "metadata": {
    "execution": {
     "iopub.execute_input": "2021-08-21T19:41:26.570354Z",
     "iopub.status.busy": "2021-08-21T19:41:26.569823Z",
     "iopub.status.idle": "2021-08-21T19:41:26.701600Z",
     "shell.execute_reply": "2021-08-21T19:41:26.701125Z"
    }
   },
   "outputs": [
    {
     "name": "stdout",
     "output_type": "stream",
     "text": [
      "There are 25900 unique transactions\n",
      "\n",
      "Here are the counts of transactions ordered from largest to smallest\n",
      "[2228 1498 1462 ...    2    2    2]\n",
      "\n",
      "And a graph of what the curve looks like:\n"
     ]
    },
    {
     "data": {
      "image/png": "[encoded data removed]",
      "text/plain": [
       "<Figure size 432x288 with 1 Axes>"
      ]
     },
     "metadata": {
      "needs_background": "light"
     },
     "output_type": "display_data"
    }
   ],
   "source": [
    "transaction_counts = transactions['TransactionId'].value_counts().to_numpy()\n",
    "print('There are', len(transaction_counts), 'unique transactions\\n')\n",
    "print('Here are the counts of transactions ordered from largest to smallest')\n",
    "print(transaction_counts)\n",
    "print('\\nAnd a graph of what the curve looks like:')\n",
    "plt.plot(transaction_counts) \n",
    "plt.show()"
   ]
  },
  {
   "cell_type": "markdown",
   "id": "36cc9676",
   "metadata": {},
   "source": [
    "# User Interactions\n",
    "\n",
    "Let's take a look at how many unique customers are included in this dataset"
   ]
  },
  {
   "cell_type": "code",
   "execution_count": 6,
   "id": "09c72075",
   "metadata": {},
   "outputs": [
    {
     "name": "stdout",
     "output_type": "stream",
     "text": [
      "There are 4373 unique customers\n",
      "\n",
      "Here are the counts of transactions per customer ordered from largest to smallest\n",
      "[270160  15966  11806 ...      2      2      2]\n",
      "\n",
      "And a graph of what the curve looks like:\n"
     ]
    },
    {
     "data": {
      "image/png": "[encoded data removed]",
      "text/plain": [
       "<Figure size 432x288 with 1 Axes>"
      ]
     },
     "metadata": {
      "needs_background": "light"
     },
     "output_type": "display_data"
    }
   ],
   "source": [
    "user_counts = transactions['UserId'].value_counts().to_numpy()\n",
    "print('There are', len(user_counts), 'unique customers\\n')\n",
    "print('Here are the counts of transactions per customer ordered from largest to smallest')\n",
    "print(user_counts)\n",
    "print('\\nAnd a graph of what the curve looks like:')\n",
    "plt.plot(user_counts) \n",
    "plt.show()"
   ]
  },
  {
   "cell_type": "code",
   "execution_count": 7,
   "id": "336e4d24",
   "metadata": {},
   "outputs": [
    {
     "data": {
      "text/html": [
       "<div>\n",
       "<style scoped>\n",
       "    .dataframe tbody tr th:only-of-type {\n",
       "        vertical-align: middle;\n",
       "    }\n",
       "\n",
       "    .dataframe tbody tr th {\n",
       "        vertical-align: top;\n",
       "    }\n",
       "\n",
       "    .dataframe thead th {\n",
       "        text-align: right;\n",
       "    }\n",
       "</style>\n",
       "<table border=\"1\" class=\"dataframe\">\n",
       "  <thead>\n",
       "    <tr style=\"text-align: right;\">\n",
       "      <th></th>\n",
       "      <th>UserId</th>\n",
       "      <th>count</th>\n",
       "    </tr>\n",
       "  </thead>\n",
       "  <tbody>\n",
       "    <tr>\n",
       "      <th>0</th>\n",
       "      <td>-1</td>\n",
       "      <td>270160</td>\n",
       "    </tr>\n",
       "    <tr>\n",
       "      <th>4043</th>\n",
       "      <td>374661</td>\n",
       "      <td>15966</td>\n",
       "    </tr>\n",
       "    <tr>\n",
       "      <th>1896</th>\n",
       "      <td>313131</td>\n",
       "      <td>11806</td>\n",
       "    </tr>\n",
       "    <tr>\n",
       "      <th>1301</th>\n",
       "      <td>296016</td>\n",
       "      <td>10256</td>\n",
       "    </tr>\n",
       "    <tr>\n",
       "      <th>331</th>\n",
       "      <td>267708</td>\n",
       "      <td>9284</td>\n",
       "    </tr>\n",
       "    <tr>\n",
       "      <th>1675</th>\n",
       "      <td>306726</td>\n",
       "      <td>5564</td>\n",
       "    </tr>\n",
       "    <tr>\n",
       "      <th>2193</th>\n",
       "      <td>321531</td>\n",
       "      <td>4982</td>\n",
       "    </tr>\n",
       "    <tr>\n",
       "      <th>1704</th>\n",
       "      <td>307566</td>\n",
       "      <td>4170</td>\n",
       "    </tr>\n",
       "    <tr>\n",
       "      <th>569</th>\n",
       "      <td>274869</td>\n",
       "      <td>3714</td>\n",
       "    </tr>\n",
       "    <tr>\n",
       "      <th>699</th>\n",
       "      <td>278523</td>\n",
       "      <td>3354</td>\n",
       "    </tr>\n",
       "  </tbody>\n",
       "</table>\n",
       "</div>"
      ],
      "text/plain": [
       "      UserId   count\n",
       "0         -1  270160\n",
       "4043  374661   15966\n",
       "1896  313131   11806\n",
       "1301  296016   10256\n",
       "331   267708    9284\n",
       "1675  306726    5564\n",
       "2193  321531    4982\n",
       "1704  307566    4170\n",
       "569   274869    3714\n",
       "699   278523    3354"
      ]
     },
     "execution_count": 7,
     "metadata": {},
     "output_type": "execute_result"
    }
   ],
   "source": [
    "transactions.groupby(['UserId'])['UserId'] \\\n",
    "                             .count() \\\n",
    "                             .reset_index(name='count') \\\n",
    "                             .sort_values(['count'], ascending=False) \\\n",
    "                             .head(10)"
   ]
  },
  {
   "cell_type": "markdown",
   "id": "c937dd09",
   "metadata": {},
   "source": [
    "It looks like \"-1\" is used when the customer is unknown. Let's take a look at the UserId with the very high count of items in the transactions."
   ]
  },
  {
   "cell_type": "code",
   "execution_count": 8,
   "id": "ad28e4a6",
   "metadata": {},
   "outputs": [
    {
     "data": {
      "text/html": [
       "<div>\n",
       "<style scoped>\n",
       "    .dataframe tbody tr th:only-of-type {\n",
       "        vertical-align: middle;\n",
       "    }\n",
       "\n",
       "    .dataframe tbody tr th {\n",
       "        vertical-align: top;\n",
       "    }\n",
       "\n",
       "    .dataframe thead th {\n",
       "        text-align: right;\n",
       "    }\n",
       "</style>\n",
       "<table border=\"1\" class=\"dataframe\">\n",
       "  <thead>\n",
       "    <tr style=\"text-align: right;\">\n",
       "      <th></th>\n",
       "      <th>UserId</th>\n",
       "      <th>TransactionId</th>\n",
       "      <th>TransactionTime</th>\n",
       "      <th>ItemCode</th>\n",
       "      <th>ItemDescription</th>\n",
       "      <th>NumberOfItemsPurchased</th>\n",
       "      <th>CostPerItem</th>\n",
       "      <th>Country</th>\n",
       "    </tr>\n",
       "    <tr>\n",
       "      <th>TransactionId</th>\n",
       "      <th></th>\n",
       "      <th></th>\n",
       "      <th></th>\n",
       "      <th></th>\n",
       "      <th></th>\n",
       "      <th></th>\n",
       "      <th></th>\n",
       "      <th></th>\n",
       "    </tr>\n",
       "  </thead>\n",
       "  <tbody>\n",
       "    <tr>\n",
       "      <th>5901973</th>\n",
       "      <td>4</td>\n",
       "      <td>4</td>\n",
       "      <td>4</td>\n",
       "      <td>4</td>\n",
       "      <td>4</td>\n",
       "      <td>4</td>\n",
       "      <td>4</td>\n",
       "      <td>4</td>\n",
       "    </tr>\n",
       "    <tr>\n",
       "      <th>5902127</th>\n",
       "      <td>130</td>\n",
       "      <td>130</td>\n",
       "      <td>130</td>\n",
       "      <td>130</td>\n",
       "      <td>130</td>\n",
       "      <td>130</td>\n",
       "      <td>130</td>\n",
       "      <td>130</td>\n",
       "    </tr>\n",
       "    <tr>\n",
       "      <th>5906769</th>\n",
       "      <td>4</td>\n",
       "      <td>4</td>\n",
       "      <td>4</td>\n",
       "      <td>4</td>\n",
       "      <td>4</td>\n",
       "      <td>4</td>\n",
       "      <td>4</td>\n",
       "      <td>4</td>\n",
       "    </tr>\n",
       "    <tr>\n",
       "      <th>5906824</th>\n",
       "      <td>58</td>\n",
       "      <td>58</td>\n",
       "      <td>58</td>\n",
       "      <td>58</td>\n",
       "      <td>58</td>\n",
       "      <td>58</td>\n",
       "      <td>58</td>\n",
       "      <td>58</td>\n",
       "    </tr>\n",
       "    <tr>\n",
       "      <th>5911455</th>\n",
       "      <td>92</td>\n",
       "      <td>92</td>\n",
       "      <td>92</td>\n",
       "      <td>92</td>\n",
       "      <td>92</td>\n",
       "      <td>92</td>\n",
       "      <td>92</td>\n",
       "      <td>92</td>\n",
       "    </tr>\n",
       "    <tr>\n",
       "      <th>...</th>\n",
       "      <td>...</td>\n",
       "      <td>...</td>\n",
       "      <td>...</td>\n",
       "      <td>...</td>\n",
       "      <td>...</td>\n",
       "      <td>...</td>\n",
       "      <td>...</td>\n",
       "      <td>...</td>\n",
       "    </tr>\n",
       "    <tr>\n",
       "      <th>6374676</th>\n",
       "      <td>316</td>\n",
       "      <td>316</td>\n",
       "      <td>316</td>\n",
       "      <td>316</td>\n",
       "      <td>316</td>\n",
       "      <td>316</td>\n",
       "      <td>316</td>\n",
       "      <td>316</td>\n",
       "    </tr>\n",
       "    <tr>\n",
       "      <th>6381496</th>\n",
       "      <td>250</td>\n",
       "      <td>250</td>\n",
       "      <td>250</td>\n",
       "      <td>250</td>\n",
       "      <td>250</td>\n",
       "      <td>250</td>\n",
       "      <td>250</td>\n",
       "      <td>250</td>\n",
       "    </tr>\n",
       "    <tr>\n",
       "      <th>6383245</th>\n",
       "      <td>58</td>\n",
       "      <td>58</td>\n",
       "      <td>58</td>\n",
       "      <td>58</td>\n",
       "      <td>58</td>\n",
       "      <td>58</td>\n",
       "      <td>58</td>\n",
       "      <td>58</td>\n",
       "    </tr>\n",
       "    <tr>\n",
       "      <th>6390516</th>\n",
       "      <td>368</td>\n",
       "      <td>368</td>\n",
       "      <td>368</td>\n",
       "      <td>368</td>\n",
       "      <td>368</td>\n",
       "      <td>368</td>\n",
       "      <td>368</td>\n",
       "      <td>368</td>\n",
       "    </tr>\n",
       "    <tr>\n",
       "      <th>6394674</th>\n",
       "      <td>266</td>\n",
       "      <td>266</td>\n",
       "      <td>266</td>\n",
       "      <td>266</td>\n",
       "      <td>266</td>\n",
       "      <td>266</td>\n",
       "      <td>266</td>\n",
       "      <td>266</td>\n",
       "    </tr>\n",
       "  </tbody>\n",
       "</table>\n",
       "<p>169 rows × 8 columns</p>\n",
       "</div>"
      ],
      "text/plain": [
       "               UserId  TransactionId  TransactionTime  ItemCode  \\\n",
       "TransactionId                                                     \n",
       "5901973             4              4                4         4   \n",
       "5902127           130            130              130       130   \n",
       "5906769             4              4                4         4   \n",
       "5906824            58             58               58        58   \n",
       "5911455            92             92               92        92   \n",
       "...               ...            ...              ...       ...   \n",
       "6374676           316            316              316       316   \n",
       "6381496           250            250              250       250   \n",
       "6383245            58             58               58        58   \n",
       "6390516           368            368              368       368   \n",
       "6394674           266            266              266       266   \n",
       "\n",
       "               ItemDescription  NumberOfItemsPurchased  CostPerItem  Country  \n",
       "TransactionId                                                                 \n",
       "5901973                      4                       4            4        4  \n",
       "5902127                    130                     130          130      130  \n",
       "5906769                      4                       4            4        4  \n",
       "5906824                     58                      58           58       58  \n",
       "5911455                     92                      92           92       92  \n",
       "...                        ...                     ...          ...      ...  \n",
       "6374676                    316                     316          316      316  \n",
       "6381496                    250                     250          250      250  \n",
       "6383245                     58                      58           58       58  \n",
       "6390516                    368                     368          368      368  \n",
       "6394674                    266                     266          266      266  \n",
       "\n",
       "[169 rows x 8 columns]"
      ]
     },
     "execution_count": 8,
     "metadata": {},
     "output_type": "execute_result"
    }
   ],
   "source": [
    "transactions[transactions.UserId == 374661].groupby(transactions.TransactionId).count()"
   ]
  },
  {
   "cell_type": "markdown",
   "id": "c2ae31c7",
   "metadata": {},
   "source": [
    "It appears that there are a lot of different transactions, so probably not just the same thing being purchased over and over. Not really sure what to do with this at the moment."
   ]
  },
  {
   "cell_type": "markdown",
   "id": "99236c27",
   "metadata": {},
   "source": [
    "# Transactions over Time\n",
    "\n",
    "Now we need to look at the number of items purchased each day to see if there is anything interesting that pops out."
   ]
  },
  {
   "cell_type": "code",
   "execution_count": null,
   "id": "4230ad78",
   "metadata": {},
   "outputs": [],
   "source": [
    "from datetime import datetime\n",
    "\n",
    "datetime_object = datetime.strptime('Mon Feb 12 04:26:00 IST 2018', '%a %b %d %H:%M:%S IST %Y')\n",
    "\n",
    "def func(date):\n",
    "    temp = datetime.strptime(str(date), '%a %b %d %H:%M:%S IST %Y')\n",
    "    return temp.strftime('%Y%m%d')\n",
    "\n",
    "transactions['datetime'] = transactions.apply(lambda x: func(x.TransactionTime), axis=1)\n"
   ]
  },
  {
   "cell_type": "code",
   "execution_count": null,
   "id": "fd8683db",
   "metadata": {},
   "outputs": [],
   "source": [
    "transactions.groupby(['datetime'])['datetime'] \\\n",
    "                             .count() \\\n",
    "                             .reset_index(name='count') \\\n",
    "                             .sort_values(['datetime'], ascending=True) \\\n",
    "                             .plot(figsize=(15,10))"
   ]
  },
  {
   "cell_type": "markdown",
   "id": "0dcb3cca",
   "metadata": {},
   "source": [
    "# Checking Invoice Totals\n",
    "\n",
    "We need to make sure all the invoice totals that we're using are positive - this keeps us from using invoices that captured customer returned items."
   ]
  },
  {
   "cell_type": "code",
   "execution_count": null,
   "id": "03139811",
   "metadata": {
    "execution": {
     "iopub.execute_input": "2021-08-21T19:41:26.707266Z",
     "iopub.status.busy": "2021-08-21T19:41:26.706803Z",
     "iopub.status.idle": "2021-08-21T19:41:26.862733Z",
     "shell.execute_reply": "2021-08-21T19:41:26.863097Z"
    }
   },
   "outputs": [],
   "source": [
    "transactions['StockTotal'] = transactions['NumberOfItemsPurchased'] * transactions['CostPerItem']\n",
    "totals = transactions.groupby(transactions.TransactionId)['StockTotal'].sum()\n",
    "totals.plot()"
   ]
  },
  {
   "cell_type": "code",
   "execution_count": null,
   "id": "3455c176",
   "metadata": {
    "execution": {
     "iopub.execute_input": "2021-08-21T19:41:26.867750Z",
     "iopub.status.busy": "2021-08-21T19:41:26.867286Z",
     "iopub.status.idle": "2021-08-21T19:41:26.874409Z",
     "shell.execute_reply": "2021-08-21T19:41:26.874797Z"
    }
   },
   "outputs": [],
   "source": [
    "totals.sort_values(ascending=False)"
   ]
  },
  {
   "cell_type": "code",
   "execution_count": null,
   "id": "29e450a1",
   "metadata": {},
   "outputs": [],
   "source": [
    "print('There are', len(transactions[transactions.NumberOfItemsPurchased < 0]), 'negative quantities')\n",
    "transactions[transactions.NumberOfItemsPurchased < 0].head()"
   ]
  },
  {
   "cell_type": "markdown",
   "id": "35512baf",
   "metadata": {},
   "source": [
    "It looks like the negative quantities are driven by returned items. Let's see if anyone purchased and returned items in the same transaction:"
   ]
  },
  {
   "cell_type": "code",
   "execution_count": null,
   "id": "e72b1edb",
   "metadata": {},
   "outputs": [],
   "source": [
    "temp_df = transactions.groupby(transactions.TransactionId).agg(minQ=('NumberOfItemsPurchased', 'min'), \n",
    "                               maxQ=('NumberOfItemsPurchased', 'max'))\n",
    "temp_df[(temp_df.minQ < 0) & (temp_df.maxQ > 0)].head()"
   ]
  },
  {
   "cell_type": "code",
   "execution_count": null,
   "id": "ebd30b36",
   "metadata": {},
   "outputs": [],
   "source": [
    "print('There are', len(transactions[transactions.CostPerItem < 0]), 'negative prices')\n",
    "transactions[transactions.CostPerItem < 0].head()"
   ]
  },
  {
   "cell_type": "markdown",
   "id": "439e16a4",
   "metadata": {},
   "source": [
    "We can also check these transactions to see if there was a mix of negative prices along with positive."
   ]
  },
  {
   "cell_type": "code",
   "execution_count": null,
   "id": "309c0a58",
   "metadata": {},
   "outputs": [],
   "source": [
    "temp_df = transactions.groupby(transactions.TransactionId).agg(minQ=('CostPerItem', 'min'), \n",
    "                               maxQ=('CostPerItem', 'max'))\n",
    "temp_df[(temp_df.minQ < 0) & (temp_df.maxQ > 0)].head()"
   ]
  },
  {
   "cell_type": "markdown",
   "id": "bf120355",
   "metadata": {},
   "source": [
    "Now that we have identified the cause of negative totals, we can remove them so that they do not affect our model."
   ]
  },
  {
   "cell_type": "code",
   "execution_count": null,
   "id": "c731b5f0",
   "metadata": {},
   "outputs": [],
   "source": [
    "transactions = transactions[(transactions.NumberOfItemsPurchased > 0) & (transactions.CostPerItem > 0)]"
   ]
  },
  {
   "cell_type": "markdown",
   "id": "b73b2059",
   "metadata": {},
   "source": [
    "Now we can check the totals that were much higher than average"
   ]
  },
  {
   "cell_type": "code",
   "execution_count": null,
   "id": "2af21a34",
   "metadata": {},
   "outputs": [],
   "source": [
    "transactions[transactions.TransactionId == 5900323].head()"
   ]
  },
  {
   "cell_type": "code",
   "execution_count": null,
   "id": "c4788c50",
   "metadata": {},
   "outputs": [],
   "source": [
    "transactions[transactions.TransactionId == 6396313].head()"
   ]
  },
  {
   "cell_type": "markdown",
   "id": "45ce2a40",
   "metadata": {},
   "source": [
    "It looks like there are two distinct cases where we may have an issue:\n",
    "\n",
    "1. Extremely high priced items\n",
    "2. Extremely high numbers of items purchased on the same transaction\n",
    "\n",
    "We can remove both of these by just keeping the values within the 98% quantile"
   ]
  },
  {
   "cell_type": "code",
   "execution_count": null,
   "id": "a33d42c9",
   "metadata": {},
   "outputs": [],
   "source": [
    "q = transactions[\"CostPerItem\"].quantile(0.98)\n",
    "transactions = transactions[transactions[\"CostPerItem\"] < q]"
   ]
  },
  {
   "cell_type": "code",
   "execution_count": null,
   "id": "68ce7bb4",
   "metadata": {},
   "outputs": [],
   "source": [
    "q = transactions[\"NumberOfItemsPurchased\"].quantile(0.98)\n",
    "transactions = transactions[transactions[\"NumberOfItemsPurchased\"] < q]"
   ]
  },
  {
   "cell_type": "markdown",
   "id": "7f60d387",
   "metadata": {},
   "source": [
    "We will need to remove transactions that only included a single item"
   ]
  },
  {
   "cell_type": "code",
   "execution_count": null,
   "id": "4a86af26",
   "metadata": {
    "execution": {
     "iopub.execute_input": "2021-08-21T19:41:26.880887Z",
     "iopub.status.busy": "2021-08-21T19:41:26.880376Z",
     "iopub.status.idle": "2021-08-21T19:41:26.929012Z",
     "shell.execute_reply": "2021-08-21T19:41:26.928631Z"
    }
   },
   "outputs": [],
   "source": [
    "minimum_order_size = 2\n",
    "order_group = transactions.loc[:, ['TransactionId', 'ItemCode']].groupby('TransactionId').count()\n",
    " \n",
    "multi_order = order_group[(order_group.ItemCode >= minimum_order_size)].count()\n",
    "single_order = order_group[(order_group.ItemCode < minimum_order_size)].count()\n",
    " \n",
    "print('Orders with at least',minimum_order_size,'products:',multi_order['ItemCode'])\n",
    "print('Orders with less than',minimum_order_size,'products:',single_order['ItemCode'])\n",
    " \n",
    "# We can capture the list of mutiple product orders with this:\n",
    "order_filter = order_group[(order_group.ItemCode >= minimum_order_size)].index.tolist()"
   ]
  },
  {
   "cell_type": "markdown",
   "id": "36242f6a",
   "metadata": {
    "scrolled": true
   },
   "source": [
    "Well it looks like this entire dataset has transactions with multiple products. No need to filter out transactions with only a single."
   ]
  },
  {
   "cell_type": "markdown",
   "id": "d924b319",
   "metadata": {},
   "source": [
    "# Data Sparcity\n",
    "\n",
    "Let's take a look at the sparcity of the data. This will tell us how many products were purchased across multiple orders. This is directly related to how well a recommendation system can be trained."
   ]
  },
  {
   "cell_type": "code",
   "execution_count": null,
   "id": "4f8f80fd",
   "metadata": {
    "execution": {
     "iopub.execute_input": "2021-08-21T19:41:26.935277Z",
     "iopub.status.busy": "2021-08-21T19:41:26.934809Z",
     "iopub.status.idle": "2021-08-21T19:41:27.240729Z",
     "shell.execute_reply": "2021-08-21T19:41:27.241075Z"
    }
   },
   "outputs": [],
   "source": [
    "transaction_list = list(np.sort(transactions.TransactionId.unique())) # Get our unique customers\n",
    "item_list = list(transactions.ItemCode.unique()) # Get our unique products that were purchased\n",
    "quantity_list = list(transactions.NumberOfItemsPurchased) # All of our purchases\n",
    "\n",
    "cols = transactions.TransactionId.astype(CategoricalDtype(categories=transaction_list, ordered=True)).cat.codes \n",
    "# Get the associated row indices\n",
    "rows = transactions.ItemCode.astype(CategoricalDtype(categories=item_list, ordered=True)).cat.codes \n",
    "# Get the associated column indices\n",
    "purchases_sparse = scipy.sparse.csr_matrix((quantity_list, (rows, cols)), shape=(len(item_list), len(transaction_list)))"
   ]
  },
  {
   "cell_type": "code",
   "execution_count": null,
   "id": "e00f83fc",
   "metadata": {
    "execution": {
     "iopub.execute_input": "2021-08-21T19:41:27.245414Z",
     "iopub.status.busy": "2021-08-21T19:41:27.244927Z",
     "iopub.status.idle": "2021-08-21T19:41:27.255058Z",
     "shell.execute_reply": "2021-08-21T19:41:27.255441Z"
    }
   },
   "outputs": [],
   "source": [
    "matrix_size = purchases_sparse.shape[0]*purchases_sparse.shape[1] # Number of possible interactions in the matrix\n",
    "num_purchases = len(purchases_sparse.nonzero()[0]) # Number of items interacted with\n",
    "sparsity = 100*(1 - (num_purchases/matrix_size))\n",
    "sparsity"
   ]
  },
  {
   "cell_type": "code",
   "execution_count": null,
   "id": "3ab54dbf",
   "metadata": {
    "execution": {
     "iopub.execute_input": "2021-08-21T19:41:27.264635Z",
     "iopub.status.busy": "2021-08-21T19:41:27.264182Z",
     "iopub.status.idle": "2021-08-21T19:41:27.912363Z",
     "shell.execute_reply": "2021-08-21T19:41:27.912856Z"
    }
   },
   "outputs": [],
   "source": [
    "plt.figure(figsize=(15, 15))\n",
    "plt.spy(purchases_sparse, markersize=1, aspect='auto')"
   ]
  },
  {
   "cell_type": "markdown",
   "id": "b67c70a1",
   "metadata": {},
   "source": [
    "# Storing Interim Data\n",
    "\n",
    "Now that we have the data cleaned up a bit and formatted correctly, we can save it to an interim file to be picked up by the model training algorithm."
   ]
  },
  {
   "cell_type": "code",
   "execution_count": null,
   "id": "be1b3e2c",
   "metadata": {
    "execution": {
     "iopub.execute_input": "2021-08-21T19:41:27.917492Z",
     "iopub.status.busy": "2021-08-21T19:41:27.917038Z",
     "iopub.status.idle": "2021-08-21T19:41:52.333610Z",
     "shell.execute_reply": "2021-08-21T19:41:52.334160Z"
    }
   },
   "outputs": [],
   "source": [
    "renamed_df = transactions.rename(columns={\"TransactionId\": \"order_id\", \n",
    "                            \"ItemCode\": \"product_id\", \n",
    "                            \"ItemDescription\":\"description\",\n",
    "                            \"NumberOfItemsPurchased\":\"quantity\",\n",
    "                            \"CostPerItem\":\"price\"})[['order_id', 'product_id', 'description', 'quantity']]\n",
    "\n",
    "catalog.save(\"vipin20_transactions\", renamed_df)\n",
    "\n",
    "item_lookup = transactions[['ItemCode', 'ItemDescription']].drop_duplicates() # Only get unique item/description pairs\n",
    "item_lookup['ItemCode'] = item_lookup.ItemCode.astype(str) # Encode as strings for future lookup ease\n",
    "\n",
    "products_df = item_lookup.rename(columns={\"ItemCode\":\"product_id\", \"ItemDescription\":\"description\"})\n",
    "catalog.save(\"vipin20_products\", products_df)"
   ]
  },
  {
   "cell_type": "code",
   "execution_count": null,
   "id": "1db702dd",
   "metadata": {},
   "outputs": [],
   "source": []
  }
 ],
 "metadata": {
  "kernelspec": {
   "display_name": "productrec",
   "language": "python",
   "name": "python3"
  },
  "language_info": {
   "codemirror_mode": {
    "name": "ipython",
    "version": 3
   },
   "file_extension": ".py",
   "mimetype": "text/x-python",
   "name": "python",
   "nbconvert_exporter": "python",
   "pygments_lexer": "ipython3",
   "version": "3.7.12"
  }
 },
 "nbformat": 4,
 "nbformat_minor": 5
}
