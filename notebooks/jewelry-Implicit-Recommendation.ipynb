{
 "cells": [
  {
   "cell_type": "markdown",
   "metadata": {
    "id": "gEfZf48Wu5f0"
   },
   "source": [
    "![HSV-AI Logo](https://github.com/HSV-AI/hugo-website/blob/master/static/images/logo_v9.png?raw=true)\n",
    "\n",
    "# Implicit Recommendation from ECommerce Data\n",
    "\n",
    "Some of the material for this work is based on [A Gentle Introduction to Recommender Systems with Implicit Feedback](https://jessesw.com/Rec-System/) by Jesse Steinweg Woods. This tutorial includes an implementation of the Alternating Least Squares algorithm and some other useful functions (like the area under the curve calculation). Other parts of the tutorial are based on a previous version of the Implicit library and had to be reworked.\n",
    "\n",
    "The dataset used for this work is from Kaggle [Vipin Kumar Transaction Data](https://www.kaggle.com/vipin20/transaction-data):\n",
    "\n",
    "## Context\n",
    "\n",
    "This is a item purchased transactions data. It has 8 columns.\n",
    "This data makes you familer with transactions data.\n",
    "\n",
    "## Content\n",
    "\n",
    "Data description is :-\n",
    "\n",
    "* UserId -It is a unique ID for all User Id\n",
    "* TransactionId -It contains unique Transactions ID\n",
    "* TransactionTime -It contains Transaction Time\n",
    "* ItemCode -It contains item code that item will be purchased\n",
    "* ItemDescription -It contains Item description\n",
    "* NumberOfItemPurchased -It contains total number of items Purchased\n",
    "* CostPerltem -Cost per item Purchased\n",
    "* Country -Country where item purchased\n"
   ]
  },
  {
   "cell_type": "markdown",
   "metadata": {
    "id": "OApEEC0_wB4C"
   },
   "source": [
    "# Global Imports"
   ]
  },
  {
   "cell_type": "code",
   "execution_count": 1,
   "metadata": {
    "execution": {
     "iopub.execute_input": "2021-08-25T22:41:41.991988Z",
     "iopub.status.busy": "2021-08-25T22:41:41.990968Z",
     "iopub.status.idle": "2021-08-25T22:41:43.043078Z",
     "shell.execute_reply": "2021-08-25T22:41:43.042314Z"
    },
    "id": "fsb9emt6nrPu"
   },
   "outputs": [],
   "source": [
    "import pandas as pd\n",
    "import numpy as np\n",
    "import random\n",
    "from matplotlib import pyplot as plt\n",
    "import implicit\n",
    "import scipy\n",
    "from sklearn import metrics\n",
    "from pandas.api.types import CategoricalDtype"
   ]
  },
  {
   "cell_type": "code",
   "execution_count": 2,
   "metadata": {
    "execution": {
     "iopub.execute_input": "2021-08-25T22:41:43.049182Z",
     "iopub.status.busy": "2021-08-25T22:41:43.048282Z",
     "iopub.status.idle": "2021-08-25T22:41:43.112079Z",
     "shell.execute_reply": "2021-08-25T22:41:43.111308Z"
    }
   },
   "outputs": [],
   "source": [
    "%run Common-Functions.ipynb"
   ]
  },
  {
   "cell_type": "code",
   "execution_count": 3,
   "metadata": {
    "execution": {
     "iopub.execute_input": "2021-08-25T22:41:43.118275Z",
     "iopub.status.busy": "2021-08-25T22:41:43.117559Z",
     "iopub.status.idle": "2021-08-25T22:41:44.058715Z",
     "shell.execute_reply": "2021-08-25T22:41:44.058027Z"
    }
   },
   "outputs": [
    {
     "name": "stdout",
     "output_type": "stream",
     "text": [
      "Loaded 112905 rows\n"
     ]
    }
   ],
   "source": [
    "transactions = pd.read_pickle('../data/interim/jewelry/transactions.gz')\n",
    "print('Loaded',len(transactions),'rows')"
   ]
  },
  {
   "cell_type": "code",
   "execution_count": 4,
   "metadata": {
    "execution": {
     "iopub.execute_input": "2021-08-25T22:41:44.068574Z",
     "iopub.status.busy": "2021-08-25T22:41:44.067301Z",
     "iopub.status.idle": "2021-08-25T22:41:44.396238Z",
     "shell.execute_reply": "2021-08-25T22:41:44.395583Z"
    }
   },
   "outputs": [],
   "source": [
    "transaction_list = list(np.sort(transactions.order_id.unique())) # Get our unique customers\n",
    "item_list = list(transactions.product_id.unique()) # Get our unique products that were purchased\n",
    "quantity_list = list(transactions.quantity) # All of our purchases\n",
    "\n",
    "cols = transactions.order_id.astype(CategoricalDtype(categories=transaction_list, ordered=True)).cat.codes \n",
    "# Get the associated row indices\n",
    "rows = transactions.product_id.astype(CategoricalDtype(categories=item_list, ordered=True)).cat.codes \n",
    "# Get the associated column indices\n",
    "purchases_sparse = scipy.sparse.csr_matrix((quantity_list, (rows, cols)), shape=(len(item_list), len(transaction_list)))"
   ]
  },
  {
   "cell_type": "code",
   "execution_count": 5,
   "metadata": {
    "execution": {
     "iopub.execute_input": "2021-08-25T22:41:44.401625Z",
     "iopub.status.busy": "2021-08-25T22:41:44.400808Z",
     "iopub.status.idle": "2021-08-25T22:41:44.415420Z",
     "shell.execute_reply": "2021-08-25T22:41:44.415945Z"
    }
   },
   "outputs": [
    {
     "data": {
      "text/plain": [
       "99.98726333037862"
      ]
     },
     "execution_count": 5,
     "metadata": {},
     "output_type": "execute_result"
    }
   ],
   "source": [
    "matrix_size = purchases_sparse.shape[0]*purchases_sparse.shape[1] # Number of possible interactions in the matrix\n",
    "num_purchases = len(purchases_sparse.nonzero()[0]) # Number of items interacted with\n",
    "sparsity = 100*(1 - (num_purchases/matrix_size))\n",
    "sparsity"
   ]
  },
  {
   "cell_type": "markdown",
   "metadata": {},
   "source": [
    "# Training & Test Datasets\n",
    "\n",
    "We will use the function below to create a training and test dataset from the tutorial linked at the top. The test dataset masks some percentage of purchases to tested later with a recommendation."
   ]
  },
  {
   "cell_type": "code",
   "execution_count": 6,
   "metadata": {
    "execution": {
     "iopub.execute_input": "2021-08-25T22:41:44.421333Z",
     "iopub.status.busy": "2021-08-25T22:41:44.420700Z",
     "iopub.status.idle": "2021-08-25T22:41:44.894794Z",
     "shell.execute_reply": "2021-08-25T22:41:44.893475Z"
    }
   },
   "outputs": [
    {
     "name": "stdout",
     "output_type": "stream",
     "text": [
      "Total number of masked items: 22901\n"
     ]
    }
   ],
   "source": [
    "product_train, product_test, products_altered, transactions_altered = make_train(purchases_sparse, pct_test = 0.211)\n",
    "print('Total number of masked items:',product_test.count_nonzero()-product_train.count_nonzero())\n"
   ]
  },
  {
   "cell_type": "markdown",
   "metadata": {},
   "source": [
    "# Implicit Recommendation Model\n",
    "\n",
    "The code below creates and trains one of the models available from the Implicit package. Currently using hyperparameters suggested by various tutorials with no tuning."
   ]
  },
  {
   "cell_type": "code",
   "execution_count": 7,
   "metadata": {
    "execution": {
     "iopub.execute_input": "2021-08-25T22:41:44.907600Z",
     "iopub.status.busy": "2021-08-25T22:41:44.906785Z",
     "iopub.status.idle": "2021-08-25T22:41:54.484892Z",
     "shell.execute_reply": "2021-08-25T22:41:54.484312Z"
    }
   },
   "outputs": [
    {
     "data": {
      "application/vnd.jupyter.widget-view+json": {
       "model_id": "e88cd7aa9b87429d9f4b2fc3646add6d",
       "version_major": 2,
       "version_minor": 0
      },
      "text/plain": [
       "  0%|          | 0/84 [00:00<?, ?it/s]"
      ]
     },
     "metadata": {},
     "output_type": "display_data"
    }
   ],
   "source": [
    "alpha = 3\n",
    "factors = 64\n",
    "regularization = 0.003\n",
    "iterations = 84\n",
    "\n",
    "model = implicit.als.AlternatingLeastSquares(factors=factors,\n",
    "                                    regularization=regularization,\n",
    "                                    iterations=iterations)\n",
    "\n",
    "## BayesianPersonalizedRanking was pretty bad\n",
    "# model = implicit.bpr.BayesianPersonalizedRanking(factors=31,\n",
    "#                                     regularization=0.1,\n",
    "#                                     iterations=50)\n",
    "\n",
    "\n",
    "# model = implicit.lmf.LogisticMatrixFactorization(factors=32,\n",
    "#                                     regularization=0.1,\n",
    "#                                     iterations=50)\n",
    "\n",
    "model.fit((product_train * alpha).astype('double'))\n",
    "\n",
    "user_vecs = model.user_factors\n",
    "item_vecs = model.item_factors\n",
    "\n",
    "# Deprecated function below\n",
    "# user_vecs, item_vecs = implicit.alternating_least_squares((product_train*alpha).astype('double'), \n",
    "#                                                           factors=32, \n",
    "#                                                           regularization = 0.1, \n",
    "#                                                           iterations = 50)"
   ]
  },
  {
   "cell_type": "code",
   "execution_count": 8,
   "metadata": {
    "execution": {
     "iopub.execute_input": "2021-08-25T22:41:54.490906Z",
     "iopub.status.busy": "2021-08-25T22:41:54.490089Z",
     "iopub.status.idle": "2021-08-25T22:41:54.503259Z",
     "shell.execute_reply": "2021-08-25T22:41:54.503776Z"
    }
   },
   "outputs": [],
   "source": [
    "np.save('../data/interim/jewelry/user_factors', user_vecs)\n",
    "np.save('../data/interim/jewelry/item_factors', item_vecs)\n",
    "np.save('../data/interim/jewelry/product_train', product_train*alpha)"
   ]
  },
  {
   "cell_type": "markdown",
   "metadata": {},
   "source": [
    "# Scoring the Model\n",
    "\n",
    "Following the tutorial, we will use the area under the Receiver Operating Characteristic curve. "
   ]
  },
  {
   "cell_type": "code",
   "execution_count": 9,
   "metadata": {
    "execution": {
     "iopub.execute_input": "2021-08-25T22:41:54.509279Z",
     "iopub.status.busy": "2021-08-25T22:41:54.508677Z",
     "iopub.status.idle": "2021-08-25T22:42:26.877198Z",
     "shell.execute_reply": "2021-08-25T22:42:26.876509Z"
    }
   },
   "outputs": [
    {
     "name": "stdout",
     "output_type": "stream",
     "text": [
      "Our model scored 0.5054815683558088 versus a score of 0.5980001232330087 if we always recommended the most popular item.\n"
     ]
    }
   ],
   "source": [
    "test, popular = calc_mean_auc(product_train, products_altered, \n",
    "              [scipy.sparse.csr_matrix(item_vecs), scipy.sparse.csr_matrix(user_vecs.T)], product_test)\n",
    "\n",
    "\n",
    "print('Our model scored',test,'versus a score of',popular,'if we always recommended the most popular item.')"
   ]
  },
  {
   "cell_type": "markdown",
   "metadata": {},
   "source": [
    "# Spot Checking\n",
    "\n",
    "Now that we have a pretty good idea of the model performance overall, we can spot check a few things like finding similar items and checking item recommendations for an existing invoice."
   ]
  },
  {
   "cell_type": "code",
   "execution_count": 10,
   "metadata": {},
   "outputs": [
    {
     "data": {
      "text/html": [
       "<div>\n",
       "<style scoped>\n",
       "    .dataframe tbody tr th:only-of-type {\n",
       "        vertical-align: middle;\n",
       "    }\n",
       "\n",
       "    .dataframe tbody tr th {\n",
       "        vertical-align: top;\n",
       "    }\n",
       "\n",
       "    .dataframe thead th {\n",
       "        text-align: right;\n",
       "    }\n",
       "</style>\n",
       "<table border=\"1\" class=\"dataframe\">\n",
       "  <thead>\n",
       "    <tr style=\"text-align: right;\">\n",
       "      <th></th>\n",
       "      <th>event_time</th>\n",
       "      <th>order_id</th>\n",
       "      <th>product_id</th>\n",
       "      <th>quantity</th>\n",
       "      <th>category_id</th>\n",
       "      <th>category_code</th>\n",
       "      <th>brand</th>\n",
       "      <th>price</th>\n",
       "      <th>user_id</th>\n",
       "      <th>gender</th>\n",
       "      <th>color</th>\n",
       "      <th>metal</th>\n",
       "      <th>gem</th>\n",
       "      <th>datetime</th>\n",
       "      <th>stock_total</th>\n",
       "    </tr>\n",
       "  </thead>\n",
       "  <tbody>\n",
       "    <tr>\n",
       "      <th>0</th>\n",
       "      <td>2018-11-29 16:30:45 UTC</td>\n",
       "      <td>1923415742179443254</td>\n",
       "      <td>1836250225916772582</td>\n",
       "      <td>1</td>\n",
       "      <td>1.806829e+18</td>\n",
       "      <td>jewelry.pendant</td>\n",
       "      <td>0.0</td>\n",
       "      <td>67.78</td>\n",
       "      <td>1.515916e+18</td>\n",
       "      <td>NaN</td>\n",
       "      <td>red</td>\n",
       "      <td>gold</td>\n",
       "      <td>diamond</td>\n",
       "      <td>20181129</td>\n",
       "      <td>67.78</td>\n",
       "    </tr>\n",
       "    <tr>\n",
       "      <th>1</th>\n",
       "      <td>2018-11-29 16:52:07 UTC</td>\n",
       "      <td>1923426489303302817</td>\n",
       "      <td>1836015460420681761</td>\n",
       "      <td>1</td>\n",
       "      <td>1.806829e+18</td>\n",
       "      <td>jewelry.pendant</td>\n",
       "      <td>0.0</td>\n",
       "      <td>32.63</td>\n",
       "      <td>1.515916e+18</td>\n",
       "      <td>NaN</td>\n",
       "      <td>red</td>\n",
       "      <td>gold</td>\n",
       "      <td>NaN</td>\n",
       "      <td>20181129</td>\n",
       "      <td>32.63</td>\n",
       "    </tr>\n",
       "    <tr>\n",
       "      <th>2</th>\n",
       "      <td>2018-11-29 17:58:37 UTC</td>\n",
       "      <td>1923459963229831173</td>\n",
       "      <td>1806829194936582544</td>\n",
       "      <td>1</td>\n",
       "      <td>1.806829e+18</td>\n",
       "      <td>jewelry.ring</td>\n",
       "      <td>1.0</td>\n",
       "      <td>75.21</td>\n",
       "      <td>1.515916e+18</td>\n",
       "      <td>NaN</td>\n",
       "      <td>red</td>\n",
       "      <td>gold</td>\n",
       "      <td>amethyst</td>\n",
       "      <td>20181129</td>\n",
       "      <td>75.21</td>\n",
       "    </tr>\n",
       "    <tr>\n",
       "      <th>3</th>\n",
       "      <td>2018-11-29 20:25:52 UTC</td>\n",
       "      <td>1923534078074684181</td>\n",
       "      <td>1835566854668550661</td>\n",
       "      <td>1</td>\n",
       "      <td>1.806829e+18</td>\n",
       "      <td>jewelry.earring</td>\n",
       "      <td>0.0</td>\n",
       "      <td>131.37</td>\n",
       "      <td>1.515916e+18</td>\n",
       "      <td>f</td>\n",
       "      <td>red</td>\n",
       "      <td>gold</td>\n",
       "      <td>NaN</td>\n",
       "      <td>20181129</td>\n",
       "      <td>131.37</td>\n",
       "    </tr>\n",
       "    <tr>\n",
       "      <th>4</th>\n",
       "      <td>2018-11-29 20:30:01 UTC</td>\n",
       "      <td>1923536169069445939</td>\n",
       "      <td>1836568752905257618</td>\n",
       "      <td>1</td>\n",
       "      <td>1.806829e+18</td>\n",
       "      <td>jewelry.bracelet</td>\n",
       "      <td>0.0</td>\n",
       "      <td>102.60</td>\n",
       "      <td>1.515916e+18</td>\n",
       "      <td>f</td>\n",
       "      <td>red</td>\n",
       "      <td>gold</td>\n",
       "      <td>NaN</td>\n",
       "      <td>20181129</td>\n",
       "      <td>102.60</td>\n",
       "    </tr>\n",
       "  </tbody>\n",
       "</table>\n",
       "</div>"
      ],
      "text/plain": [
       "                event_time             order_id           product_id  \\\n",
       "0  2018-11-29 16:30:45 UTC  1923415742179443254  1836250225916772582   \n",
       "1  2018-11-29 16:52:07 UTC  1923426489303302817  1836015460420681761   \n",
       "2  2018-11-29 17:58:37 UTC  1923459963229831173  1806829194936582544   \n",
       "3  2018-11-29 20:25:52 UTC  1923534078074684181  1835566854668550661   \n",
       "4  2018-11-29 20:30:01 UTC  1923536169069445939  1836568752905257618   \n",
       "\n",
       "   quantity   category_id     category_code  brand   price       user_id  \\\n",
       "0         1  1.806829e+18   jewelry.pendant    0.0   67.78  1.515916e+18   \n",
       "1         1  1.806829e+18   jewelry.pendant    0.0   32.63  1.515916e+18   \n",
       "2         1  1.806829e+18      jewelry.ring    1.0   75.21  1.515916e+18   \n",
       "3         1  1.806829e+18   jewelry.earring    0.0  131.37  1.515916e+18   \n",
       "4         1  1.806829e+18  jewelry.bracelet    0.0  102.60  1.515916e+18   \n",
       "\n",
       "  gender color metal       gem  datetime  stock_total  \n",
       "0    NaN   red  gold   diamond  20181129        67.78  \n",
       "1    NaN   red  gold       NaN  20181129        32.63  \n",
       "2    NaN   red  gold  amethyst  20181129        75.21  \n",
       "3      f   red  gold       NaN  20181129       131.37  \n",
       "4      f   red  gold       NaN  20181129       102.60  "
      ]
     },
     "execution_count": 10,
     "metadata": {},
     "output_type": "execute_result"
    }
   ],
   "source": [
    "transactions.head()"
   ]
  },
  {
   "cell_type": "code",
   "execution_count": 10,
   "metadata": {
    "execution": {
     "iopub.execute_input": "2021-08-25T22:42:26.909818Z",
     "iopub.status.busy": "2021-08-25T22:42:26.909158Z",
     "iopub.status.idle": "2021-08-25T22:42:27.107364Z",
     "shell.execute_reply": "2021-08-25T22:42:27.106849Z"
    }
   },
   "outputs": [],
   "source": [
    "item_lookup = transactions[['product_id', 'ItemDescription']].drop_duplicates() # Only get unique item/description pairs\n",
    "item_lookup['product_id'] = item_lookup.product_id.astype(str) # Encode as strings for future lookup ease\n",
    "\n",
    "price_lookup = transactions[['product_id', 'CostPerItem']].drop_duplicates() # Only get unique item/description pairs\n",
    "price_lookup['product_id'] = price_lookup.product_id.astype(str) # Encode as strings for future lookup ease\n"
   ]
  },
  {
   "cell_type": "code",
   "execution_count": 11,
   "metadata": {
    "execution": {
     "iopub.execute_input": "2021-08-25T22:42:27.113283Z",
     "iopub.status.busy": "2021-08-25T22:42:27.112616Z",
     "iopub.status.idle": "2021-08-25T22:42:27.131751Z",
     "shell.execute_reply": "2021-08-25T22:42:27.131028Z"
    }
   },
   "outputs": [
    {
     "name": "stdout",
     "output_type": "stream",
     "text": [
      "1.0 SET OF 12 FAIRY CAKE BAKING CASES\n",
      "0.95807534 SET OF 12 MINI LOAF BAKING CASES\n",
      "0.95384294 SET OF 6 SNACK LOAF BAKING CASES\n",
      "0.95069724 SET OF 6 TEA TIME BAKING CASES\n",
      "0.67182213 SET 40 HEART SHAPE PETIT FOUR CASES\n",
      "0.58681834 VINTAGE CHRISTMAS CAKE FRILL\n",
      "0.57671094 SET OF 36 DOILIES PANTRY DESIGN\n",
      "0.5752553 VINTAGE LEAF MAGNETIC NOTEPAD\n",
      "0.554172 RUSTIC STRAWBERRY JAM POT SMALL\n",
      "0.5452441 SET OF 60 VINTAGE LEAF CAKE CASES \n"
     ]
    }
   ],
   "source": [
    "related = model.similar_items(1284)\n",
    "for rel in related:\n",
    "    index = rel[0]\n",
    "    prob = rel[1]\n",
    "    item = item_lookup[item_lookup.ItemCode == str(item_list[index])].values\n",
    "    print(prob, item[0][1])"
   ]
  },
  {
   "cell_type": "code",
   "execution_count": 12,
   "metadata": {
    "execution": {
     "iopub.execute_input": "2021-08-25T22:42:27.139612Z",
     "iopub.status.busy": "2021-08-25T22:42:27.139028Z",
     "iopub.status.idle": "2021-08-25T22:42:27.158739Z",
     "shell.execute_reply": "2021-08-25T22:42:27.157681Z"
    }
   },
   "outputs": [],
   "source": [
    "user_items = (product_train * alpha).astype('double').T.tocsr()\n",
    "def recommend(order):\n",
    "    print('Order Contents:')\n",
    "    print(transactions[transactions.TransactionId == transaction_list[order]].loc[:, ['ItemCode', 'ItemDescription']])\n",
    "    print('Recommendations:')\n",
    "    recommendations = model.recommend(order, user_items)\n",
    "    for rec in recommendations:\n",
    "        index = rec[0]\n",
    "        prob = rec[1]\n",
    "        stock_code = item_list[index]\n",
    "        item = item_lookup[item_lookup.ItemCode == str(item_list[index])].values\n",
    "        print(prob, stock_code, item[0][1])"
   ]
  },
  {
   "cell_type": "code",
   "execution_count": 13,
   "metadata": {
    "execution": {
     "iopub.execute_input": "2021-08-25T22:42:27.169368Z",
     "iopub.status.busy": "2021-08-25T22:42:27.167890Z",
     "iopub.status.idle": "2021-08-25T22:42:27.211481Z",
     "shell.execute_reply": "2021-08-25T22:42:27.210871Z"
    }
   },
   "outputs": [
    {
     "name": "stdout",
     "output_type": "stream",
     "text": [
      "Order Contents:\n",
      "         ItemCode            ItemDescription\n",
      "85667      475272  HAND WARMER RED POLKA DOT\n",
      "625518     475293     HAND WARMER UNION JACK\n",
      "701952     475293     HAND WARMER UNION JACK\n",
      "1022129    475272  HAND WARMER RED POLKA DOT\n",
      "Recommendations:\n",
      "0.81111157 475293 HAND WARMER UNION JACK\n",
      "0.7876278 480165 HAND WARMER OWL DESIGN\n",
      "0.78075945 480186 HAND WARMER SCOTTY DOG DESIGN\n",
      "0.77992064 480207 HAND WARMER BIRD DESIGN\n",
      "0.7142326 492219 HAND WARMER RED LOVE HEART\n",
      "0.5462611 479514 HAND WARMER BABUSHKA DESIGN\n",
      "0.41031754 451101 FAWN BLUE HOT WATER BOTTLE\n",
      "0.40815234 464394 HOT WATER BOTTLE TEA AND SYMPATHY\n",
      "0.38561174 1764609 KNITTED UNION FLAG HOT WATER BOTTLE\n",
      "0.36574668 490455 HOT WATER BOTTLE KEEP CALM\n"
     ]
    }
   ],
   "source": [
    "recommend(1)"
   ]
  },
  {
   "cell_type": "code",
   "execution_count": 14,
   "metadata": {
    "execution": {
     "iopub.execute_input": "2021-08-25T22:42:27.216398Z",
     "iopub.status.busy": "2021-08-25T22:42:27.215795Z",
     "iopub.status.idle": "2021-08-25T22:42:27.239763Z",
     "shell.execute_reply": "2021-08-25T22:42:27.239179Z"
    }
   },
   "outputs": [
    {
     "name": "stdout",
     "output_type": "stream",
     "text": [
      "Order Contents:\n",
      "         ItemCode                      ItemDescription\n",
      "12930      470694         DOORMAT NEIGHBOURHOOD WITCH \n",
      "25851      446019                   PINK  POLKADOT CUP\n",
      "28710      447573          GLASS HEART T-LIGHT HOLDER \n",
      "39685      465570   PICTURE FRAME WOOD TRIPLE PORTRAIT\n",
      "107312     469686                     DOORMAT AIRMAIL \n",
      "116889    1787079       JUMBO  BAG BAROQUE BLACK WHITE\n",
      "142277    1011948              DOORMAT WELCOME PUPPIES\n",
      "144231     316218         PINK POLKADOT GARDEN PARASOL\n",
      "147885     477120    SET OF 3 CAKE TINS PANTRY DESIGN \n",
      "150689     446040                    BLUE POLKADOT CUP\n",
      "151681     434973                       JUMBO BAG OWLS\n",
      "161172     434973                       JUMBO BAG OWLS\n",
      "174505     450030   SET/3 RED GINGHAM ROSE STORAGE BOX\n",
      "217133     446019                   PINK  POLKADOT CUP\n",
      "265312     451185     RETROSPOT HEART HOT WATER BOTTLE\n",
      "271808    1787079       JUMBO  BAG BAROQUE BLACK WHITE\n",
      "346807     467082        5 HOOK HANGER MAGIC TOADSTOOL\n",
      "350793     475986      RECIPE BOX PANTRY YELLOW DESIGN\n",
      "406409     435246                   LUNCH BAG WOODLAND\n",
      "447301     434385                DOORMAT RED RETROSPOT\n",
      "454709     447573          GLASS HEART T-LIGHT HOLDER \n",
      "466806     451185     RETROSPOT HEART HOT WATER BOTTLE\n",
      "479629     449988  SET3 BOOK BOX GREEN GINGHAM FLOWER \n",
      "481639     471135       SET OF 9 HEART SHAPED BALLOONS\n",
      "499274     478191  CLEAR DRAWER KNOB ACRYLIC EDWARDIAN\n",
      "503068     477162    SET OF 6 SPICE TINS PANTRY DESIGN\n",
      "546255     434973                       JUMBO BAG OWLS\n",
      "556761     451983   DOORMAT FANCY FONT HOME SWEET HOME\n",
      "558259     477162    SET OF 6 SPICE TINS PANTRY DESIGN\n",
      "561397     452697               SET OF 6 FUNKY BEAKERS\n",
      "581299    1011948              DOORMAT WELCOME PUPPIES\n",
      "592362     471135       SET OF 9 HEART SHAPED BALLOONS\n",
      "612473     316218         PINK POLKADOT GARDEN PARASOL\n",
      "682593     451983   DOORMAT FANCY FONT HOME SWEET HOME\n",
      "687519     477120    SET OF 3 CAKE TINS PANTRY DESIGN \n",
      "711375     434385                DOORMAT RED RETROSPOT\n",
      "712373     434973                       JUMBO BAG OWLS\n",
      "742211     467082        5 HOOK HANGER MAGIC TOADSTOOL\n",
      "774064     469686                     DOORMAT AIRMAIL \n",
      "800035     478191  CLEAR DRAWER KNOB ACRYLIC EDWARDIAN\n",
      "804349     460551               JUMBO STORAGE BAG SUKI\n",
      "830153     449988  SET3 BOOK BOX GREEN GINGHAM FLOWER \n",
      "893480     446040                    BLUE POLKADOT CUP\n",
      "893832     463344           PINK DOUGHNUT TRINKET POT \n",
      "929920     475104                 IVORY KITCHEN SCALES\n",
      "938799     475104                 IVORY KITCHEN SCALES\n",
      "942702     465570   PICTURE FRAME WOOD TRIPLE PORTRAIT\n",
      "951195     452697               SET OF 6 FUNKY BEAKERS\n",
      "974537     470694         DOORMAT NEIGHBOURHOOD WITCH \n",
      "985202     475986      RECIPE BOX PANTRY YELLOW DESIGN\n",
      "988373     435246                   LUNCH BAG WOODLAND\n",
      "1044872    463344           PINK DOUGHNUT TRINKET POT \n",
      "1050462    460551               JUMBO STORAGE BAG SUKI\n",
      "1080866    450030   SET/3 RED GINGHAM ROSE STORAGE BOX\n",
      "Recommendations:\n",
      "1.0571468 482202 JAM JAR WITH PINK LID\n",
      "1.0408146 470106 JUMBO BAG PINK POLKADOT\n",
      "0.9779017 470085 JUMBO BAG SPACEBOY DESIGN\n",
      "0.97617567 456834 HOME BUILDING BLOCK WORD\n",
      "0.96968174 460530 JUMBO STORAGE BAG SKULLS\n",
      "0.92944413 1784937 CHILDRENS CUTLERY POLKADOT PINK\n",
      "0.92071515 460488 JUMBO BAG SCANDINAVIAN BLUE PAISLEY\n",
      "0.91733104 476532 DOORMAT WELCOME TO OUR HOME\n",
      "0.89588314 452004 DOORMAT SPOTTY HOME SWEET HOME\n",
      "0.8957476 482181 JAM MAKING SET PRINTED\n"
     ]
    }
   ],
   "source": [
    "recommend(2200)"
   ]
  },
  {
   "cell_type": "code",
   "execution_count": 15,
   "metadata": {
    "execution": {
     "iopub.execute_input": "2021-08-25T22:42:27.244877Z",
     "iopub.status.busy": "2021-08-25T22:42:27.244196Z",
     "iopub.status.idle": "2021-08-25T22:42:27.252022Z",
     "shell.execute_reply": "2021-08-25T22:42:27.251167Z"
    }
   },
   "outputs": [],
   "source": [
    "transactions['ItemTotal'] = transactions['NumberOfItemsPurchased'] * transactions['CostPerItem']"
   ]
  },
  {
   "cell_type": "code",
   "execution_count": 16,
   "metadata": {
    "execution": {
     "iopub.execute_input": "2021-08-25T22:42:27.261727Z",
     "iopub.status.busy": "2021-08-25T22:42:27.260535Z",
     "iopub.status.idle": "2021-08-25T22:43:05.609892Z",
     "shell.execute_reply": "2021-08-25T22:43:05.609390Z"
    }
   },
   "outputs": [
    {
     "name": "stdout",
     "output_type": "stream",
     "text": [
      "After recommending 18995 items, there would be an increase of $73,484.30 in additional purchases.\n"
     ]
    }
   ],
   "source": [
    "recommended_price = []\n",
    "for user in range(0, len(transaction_list)):\n",
    "    recommendations = model.recommend(user, user_items)\n",
    "    index = recommendations[0][0]\n",
    "    price = price_lookup[price_lookup.ItemCode == str(item_list[index])].values\n",
    "    item = item_lookup[item_lookup.ItemCode == str(item_list[index])].values\n",
    "    recommended_price.append(price[0][1])\n",
    "    \n",
    "total_recommended = np.sum(recommended_price)\n",
    "\n",
    "print('After recommending',len(transaction_list),'items, there would be an increase of',\n",
    "      \"${:,.2f}\".format(total_recommended*test),'in additional purchases.')"
   ]
  },
  {
   "cell_type": "code",
   "execution_count": 17,
   "metadata": {
    "execution": {
     "iopub.execute_input": "2021-08-25T22:43:05.617530Z",
     "iopub.status.busy": "2021-08-25T22:43:05.616761Z",
     "iopub.status.idle": "2021-08-25T22:43:05.656644Z",
     "shell.execute_reply": "2021-08-25T22:43:05.657275Z"
    }
   },
   "outputs": [
    {
     "name": "stdout",
     "output_type": "stream",
     "text": [
      "Added to the initial total of all 18995 purchases valued at $59,859,564.72 , the percentage increase in revenue would be 0.0014%\n"
     ]
    }
   ],
   "source": [
    "totals = transactions.groupby(transactions.TransactionId)['ItemTotal'].sum()\n",
    "total = totals.sum()\n",
    "\n",
    "print('Added to the initial total of all',len(transaction_list),'purchases valued at',\n",
    "      \"${:,.2f}\".format(total),', the percentage increase in revenue would be', \"{:,.4f}%\".format(total_recommended / total ))\n"
   ]
  },
  {
   "cell_type": "code",
   "execution_count": null,
   "metadata": {},
   "outputs": [],
   "source": []
  }
 ],
 "metadata": {
  "accelerator": "GPU",
  "colab": {
   "collapsed_sections": [],
   "name": "Copy of ECommerce-recommendation",
   "provenance": [],
   "toc_visible": true
  },
  "kernelspec": {
   "display_name": "Python 3 (ipykernel)",
   "language": "python",
   "name": "python3"
  },
  "language_info": {
   "codemirror_mode": {
    "name": "ipython",
    "version": 3
   },
   "file_extension": ".py",
   "mimetype": "text/x-python",
   "name": "python",
   "nbconvert_exporter": "python",
   "pygments_lexer": "ipython3",
   "version": "3.7.11"
  },
  "widgets": {
   "application/vnd.jupyter.widget-state+json": {
    "state": {
     "0c5bc55bdc2b40e993facaa5e490b093": {
      "model_module": "@jupyter-widgets/base",
      "model_module_version": "1.2.0",
      "model_name": "LayoutModel",
      "state": {
       "_model_module": "@jupyter-widgets/base",
       "_model_module_version": "1.2.0",
       "_model_name": "LayoutModel",
       "_view_count": null,
       "_view_module": "@jupyter-widgets/base",
       "_view_module_version": "1.2.0",
       "_view_name": "LayoutView",
       "align_content": null,
       "align_items": null,
       "align_self": null,
       "border": null,
       "bottom": null,
       "display": null,
       "flex": null,
       "flex_flow": null,
       "grid_area": null,
       "grid_auto_columns": null,
       "grid_auto_flow": null,
       "grid_auto_rows": null,
       "grid_column": null,
       "grid_gap": null,
       "grid_row": null,
       "grid_template_areas": null,
       "grid_template_columns": null,
       "grid_template_rows": null,
       "height": null,
       "justify_content": null,
       "justify_items": null,
       "left": null,
       "margin": null,
       "max_height": null,
       "max_width": null,
       "min_height": null,
       "min_width": null,
       "object_fit": null,
       "object_position": null,
       "order": null,
       "overflow": null,
       "overflow_x": null,
       "overflow_y": null,
       "padding": null,
       "right": null,
       "top": null,
       "visibility": null,
       "width": null
      }
     },
     "1037274441514a7db2b4d86543b87e5c": {
      "model_module": "@jupyter-widgets/base",
      "model_module_version": "1.2.0",
      "model_name": "LayoutModel",
      "state": {
       "_model_module": "@jupyter-widgets/base",
       "_model_module_version": "1.2.0",
       "_model_name": "LayoutModel",
       "_view_count": null,
       "_view_module": "@jupyter-widgets/base",
       "_view_module_version": "1.2.0",
       "_view_name": "LayoutView",
       "align_content": null,
       "align_items": null,
       "align_self": null,
       "border": null,
       "bottom": null,
       "display": null,
       "flex": null,
       "flex_flow": null,
       "grid_area": null,
       "grid_auto_columns": null,
       "grid_auto_flow": null,
       "grid_auto_rows": null,
       "grid_column": null,
       "grid_gap": null,
       "grid_row": null,
       "grid_template_areas": null,
       "grid_template_columns": null,
       "grid_template_rows": null,
       "height": null,
       "justify_content": null,
       "justify_items": null,
       "left": null,
       "margin": null,
       "max_height": null,
       "max_width": null,
       "min_height": null,
       "min_width": null,
       "object_fit": null,
       "object_position": null,
       "order": null,
       "overflow": null,
       "overflow_x": null,
       "overflow_y": null,
       "padding": null,
       "right": null,
       "top": null,
       "visibility": null,
       "width": null
      }
     },
     "6dabefc9dec74c9a9d65ee8d3a3e2659": {
      "model_module": "@jupyter-widgets/controls",
      "model_module_version": "1.5.0",
      "model_name": "HTMLModel",
      "state": {
       "_dom_classes": [],
       "_model_module": "@jupyter-widgets/controls",
       "_model_module_version": "1.5.0",
       "_model_name": "HTMLModel",
       "_view_count": null,
       "_view_module": "@jupyter-widgets/controls",
       "_view_module_version": "1.5.0",
       "_view_name": "HTMLView",
       "description": "",
       "description_tooltip": null,
       "layout": "IPY_MODEL_9bfd4b8a68b045d6a8ecb3d22d09e42f",
       "placeholder": "​",
       "style": "IPY_MODEL_8a5c09056f8d4e78b3af7c0fb53e8530",
       "value": "100%"
      }
     },
     "84be4e649d534ada9319579433298965": {
      "model_module": "@jupyter-widgets/controls",
      "model_module_version": "1.5.0",
      "model_name": "HBoxModel",
      "state": {
       "_dom_classes": [],
       "_model_module": "@jupyter-widgets/controls",
       "_model_module_version": "1.5.0",
       "_model_name": "HBoxModel",
       "_view_count": null,
       "_view_module": "@jupyter-widgets/controls",
       "_view_module_version": "1.5.0",
       "_view_name": "HBoxView",
       "box_style": "",
       "children": [
        "IPY_MODEL_6dabefc9dec74c9a9d65ee8d3a3e2659",
        "IPY_MODEL_8965ae7c008643109474ea2a9966f816",
        "IPY_MODEL_aafa9c302a614106ac02176e29d481f8"
       ],
       "layout": "IPY_MODEL_1037274441514a7db2b4d86543b87e5c"
      }
     },
     "890766a9c92d4d60b2b6a11ae11644e3": {
      "model_module": "@jupyter-widgets/controls",
      "model_module_version": "1.5.0",
      "model_name": "DescriptionStyleModel",
      "state": {
       "_model_module": "@jupyter-widgets/controls",
       "_model_module_version": "1.5.0",
       "_model_name": "DescriptionStyleModel",
       "_view_count": null,
       "_view_module": "@jupyter-widgets/base",
       "_view_module_version": "1.2.0",
       "_view_name": "StyleView",
       "description_width": ""
      }
     },
     "8965ae7c008643109474ea2a9966f816": {
      "model_module": "@jupyter-widgets/controls",
      "model_module_version": "1.5.0",
      "model_name": "FloatProgressModel",
      "state": {
       "_dom_classes": [],
       "_model_module": "@jupyter-widgets/controls",
       "_model_module_version": "1.5.0",
       "_model_name": "FloatProgressModel",
       "_view_count": null,
       "_view_module": "@jupyter-widgets/controls",
       "_view_module_version": "1.5.0",
       "_view_name": "ProgressView",
       "bar_style": "success",
       "description": "",
       "description_tooltip": null,
       "layout": "IPY_MODEL_eb3d0993bba54ddeb0c5805633ce3943",
       "max": 84,
       "min": 0,
       "orientation": "horizontal",
       "style": "IPY_MODEL_d6729b7b4b744aab8a60e1693d3e5994",
       "value": 84
      }
     },
     "8a5c09056f8d4e78b3af7c0fb53e8530": {
      "model_module": "@jupyter-widgets/controls",
      "model_module_version": "1.5.0",
      "model_name": "DescriptionStyleModel",
      "state": {
       "_model_module": "@jupyter-widgets/controls",
       "_model_module_version": "1.5.0",
       "_model_name": "DescriptionStyleModel",
       "_view_count": null,
       "_view_module": "@jupyter-widgets/base",
       "_view_module_version": "1.2.0",
       "_view_name": "StyleView",
       "description_width": ""
      }
     },
     "9bfd4b8a68b045d6a8ecb3d22d09e42f": {
      "model_module": "@jupyter-widgets/base",
      "model_module_version": "1.2.0",
      "model_name": "LayoutModel",
      "state": {
       "_model_module": "@jupyter-widgets/base",
       "_model_module_version": "1.2.0",
       "_model_name": "LayoutModel",
       "_view_count": null,
       "_view_module": "@jupyter-widgets/base",
       "_view_module_version": "1.2.0",
       "_view_name": "LayoutView",
       "align_content": null,
       "align_items": null,
       "align_self": null,
       "border": null,
       "bottom": null,
       "display": null,
       "flex": null,
       "flex_flow": null,
       "grid_area": null,
       "grid_auto_columns": null,
       "grid_auto_flow": null,
       "grid_auto_rows": null,
       "grid_column": null,
       "grid_gap": null,
       "grid_row": null,
       "grid_template_areas": null,
       "grid_template_columns": null,
       "grid_template_rows": null,
       "height": null,
       "justify_content": null,
       "justify_items": null,
       "left": null,
       "margin": null,
       "max_height": null,
       "max_width": null,
       "min_height": null,
       "min_width": null,
       "object_fit": null,
       "object_position": null,
       "order": null,
       "overflow": null,
       "overflow_x": null,
       "overflow_y": null,
       "padding": null,
       "right": null,
       "top": null,
       "visibility": null,
       "width": null
      }
     },
     "aafa9c302a614106ac02176e29d481f8": {
      "model_module": "@jupyter-widgets/controls",
      "model_module_version": "1.5.0",
      "model_name": "HTMLModel",
      "state": {
       "_dom_classes": [],
       "_model_module": "@jupyter-widgets/controls",
       "_model_module_version": "1.5.0",
       "_model_name": "HTMLModel",
       "_view_count": null,
       "_view_module": "@jupyter-widgets/controls",
       "_view_module_version": "1.5.0",
       "_view_name": "HTMLView",
       "description": "",
       "description_tooltip": null,
       "layout": "IPY_MODEL_0c5bc55bdc2b40e993facaa5e490b093",
       "placeholder": "​",
       "style": "IPY_MODEL_890766a9c92d4d60b2b6a11ae11644e3",
       "value": " 84/84 [00:09&lt;00:00,  9.07it/s]"
      }
     },
     "d6729b7b4b744aab8a60e1693d3e5994": {
      "model_module": "@jupyter-widgets/controls",
      "model_module_version": "1.5.0",
      "model_name": "ProgressStyleModel",
      "state": {
       "_model_module": "@jupyter-widgets/controls",
       "_model_module_version": "1.5.0",
       "_model_name": "ProgressStyleModel",
       "_view_count": null,
       "_view_module": "@jupyter-widgets/base",
       "_view_module_version": "1.2.0",
       "_view_name": "StyleView",
       "bar_color": null,
       "description_width": ""
      }
     },
     "eb3d0993bba54ddeb0c5805633ce3943": {
      "model_module": "@jupyter-widgets/base",
      "model_module_version": "1.2.0",
      "model_name": "LayoutModel",
      "state": {
       "_model_module": "@jupyter-widgets/base",
       "_model_module_version": "1.2.0",
       "_model_name": "LayoutModel",
       "_view_count": null,
       "_view_module": "@jupyter-widgets/base",
       "_view_module_version": "1.2.0",
       "_view_name": "LayoutView",
       "align_content": null,
       "align_items": null,
       "align_self": null,
       "border": null,
       "bottom": null,
       "display": null,
       "flex": null,
       "flex_flow": null,
       "grid_area": null,
       "grid_auto_columns": null,
       "grid_auto_flow": null,
       "grid_auto_rows": null,
       "grid_column": null,
       "grid_gap": null,
       "grid_row": null,
       "grid_template_areas": null,
       "grid_template_columns": null,
       "grid_template_rows": null,
       "height": null,
       "justify_content": null,
       "justify_items": null,
       "left": null,
       "margin": null,
       "max_height": null,
       "max_width": null,
       "min_height": null,
       "min_width": null,
       "object_fit": null,
       "object_position": null,
       "order": null,
       "overflow": null,
       "overflow_x": null,
       "overflow_y": null,
       "padding": null,
       "right": null,
       "top": null,
       "visibility": null,
       "width": null
      }
     }
    },
    "version_major": 2,
    "version_minor": 0
   }
  }
 },
 "nbformat": 4,
 "nbformat_minor": 1
}
