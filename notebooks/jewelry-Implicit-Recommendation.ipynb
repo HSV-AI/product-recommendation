{
 "cells": [
  {
   "cell_type": "markdown",
   "metadata": {
    "id": "gEfZf48Wu5f0"
   },
   "source": [
    "![HSV-AI Logo](https://github.com/HSV-AI/hugo-website/blob/master/static/images/logo_v9.png?raw=true)\n",
    "\n",
    "# Implicit Recommendation from ECommerce Data\n",
    "\n",
    "Some of the material for this work is based on [A Gentle Introduction to Recommender Systems with Implicit Feedback](https://jessesw.com/Rec-System/) by Jesse Steinweg Woods. This tutorial includes an implementation of the Alternating Least Squares algorithm and some other useful functions (like the area under the curve calculation). Other parts of the tutorial are based on a previous version of the Implicit library and had to be reworked.\n",
    "\n",
    "The dataset used for this work is from Kaggle [Vipin Kumar Transaction Data](https://www.kaggle.com/vipin20/transaction-data):\n",
    "\n",
    "## Context\n",
    "\n",
    "This is a item purchased transactions data. It has 8 columns.\n",
    "This data makes you familer with transactions data.\n",
    "\n",
    "## Content\n",
    "\n",
    "Data description is :-\n",
    "\n",
    "* UserId -It is a unique ID for all User Id\n",
    "* TransactionId -It contains unique Transactions ID\n",
    "* TransactionTime -It contains Transaction Time\n",
    "* ItemCode -It contains item code that item will be purchased\n",
    "* ItemDescription -It contains Item description\n",
    "* NumberOfItemPurchased -It contains total number of items Purchased\n",
    "* CostPerltem -Cost per item Purchased\n",
    "* Country -Country where item purchased\n"
   ]
  },
  {
   "cell_type": "markdown",
   "metadata": {
    "id": "OApEEC0_wB4C"
   },
   "source": [
    "# Global Imports"
   ]
  },
  {
   "cell_type": "code",
   "execution_count": 1,
   "metadata": {
    "execution": {
     "iopub.execute_input": "2021-08-25T22:41:41.991988Z",
     "iopub.status.busy": "2021-08-25T22:41:41.990968Z",
     "iopub.status.idle": "2021-08-25T22:41:43.043078Z",
     "shell.execute_reply": "2021-08-25T22:41:43.042314Z"
    },
    "id": "fsb9emt6nrPu"
   },
   "outputs": [],
   "source": [
    "import pandas as pd\n",
    "import numpy as np\n",
    "import random\n",
    "from matplotlib import pyplot as plt\n",
    "import implicit\n",
    "import scipy\n",
    "from sklearn import metrics\n",
    "from pandas.api.types import CategoricalDtype"
   ]
  },
  {
   "cell_type": "code",
   "execution_count": 2,
   "metadata": {
    "execution": {
     "iopub.execute_input": "2021-08-25T22:41:43.049182Z",
     "iopub.status.busy": "2021-08-25T22:41:43.048282Z",
     "iopub.status.idle": "2021-08-25T22:41:43.112079Z",
     "shell.execute_reply": "2021-08-25T22:41:43.111308Z"
    }
   },
   "outputs": [],
   "source": [
    "%run Common-Functions.ipynb"
   ]
  },
  {
   "cell_type": "code",
   "execution_count": 3,
   "metadata": {
    "execution": {
     "iopub.execute_input": "2021-08-25T22:41:43.118275Z",
     "iopub.status.busy": "2021-08-25T22:41:43.117559Z",
     "iopub.status.idle": "2021-08-25T22:41:44.058715Z",
     "shell.execute_reply": "2021-08-25T22:41:44.058027Z"
    }
   },
   "outputs": [
    {
     "name": "stdout",
     "output_type": "stream",
     "text": [
      "Loaded 112905 rows\n"
     ]
    }
   ],
   "source": [
    "transactions = pd.read_pickle('../data/interim/jewelry/transactions.gz')\n",
    "print('Loaded',len(transactions),'rows')"
   ]
  },
  {
   "cell_type": "code",
   "execution_count": 33,
   "metadata": {
    "execution": {
     "iopub.execute_input": "2021-08-25T22:41:44.068574Z",
     "iopub.status.busy": "2021-08-25T22:41:44.067301Z",
     "iopub.status.idle": "2021-08-25T22:41:44.396238Z",
     "shell.execute_reply": "2021-08-25T22:41:44.395583Z"
    }
   },
   "outputs": [
    {
     "name": "stdout",
     "output_type": "stream",
     "text": [
      "The transactions dataframe is  99.9868% empty.\n"
     ]
    }
   ],
   "source": [
    "transaction_list = list(np.sort(transactions.order_id.unique())) # Get our unique customers\n",
    "item_list = list(transactions.product_id.unique()) # Get our unique products that were purchased\n",
    "quantity_list = list(transactions.quantity) # All of our purchases\n",
    "\n",
    "cols = transactions.order_id.astype(CategoricalDtype(categories=transaction_list, ordered=True)).cat.codes \n",
    "# Get the associated row indices\n",
    "rows = transactions.product_id.astype(CategoricalDtype(categories=item_list, ordered=True)).cat.codes \n",
    "# Get the associated column indices\n",
    "purchases_sparse = scipy.sparse.csr_matrix((quantity_list, (rows, cols)), shape=(len(item_list), len(transaction_list)))\n",
    "\n",
    "total_count = len(transactions)\n",
    "denominator = len(transaction_list) * len(item_list)\n",
    "sparsity = 100*(1 - total_count*1.0/denominator)\n",
    "print(\"The transactions dataframe is \", \"%.4f\" % sparsity + \"% empty.\")"
   ]
  },
  {
   "cell_type": "markdown",
   "metadata": {},
   "source": [
    "# Training & Test Datasets\n",
    "\n",
    "We will use the function below to create a training and test dataset from the tutorial linked at the top. The test dataset masks some percentage of purchases to tested later with a recommendation."
   ]
  },
  {
   "cell_type": "code",
   "execution_count": 6,
   "metadata": {
    "execution": {
     "iopub.execute_input": "2021-08-25T22:41:44.421333Z",
     "iopub.status.busy": "2021-08-25T22:41:44.420700Z",
     "iopub.status.idle": "2021-08-25T22:41:44.894794Z",
     "shell.execute_reply": "2021-08-25T22:41:44.893475Z"
    }
   },
   "outputs": [
    {
     "name": "stdout",
     "output_type": "stream",
     "text": [
      "Total number of masked items: 22901\n"
     ]
    }
   ],
   "source": [
    "product_train, product_test, products_altered, transactions_altered = make_train(purchases_sparse, pct_test = 0.211)\n",
    "print('Total number of masked items:',product_test.count_nonzero()-product_train.count_nonzero())\n"
   ]
  },
  {
   "cell_type": "markdown",
   "metadata": {},
   "source": [
    "# Implicit Recommendation Model\n",
    "\n",
    "The code below creates and trains one of the models available from the Implicit package. Currently using hyperparameters suggested by various tutorials with no tuning."
   ]
  },
  {
   "cell_type": "code",
   "execution_count": 34,
   "metadata": {
    "execution": {
     "iopub.execute_input": "2021-08-25T22:41:44.907600Z",
     "iopub.status.busy": "2021-08-25T22:41:44.906785Z",
     "iopub.status.idle": "2021-08-25T22:41:54.484892Z",
     "shell.execute_reply": "2021-08-25T22:41:54.484312Z"
    }
   },
   "outputs": [
    {
     "data": {
      "application/vnd.jupyter.widget-view+json": {
       "model_id": "e9813e5211644b99a0b2ce03ac0e1416",
       "version_major": 2,
       "version_minor": 0
      },
      "text/plain": [
       "  0%|          | 0/50 [00:00<?, ?it/s]"
      ]
     },
     "metadata": {},
     "output_type": "display_data"
    }
   ],
   "source": [
    "alpha = 15\n",
    "factors = 64\n",
    "regularization = 0.003\n",
    "iterations = 50\n",
    "\n",
    "# model = implicit.als.AlternatingLeastSquares(factors=factors,\n",
    "#                                     regularization=regularization,\n",
    "#                                     iterations=iterations)\n",
    "\n",
    "## BayesianPersonalizedRanking was pretty bad\n",
    "model = implicit.bpr.BayesianPersonalizedRanking(factors=factors,\n",
    "                                     regularization=regularization,\n",
    "                                     iterations=iterations)\n",
    "\n",
    "\n",
    "# model = implicit.lmf.LogisticMatrixFactorization(factors=32,\n",
    "#                                     regularization=0.1,\n",
    "#                                     iterations=50)\n",
    "\n",
    "model.fit((product_train * alpha).astype('double'))\n",
    "\n",
    "user_vecs = model.user_factors\n",
    "item_vecs = model.item_factors\n",
    "\n",
    "# Deprecated function below\n",
    "# user_vecs, item_vecs = implicit.alternating_least_squares((product_train*alpha).astype('double'), \n",
    "#                                                           factors=32, \n",
    "#                                                           regularization = 0.1, \n",
    "#                                                           iterations = 50)"
   ]
  },
  {
   "cell_type": "code",
   "execution_count": 8,
   "metadata": {
    "execution": {
     "iopub.execute_input": "2021-08-25T22:41:54.490906Z",
     "iopub.status.busy": "2021-08-25T22:41:54.490089Z",
     "iopub.status.idle": "2021-08-25T22:41:54.503259Z",
     "shell.execute_reply": "2021-08-25T22:41:54.503776Z"
    }
   },
   "outputs": [],
   "source": [
    "np.save('../data/interim/jewelry/user_factors', user_vecs)\n",
    "np.save('../data/interim/jewelry/item_factors', item_vecs)\n",
    "np.save('../data/interim/jewelry/product_train', product_train*alpha)"
   ]
  },
  {
   "cell_type": "markdown",
   "metadata": {},
   "source": [
    "# Scoring the Model\n",
    "\n",
    "Following the tutorial, we will use the area under the Receiver Operating Characteristic curve. "
   ]
  },
  {
   "cell_type": "code",
   "execution_count": 35,
   "metadata": {
    "execution": {
     "iopub.execute_input": "2021-08-25T22:41:54.509279Z",
     "iopub.status.busy": "2021-08-25T22:41:54.508677Z",
     "iopub.status.idle": "2021-08-25T22:42:26.877198Z",
     "shell.execute_reply": "2021-08-25T22:42:26.876509Z"
    }
   },
   "outputs": [
    {
     "name": "stdout",
     "output_type": "stream",
     "text": [
      "Our model scored 0.5078597689872814 versus a score of 0.5980001232330087 if we always recommended the most popular item.\n"
     ]
    }
   ],
   "source": [
    "test, popular = calc_mean_auc(product_train, products_altered, \n",
    "              [scipy.sparse.csr_matrix(item_vecs), scipy.sparse.csr_matrix(user_vecs.T)], product_test)\n",
    "\n",
    "\n",
    "print('Our model scored',test,'versus a score of',popular,'if we always recommended the most popular item.')"
   ]
  },
  {
   "cell_type": "markdown",
   "metadata": {},
   "source": [
    "# Spot Checking\n",
    "\n",
    "Now that we have a pretty good idea of the model performance overall, we can spot check a few things like finding similar items and checking item recommendations for an existing invoice."
   ]
  },
  {
   "cell_type": "code",
   "execution_count": 10,
   "metadata": {},
   "outputs": [
    {
     "data": {
      "text/html": [
       "<div>\n",
       "<style scoped>\n",
       "    .dataframe tbody tr th:only-of-type {\n",
       "        vertical-align: middle;\n",
       "    }\n",
       "\n",
       "    .dataframe tbody tr th {\n",
       "        vertical-align: top;\n",
       "    }\n",
       "\n",
       "    .dataframe thead th {\n",
       "        text-align: right;\n",
       "    }\n",
       "</style>\n",
       "<table border=\"1\" class=\"dataframe\">\n",
       "  <thead>\n",
       "    <tr style=\"text-align: right;\">\n",
       "      <th></th>\n",
       "      <th>event_time</th>\n",
       "      <th>order_id</th>\n",
       "      <th>product_id</th>\n",
       "      <th>quantity</th>\n",
       "      <th>category_id</th>\n",
       "      <th>category_code</th>\n",
       "      <th>brand</th>\n",
       "      <th>price</th>\n",
       "      <th>user_id</th>\n",
       "      <th>gender</th>\n",
       "      <th>color</th>\n",
       "      <th>metal</th>\n",
       "      <th>gem</th>\n",
       "      <th>datetime</th>\n",
       "      <th>stock_total</th>\n",
       "    </tr>\n",
       "  </thead>\n",
       "  <tbody>\n",
       "    <tr>\n",
       "      <th>0</th>\n",
       "      <td>2018-11-29 16:30:45 UTC</td>\n",
       "      <td>1923415742179443254</td>\n",
       "      <td>1836250225916772582</td>\n",
       "      <td>1</td>\n",
       "      <td>1.806829e+18</td>\n",
       "      <td>jewelry.pendant</td>\n",
       "      <td>0.0</td>\n",
       "      <td>67.78</td>\n",
       "      <td>1.515916e+18</td>\n",
       "      <td>NaN</td>\n",
       "      <td>red</td>\n",
       "      <td>gold</td>\n",
       "      <td>diamond</td>\n",
       "      <td>20181129</td>\n",
       "      <td>67.78</td>\n",
       "    </tr>\n",
       "    <tr>\n",
       "      <th>1</th>\n",
       "      <td>2018-11-29 16:52:07 UTC</td>\n",
       "      <td>1923426489303302817</td>\n",
       "      <td>1836015460420681761</td>\n",
       "      <td>1</td>\n",
       "      <td>1.806829e+18</td>\n",
       "      <td>jewelry.pendant</td>\n",
       "      <td>0.0</td>\n",
       "      <td>32.63</td>\n",
       "      <td>1.515916e+18</td>\n",
       "      <td>NaN</td>\n",
       "      <td>red</td>\n",
       "      <td>gold</td>\n",
       "      <td>NaN</td>\n",
       "      <td>20181129</td>\n",
       "      <td>32.63</td>\n",
       "    </tr>\n",
       "    <tr>\n",
       "      <th>2</th>\n",
       "      <td>2018-11-29 17:58:37 UTC</td>\n",
       "      <td>1923459963229831173</td>\n",
       "      <td>1806829194936582544</td>\n",
       "      <td>1</td>\n",
       "      <td>1.806829e+18</td>\n",
       "      <td>jewelry.ring</td>\n",
       "      <td>1.0</td>\n",
       "      <td>75.21</td>\n",
       "      <td>1.515916e+18</td>\n",
       "      <td>NaN</td>\n",
       "      <td>red</td>\n",
       "      <td>gold</td>\n",
       "      <td>amethyst</td>\n",
       "      <td>20181129</td>\n",
       "      <td>75.21</td>\n",
       "    </tr>\n",
       "    <tr>\n",
       "      <th>3</th>\n",
       "      <td>2018-11-29 20:25:52 UTC</td>\n",
       "      <td>1923534078074684181</td>\n",
       "      <td>1835566854668550661</td>\n",
       "      <td>1</td>\n",
       "      <td>1.806829e+18</td>\n",
       "      <td>jewelry.earring</td>\n",
       "      <td>0.0</td>\n",
       "      <td>131.37</td>\n",
       "      <td>1.515916e+18</td>\n",
       "      <td>f</td>\n",
       "      <td>red</td>\n",
       "      <td>gold</td>\n",
       "      <td>NaN</td>\n",
       "      <td>20181129</td>\n",
       "      <td>131.37</td>\n",
       "    </tr>\n",
       "    <tr>\n",
       "      <th>4</th>\n",
       "      <td>2018-11-29 20:30:01 UTC</td>\n",
       "      <td>1923536169069445939</td>\n",
       "      <td>1836568752905257618</td>\n",
       "      <td>1</td>\n",
       "      <td>1.806829e+18</td>\n",
       "      <td>jewelry.bracelet</td>\n",
       "      <td>0.0</td>\n",
       "      <td>102.60</td>\n",
       "      <td>1.515916e+18</td>\n",
       "      <td>f</td>\n",
       "      <td>red</td>\n",
       "      <td>gold</td>\n",
       "      <td>NaN</td>\n",
       "      <td>20181129</td>\n",
       "      <td>102.60</td>\n",
       "    </tr>\n",
       "  </tbody>\n",
       "</table>\n",
       "</div>"
      ],
      "text/plain": [
       "                event_time             order_id           product_id  \\\n",
       "0  2018-11-29 16:30:45 UTC  1923415742179443254  1836250225916772582   \n",
       "1  2018-11-29 16:52:07 UTC  1923426489303302817  1836015460420681761   \n",
       "2  2018-11-29 17:58:37 UTC  1923459963229831173  1806829194936582544   \n",
       "3  2018-11-29 20:25:52 UTC  1923534078074684181  1835566854668550661   \n",
       "4  2018-11-29 20:30:01 UTC  1923536169069445939  1836568752905257618   \n",
       "\n",
       "   quantity   category_id     category_code  brand   price       user_id  \\\n",
       "0         1  1.806829e+18   jewelry.pendant    0.0   67.78  1.515916e+18   \n",
       "1         1  1.806829e+18   jewelry.pendant    0.0   32.63  1.515916e+18   \n",
       "2         1  1.806829e+18      jewelry.ring    1.0   75.21  1.515916e+18   \n",
       "3         1  1.806829e+18   jewelry.earring    0.0  131.37  1.515916e+18   \n",
       "4         1  1.806829e+18  jewelry.bracelet    0.0  102.60  1.515916e+18   \n",
       "\n",
       "  gender color metal       gem  datetime  stock_total  \n",
       "0    NaN   red  gold   diamond  20181129        67.78  \n",
       "1    NaN   red  gold       NaN  20181129        32.63  \n",
       "2    NaN   red  gold  amethyst  20181129        75.21  \n",
       "3      f   red  gold       NaN  20181129       131.37  \n",
       "4      f   red  gold       NaN  20181129       102.60  "
      ]
     },
     "execution_count": 10,
     "metadata": {},
     "output_type": "execute_result"
    }
   ],
   "source": [
    "transactions.head()"
   ]
  },
  {
   "cell_type": "code",
   "execution_count": 11,
   "metadata": {
    "execution": {
     "iopub.execute_input": "2021-08-25T22:42:26.909818Z",
     "iopub.status.busy": "2021-08-25T22:42:26.909158Z",
     "iopub.status.idle": "2021-08-25T22:42:27.107364Z",
     "shell.execute_reply": "2021-08-25T22:42:27.106849Z"
    }
   },
   "outputs": [],
   "source": [
    "item_lookup = transactions[['product_id', 'category_code']].drop_duplicates() # Only get unique item/description pairs\n",
    "item_lookup['product_id'] = item_lookup.product_id.astype(str) # Encode as strings for future lookup ease\n",
    "\n",
    "price_lookup = transactions[['product_id', 'price']].drop_duplicates() # Only get unique item/description pairs\n",
    "price_lookup['product_id'] = price_lookup.product_id.astype(str) # Encode as strings for future lookup ease\n"
   ]
  },
  {
   "cell_type": "code",
   "execution_count": 12,
   "metadata": {
    "execution": {
     "iopub.execute_input": "2021-08-25T22:42:27.113283Z",
     "iopub.status.busy": "2021-08-25T22:42:27.112616Z",
     "iopub.status.idle": "2021-08-25T22:42:27.131751Z",
     "shell.execute_reply": "2021-08-25T22:42:27.131028Z"
    }
   },
   "outputs": [
    {
     "name": "stdout",
     "output_type": "stream",
     "text": [
      "0.99999994 jewelry.pendant\n",
      "0.8663837 jewelry.pendant\n",
      "0.84383583 jewelry.pendant\n",
      "0.82434195 jewelry.pendant\n",
      "0.8063963 jewelry.pendant\n",
      "0.7890969 jewelry.pendant\n",
      "0.7809124 nan\n",
      "0.7705171 jewelry.pendant\n",
      "0.7628399 jewelry.pendant\n",
      "0.7584341 jewelry.ring\n"
     ]
    }
   ],
   "source": [
    "related = model.similar_items(1284)\n",
    "for rel in related:\n",
    "    index = rel[0]\n",
    "    prob = rel[1]\n",
    "    item = item_lookup[item_lookup.product_id == str(item_list[index])].values\n",
    "    print(prob, item[0][1])"
   ]
  },
  {
   "cell_type": "code",
   "execution_count": 13,
   "metadata": {
    "execution": {
     "iopub.execute_input": "2021-08-25T22:42:27.139612Z",
     "iopub.status.busy": "2021-08-25T22:42:27.139028Z",
     "iopub.status.idle": "2021-08-25T22:42:27.158739Z",
     "shell.execute_reply": "2021-08-25T22:42:27.157681Z"
    }
   },
   "outputs": [],
   "source": [
    "user_items = (product_train * alpha).astype('double').T.tocsr()\n",
    "def recommend(order):\n",
    "    print('Order Contents:')\n",
    "    print(transactions[transactions.order_id == transaction_list[order]].loc[:, ['product_id', 'category_code']])\n",
    "    print('Recommendations:')\n",
    "    recommendations = model.recommend(order, user_items)\n",
    "    for rec in recommendations:\n",
    "        index = rec[0]\n",
    "        prob = rec[1]\n",
    "        stock_code = item_list[index]\n",
    "        item = item_lookup[item_lookup.product_id == str(item_list[index])].values\n",
    "        print(prob, stock_code, item[0][1])"
   ]
  },
  {
   "cell_type": "code",
   "execution_count": 14,
   "metadata": {
    "execution": {
     "iopub.execute_input": "2021-08-25T22:42:27.169368Z",
     "iopub.status.busy": "2021-08-25T22:42:27.167890Z",
     "iopub.status.idle": "2021-08-25T22:42:27.211481Z",
     "shell.execute_reply": "2021-08-25T22:42:27.210871Z"
    }
   },
   "outputs": [
    {
     "name": "stdout",
     "output_type": "stream",
     "text": [
      "Order Contents:\n",
      "            product_id    category_code\n",
      "1  1836015460420681761  jewelry.pendant\n",
      "Recommendations:\n",
      "3.9715745e-11 1956663845585944582 jewelry.ring\n",
      "3.6347956e-11 1956663847666319760 jewelry.ring\n",
      "2.0686551e-11 1956663845862769039 jewelry.ring\n",
      "2.0593572e-11 1956663836207481430 jewelry.ring\n",
      "1.3452031e-11 1956663836207481431 jewelry.ring\n",
      "1.3161472e-11 1352907200745439279 jewelry.ring\n",
      "1.2399197e-11 1956663840309510725 jewelry.ring\n",
      "1.0012997e-11 1956663836400419658 jewelry.earring\n",
      "8.514214e-12 1956663845845991794 jewelry.earring\n",
      "8.215916e-12 1956663831199482752 jewelry.earring\n"
     ]
    }
   ],
   "source": [
    "recommend(1)"
   ]
  },
  {
   "cell_type": "code",
   "execution_count": 15,
   "metadata": {
    "execution": {
     "iopub.execute_input": "2021-08-25T22:42:27.216398Z",
     "iopub.status.busy": "2021-08-25T22:42:27.215795Z",
     "iopub.status.idle": "2021-08-25T22:42:27.239763Z",
     "shell.execute_reply": "2021-08-25T22:42:27.239179Z"
    }
   },
   "outputs": [
    {
     "name": "stdout",
     "output_type": "stream",
     "text": [
      "Order Contents:\n",
      "               product_id   category_code\n",
      "2734  1956663848320631776  jewelry.brooch\n",
      "2735  1956663846374474515  jewelry.brooch\n",
      "2736  1956663847397883910  jewelry.brooch\n",
      "Recommendations:\n",
      "0.53057414 1893645719638639197 jewelry.brooch\n",
      "0.4254006 1956663830721331445 jewelry.earring\n",
      "0.40232134 1956663848329020389 jewelry.earring\n",
      "0.37513334 1884732184250548463 jewelry.brooch\n",
      "0.34064856 1956663836031320509 jewelry.bracelet\n",
      "0.3392904 1956663836249424522 jewelry.earring\n",
      "0.3215841 1515966222752328632 jewelry.pendant\n",
      "0.31941366 1956663835989377425 jewelry.brooch\n",
      "0.31266576 1913814474649764091 jewelry.earring\n",
      "0.3068612 1956663845745328352 jewelry.ring\n"
     ]
    }
   ],
   "source": [
    "recommend(2200)"
   ]
  },
  {
   "cell_type": "code",
   "execution_count": 16,
   "metadata": {
    "execution": {
     "iopub.execute_input": "2021-08-25T22:42:27.244877Z",
     "iopub.status.busy": "2021-08-25T22:42:27.244196Z",
     "iopub.status.idle": "2021-08-25T22:42:27.252022Z",
     "shell.execute_reply": "2021-08-25T22:42:27.251167Z"
    }
   },
   "outputs": [],
   "source": [
    "transactions['ItemTotal'] = transactions['quantity'] * transactions['price']"
   ]
  },
  {
   "cell_type": "code",
   "execution_count": 17,
   "metadata": {
    "execution": {
     "iopub.execute_input": "2021-08-25T22:42:27.261727Z",
     "iopub.status.busy": "2021-08-25T22:42:27.260535Z",
     "iopub.status.idle": "2021-08-25T22:43:05.609892Z",
     "shell.execute_reply": "2021-08-25T22:43:05.609390Z"
    }
   },
   "outputs": [],
   "source": [
    "recommended_price = []\n",
    "for user in range(0, len(transaction_list)):\n",
    "    recommendations = model.recommend(user, user_items)\n",
    "    index = recommendations[0][0]\n",
    "    price = price_lookup[price_lookup.product_id == str(item_list[index])].values\n",
    "    item = item_lookup[item_lookup.product_id == str(item_list[index])].values\n",
    "    recommended_price.append(price[0][1])\n",
    "    \n",
    "total_recommended = np.sum(recommended_price)\n"
   ]
  },
  {
   "cell_type": "code",
   "execution_count": 18,
   "metadata": {},
   "outputs": [
    {
     "name": "stdout",
     "output_type": "stream",
     "text": [
      "After recommending 85348 items with a 0.3 acceptance rate, there would be an increase of $5,827,424.46 in additional purchases.\n"
     ]
    }
   ],
   "source": [
    "accept_rate = 0.3\n",
    "print('After recommending',len(transaction_list),'items with a',accept_rate,'acceptance rate, there would be an increase of',\n",
    "      \"${:,.2f}\".format(total_recommended*accept_rate),'in additional purchases.')"
   ]
  },
  {
   "cell_type": "code",
   "execution_count": 19,
   "metadata": {
    "execution": {
     "iopub.execute_input": "2021-08-25T22:43:05.617530Z",
     "iopub.status.busy": "2021-08-25T22:43:05.616761Z",
     "iopub.status.idle": "2021-08-25T22:43:05.656644Z",
     "shell.execute_reply": "2021-08-25T22:43:05.657275Z"
    }
   },
   "outputs": [
    {
     "name": "stdout",
     "output_type": "stream",
     "text": [
      "Added to the initial total of all 85348 purchases valued at $32,997,331.17 , the percentage increase in revenue would be 17.6603%\n"
     ]
    }
   ],
   "source": [
    "totals = transactions.groupby(transactions.order_id)['ItemTotal'].sum()\n",
    "total = totals.sum()\n",
    "\n",
    "print('Added to the initial total of all',len(transaction_list),'purchases valued at',\n",
    "      \"${:,.2f}\".format(total),', the percentage increase in revenue would be', \"{:,.4f}%\".format(total_recommended*accept_rate / total * 100 ))\n"
   ]
  },
  {
   "cell_type": "code",
   "execution_count": null,
   "metadata": {},
   "outputs": [],
   "source": []
  }
 ],
 "metadata": {
  "accelerator": "GPU",
  "colab": {
   "collapsed_sections": [],
   "name": "Copy of ECommerce-recommendation",
   "provenance": [],
   "toc_visible": true
  },
  "kernelspec": {
   "display_name": "productrec",
   "language": "python",
   "name": "python3"
  },
  "language_info": {
   "codemirror_mode": {
    "name": "ipython",
    "version": 3
   },
   "file_extension": ".py",
   "mimetype": "text/x-python",
   "name": "python",
   "nbconvert_exporter": "python",
   "pygments_lexer": "ipython3",
   "version": "3.7.9"
  },
  "widgets": {
   "application/vnd.jupyter.widget-state+json": {
    "state": {
     "0c5bc55bdc2b40e993facaa5e490b093": {
      "model_module": "@jupyter-widgets/base",
      "model_module_version": "1.2.0",
      "model_name": "LayoutModel",
      "state": {
       "_model_module": "@jupyter-widgets/base",
       "_model_module_version": "1.2.0",
       "_model_name": "LayoutModel",
       "_view_count": null,
       "_view_module": "@jupyter-widgets/base",
       "_view_module_version": "1.2.0",
       "_view_name": "LayoutView",
       "align_content": null,
       "align_items": null,
       "align_self": null,
       "border": null,
       "bottom": null,
       "display": null,
       "flex": null,
       "flex_flow": null,
       "grid_area": null,
       "grid_auto_columns": null,
       "grid_auto_flow": null,
       "grid_auto_rows": null,
       "grid_column": null,
       "grid_gap": null,
       "grid_row": null,
       "grid_template_areas": null,
       "grid_template_columns": null,
       "grid_template_rows": null,
       "height": null,
       "justify_content": null,
       "justify_items": null,
       "left": null,
       "margin": null,
       "max_height": null,
       "max_width": null,
       "min_height": null,
       "min_width": null,
       "object_fit": null,
       "object_position": null,
       "order": null,
       "overflow": null,
       "overflow_x": null,
       "overflow_y": null,
       "padding": null,
       "right": null,
       "top": null,
       "visibility": null,
       "width": null
      }
     },
     "1037274441514a7db2b4d86543b87e5c": {
      "model_module": "@jupyter-widgets/base",
      "model_module_version": "1.2.0",
      "model_name": "LayoutModel",
      "state": {
       "_model_module": "@jupyter-widgets/base",
       "_model_module_version": "1.2.0",
       "_model_name": "LayoutModel",
       "_view_count": null,
       "_view_module": "@jupyter-widgets/base",
       "_view_module_version": "1.2.0",
       "_view_name": "LayoutView",
       "align_content": null,
       "align_items": null,
       "align_self": null,
       "border": null,
       "bottom": null,
       "display": null,
       "flex": null,
       "flex_flow": null,
       "grid_area": null,
       "grid_auto_columns": null,
       "grid_auto_flow": null,
       "grid_auto_rows": null,
       "grid_column": null,
       "grid_gap": null,
       "grid_row": null,
       "grid_template_areas": null,
       "grid_template_columns": null,
       "grid_template_rows": null,
       "height": null,
       "justify_content": null,
       "justify_items": null,
       "left": null,
       "margin": null,
       "max_height": null,
       "max_width": null,
       "min_height": null,
       "min_width": null,
       "object_fit": null,
       "object_position": null,
       "order": null,
       "overflow": null,
       "overflow_x": null,
       "overflow_y": null,
       "padding": null,
       "right": null,
       "top": null,
       "visibility": null,
       "width": null
      }
     },
     "6dabefc9dec74c9a9d65ee8d3a3e2659": {
      "model_module": "@jupyter-widgets/controls",
      "model_module_version": "1.5.0",
      "model_name": "HTMLModel",
      "state": {
       "_dom_classes": [],
       "_model_module": "@jupyter-widgets/controls",
       "_model_module_version": "1.5.0",
       "_model_name": "HTMLModel",
       "_view_count": null,
       "_view_module": "@jupyter-widgets/controls",
       "_view_module_version": "1.5.0",
       "_view_name": "HTMLView",
       "description": "",
       "description_tooltip": null,
       "layout": "IPY_MODEL_9bfd4b8a68b045d6a8ecb3d22d09e42f",
       "placeholder": "​",
       "style": "IPY_MODEL_8a5c09056f8d4e78b3af7c0fb53e8530",
       "value": "100%"
      }
     },
     "84be4e649d534ada9319579433298965": {
      "model_module": "@jupyter-widgets/controls",
      "model_module_version": "1.5.0",
      "model_name": "HBoxModel",
      "state": {
       "_dom_classes": [],
       "_model_module": "@jupyter-widgets/controls",
       "_model_module_version": "1.5.0",
       "_model_name": "HBoxModel",
       "_view_count": null,
       "_view_module": "@jupyter-widgets/controls",
       "_view_module_version": "1.5.0",
       "_view_name": "HBoxView",
       "box_style": "",
       "children": [
        "IPY_MODEL_6dabefc9dec74c9a9d65ee8d3a3e2659",
        "IPY_MODEL_8965ae7c008643109474ea2a9966f816",
        "IPY_MODEL_aafa9c302a614106ac02176e29d481f8"
       ],
       "layout": "IPY_MODEL_1037274441514a7db2b4d86543b87e5c"
      }
     },
     "890766a9c92d4d60b2b6a11ae11644e3": {
      "model_module": "@jupyter-widgets/controls",
      "model_module_version": "1.5.0",
      "model_name": "DescriptionStyleModel",
      "state": {
       "_model_module": "@jupyter-widgets/controls",
       "_model_module_version": "1.5.0",
       "_model_name": "DescriptionStyleModel",
       "_view_count": null,
       "_view_module": "@jupyter-widgets/base",
       "_view_module_version": "1.2.0",
       "_view_name": "StyleView",
       "description_width": ""
      }
     },
     "8965ae7c008643109474ea2a9966f816": {
      "model_module": "@jupyter-widgets/controls",
      "model_module_version": "1.5.0",
      "model_name": "FloatProgressModel",
      "state": {
       "_dom_classes": [],
       "_model_module": "@jupyter-widgets/controls",
       "_model_module_version": "1.5.0",
       "_model_name": "FloatProgressModel",
       "_view_count": null,
       "_view_module": "@jupyter-widgets/controls",
       "_view_module_version": "1.5.0",
       "_view_name": "ProgressView",
       "bar_style": "success",
       "description": "",
       "description_tooltip": null,
       "layout": "IPY_MODEL_eb3d0993bba54ddeb0c5805633ce3943",
       "max": 84,
       "min": 0,
       "orientation": "horizontal",
       "style": "IPY_MODEL_d6729b7b4b744aab8a60e1693d3e5994",
       "value": 84
      }
     },
     "8a5c09056f8d4e78b3af7c0fb53e8530": {
      "model_module": "@jupyter-widgets/controls",
      "model_module_version": "1.5.0",
      "model_name": "DescriptionStyleModel",
      "state": {
       "_model_module": "@jupyter-widgets/controls",
       "_model_module_version": "1.5.0",
       "_model_name": "DescriptionStyleModel",
       "_view_count": null,
       "_view_module": "@jupyter-widgets/base",
       "_view_module_version": "1.2.0",
       "_view_name": "StyleView",
       "description_width": ""
      }
     },
     "9bfd4b8a68b045d6a8ecb3d22d09e42f": {
      "model_module": "@jupyter-widgets/base",
      "model_module_version": "1.2.0",
      "model_name": "LayoutModel",
      "state": {
       "_model_module": "@jupyter-widgets/base",
       "_model_module_version": "1.2.0",
       "_model_name": "LayoutModel",
       "_view_count": null,
       "_view_module": "@jupyter-widgets/base",
       "_view_module_version": "1.2.0",
       "_view_name": "LayoutView",
       "align_content": null,
       "align_items": null,
       "align_self": null,
       "border": null,
       "bottom": null,
       "display": null,
       "flex": null,
       "flex_flow": null,
       "grid_area": null,
       "grid_auto_columns": null,
       "grid_auto_flow": null,
       "grid_auto_rows": null,
       "grid_column": null,
       "grid_gap": null,
       "grid_row": null,
       "grid_template_areas": null,
       "grid_template_columns": null,
       "grid_template_rows": null,
       "height": null,
       "justify_content": null,
       "justify_items": null,
       "left": null,
       "margin": null,
       "max_height": null,
       "max_width": null,
       "min_height": null,
       "min_width": null,
       "object_fit": null,
       "object_position": null,
       "order": null,
       "overflow": null,
       "overflow_x": null,
       "overflow_y": null,
       "padding": null,
       "right": null,
       "top": null,
       "visibility": null,
       "width": null
      }
     },
     "aafa9c302a614106ac02176e29d481f8": {
      "model_module": "@jupyter-widgets/controls",
      "model_module_version": "1.5.0",
      "model_name": "HTMLModel",
      "state": {
       "_dom_classes": [],
       "_model_module": "@jupyter-widgets/controls",
       "_model_module_version": "1.5.0",
       "_model_name": "HTMLModel",
       "_view_count": null,
       "_view_module": "@jupyter-widgets/controls",
       "_view_module_version": "1.5.0",
       "_view_name": "HTMLView",
       "description": "",
       "description_tooltip": null,
       "layout": "IPY_MODEL_0c5bc55bdc2b40e993facaa5e490b093",
       "placeholder": "​",
       "style": "IPY_MODEL_890766a9c92d4d60b2b6a11ae11644e3",
       "value": " 84/84 [00:09&lt;00:00,  9.07it/s]"
      }
     },
     "d6729b7b4b744aab8a60e1693d3e5994": {
      "model_module": "@jupyter-widgets/controls",
      "model_module_version": "1.5.0",
      "model_name": "ProgressStyleModel",
      "state": {
       "_model_module": "@jupyter-widgets/controls",
       "_model_module_version": "1.5.0",
       "_model_name": "ProgressStyleModel",
       "_view_count": null,
       "_view_module": "@jupyter-widgets/base",
       "_view_module_version": "1.2.0",
       "_view_name": "StyleView",
       "bar_color": null,
       "description_width": ""
      }
     },
     "eb3d0993bba54ddeb0c5805633ce3943": {
      "model_module": "@jupyter-widgets/base",
      "model_module_version": "1.2.0",
      "model_name": "LayoutModel",
      "state": {
       "_model_module": "@jupyter-widgets/base",
       "_model_module_version": "1.2.0",
       "_model_name": "LayoutModel",
       "_view_count": null,
       "_view_module": "@jupyter-widgets/base",
       "_view_module_version": "1.2.0",
       "_view_name": "LayoutView",
       "align_content": null,
       "align_items": null,
       "align_self": null,
       "border": null,
       "bottom": null,
       "display": null,
       "flex": null,
       "flex_flow": null,
       "grid_area": null,
       "grid_auto_columns": null,
       "grid_auto_flow": null,
       "grid_auto_rows": null,
       "grid_column": null,
       "grid_gap": null,
       "grid_row": null,
       "grid_template_areas": null,
       "grid_template_columns": null,
       "grid_template_rows": null,
       "height": null,
       "justify_content": null,
       "justify_items": null,
       "left": null,
       "margin": null,
       "max_height": null,
       "max_width": null,
       "min_height": null,
       "min_width": null,
       "object_fit": null,
       "object_position": null,
       "order": null,
       "overflow": null,
       "overflow_x": null,
       "overflow_y": null,
       "padding": null,
       "right": null,
       "top": null,
       "visibility": null,
       "width": null
      }
     }
    },
    "version_major": 2,
    "version_minor": 0
   }
  }
 },
 "nbformat": 4,
 "nbformat_minor": 1
}
